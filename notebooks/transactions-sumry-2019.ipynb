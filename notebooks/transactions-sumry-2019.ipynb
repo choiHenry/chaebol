{
 "cells": [
  {
   "cell_type": "code",
   "execution_count": 362,
   "id": "db784f31",
   "metadata": {},
   "outputs": [],
   "source": [
    "import numpy as np\n",
    "import pandas as pd\n",
    "import os\n",
    "import glob\n",
    "import sys\n",
    "sys.path.append('../scripts')\n",
    "\n",
    "import api\n",
    "import shutil\n",
    "\n",
    "import os\n",
    "from utils import cleanCmpnyNm, getGrpCmpnyDict, convertCmpnyNm, convertCmpnyNm\n",
    "import numpy as np\n",
    "import pandas as pd\n",
    "from selenium import webdriver\n",
    "from selenium.webdriver.common.action_chains import ActionChains\n",
    "from selenium.webdriver.common.by import By\n",
    "from selenium.webdriver.chrome.options import Options\n",
    "from time import sleep\n",
    "import re"
   ]
  },
  {
   "cell_type": "code",
   "execution_count": 5,
   "id": "4ac69840",
   "metadata": {},
   "outputs": [
    {
     "data": {
      "text/html": [
       "<div>\n",
       "<style scoped>\n",
       "    .dataframe tbody tr th:only-of-type {\n",
       "        vertical-align: middle;\n",
       "    }\n",
       "\n",
       "    .dataframe tbody tr th {\n",
       "        vertical-align: top;\n",
       "    }\n",
       "\n",
       "    .dataframe thead th {\n",
       "        text-align: right;\n",
       "    }\n",
       "</style>\n",
       "<table border=\"1\" class=\"dataframe\">\n",
       "  <thead>\n",
       "    <tr style=\"text-align: right;\">\n",
       "      <th></th>\n",
       "      <th>매출회사</th>\n",
       "      <th>매입회사</th>\n",
       "      <th>매출액</th>\n",
       "      <th>국내계열사계(매출액)</th>\n",
       "      <th>해외계열사계(매출액)</th>\n",
       "      <th>국내매출액</th>\n",
       "      <th>해외매출액</th>\n",
       "      <th>매출액총계</th>\n",
       "      <th>year2</th>\n",
       "      <th>year</th>\n",
       "      <th>grpname2</th>\n",
       "      <th>매출사상/비</th>\n",
       "      <th>매출사금융/비금융</th>\n",
       "      <th>매출액Val</th>\n",
       "      <th>매입사상/비</th>\n",
       "      <th>매입사금융/비금융</th>\n",
       "      <th>grpname</th>\n",
       "      <th>grpcode</th>\n",
       "      <th>매출회사id</th>\n",
       "      <th>매입회사id</th>\n",
       "    </tr>\n",
       "  </thead>\n",
       "  <tbody>\n",
       "    <tr>\n",
       "      <th>0</th>\n",
       "      <td>삼성전자</td>\n",
       "      <td>삼성물산</td>\n",
       "      <td>78676.0</td>\n",
       "      <td>2269950.0</td>\n",
       "      <td>149436938.0</td>\n",
       "      <td>16821275.0</td>\n",
       "      <td>153560595.0</td>\n",
       "      <td>170381870.0</td>\n",
       "      <td>2019</td>\n",
       "      <td>2018</td>\n",
       "      <td>삼성</td>\n",
       "      <td>상장</td>\n",
       "      <td>비금융</td>\n",
       "      <td>170381870.0</td>\n",
       "      <td>상장</td>\n",
       "      <td>비금융</td>\n",
       "      <td>samsung</td>\n",
       "      <td>511</td>\n",
       "      <td>380725</td>\n",
       "      <td>810053.0</td>\n",
       "    </tr>\n",
       "    <tr>\n",
       "      <th>1</th>\n",
       "      <td>삼성전자</td>\n",
       "      <td>삼성바이오에피스</td>\n",
       "      <td>1.0</td>\n",
       "      <td>2269950.0</td>\n",
       "      <td>149436938.0</td>\n",
       "      <td>16821275.0</td>\n",
       "      <td>153560595.0</td>\n",
       "      <td>170381870.0</td>\n",
       "      <td>2019</td>\n",
       "      <td>2018</td>\n",
       "      <td>삼성</td>\n",
       "      <td>상장</td>\n",
       "      <td>비금융</td>\n",
       "      <td>170381870.0</td>\n",
       "      <td>비상장</td>\n",
       "      <td>비금융</td>\n",
       "      <td>samsung</td>\n",
       "      <td>511</td>\n",
       "      <td>380725</td>\n",
       "      <td>18082125.0</td>\n",
       "    </tr>\n",
       "    <tr>\n",
       "      <th>2</th>\n",
       "      <td>삼성전자</td>\n",
       "      <td>삼성디스플레이</td>\n",
       "      <td>164404.0</td>\n",
       "      <td>2269950.0</td>\n",
       "      <td>149436938.0</td>\n",
       "      <td>16821275.0</td>\n",
       "      <td>153560595.0</td>\n",
       "      <td>170381870.0</td>\n",
       "      <td>2019</td>\n",
       "      <td>2018</td>\n",
       "      <td>삼성</td>\n",
       "      <td>상장</td>\n",
       "      <td>비금융</td>\n",
       "      <td>170381870.0</td>\n",
       "      <td>비상장</td>\n",
       "      <td>비금융</td>\n",
       "      <td>samsung</td>\n",
       "      <td>511</td>\n",
       "      <td>380725</td>\n",
       "      <td>18082126.0</td>\n",
       "    </tr>\n",
       "    <tr>\n",
       "      <th>3</th>\n",
       "      <td>삼성전자</td>\n",
       "      <td>세메스</td>\n",
       "      <td>5.0</td>\n",
       "      <td>2269950.0</td>\n",
       "      <td>149436938.0</td>\n",
       "      <td>16821275.0</td>\n",
       "      <td>153560595.0</td>\n",
       "      <td>170381870.0</td>\n",
       "      <td>2019</td>\n",
       "      <td>2018</td>\n",
       "      <td>삼성</td>\n",
       "      <td>상장</td>\n",
       "      <td>비금융</td>\n",
       "      <td>170381870.0</td>\n",
       "      <td>비상장</td>\n",
       "      <td>비금융</td>\n",
       "      <td>samsung</td>\n",
       "      <td>511</td>\n",
       "      <td>380725</td>\n",
       "      <td>314528.0</td>\n",
       "    </tr>\n",
       "    <tr>\n",
       "      <th>4</th>\n",
       "      <td>삼성전자</td>\n",
       "      <td>삼성전자서비스</td>\n",
       "      <td>456109.0</td>\n",
       "      <td>2269950.0</td>\n",
       "      <td>149436938.0</td>\n",
       "      <td>16821275.0</td>\n",
       "      <td>153560595.0</td>\n",
       "      <td>170381870.0</td>\n",
       "      <td>2019</td>\n",
       "      <td>2018</td>\n",
       "      <td>삼성</td>\n",
       "      <td>상장</td>\n",
       "      <td>비금융</td>\n",
       "      <td>170381870.0</td>\n",
       "      <td>비상장</td>\n",
       "      <td>비금융</td>\n",
       "      <td>samsung</td>\n",
       "      <td>511</td>\n",
       "      <td>380725</td>\n",
       "      <td>952133.0</td>\n",
       "    </tr>\n",
       "  </tbody>\n",
       "</table>\n",
       "</div>"
      ],
      "text/plain": [
       "   매출회사      매입회사       매출액  국내계열사계(매출액)  해외계열사계(매출액)       국내매출액  \\\n",
       "0  삼성전자      삼성물산   78676.0    2269950.0  149436938.0  16821275.0   \n",
       "1  삼성전자  삼성바이오에피스       1.0    2269950.0  149436938.0  16821275.0   \n",
       "2  삼성전자   삼성디스플레이  164404.0    2269950.0  149436938.0  16821275.0   \n",
       "3  삼성전자       세메스       5.0    2269950.0  149436938.0  16821275.0   \n",
       "4  삼성전자   삼성전자서비스  456109.0    2269950.0  149436938.0  16821275.0   \n",
       "\n",
       "         해외매출액        매출액총계  year2  year grpname2 매출사상/비 매출사금융/비금융  \\\n",
       "0  153560595.0  170381870.0   2019  2018       삼성     상장       비금융   \n",
       "1  153560595.0  170381870.0   2019  2018       삼성     상장       비금융   \n",
       "2  153560595.0  170381870.0   2019  2018       삼성     상장       비금융   \n",
       "3  153560595.0  170381870.0   2019  2018       삼성     상장       비금융   \n",
       "4  153560595.0  170381870.0   2019  2018       삼성     상장       비금융   \n",
       "\n",
       "        매출액Val 매입사상/비 매입사금융/비금융  grpname  grpcode  매출회사id      매입회사id  \n",
       "0  170381870.0     상장       비금융  samsung      511  380725    810053.0  \n",
       "1  170381870.0    비상장       비금융  samsung      511  380725  18082125.0  \n",
       "2  170381870.0    비상장       비금융  samsung      511  380725  18082126.0  \n",
       "3  170381870.0    비상장       비금융  samsung      511  380725    314528.0  \n",
       "4  170381870.0    비상장       비금융  samsung      511  380725    952133.0  "
      ]
     },
     "execution_count": 5,
     "metadata": {},
     "output_type": "execute_result"
    }
   ],
   "source": [
    "dfTrans19 = pd.read_excel('../data/transactions-mrg/2019/stacked.xlsx')\n",
    "dfTrans19.head()"
   ]
  },
  {
   "cell_type": "code",
   "execution_count": 6,
   "id": "8006b8c8",
   "metadata": {},
   "outputs": [
    {
     "data": {
      "text/html": [
       "<div>\n",
       "<style scoped>\n",
       "    .dataframe tbody tr th:only-of-type {\n",
       "        vertical-align: middle;\n",
       "    }\n",
       "\n",
       "    .dataframe tbody tr th {\n",
       "        vertical-align: top;\n",
       "    }\n",
       "\n",
       "    .dataframe thead th {\n",
       "        text-align: right;\n",
       "    }\n",
       "</style>\n",
       "<table border=\"1\" class=\"dataframe\">\n",
       "  <thead>\n",
       "    <tr style=\"text-align: right;\">\n",
       "      <th></th>\n",
       "      <th>매출회사</th>\n",
       "      <th>매입회사</th>\n",
       "      <th>매출액</th>\n",
       "      <th>국내계열사계(매출액)</th>\n",
       "      <th>해외계열사계(매출액)</th>\n",
       "      <th>국내매출액</th>\n",
       "      <th>해외매출액</th>\n",
       "      <th>매출액총계</th>\n",
       "      <th>year2</th>\n",
       "      <th>year</th>\n",
       "      <th>grpname2</th>\n",
       "      <th>매출사상/비</th>\n",
       "      <th>매출사금융/비금융</th>\n",
       "      <th>매출액Val</th>\n",
       "      <th>매입사상/비</th>\n",
       "      <th>매입사금융/비금융</th>\n",
       "      <th>grpname</th>\n",
       "      <th>grpcode</th>\n",
       "      <th>매출회사id</th>\n",
       "      <th>매입회사id</th>\n",
       "    </tr>\n",
       "  </thead>\n",
       "  <tbody>\n",
       "  </tbody>\n",
       "</table>\n",
       "</div>"
      ],
      "text/plain": [
       "Empty DataFrame\n",
       "Columns: [매출회사, 매입회사, 매출액, 국내계열사계(매출액), 해외계열사계(매출액), 국내매출액, 해외매출액, 매출액총계, year2, year, grpname2, 매출사상/비, 매출사금융/비금융, 매출액Val, 매입사상/비, 매입사금융/비금융, grpname, grpcode, 매출회사id, 매입회사id]\n",
       "Index: []"
      ]
     },
     "execution_count": 6,
     "metadata": {},
     "output_type": "execute_result"
    }
   ],
   "source": [
    "dfTrans19[dfTrans19['매출회사id'].isna()]"
   ]
  },
  {
   "cell_type": "code",
   "execution_count": 7,
   "id": "9d1eb7e5",
   "metadata": {},
   "outputs": [
    {
     "name": "stdout",
     "output_type": "stream",
     "text": [
      "['SKChinaCompany,Ltd', 'SKC&CBeijingCo.,Ltd', 'ESSENCORELimited', 'SKcomputerandcommunicationL.L.C', 'SKMaterials(Jiangsu)Co.,Ltd', 'SKBiotekIrelandLimited', 'SKBiotekUSA,Inc', 'SKUSA,Inc', 'SKE&PCompany', 'SKShanghaiAsphaltCo.,Ltd', 'SKGlobalChemicalInternationalTrading(Shanghai)Co.,Ltd', 'SKGlobalChemical(China)HoldingCo.,Ltd', 'SKGlobalChemicalSingaporePte.Ltd', 'NingboSKPerformanceRubberCo.,Ltd', 'SKGlobalChemicalJapanCo.,Ltd', 'SKPrimacorEurope,S.L.U', 'SKPrimacorAmericasLLC', 'SKSaranAmericasLLC', 'SKGCAmericas,Inc', 'SKGlobalChemicalInternationalTrading(Guangzhou)Co.,Ltd', 'SKEnergyLubricants(Tianjin)Co.,Ltd', 'PT.PatraSK', 'SKLubricantsJapanCo.,Ltd', 'SKLubricantsEuropeB.V', 'SKLubricantsAmericas,Inc', 'SKEnergyInternationalPte,Ltd', 'SKEnergyEurope,Ltd', 'SKEnergyAmericasInc', 'FSKL&S(Shanghai)Co.,Ltd', 'SKhynixSemiconductor(China)Ltd.(SKHYCL)', 'HITECHSemiconductor(Wuxi)Co.,Ltd.(HITECH)', 'SKhynixSemiconductor(Chongqing)Ltd.(SKHYCQL)', 'SKCEuropeGmbH', 'SKC,Inc', 'SKC(Jiangsu)HighTechPlastics', 'SKC(Nantong)PUSpecialtyCo.,Ltd', 'MCNSPolyurethanesEuropeSp.zo.o', 'SKGasUSAInc', 'NanoenTekAmericaInc', 'NanoEntekBio-Technology(Beijing)Ltd', 'NanoenTekUSAInc', 'IriverInc', 'GrooversJapanCo.,Ltd', 'IriverChinaCo.,Ltd', 'SMCUS,INC', 'BeijingMitsuiChemicals&SKCPolyurethanesCo', 'FoshanMitsuiChemicals&SKCPolyurethanesCo', 'MCNSPolyurethanesMalaysiaSdnBhd', 'MCNSPolyurethanesUSAInc', 'MitsuiChemicals&SKCPolyurethanesInc', 'PT.MCNSPolyurethanesIndonesia', 'ThaiMitsuiSpecialtyChemicalsCo.,Ltd', 'TianjinCosmoPolyurethanesCo.,Ltd', 'MCNSPolyurethanesMexico,S.deR.L.deC.V', 'MCNSPolyurethanesIndiaPvt.Ltd', '디디아이에스와이230위탁관리부동산투자회사', 'SKGasInternationalPte.Ltd', 'SKGasTradingLLC', 'ThaiWooReeEngineeringCo.,Ltd', 'SKEngineering&Construction(Nanjing)Co.,Ltd', 'SunlakeCo.,Ltd', 'AvrasyaTuneliIsletmeInsaatVeYatirimA.S', 'SKNETWORKSAMERICA,Inc', 'POSK(Pinghu)SteelProcessingCenterCo.,Ltd', 'SK(Guangzhou)MetalCo.,Ltd', 'SKNetworks(Xiamen)SteelProcessingCenter', 'SKNetworksDeutschlandGmbH', 'SKNetworksHongKongLtd', 'SKNetworksJapanCo.,Ltd', 'SKNetworksMiddleEastFZE', 'SKNetworksResourcesAustraliaPtyLtd', 'SKNetworks(Shanghai)Co.,Ltd', 'SKTelesysCorp', 'SKB&TPteLtd', 'SKLubricants&OilsIndiaPvt.Ltd', 'SKLubricantsRusLimitedLiabilityCompany', 'SKNETWORKSRETAILSMALAYSIASDN.BHD', 'SKMaterialsJapanCo.,Ltd', 'SKMaterialsTaiwanCo.,Ltd', 'SKMaterials(Xian)Co.,Ltd', 'BIOLANDBIOTECCO.,LTD', 'SKBIOLANDHAIMENCO.,LTD', 'SKLifeScience,Inc', 'SKSiltronAmerica,Inc', 'SKSiltronJapan,Inc', 'SKC-ENFElectronicMaterialsLtd', 'SKCHi-Tech&Marketing(Suzhou)Co.,Ltd', 'SOLMICSTAIWANCO.,LTD', 'SKCHi-Tech&MarketingTaiwanCo.,Ltd', 'SKCHi-Tech&MarketingPolskaSP.Z.O.O', 'IBERIANLUBEBASEOILSCOMPANY,S.A', 'AMPACFineChemicals,LLC', 'SKE&POperationsAmerica,LLC', 'SKCInternationalShanghaiTradingCo.,Ltd', 'SABICSKNexleneCompanyPte.Ltd', 'SKChemicals(Qingdao)Co.,Ltd', 'SKChemicalsAmerica', 'SKChemicals(Suzhou)Co.,Ltd', 'SKChemicalsGmbH', 'CelcomPlanetSdnBhd', 'SKhynixAmericaInc.(SKHYA)', 'SKhynixDeutschlandGmbH(SKHYD)', 'SKhynixAsiaPte.Ltd.(SKHYS)', 'SKhynixSemiconductorHongKongLtd.(SKHYH)', 'SKhynixJapanInc.(SKHYJ)', 'SKhynixSemiconductorTaiwanInc.(SKHYT)', 'SKhynixSemiconductor(Shanghai)Co.,Ltd.(SKHYCS)', 'SKhynix(Wuxi)SemiconductorSalesLtd.(SKHYCW)', 'SKhynixItalyS.r.l(SKHYIT)', 'SKhynixmemorysolutionsAmericaInc.(SKHMSAmerica)', 'SKhynixmemorysolutionsTaiwanLtd.(SKHMSTaiwan)', 'SKhynixU.K.Ltd.(SKHYU)', 'SKHynixSemiconductor(WUXI)Ltd', 'PHILKOUBINSLTD.CORP', 'SUZHOUHAPPYNARAECo.,Ltd', 'LGHoldingsJapanCo.,Ltd', 'HanwhaMachineryAmericas,Inc', 'HanwhaMiningServicesAustraliaPty.,Ltd', '한화기계(소유한공사', 'UniversalBearingsLLC', 'HanwhaQCELLSAustraliaPtyLtd', 'HanwhaChemical(Ningbo)Co.,Ltd', 'HanwhaQCELLSTechnologyCo.,Ltd', 'HanwhaQCELLSGmbh', 'HanwhaQCELLSMalaysiaSdn.Bhd', 'PT.HanwhaMiningServicesIndonesia', 'S&PWorldNetworksDMCC', 'HanwhaAZDEL,Inc', 'HANWHATECHMUSALLC', 'HanwhaAdvancedMaterialsBeijingCo.,Ltd', 'HanwhaAdvancedMaterialsEurope,s.r.o', 'HanwhaAdvancedMaterialsShanghaiCo.,Ltd', 'HanwhaHongKongCo.,Ltd', 'HanwhaInternationalLLC', 'HanwhaQCELLSJapanCo.,Ltd', 'HanwhaEuropeGmbH', 'HanwhaInternational(S)PteLtd', 'HanwhaAdvancedMaterialsAmericaLLC', 'HanwhaQCELLSCo.,Ltd.(Qidong)', 'HanwhaQCELLSAmericaInc', 'Worldcorporation', 'TRIENERGYGLOBALPTE.LTD', '푸디스찬음관리(상해)유한공사', 'HanwhaAdvancedMaterialsChongqingCo.,Ltd', '한화상업설비(상해)유한공사', 'HanwhaQCELLSTechnology(Shanghai)Co.,Ltd', 'HanwhaEnergyCorporationJapan', 'HanwhaQCELLSUSACorp', 'HanwhaQCELLSAmericasHoldings.Corp', 'HanwhaQCELLSEPCUSA,LLC', 'HanwhaMiningServicesChileSpA', 'HanwhaAdvancedMaterialsGermanyGmbH', 'PT.HanwhaLifeInsuranceIndonesia', 'HanwhaPowerSystems(Shanghai)Co.,LTD', 'HMSAUSTRALIAOPERATIONSPTYLTD', '한화토탈화공무역(상해)유한공사', '한화화학(상해)유한공사', 'HanwhaResources(USA)Corp', 'LDECorporationPtyLtd', 'PT.BaraBumiInternational', '드림라인솔라파워5호', 'GSCaltexChinaCo.,Ltd', 'GSCCzechs.r.o', 'GSC(Suzhou)PlasticsCo.,Ltd', 'GSCaltexIndiaPte.,Ltd', 'GSCaltex(Langfang)PlasticsCo.,Ltd', 'GSCaltexSingaporePte.,Ltd', 'LurodaLubricants(Tianjin)Co.,Ltd', 'GSCaltexMexicoS.deR.L.deC.V', 'GSGLOBALSINGAPOREPTE.LTD', 'GSGlobalJapanCo.,LTD', 'SYENERGYPTE.LTD', 'GSAromaticsPte.Ltd', 'QingdaoLidongChemicalCo.,Ltd', 'GS(상해)상무유한공사', 'GlobalSensingandLearningLabs,INC', 'PTGSGlobalResources', 'GSGlobal(Suzhou)SteelServiceCenterCo.,Ltd', 'GSGLOBALUSA,INC', 'GSGlobalAustrailiaPTY.LTD', 'GSGlobalEuropeGMBH', 'GSE&CNanjingCo.,Ltd', 'VietnamGSEnterpriseOneMemberLLC', 'GSE&CDelhiPvt.Ltd', 'GSEngineering&ConstructionMumbaiPvt.Ltd', 'GSConstructionArabiaCo.,Ltd', 'GSEngineering&ConstructionSpain,S.L', 'GSEngineering&ConstructionAustraliaPtyLtd', 'PT.GSENCDevelopmentIndonesia', '청도삼양피혁유한공사', '현대중공(중국)투자유한공사', '북경현대경성공정기계유한공사', '연대현대빙윤중공유한공사', 'HyundaiVinashinShipyard', 'HyundaiArabiaLLC', '현대중공(중국)전기유한공사', '상주현대액압기기유한공사', '현대강소공정기계유한공사', 'HyundaiOilSingaporePte.Ltd', 'HyundaiOilbank(Shanghai)Co.,Ltd', 'HyundaiGlobalServiceEuropeB.V', 'HyundaiGlobalServiceAmericasCo.,Ltd', 'HyundaiGlobalServiceSingaporePte.Ltd', 'HyundaiPowerTransformersUSAInc', '현대(산동)중공업기계유한공사', 'HyundaiHeavyIndustriesBrasil-Manufac-turingandTradingofConstructionEquipment', 'PT.HyundaiConstruc-tionEquipmentAsia', 'HyundaiConstruc-tionEquipmentIndiaPrivateLtd', 'HyundaiConstruc-tionEquipmentEuropeN.V', 'HyundaiConstructionEquipmentAmericas,Inc', 'HyundaiHeavyIndustriesCo.Bulgaria', 'HDENEPOWERSOLUTIONINDIAPRIVATELIMITED', '센트럴관광개발', '기이가무역(상해)유한공사', '상해이득무역유한공사', 'E-MARTAMERICA,INC', 'E-MARTVIETNAMCO.,LTD', 'PKRetailHoldingsInc', 'HANJININTERMODALAMERICAINC', 'HANJINGLOBALLOGISTICS(VIETNAM)Ltd', \"HanjinInt'lCorp\", \"QINGDAOHANJINLUHAIINT'LLOGISTICSCO.,LTD\", 'EURASIALOGISTICSSERVICELLC', 'HanjinGlobalLogistics(HongKong)Ltd', 'HANJINGLOBALLOGISTICS(SHANGHAI)LIMITED', 'HanjinGlobalLogistics(Dalian)Ltd', 'HANJINGLOBALLOGISTICS(SHENZHEN)LIMITED', 'HANJINGLOBALLOGISTICSGUANGZHOUCO.,LTD', 'HANJINGLOBALLOGISTICSEUROPEs.r.o', 'GLSAP', \"WACINT'LLOGISTICS(HKLIMITED)\", \"WACINT'LLOGISTICS(QINGDAOCOMPANYLIMITED)\", 'CJVIETNAMCOMPANYLIMITED', 'DoosanMottrolJiangyinCo.,Ltd', 'DoosanIndustrialVehicleAmericaCorp', 'DoosanFuelCellAmericaInc', 'DoosanIndustrialVehicleEuropeN.A', 'DoosanIndustrialVehicleYantaiCo.,LTD', 'DoosanIndustrialVehicleU.K.Ltd', 'DoosanElectro-MaterialsSingaporePteLtd', 'DoosanElectro-MaterialsLuxembourgSarl', 'DoosanElectro-Materials(Changshu)Co.,Ltd', 'DoosanShanghaiChemicalMaterialsCo.,Ltd', 'CircuitFoilLuxembourgsarl', 'DoosanHongkongLtd', 'DoosanDigitalInnovationAmerica,LLC', 'DoosanDigitalInnovationChina', 'ClarkEquipmentCo', 'DoosanElectro-Materials(ShenZhen)Limited', 'DoosanDigitalInnovationEuropeLtd', 'DoosanBobcatEMEAs.r.o', 'DoosanHeavyIndustriesVietnamCo.,Ltd', 'DoosanInfracoreEurope', 'DoosanBobcatIndiaPrivateLtd', 'DoosanInfracoreNorthAmericaLLC', 'DoosanBobcatChileS.A', 'DoosanBobcatSingaporePte.Ltd', 'BobcatCorp', 'DoosanBobcatdeMexico,S.A.deC.V', 'DoosanInternationalAustraliaPtyLtd', 'DoosanBobcatChinaCo.,Ltd', 'DoosanHeavyIndustriesJapanCorp', 'DoosanPowerSystemsIndiaPrivateLtd', 'DoosanLogisticsEuropeGmbH', 'SichuanKelun-DoosanBiotechnologyCompanyLtd', 'DoosanHeavyIndustriesVietnamHaiphongCo.,Ltd', 'DoosanEnergySolutionKFT', 'DoosanCorporationEuropeKFT', '케이티씨엔피그로쓰챔프2011의2호사모투자', 'MiraeAssetFinanceCompany(Vietnam)', 'PCA생명보험', '미래에셋파트너스5호', 'MiraeAssetSecurities(HK)Limited', 'MiraeAssetGlobalInvestments(HK)Limited', 'MiraeAssetGlobalInvestments(USA)INC', 'MiraeAssetGlobalInvestments(Taiwan)', 'MiraeAssetGlobalETFsHodlignsLimited', '동삼현대한매고분', '한섬파리', 'HYUNDAILIVARTVINA', 'LIVARTCANADA', 'HyundaiL&CCanadaInc', 'HyundaiL&C(Shanghai)Co.,LTD', 'HyundaiL&CUSA,LLC', 'HyundaiL&CEuropeGmbH', 'AmericanSurfacingMaterials,LLC', '한우공정기계(상해)유한공사', 'EVERDIGMHEMTLLC', 'EVERDIGMMONGOLIALLC', 'EVERDIGMAMERICAINC', 'ZhangjiagangXiaoshaCoilServiceCo.,Ltd', 'NantongHyosungTransformerCo.,Ltd', 'HYOSUNGWIRELUXEMBOURGS.A', 'HYOSUNGVIETNAMCO.,LTD', 'HYOSUNGUSAINC', 'HYOSUNGT&DINDIAPRIVATELIMITED', 'HYOSUNGSTEELCORD(QINGDAO)CO', 'HYOSUNGSPANDEXQUZHOUCOLTD', 'HYOSUNGSPANDEXGUANGDONGCOLTD', 'HYOSUNGSPANDEX(JIAXING)CO.,LTD', 'HYOSUNGSPANDEXZHUHAICOLTD', 'HYOSUNGSOUTHAFRICA(PTY)LTD', 'HYOSUNGSINGAPOREPTE.LTD', 'HyosungNEWMaterial&HighTechnology(Quzhou)Co.Ltd', 'HYOSUNGLUXEMBOURGS.A', 'HYOSUNGJAPANCOLTD', 'HYOSUNGJAKARTAPT', 'HyosungIstanbulTEKSTILLTD.STI', 'HyosungInternationalTrade(Jiaxing)Co.,Ltd', 'HYOSUNGINTERNATIONALHKLIMITED', 'HYOSUNGHOLDINGSUSA,INC', 'HYOSUNGEUROPES.R.L', 'HyosungDongNaiCo,LTD', 'HYOSUNGCHEMICALS(JIAXING)CO', 'HyosungChemicalFiber(Jiaxing)Co.,Ltd', 'HyosungBrasilIndustriaEComercioDeFibrasLtda', 'HICOAMERICASALES&TECH.,IN', 'GSTAutomotiveSafety(Changshu)Co.Ltd', 'GLOBALSAFETYTEXTILESLLC', 'GLOBALSAFETYTEXTILESGMBH', 'KIARACAPITALⅡPTE.LTD', 'KISVietnamSecuritiesCorporation', 'KIMInvestmentFunds', 'POSCONPSNiobiumLLC', 'EQPCooperatiefU.A', '드림라인쏠라파워1호', 'SorinShanghaiCorporationLtd', 'SinggreenVinaCOMPANYLIMITED', 'PanOcean(America)Inc', 'PanOceanSingaporeBulkCarrierPte.Ltd', 'SunjinMyanmarCompanyLimited', '교보생명자산운용-미국', 'WEIHAIPOINTHOTEL&GOLFRESORT.CO.,LTD', '금호연건(중국)유한공사', 'OCI(HongKong)Limited', 'OCIInternationalInc', 'OCI(Shanghai)InternationalTradingLtd', 'UNIDGLOBALPHILS.,Inc', 'OCIUNIDEuropeB.V', 'KeystoneInvestmentHongKong', 'eTECE&C(Shanghai)Co.,Ltd', 'eTECARABIALTD', 'eTECMalaysiaSdn.Bhd', '상해개랑가', 'OCIMSdn.Bhd', 'OCIVietnam', 'PhilkoPeroxide', 'PhilkoChemLogistics', 'TangshanOCIChemicalCo.,Ltd', 'OCIChinaCo.,Ltd', 'MaSteelOCIChemical', 'ShandongOCI', 'JIANGSUOCICHEMICALCo.,Ltd', 'OCISolar(China)Co.,Ltd', 'ELPIONSiliconSdn.Bhd', 'PATHMOBILEINCPTE.LTD', 'PT.PATHMOBILEINDONESIA', 'KAKAOJAPANCorp', 'KakaoGamesEuropeB.V', 'DaumServiceCHINACo.,Ltd', 'TAESIKMAUMGOLFCO.,LTD', '탱그램디자인연', 'KakakoPagePte.Ltd', 'KAKAOIXJapanCorp', 'KCS', 'KCK', 'KCB', 'KCG', 'KCQ', 'KCT', 'KCI', 'KCID', 'KCV', 'KCC(Hanoi)', 'KCCPaint', 'Basildon', '태광화섬(상숙)유한공사', '디비라이텍', '디비MetalUSAINC', '디비MetalEuropeGmbH', 'LINECorp', 'WorksMobileJapan', 'NAVERJ.Hub', 'WAVMediaInc', 'LINEVIETNAMJOINTSTOCKCOMPANY(LINEVNJSC)', 'NAVERBusinessPlatformAsiaPacificPteLtd', 'SNOWJapanCorp', 'NaverChina', 'NaverFranceSAS', 'NAVERBUSINESSPLATFORMEUROPEGMBH', 'NAVERBUSINESSPLATFORMAMERICAINC', 'NAVERBUSINESSPLATFORMJAPAN', 'LINETaiwanLimited', 'LINECompany(Thailand)Limited', 'LINEPayCorporation', 'LINEDigitalTechnology(Shanghai)Limited', 'LINEFriendsJapanCorporation', 'StairsCorporation', 'Gogolook', 'LINECreditCorporation', 'LINEFinancialCorporation', 'LVCCorporation', 'LINEFRIENDSINC', 'LINEFriends(Shanghai)CommercialTradeCo.,Ltd', 'PT.LINEPLUSINDONESIA', 'iPassCorporation', 'LFGHoldingsLimited', 'LaiquTechnology(Shenzhen)Co.,Ltd', 'GateboxInc', 'SNOWChinaLimited', 'LINEDigitalFrontierCorporation', 'BROCCOLIENTERTAINMENTCORPORATION', 'WEBTOONEntertainmentInc', 'FIVEInc', 'LINETECHPLUSPTE.LTD', '에스비에스internationalInc', 'PLANKEntertainment', 'StarKistCo', 'SCASA', 'TTP', 'DWGlobalInc', 'DongwonJapanCo.,Ltd', '동원식품(상해)유한공사', 'StarKistSamoaCo', 'GalapescaS.A', 'STSC', 'CAPSEN', 'KKT', 'TALOFA', 'MVP', '위해삼조유한공사', 'DI', '상해동부', 'DV', 'DU', 'PT.SAMINDOUTAMAKALTIM', 'PT.TRASINDOMURNIPERKASA', '선진엔티에스', 'PT.HanilIndonesia', '유진스타제2호사모투자', '상해금호일려소료유한공사', '광동금호일려고분자재료유한공사', '남경금포금호화공유한공사', '강소금호양농화공유한공사', 'EURIGSs.r.o', 'IGS&CPhilippinesInc', 'IGSChina', 'JamCity,Inc', 'JoybombHongKongLtd', 'JOYGAMEInteractiveServicesLtd', 'Netmarble(Thailand)Co.,Ltd', 'NetmarbleEMEAFZLLC', 'NetmarbleJapanInc', 'NetmarbleJoybombInc', 'NetmarbleUS,Inc', 'Netmarble(Beijing)Limited', 'NetmarbleTurkeySanayiveTicaretA.S', 'NetmarbleGamesIndonesia,PT', 'Aekyung(Ningbo)ChemicalCo.,Ltd', 'AEKYUNGHONGKONGCOMPANYLIMITED', 'AEKYUNG(SHANGHAI)INVESTMENT&TRADINGCO.,LTD', 'AKVINACO.,LTD', 'AEKYUNG(FOSHAN)PAINTCO.,LTD', 'AEKYUNG(TIANJIN)PAINTCO.,LTD', 'AKCHEMTECHHANOICO.,Ltd', 'AEKYUNGCHEMTECHINDIAPRIVATELIMITED', 'AEKYUNGCHEMICAL(QINGDAO)CO.,LTD', 'Aekyung(Shanghai)TradeCo.,Ltd', 'PWEFCooperatiefU.A', 'COPAEurekaInc', '다우재팬', 'WOSMUSAS']\n"
     ]
    }
   ],
   "source": [
    "print(list(dfTrans19[dfTrans19['매입회사id'].isna()]['매입회사'].unique()))"
   ]
  },
  {
   "cell_type": "code",
   "execution_count": 24,
   "id": "d7c92c47",
   "metadata": {},
   "outputs": [
    {
     "data": {
      "text/html": [
       "<div>\n",
       "<style scoped>\n",
       "    .dataframe tbody tr th:only-of-type {\n",
       "        vertical-align: middle;\n",
       "    }\n",
       "\n",
       "    .dataframe tbody tr th {\n",
       "        vertical-align: top;\n",
       "    }\n",
       "\n",
       "    .dataframe thead th {\n",
       "        text-align: right;\n",
       "    }\n",
       "</style>\n",
       "<table border=\"1\" class=\"dataframe\">\n",
       "  <thead>\n",
       "    <tr style=\"text-align: right;\">\n",
       "      <th></th>\n",
       "      <th>매출회사</th>\n",
       "      <th>매입회사</th>\n",
       "      <th>매출액</th>\n",
       "      <th>국내계열사계(매출액)</th>\n",
       "      <th>해외계열사계(매출액)</th>\n",
       "      <th>국내매출액</th>\n",
       "      <th>해외매출액</th>\n",
       "      <th>매출액총계</th>\n",
       "      <th>year2</th>\n",
       "      <th>year</th>\n",
       "      <th>grpname2</th>\n",
       "      <th>매출사상/비</th>\n",
       "      <th>매출사금융/비금융</th>\n",
       "      <th>매출액Val</th>\n",
       "      <th>매입사상/비</th>\n",
       "      <th>매입사금융/비금융</th>\n",
       "      <th>grpname</th>\n",
       "      <th>grpcode</th>\n",
       "      <th>매출회사id</th>\n",
       "      <th>매입회사id</th>\n",
       "    </tr>\n",
       "  </thead>\n",
       "  <tbody>\n",
       "    <tr>\n",
       "      <th>8477</th>\n",
       "      <td>이에이치케이이앤에스</td>\n",
       "      <td>동삼현대한매고분</td>\n",
       "      <td>67.0</td>\n",
       "      <td>0.0</td>\n",
       "      <td>67.0</td>\n",
       "      <td>0.0</td>\n",
       "      <td>67.0</td>\n",
       "      <td>67.0</td>\n",
       "      <td>2019</td>\n",
       "      <td>2018</td>\n",
       "      <td>현대백화점</td>\n",
       "      <td>비상장</td>\n",
       "      <td>비금융</td>\n",
       "      <td>67.0</td>\n",
       "      <td>NaN</td>\n",
       "      <td>NaN</td>\n",
       "      <td>ehyundai</td>\n",
       "      <td>38035</td>\n",
       "      <td>2101603529</td>\n",
       "      <td>NaN</td>\n",
       "    </tr>\n",
       "  </tbody>\n",
       "</table>\n",
       "</div>"
      ],
      "text/plain": [
       "            매출회사      매입회사   매출액  국내계열사계(매출액)  해외계열사계(매출액)  국내매출액  해외매출액  \\\n",
       "8477  이에이치케이이앤에스  동삼현대한매고분  67.0          0.0         67.0    0.0   67.0   \n",
       "\n",
       "      매출액총계  year2  year grpname2 매출사상/비 매출사금융/비금융  매출액Val 매입사상/비 매입사금융/비금융  \\\n",
       "8477   67.0   2019  2018    현대백화점    비상장       비금융    67.0    NaN       NaN   \n",
       "\n",
       "       grpname  grpcode      매출회사id  매입회사id  \n",
       "8477  ehyundai    38035  2101603529     NaN  "
      ]
     },
     "execution_count": 24,
     "metadata": {},
     "output_type": "execute_result"
    }
   ],
   "source": [
    "dfTrans19[dfTrans19['매입회사'] == '동삼현대한매고분']"
   ]
  },
  {
   "cell_type": "code",
   "execution_count": 25,
   "id": "b9d7ea84",
   "metadata": {},
   "outputs": [],
   "source": [
    "dfTrans19.loc[8477, '매입회사id'] = 2830000000"
   ]
  },
  {
   "cell_type": "code",
   "execution_count": 26,
   "id": "b18f7095",
   "metadata": {},
   "outputs": [
    {
     "data": {
      "text/html": [
       "<div>\n",
       "<style scoped>\n",
       "    .dataframe tbody tr th:only-of-type {\n",
       "        vertical-align: middle;\n",
       "    }\n",
       "\n",
       "    .dataframe tbody tr th {\n",
       "        vertical-align: top;\n",
       "    }\n",
       "\n",
       "    .dataframe thead th {\n",
       "        text-align: right;\n",
       "    }\n",
       "</style>\n",
       "<table border=\"1\" class=\"dataframe\">\n",
       "  <thead>\n",
       "    <tr style=\"text-align: right;\">\n",
       "      <th></th>\n",
       "      <th>매출회사</th>\n",
       "      <th>매입회사</th>\n",
       "      <th>매출액</th>\n",
       "      <th>국내계열사계(매출액)</th>\n",
       "      <th>해외계열사계(매출액)</th>\n",
       "      <th>국내매출액</th>\n",
       "      <th>해외매출액</th>\n",
       "      <th>매출액총계</th>\n",
       "      <th>year2</th>\n",
       "      <th>year</th>\n",
       "      <th>grpname2</th>\n",
       "      <th>매출사상/비</th>\n",
       "      <th>매출사금융/비금융</th>\n",
       "      <th>매출액Val</th>\n",
       "      <th>매입사상/비</th>\n",
       "      <th>매입사금융/비금융</th>\n",
       "      <th>grpname</th>\n",
       "      <th>grpcode</th>\n",
       "      <th>매출회사id</th>\n",
       "      <th>매입회사id</th>\n",
       "    </tr>\n",
       "  </thead>\n",
       "  <tbody>\n",
       "    <tr>\n",
       "      <th>8883</th>\n",
       "      <td>드림라인</td>\n",
       "      <td>드림라인쏠라파워1호</td>\n",
       "      <td>2.0</td>\n",
       "      <td>763.0</td>\n",
       "      <td>NaN</td>\n",
       "      <td>4984.0</td>\n",
       "      <td>365.0</td>\n",
       "      <td>5349.0</td>\n",
       "      <td>2019</td>\n",
       "      <td>2018</td>\n",
       "      <td>한국투자금융</td>\n",
       "      <td>비상장</td>\n",
       "      <td>비금융</td>\n",
       "      <td>169316.0</td>\n",
       "      <td>NaN</td>\n",
       "      <td>NaN</td>\n",
       "      <td>kinv</td>\n",
       "      <td>2702504</td>\n",
       "      <td>818160</td>\n",
       "      <td>NaN</td>\n",
       "    </tr>\n",
       "    <tr>\n",
       "      <th>8884</th>\n",
       "      <td>드림라인</td>\n",
       "      <td>드림라인쏠라파워1호</td>\n",
       "      <td>9.0</td>\n",
       "      <td>763.0</td>\n",
       "      <td>NaN</td>\n",
       "      <td>4984.0</td>\n",
       "      <td>365.0</td>\n",
       "      <td>5349.0</td>\n",
       "      <td>2019</td>\n",
       "      <td>2018</td>\n",
       "      <td>한국투자금융</td>\n",
       "      <td>비상장</td>\n",
       "      <td>비금융</td>\n",
       "      <td>169316.0</td>\n",
       "      <td>NaN</td>\n",
       "      <td>NaN</td>\n",
       "      <td>kinv</td>\n",
       "      <td>2702504</td>\n",
       "      <td>818160</td>\n",
       "      <td>NaN</td>\n",
       "    </tr>\n",
       "    <tr>\n",
       "      <th>8888</th>\n",
       "      <td>드림마크원</td>\n",
       "      <td>드림라인쏠라파워1호</td>\n",
       "      <td>19.0</td>\n",
       "      <td>4019.0</td>\n",
       "      <td>NaN</td>\n",
       "      <td>7.0</td>\n",
       "      <td>20905.0</td>\n",
       "      <td>20912.0</td>\n",
       "      <td>2019</td>\n",
       "      <td>2018</td>\n",
       "      <td>한국투자금융</td>\n",
       "      <td>비상장</td>\n",
       "      <td>비금융</td>\n",
       "      <td>7120.0</td>\n",
       "      <td>NaN</td>\n",
       "      <td>NaN</td>\n",
       "      <td>kinv</td>\n",
       "      <td>2702504</td>\n",
       "      <td>1902101842</td>\n",
       "      <td>NaN</td>\n",
       "    </tr>\n",
       "  </tbody>\n",
       "</table>\n",
       "</div>"
      ],
      "text/plain": [
       "       매출회사        매입회사   매출액  국내계열사계(매출액)  해외계열사계(매출액)   국내매출액    해외매출액  \\\n",
       "8883   드림라인  드림라인쏠라파워1호   2.0        763.0          NaN  4984.0    365.0   \n",
       "8884   드림라인  드림라인쏠라파워1호   9.0        763.0          NaN  4984.0    365.0   \n",
       "8888  드림마크원  드림라인쏠라파워1호  19.0       4019.0          NaN     7.0  20905.0   \n",
       "\n",
       "        매출액총계  year2  year grpname2 매출사상/비 매출사금융/비금융    매출액Val 매입사상/비  \\\n",
       "8883   5349.0   2019  2018   한국투자금융    비상장       비금융  169316.0    NaN   \n",
       "8884   5349.0   2019  2018   한국투자금융    비상장       비금융  169316.0    NaN   \n",
       "8888  20912.0   2019  2018   한국투자금융    비상장       비금융    7120.0    NaN   \n",
       "\n",
       "     매입사금융/비금융 grpname  grpcode      매출회사id  매입회사id  \n",
       "8883       NaN    kinv  2702504      818160     NaN  \n",
       "8884       NaN    kinv  2702504      818160     NaN  \n",
       "8888       NaN    kinv  2702504  1902101842     NaN  "
      ]
     },
     "execution_count": 26,
     "metadata": {},
     "output_type": "execute_result"
    }
   ],
   "source": [
    "dfTrans19[dfTrans19['매입회사'] == '드림라인쏠라파워1호']"
   ]
  },
  {
   "cell_type": "code",
   "execution_count": 27,
   "id": "0fc218dd",
   "metadata": {},
   "outputs": [],
   "source": [
    "dfTrans19.loc[8883, '매입회사id'] = 1902403697\n",
    "dfTrans19.loc[8884, '매입회사id'] = 1902403697\n",
    "dfTrans19.loc[8888, '매입회사id'] = 1902403697"
   ]
  },
  {
   "cell_type": "code",
   "execution_count": 28,
   "id": "3214deaa",
   "metadata": {},
   "outputs": [
    {
     "data": {
      "text/html": [
       "<div>\n",
       "<style scoped>\n",
       "    .dataframe tbody tr th:only-of-type {\n",
       "        vertical-align: middle;\n",
       "    }\n",
       "\n",
       "    .dataframe tbody tr th {\n",
       "        vertical-align: top;\n",
       "    }\n",
       "\n",
       "    .dataframe thead th {\n",
       "        text-align: right;\n",
       "    }\n",
       "</style>\n",
       "<table border=\"1\" class=\"dataframe\">\n",
       "  <thead>\n",
       "    <tr style=\"text-align: right;\">\n",
       "      <th></th>\n",
       "      <th>매출회사</th>\n",
       "      <th>매입회사</th>\n",
       "      <th>매출액</th>\n",
       "      <th>국내계열사계(매출액)</th>\n",
       "      <th>해외계열사계(매출액)</th>\n",
       "      <th>국내매출액</th>\n",
       "      <th>해외매출액</th>\n",
       "      <th>매출액총계</th>\n",
       "      <th>year2</th>\n",
       "      <th>year</th>\n",
       "      <th>grpname2</th>\n",
       "      <th>매출사상/비</th>\n",
       "      <th>매출사금융/비금융</th>\n",
       "      <th>매출액Val</th>\n",
       "      <th>매입사상/비</th>\n",
       "      <th>매입사금융/비금융</th>\n",
       "      <th>grpname</th>\n",
       "      <th>grpcode</th>\n",
       "      <th>매출회사id</th>\n",
       "      <th>매입회사id</th>\n",
       "    </tr>\n",
       "  </thead>\n",
       "  <tbody>\n",
       "    <tr>\n",
       "      <th>9894</th>\n",
       "      <td>카카오인베스트먼트</td>\n",
       "      <td>탱그램디자인연</td>\n",
       "      <td>5.0</td>\n",
       "      <td>28.0</td>\n",
       "      <td>NaN</td>\n",
       "      <td>28.0</td>\n",
       "      <td>NaN</td>\n",
       "      <td>NaN</td>\n",
       "      <td>2019</td>\n",
       "      <td>2018</td>\n",
       "      <td>카카오</td>\n",
       "      <td>비상장</td>\n",
       "      <td>비금융</td>\n",
       "      <td>28.0</td>\n",
       "      <td>NaN</td>\n",
       "      <td>NaN</td>\n",
       "      <td>kakao</td>\n",
       "      <td>36027</td>\n",
       "      <td>1902702361</td>\n",
       "      <td>NaN</td>\n",
       "    </tr>\n",
       "  </tbody>\n",
       "</table>\n",
       "</div>"
      ],
      "text/plain": [
       "           매출회사     매입회사  매출액  국내계열사계(매출액)  해외계열사계(매출액)  국내매출액  해외매출액  매출액총계  \\\n",
       "9894  카카오인베스트먼트  탱그램디자인연  5.0         28.0          NaN   28.0    NaN    NaN   \n",
       "\n",
       "      year2  year grpname2 매출사상/비 매출사금융/비금융  매출액Val 매입사상/비 매입사금융/비금융 grpname  \\\n",
       "9894   2019  2018      카카오    비상장       비금융    28.0    NaN       NaN   kakao   \n",
       "\n",
       "      grpcode      매출회사id  매입회사id  \n",
       "9894    36027  1902702361     NaN  "
      ]
     },
     "execution_count": 28,
     "metadata": {},
     "output_type": "execute_result"
    }
   ],
   "source": [
    "dfTrans19[dfTrans19['매입회사'] == '탱그램디자인연']"
   ]
  },
  {
   "cell_type": "code",
   "execution_count": 29,
   "id": "99899953",
   "metadata": {},
   "outputs": [],
   "source": [
    "dfTrans19.loc[9894, '매입회사id'] = 16028567"
   ]
  },
  {
   "cell_type": "code",
   "execution_count": 30,
   "id": "7298bbb4",
   "metadata": {},
   "outputs": [
    {
     "data": {
      "text/html": [
       "<div>\n",
       "<style scoped>\n",
       "    .dataframe tbody tr th:only-of-type {\n",
       "        vertical-align: middle;\n",
       "    }\n",
       "\n",
       "    .dataframe tbody tr th {\n",
       "        vertical-align: top;\n",
       "    }\n",
       "\n",
       "    .dataframe thead th {\n",
       "        text-align: right;\n",
       "    }\n",
       "</style>\n",
       "<table border=\"1\" class=\"dataframe\">\n",
       "  <thead>\n",
       "    <tr style=\"text-align: right;\">\n",
       "      <th></th>\n",
       "      <th>매출회사</th>\n",
       "      <th>매입회사</th>\n",
       "      <th>매출액</th>\n",
       "      <th>국내계열사계(매출액)</th>\n",
       "      <th>해외계열사계(매출액)</th>\n",
       "      <th>국내매출액</th>\n",
       "      <th>해외매출액</th>\n",
       "      <th>매출액총계</th>\n",
       "      <th>year2</th>\n",
       "      <th>year</th>\n",
       "      <th>grpname2</th>\n",
       "      <th>매출사상/비</th>\n",
       "      <th>매출사금융/비금융</th>\n",
       "      <th>매출액Val</th>\n",
       "      <th>매입사상/비</th>\n",
       "      <th>매입사금융/비금융</th>\n",
       "      <th>grpname</th>\n",
       "      <th>grpcode</th>\n",
       "      <th>매출회사id</th>\n",
       "      <th>매입회사id</th>\n",
       "    </tr>\n",
       "  </thead>\n",
       "  <tbody>\n",
       "    <tr>\n",
       "      <th>10890</th>\n",
       "      <td>디비아이엔씨</td>\n",
       "      <td>디비라이텍</td>\n",
       "      <td>285.0</td>\n",
       "      <td>46302.0</td>\n",
       "      <td>0.0</td>\n",
       "      <td>122170.0</td>\n",
       "      <td>84669.0</td>\n",
       "      <td>206839.0</td>\n",
       "      <td>2019</td>\n",
       "      <td>2018</td>\n",
       "      <td>DB</td>\n",
       "      <td>상장</td>\n",
       "      <td>비금융</td>\n",
       "      <td>206839.0</td>\n",
       "      <td>NaN</td>\n",
       "      <td>NaN</td>\n",
       "      <td>DB</td>\n",
       "      <td>365</td>\n",
       "      <td>352098</td>\n",
       "      <td>NaN</td>\n",
       "    </tr>\n",
       "    <tr>\n",
       "      <th>10913</th>\n",
       "      <td>디비메탈</td>\n",
       "      <td>디비라이텍</td>\n",
       "      <td>0.0</td>\n",
       "      <td>56028.0</td>\n",
       "      <td>94048.0</td>\n",
       "      <td>187555.0</td>\n",
       "      <td>324816.0</td>\n",
       "      <td>512371.0</td>\n",
       "      <td>2019</td>\n",
       "      <td>2018</td>\n",
       "      <td>DB</td>\n",
       "      <td>비상장</td>\n",
       "      <td>비금융</td>\n",
       "      <td>512372.0</td>\n",
       "      <td>NaN</td>\n",
       "      <td>NaN</td>\n",
       "      <td>DB</td>\n",
       "      <td>365</td>\n",
       "      <td>12097776</td>\n",
       "      <td>NaN</td>\n",
       "    </tr>\n",
       "    <tr>\n",
       "      <th>10936</th>\n",
       "      <td>디비월드</td>\n",
       "      <td>디비라이텍</td>\n",
       "      <td>0.0</td>\n",
       "      <td>1101.0</td>\n",
       "      <td>0.0</td>\n",
       "      <td>12140.0</td>\n",
       "      <td>0.0</td>\n",
       "      <td>12140.0</td>\n",
       "      <td>2019</td>\n",
       "      <td>2018</td>\n",
       "      <td>DB</td>\n",
       "      <td>비상장</td>\n",
       "      <td>비금융</td>\n",
       "      <td>12140.0</td>\n",
       "      <td>NaN</td>\n",
       "      <td>NaN</td>\n",
       "      <td>DB</td>\n",
       "      <td>365</td>\n",
       "      <td>910813</td>\n",
       "      <td>NaN</td>\n",
       "    </tr>\n",
       "    <tr>\n",
       "      <th>10959</th>\n",
       "      <td>디비하이텍</td>\n",
       "      <td>디비라이텍</td>\n",
       "      <td>0.0</td>\n",
       "      <td>0.0</td>\n",
       "      <td>0.0</td>\n",
       "      <td>134995.0</td>\n",
       "      <td>534284.0</td>\n",
       "      <td>669279.0</td>\n",
       "      <td>2019</td>\n",
       "      <td>2018</td>\n",
       "      <td>DB</td>\n",
       "      <td>상장</td>\n",
       "      <td>비금융</td>\n",
       "      <td>669279.0</td>\n",
       "      <td>NaN</td>\n",
       "      <td>NaN</td>\n",
       "      <td>DB</td>\n",
       "      <td>365</td>\n",
       "      <td>350354</td>\n",
       "      <td>NaN</td>\n",
       "    </tr>\n",
       "    <tr>\n",
       "      <th>10982</th>\n",
       "      <td>동부철</td>\n",
       "      <td>디비라이텍</td>\n",
       "      <td>0.0</td>\n",
       "      <td>0.0</td>\n",
       "      <td>0.0</td>\n",
       "      <td>0.0</td>\n",
       "      <td>0.0</td>\n",
       "      <td>0.0</td>\n",
       "      <td>2019</td>\n",
       "      <td>2018</td>\n",
       "      <td>DB</td>\n",
       "      <td>비상장</td>\n",
       "      <td>비금융</td>\n",
       "      <td>0.0</td>\n",
       "      <td>NaN</td>\n",
       "      <td>NaN</td>\n",
       "      <td>DB</td>\n",
       "      <td>365</td>\n",
       "      <td>65122</td>\n",
       "      <td>NaN</td>\n",
       "    </tr>\n",
       "    <tr>\n",
       "      <th>11005</th>\n",
       "      <td>디비스탁인베스트</td>\n",
       "      <td>디비라이텍</td>\n",
       "      <td>0.0</td>\n",
       "      <td>0.0</td>\n",
       "      <td>0.0</td>\n",
       "      <td>256.0</td>\n",
       "      <td>0.0</td>\n",
       "      <td>256.0</td>\n",
       "      <td>2019</td>\n",
       "      <td>2018</td>\n",
       "      <td>DB</td>\n",
       "      <td>비상장</td>\n",
       "      <td>비금융</td>\n",
       "      <td>256.0</td>\n",
       "      <td>NaN</td>\n",
       "      <td>NaN</td>\n",
       "      <td>DB</td>\n",
       "      <td>365</td>\n",
       "      <td>19071407</td>\n",
       "      <td>NaN</td>\n",
       "    </tr>\n",
       "    <tr>\n",
       "      <th>11028</th>\n",
       "      <td>디비에프아이에스</td>\n",
       "      <td>디비라이텍</td>\n",
       "      <td>0.0</td>\n",
       "      <td>47260.0</td>\n",
       "      <td>0.0</td>\n",
       "      <td>47269.0</td>\n",
       "      <td>0.0</td>\n",
       "      <td>47269.0</td>\n",
       "      <td>2019</td>\n",
       "      <td>2018</td>\n",
       "      <td>DB</td>\n",
       "      <td>비상장</td>\n",
       "      <td>비금융</td>\n",
       "      <td>47269.0</td>\n",
       "      <td>NaN</td>\n",
       "      <td>NaN</td>\n",
       "      <td>DB</td>\n",
       "      <td>365</td>\n",
       "      <td>24038019</td>\n",
       "      <td>NaN</td>\n",
       "    </tr>\n",
       "    <tr>\n",
       "      <th>11051</th>\n",
       "      <td>디비인베스트</td>\n",
       "      <td>디비라이텍</td>\n",
       "      <td>0.0</td>\n",
       "      <td>0.0</td>\n",
       "      <td>0.0</td>\n",
       "      <td>933.0</td>\n",
       "      <td>0.0</td>\n",
       "      <td>933.0</td>\n",
       "      <td>2019</td>\n",
       "      <td>2018</td>\n",
       "      <td>DB</td>\n",
       "      <td>비상장</td>\n",
       "      <td>비금융</td>\n",
       "      <td>933.0</td>\n",
       "      <td>NaN</td>\n",
       "      <td>NaN</td>\n",
       "      <td>DB</td>\n",
       "      <td>365</td>\n",
       "      <td>16003715</td>\n",
       "      <td>NaN</td>\n",
       "    </tr>\n",
       "    <tr>\n",
       "      <th>11074</th>\n",
       "      <td>디비저축은행</td>\n",
       "      <td>디비라이텍</td>\n",
       "      <td>0.0</td>\n",
       "      <td>79.0</td>\n",
       "      <td>0.0</td>\n",
       "      <td>75424.0</td>\n",
       "      <td>0.0</td>\n",
       "      <td>75424.0</td>\n",
       "      <td>2019</td>\n",
       "      <td>2018</td>\n",
       "      <td>DB</td>\n",
       "      <td>비상장</td>\n",
       "      <td>금융</td>\n",
       "      <td>75423.0</td>\n",
       "      <td>NaN</td>\n",
       "      <td>NaN</td>\n",
       "      <td>DB</td>\n",
       "      <td>365</td>\n",
       "      <td>881562</td>\n",
       "      <td>NaN</td>\n",
       "    </tr>\n",
       "    <tr>\n",
       "      <th>11097</th>\n",
       "      <td>디비금융서비스</td>\n",
       "      <td>디비라이텍</td>\n",
       "      <td>0.0</td>\n",
       "      <td>3675.0</td>\n",
       "      <td>0.0</td>\n",
       "      <td>13311.0</td>\n",
       "      <td>0.0</td>\n",
       "      <td>13311.0</td>\n",
       "      <td>2019</td>\n",
       "      <td>2018</td>\n",
       "      <td>DB</td>\n",
       "      <td>비상장</td>\n",
       "      <td>금융</td>\n",
       "      <td>13311.0</td>\n",
       "      <td>NaN</td>\n",
       "      <td>NaN</td>\n",
       "      <td>DB</td>\n",
       "      <td>365</td>\n",
       "      <td>23044292</td>\n",
       "      <td>NaN</td>\n",
       "    </tr>\n",
       "    <tr>\n",
       "      <th>11120</th>\n",
       "      <td>디비금융투자</td>\n",
       "      <td>디비라이텍</td>\n",
       "      <td>0.0</td>\n",
       "      <td>796.0</td>\n",
       "      <td>0.0</td>\n",
       "      <td>725156.0</td>\n",
       "      <td>0.0</td>\n",
       "      <td>725156.0</td>\n",
       "      <td>2019</td>\n",
       "      <td>2018</td>\n",
       "      <td>DB</td>\n",
       "      <td>상장</td>\n",
       "      <td>금융</td>\n",
       "      <td>725156.0</td>\n",
       "      <td>NaN</td>\n",
       "      <td>NaN</td>\n",
       "      <td>DB</td>\n",
       "      <td>365</td>\n",
       "      <td>821640</td>\n",
       "      <td>NaN</td>\n",
       "    </tr>\n",
       "    <tr>\n",
       "      <th>11143</th>\n",
       "      <td>디비생명보험</td>\n",
       "      <td>디비라이텍</td>\n",
       "      <td>4.0</td>\n",
       "      <td>4520.0</td>\n",
       "      <td>0.0</td>\n",
       "      <td>2180825.0</td>\n",
       "      <td>0.0</td>\n",
       "      <td>2180825.0</td>\n",
       "      <td>2019</td>\n",
       "      <td>2018</td>\n",
       "      <td>DB</td>\n",
       "      <td>비상장</td>\n",
       "      <td>금융</td>\n",
       "      <td>2180825.0</td>\n",
       "      <td>NaN</td>\n",
       "      <td>NaN</td>\n",
       "      <td>DB</td>\n",
       "      <td>365</td>\n",
       "      <td>821420</td>\n",
       "      <td>NaN</td>\n",
       "    </tr>\n",
       "    <tr>\n",
       "      <th>11166</th>\n",
       "      <td>디비손해보험</td>\n",
       "      <td>디비라이텍</td>\n",
       "      <td>56.0</td>\n",
       "      <td>29359.0</td>\n",
       "      <td>0.0</td>\n",
       "      <td>14868022.0</td>\n",
       "      <td>127051.0</td>\n",
       "      <td>14995073.0</td>\n",
       "      <td>2019</td>\n",
       "      <td>2018</td>\n",
       "      <td>DB</td>\n",
       "      <td>상장</td>\n",
       "      <td>금융</td>\n",
       "      <td>14995073.0</td>\n",
       "      <td>NaN</td>\n",
       "      <td>NaN</td>\n",
       "      <td>DB</td>\n",
       "      <td>365</td>\n",
       "      <td>870099</td>\n",
       "      <td>NaN</td>\n",
       "    </tr>\n",
       "    <tr>\n",
       "      <th>11189</th>\n",
       "      <td>디비씨앤에스자동차손해사정</td>\n",
       "      <td>디비라이텍</td>\n",
       "      <td>0.0</td>\n",
       "      <td>48587.0</td>\n",
       "      <td>0.0</td>\n",
       "      <td>49587.0</td>\n",
       "      <td>0.0</td>\n",
       "      <td>49587.0</td>\n",
       "      <td>2019</td>\n",
       "      <td>2018</td>\n",
       "      <td>DB</td>\n",
       "      <td>비상장</td>\n",
       "      <td>금융</td>\n",
       "      <td>49587.0</td>\n",
       "      <td>NaN</td>\n",
       "      <td>NaN</td>\n",
       "      <td>DB</td>\n",
       "      <td>365</td>\n",
       "      <td>18004172</td>\n",
       "      <td>NaN</td>\n",
       "    </tr>\n",
       "    <tr>\n",
       "      <th>11212</th>\n",
       "      <td>디비씨에스아이손해사정</td>\n",
       "      <td>디비라이텍</td>\n",
       "      <td>0.0</td>\n",
       "      <td>40322.0</td>\n",
       "      <td>0.0</td>\n",
       "      <td>40322.0</td>\n",
       "      <td>0.0</td>\n",
       "      <td>40322.0</td>\n",
       "      <td>2019</td>\n",
       "      <td>2018</td>\n",
       "      <td>DB</td>\n",
       "      <td>비상장</td>\n",
       "      <td>금융</td>\n",
       "      <td>40322.0</td>\n",
       "      <td>NaN</td>\n",
       "      <td>NaN</td>\n",
       "      <td>DB</td>\n",
       "      <td>365</td>\n",
       "      <td>18031282</td>\n",
       "      <td>NaN</td>\n",
       "    </tr>\n",
       "    <tr>\n",
       "      <th>11235</th>\n",
       "      <td>디비씨에이에스손해사정</td>\n",
       "      <td>디비라이텍</td>\n",
       "      <td>0.0</td>\n",
       "      <td>52212.0</td>\n",
       "      <td>0.0</td>\n",
       "      <td>52212.0</td>\n",
       "      <td>0.0</td>\n",
       "      <td>52212.0</td>\n",
       "      <td>2019</td>\n",
       "      <td>2018</td>\n",
       "      <td>DB</td>\n",
       "      <td>비상장</td>\n",
       "      <td>금융</td>\n",
       "      <td>52212.0</td>\n",
       "      <td>NaN</td>\n",
       "      <td>NaN</td>\n",
       "      <td>DB</td>\n",
       "      <td>365</td>\n",
       "      <td>18031283</td>\n",
       "      <td>NaN</td>\n",
       "    </tr>\n",
       "    <tr>\n",
       "      <th>11258</th>\n",
       "      <td>디비엠앤에스</td>\n",
       "      <td>디비라이텍</td>\n",
       "      <td>0.0</td>\n",
       "      <td>35179.0</td>\n",
       "      <td>0.0</td>\n",
       "      <td>35555.0</td>\n",
       "      <td>0.0</td>\n",
       "      <td>35555.0</td>\n",
       "      <td>2019</td>\n",
       "      <td>2018</td>\n",
       "      <td>DB</td>\n",
       "      <td>비상장</td>\n",
       "      <td>금융</td>\n",
       "      <td>35555.0</td>\n",
       "      <td>NaN</td>\n",
       "      <td>NaN</td>\n",
       "      <td>DB</td>\n",
       "      <td>365</td>\n",
       "      <td>19098370</td>\n",
       "      <td>NaN</td>\n",
       "    </tr>\n",
       "    <tr>\n",
       "      <th>11281</th>\n",
       "      <td>디비자동차보험손해사정</td>\n",
       "      <td>디비라이텍</td>\n",
       "      <td>0.0</td>\n",
       "      <td>85014.0</td>\n",
       "      <td>0.0</td>\n",
       "      <td>85014.0</td>\n",
       "      <td>0.0</td>\n",
       "      <td>85014.0</td>\n",
       "      <td>2019</td>\n",
       "      <td>2018</td>\n",
       "      <td>DB</td>\n",
       "      <td>비상장</td>\n",
       "      <td>금융</td>\n",
       "      <td>85014.0</td>\n",
       "      <td>NaN</td>\n",
       "      <td>NaN</td>\n",
       "      <td>DB</td>\n",
       "      <td>365</td>\n",
       "      <td>820466</td>\n",
       "      <td>NaN</td>\n",
       "    </tr>\n",
       "    <tr>\n",
       "      <th>11304</th>\n",
       "      <td>디비자산운용</td>\n",
       "      <td>디비라이텍</td>\n",
       "      <td>0.0</td>\n",
       "      <td>197.0</td>\n",
       "      <td>0.0</td>\n",
       "      <td>25525.0</td>\n",
       "      <td>0.0</td>\n",
       "      <td>25525.0</td>\n",
       "      <td>2019</td>\n",
       "      <td>2018</td>\n",
       "      <td>DB</td>\n",
       "      <td>비상장</td>\n",
       "      <td>금융</td>\n",
       "      <td>25525.0</td>\n",
       "      <td>NaN</td>\n",
       "      <td>NaN</td>\n",
       "      <td>DB</td>\n",
       "      <td>365</td>\n",
       "      <td>607142</td>\n",
       "      <td>NaN</td>\n",
       "    </tr>\n",
       "    <tr>\n",
       "      <th>11327</th>\n",
       "      <td>디비캐피탈</td>\n",
       "      <td>디비라이텍</td>\n",
       "      <td>0.0</td>\n",
       "      <td>667.0</td>\n",
       "      <td>0.0</td>\n",
       "      <td>15007.0</td>\n",
       "      <td>0.0</td>\n",
       "      <td>15007.0</td>\n",
       "      <td>2019</td>\n",
       "      <td>2018</td>\n",
       "      <td>DB</td>\n",
       "      <td>비상장</td>\n",
       "      <td>금융</td>\n",
       "      <td>15007.0</td>\n",
       "      <td>NaN</td>\n",
       "      <td>NaN</td>\n",
       "      <td>DB</td>\n",
       "      <td>365</td>\n",
       "      <td>56018</td>\n",
       "      <td>NaN</td>\n",
       "    </tr>\n",
       "  </tbody>\n",
       "</table>\n",
       "</div>"
      ],
      "text/plain": [
       "                매출회사   매입회사    매출액  국내계열사계(매출액)  해외계열사계(매출액)       국내매출액  \\\n",
       "10890         디비아이엔씨  디비라이텍  285.0      46302.0          0.0    122170.0   \n",
       "10913           디비메탈  디비라이텍    0.0      56028.0      94048.0    187555.0   \n",
       "10936           디비월드  디비라이텍    0.0       1101.0          0.0     12140.0   \n",
       "10959          디비하이텍  디비라이텍    0.0          0.0          0.0    134995.0   \n",
       "10982            동부철  디비라이텍    0.0          0.0          0.0         0.0   \n",
       "11005       디비스탁인베스트  디비라이텍    0.0          0.0          0.0       256.0   \n",
       "11028       디비에프아이에스  디비라이텍    0.0      47260.0          0.0     47269.0   \n",
       "11051         디비인베스트  디비라이텍    0.0          0.0          0.0       933.0   \n",
       "11074         디비저축은행  디비라이텍    0.0         79.0          0.0     75424.0   \n",
       "11097        디비금융서비스  디비라이텍    0.0       3675.0          0.0     13311.0   \n",
       "11120         디비금융투자  디비라이텍    0.0        796.0          0.0    725156.0   \n",
       "11143         디비생명보험  디비라이텍    4.0       4520.0          0.0   2180825.0   \n",
       "11166         디비손해보험  디비라이텍   56.0      29359.0          0.0  14868022.0   \n",
       "11189  디비씨앤에스자동차손해사정  디비라이텍    0.0      48587.0          0.0     49587.0   \n",
       "11212    디비씨에스아이손해사정  디비라이텍    0.0      40322.0          0.0     40322.0   \n",
       "11235    디비씨에이에스손해사정  디비라이텍    0.0      52212.0          0.0     52212.0   \n",
       "11258         디비엠앤에스  디비라이텍    0.0      35179.0          0.0     35555.0   \n",
       "11281    디비자동차보험손해사정  디비라이텍    0.0      85014.0          0.0     85014.0   \n",
       "11304         디비자산운용  디비라이텍    0.0        197.0          0.0     25525.0   \n",
       "11327          디비캐피탈  디비라이텍    0.0        667.0          0.0     15007.0   \n",
       "\n",
       "          해외매출액       매출액총계  year2  year grpname2 매출사상/비 매출사금융/비금융  \\\n",
       "10890   84669.0    206839.0   2019  2018       DB     상장       비금융   \n",
       "10913  324816.0    512371.0   2019  2018       DB    비상장       비금융   \n",
       "10936       0.0     12140.0   2019  2018       DB    비상장       비금융   \n",
       "10959  534284.0    669279.0   2019  2018       DB     상장       비금융   \n",
       "10982       0.0         0.0   2019  2018       DB    비상장       비금융   \n",
       "11005       0.0       256.0   2019  2018       DB    비상장       비금융   \n",
       "11028       0.0     47269.0   2019  2018       DB    비상장       비금융   \n",
       "11051       0.0       933.0   2019  2018       DB    비상장       비금융   \n",
       "11074       0.0     75424.0   2019  2018       DB    비상장        금융   \n",
       "11097       0.0     13311.0   2019  2018       DB    비상장        금융   \n",
       "11120       0.0    725156.0   2019  2018       DB     상장        금융   \n",
       "11143       0.0   2180825.0   2019  2018       DB    비상장        금융   \n",
       "11166  127051.0  14995073.0   2019  2018       DB     상장        금융   \n",
       "11189       0.0     49587.0   2019  2018       DB    비상장        금융   \n",
       "11212       0.0     40322.0   2019  2018       DB    비상장        금융   \n",
       "11235       0.0     52212.0   2019  2018       DB    비상장        금융   \n",
       "11258       0.0     35555.0   2019  2018       DB    비상장        금융   \n",
       "11281       0.0     85014.0   2019  2018       DB    비상장        금융   \n",
       "11304       0.0     25525.0   2019  2018       DB    비상장        금융   \n",
       "11327       0.0     15007.0   2019  2018       DB    비상장        금융   \n",
       "\n",
       "           매출액Val 매입사상/비 매입사금융/비금융 grpname  grpcode    매출회사id  매입회사id  \n",
       "10890    206839.0    NaN       NaN      DB      365    352098     NaN  \n",
       "10913    512372.0    NaN       NaN      DB      365  12097776     NaN  \n",
       "10936     12140.0    NaN       NaN      DB      365    910813     NaN  \n",
       "10959    669279.0    NaN       NaN      DB      365    350354     NaN  \n",
       "10982         0.0    NaN       NaN      DB      365     65122     NaN  \n",
       "11005       256.0    NaN       NaN      DB      365  19071407     NaN  \n",
       "11028     47269.0    NaN       NaN      DB      365  24038019     NaN  \n",
       "11051       933.0    NaN       NaN      DB      365  16003715     NaN  \n",
       "11074     75423.0    NaN       NaN      DB      365    881562     NaN  \n",
       "11097     13311.0    NaN       NaN      DB      365  23044292     NaN  \n",
       "11120    725156.0    NaN       NaN      DB      365    821640     NaN  \n",
       "11143   2180825.0    NaN       NaN      DB      365    821420     NaN  \n",
       "11166  14995073.0    NaN       NaN      DB      365    870099     NaN  \n",
       "11189     49587.0    NaN       NaN      DB      365  18004172     NaN  \n",
       "11212     40322.0    NaN       NaN      DB      365  18031282     NaN  \n",
       "11235     52212.0    NaN       NaN      DB      365  18031283     NaN  \n",
       "11258     35555.0    NaN       NaN      DB      365  19098370     NaN  \n",
       "11281     85014.0    NaN       NaN      DB      365    820466     NaN  \n",
       "11304     25525.0    NaN       NaN      DB      365    607142     NaN  \n",
       "11327     15007.0    NaN       NaN      DB      365     56018     NaN  "
      ]
     },
     "execution_count": 30,
     "metadata": {},
     "output_type": "execute_result"
    }
   ],
   "source": [
    "dfTrans19[dfTrans19['매입회사'] == '디비라이텍']"
   ]
  },
  {
   "cell_type": "code",
   "execution_count": 31,
   "id": "7c97e444",
   "metadata": {},
   "outputs": [],
   "source": [
    "dfTrans19.loc[10890, '매입회사id'] = 137656\n",
    "dfTrans19.loc[10913, '매입회사id'] = 137656\n",
    "dfTrans19.loc[10936, '매입회사id'] = 137656\n",
    "dfTrans19.loc[10959, '매입회사id'] = 137656\n",
    "dfTrans19.loc[10982, '매입회사id'] = 137656\n",
    "dfTrans19.loc[11005, '매입회사id'] = 137656\n",
    "dfTrans19.loc[11028, '매입회사id'] = 137656\n",
    "dfTrans19.loc[11051, '매입회사id'] = 137656\n",
    "dfTrans19.loc[11074, '매입회사id'] = 137656\n",
    "dfTrans19.loc[11097, '매입회사id'] = 137656\n",
    "dfTrans19.loc[11120, '매입회사id'] = 137656\n",
    "dfTrans19.loc[11143, '매입회사id'] = 137656\n",
    "dfTrans19.loc[11166, '매입회사id'] = 137656\n",
    "dfTrans19.loc[11189, '매입회사id'] = 137656\n",
    "dfTrans19.loc[11212, '매입회사id'] = 137656\n",
    "dfTrans19.loc[11235, '매입회사id'] = 137656\n",
    "dfTrans19.loc[11258, '매입회사id'] = 137656\n",
    "dfTrans19.loc[11281, '매입회사id'] = 137656\n",
    "dfTrans19.loc[11304, '매입회사id'] = 137656\n",
    "dfTrans19.loc[11327, '매입회사id'] = 137656"
   ]
  },
  {
   "cell_type": "code",
   "execution_count": 32,
   "id": "9aab87c2",
   "metadata": {},
   "outputs": [
    {
     "data": {
      "text/html": [
       "<div>\n",
       "<style scoped>\n",
       "    .dataframe tbody tr th:only-of-type {\n",
       "        vertical-align: middle;\n",
       "    }\n",
       "\n",
       "    .dataframe tbody tr th {\n",
       "        vertical-align: top;\n",
       "    }\n",
       "\n",
       "    .dataframe thead th {\n",
       "        text-align: right;\n",
       "    }\n",
       "</style>\n",
       "<table border=\"1\" class=\"dataframe\">\n",
       "  <thead>\n",
       "    <tr style=\"text-align: right;\">\n",
       "      <th></th>\n",
       "      <th>매출회사</th>\n",
       "      <th>매입회사</th>\n",
       "      <th>매출액</th>\n",
       "      <th>국내계열사계(매출액)</th>\n",
       "      <th>해외계열사계(매출액)</th>\n",
       "      <th>국내매출액</th>\n",
       "      <th>해외매출액</th>\n",
       "      <th>매출액총계</th>\n",
       "      <th>year2</th>\n",
       "      <th>year</th>\n",
       "      <th>grpname2</th>\n",
       "      <th>매출사상/비</th>\n",
       "      <th>매출사금융/비금융</th>\n",
       "      <th>매출액Val</th>\n",
       "      <th>매입사상/비</th>\n",
       "      <th>매입사금융/비금융</th>\n",
       "      <th>grpname</th>\n",
       "      <th>grpcode</th>\n",
       "      <th>매출회사id</th>\n",
       "      <th>매입회사id</th>\n",
       "    </tr>\n",
       "  </thead>\n",
       "  <tbody>\n",
       "    <tr>\n",
       "      <th>12233</th>\n",
       "      <td>유진프라이빗에쿼티</td>\n",
       "      <td>유진스타제2호사모투자</td>\n",
       "      <td>513.0</td>\n",
       "      <td>3007.0</td>\n",
       "      <td>NaN</td>\n",
       "      <td>3282.0</td>\n",
       "      <td>NaN</td>\n",
       "      <td>NaN</td>\n",
       "      <td>2019</td>\n",
       "      <td>2018</td>\n",
       "      <td>유진</td>\n",
       "      <td>비상장</td>\n",
       "      <td>비금융</td>\n",
       "      <td>3282.0</td>\n",
       "      <td>NaN</td>\n",
       "      <td>NaN</td>\n",
       "      <td>eugenes</td>\n",
       "      <td>653</td>\n",
       "      <td>1302904046</td>\n",
       "      <td>NaN</td>\n",
       "    </tr>\n",
       "  </tbody>\n",
       "</table>\n",
       "</div>"
      ],
      "text/plain": [
       "            매출회사         매입회사    매출액  국내계열사계(매출액)  해외계열사계(매출액)   국내매출액  해외매출액  \\\n",
       "12233  유진프라이빗에쿼티  유진스타제2호사모투자  513.0       3007.0          NaN  3282.0    NaN   \n",
       "\n",
       "       매출액총계  year2  year grpname2 매출사상/비 매출사금융/비금융  매출액Val 매입사상/비 매입사금융/비금융  \\\n",
       "12233    NaN   2019  2018       유진    비상장       비금융  3282.0    NaN       NaN   \n",
       "\n",
       "       grpname  grpcode      매출회사id  매입회사id  \n",
       "12233  eugenes      653  1302904046     NaN  "
      ]
     },
     "execution_count": 32,
     "metadata": {},
     "output_type": "execute_result"
    }
   ],
   "source": [
    "dfTrans19[dfTrans19['매입회사'] == '유진스타제2호사모투자']"
   ]
  },
  {
   "cell_type": "code",
   "execution_count": 33,
   "id": "a5dc0a2d",
   "metadata": {},
   "outputs": [],
   "source": [
    "dfTrans19.loc[12233, '매입회사id'] = 1803200394"
   ]
  },
  {
   "cell_type": "code",
   "execution_count": 8,
   "id": "a9818139",
   "metadata": {},
   "outputs": [
    {
     "data": {
      "text/html": [
       "<div>\n",
       "<style scoped>\n",
       "    .dataframe tbody tr th:only-of-type {\n",
       "        vertical-align: middle;\n",
       "    }\n",
       "\n",
       "    .dataframe tbody tr th {\n",
       "        vertical-align: top;\n",
       "    }\n",
       "\n",
       "    .dataframe thead th {\n",
       "        text-align: right;\n",
       "    }\n",
       "</style>\n",
       "<table border=\"1\" class=\"dataframe\">\n",
       "  <thead>\n",
       "    <tr style=\"text-align: right;\">\n",
       "      <th></th>\n",
       "      <th>매출회사</th>\n",
       "      <th>매입회사</th>\n",
       "      <th>매출액</th>\n",
       "      <th>국내계열사계(매출액)</th>\n",
       "      <th>해외계열사계(매출액)</th>\n",
       "      <th>국내매출액</th>\n",
       "      <th>해외매출액</th>\n",
       "      <th>매출액총계</th>\n",
       "      <th>year2</th>\n",
       "      <th>year</th>\n",
       "      <th>grpname2</th>\n",
       "      <th>매출사상/비</th>\n",
       "      <th>매출사금융/비금융</th>\n",
       "      <th>매출액Val</th>\n",
       "      <th>매입사상/비</th>\n",
       "      <th>매입사금융/비금융</th>\n",
       "      <th>grpname</th>\n",
       "      <th>grpcode</th>\n",
       "      <th>매출회사id</th>\n",
       "      <th>매입회사id</th>\n",
       "    </tr>\n",
       "  </thead>\n",
       "  <tbody>\n",
       "    <tr>\n",
       "      <th>1664</th>\n",
       "      <td>디앤디인베스트먼트</td>\n",
       "      <td>디디아이에스와이230위탁관리부동산투자회사</td>\n",
       "      <td>1620.0</td>\n",
       "      <td>1620.0</td>\n",
       "      <td>NaN</td>\n",
       "      <td>1720.0</td>\n",
       "      <td>NaN</td>\n",
       "      <td>NaN</td>\n",
       "      <td>2019</td>\n",
       "      <td>2018</td>\n",
       "      <td>에스케이</td>\n",
       "      <td>비상장</td>\n",
       "      <td>비금융</td>\n",
       "      <td>1720.0</td>\n",
       "      <td>NaN</td>\n",
       "      <td>NaN</td>\n",
       "      <td>sk</td>\n",
       "      <td>535</td>\n",
       "      <td>1903700469</td>\n",
       "      <td>NaN</td>\n",
       "    </tr>\n",
       "  </tbody>\n",
       "</table>\n",
       "</div>"
      ],
      "text/plain": [
       "           매출회사                    매입회사     매출액  국내계열사계(매출액)  해외계열사계(매출액)  \\\n",
       "1664  디앤디인베스트먼트  디디아이에스와이230위탁관리부동산투자회사  1620.0       1620.0          NaN   \n",
       "\n",
       "       국내매출액  해외매출액  매출액총계  year2  year grpname2 매출사상/비 매출사금융/비금융  매출액Val  \\\n",
       "1664  1720.0    NaN    NaN   2019  2018     에스케이    비상장       비금융  1720.0   \n",
       "\n",
       "     매입사상/비 매입사금융/비금융 grpname  grpcode      매출회사id  매입회사id  \n",
       "1664    NaN       NaN      sk      535  1903700469     NaN  "
      ]
     },
     "execution_count": 8,
     "metadata": {},
     "output_type": "execute_result"
    }
   ],
   "source": [
    "dfTrans19[dfTrans19['매입회사'] == '디디아이에스와이230위탁관리부동산투자회사']"
   ]
  },
  {
   "cell_type": "code",
   "execution_count": 9,
   "id": "4d4fe224",
   "metadata": {},
   "outputs": [],
   "source": [
    "dfTrans19.loc[1664, '매입회사id'] = 2101809024"
   ]
  },
  {
   "cell_type": "code",
   "execution_count": 11,
   "id": "e5635c0b",
   "metadata": {},
   "outputs": [
    {
     "data": {
      "text/html": [
       "<div>\n",
       "<style scoped>\n",
       "    .dataframe tbody tr th:only-of-type {\n",
       "        vertical-align: middle;\n",
       "    }\n",
       "\n",
       "    .dataframe tbody tr th {\n",
       "        vertical-align: top;\n",
       "    }\n",
       "\n",
       "    .dataframe thead th {\n",
       "        text-align: right;\n",
       "    }\n",
       "</style>\n",
       "<table border=\"1\" class=\"dataframe\">\n",
       "  <thead>\n",
       "    <tr style=\"text-align: right;\">\n",
       "      <th></th>\n",
       "      <th>매출회사</th>\n",
       "      <th>매입회사</th>\n",
       "      <th>매출액</th>\n",
       "      <th>국내계열사계(매출액)</th>\n",
       "      <th>해외계열사계(매출액)</th>\n",
       "      <th>국내매출액</th>\n",
       "      <th>해외매출액</th>\n",
       "      <th>매출액총계</th>\n",
       "      <th>year2</th>\n",
       "      <th>year</th>\n",
       "      <th>grpname2</th>\n",
       "      <th>매출사상/비</th>\n",
       "      <th>매출사금융/비금융</th>\n",
       "      <th>매출액Val</th>\n",
       "      <th>매입사상/비</th>\n",
       "      <th>매입사금융/비금융</th>\n",
       "      <th>grpname</th>\n",
       "      <th>grpcode</th>\n",
       "      <th>매출회사id</th>\n",
       "      <th>매입회사id</th>\n",
       "    </tr>\n",
       "  </thead>\n",
       "  <tbody>\n",
       "    <tr>\n",
       "      <th>5611</th>\n",
       "      <td>한화갤러리아타임월드</td>\n",
       "      <td>드림라인솔라파워5호</td>\n",
       "      <td>0.0</td>\n",
       "      <td>3446.0</td>\n",
       "      <td>0.0</td>\n",
       "      <td>332681.0</td>\n",
       "      <td>0.0</td>\n",
       "      <td>332681.0</td>\n",
       "      <td>2019</td>\n",
       "      <td>2018</td>\n",
       "      <td>한화</td>\n",
       "      <td>상장</td>\n",
       "      <td>비금융</td>\n",
       "      <td>332681.0</td>\n",
       "      <td>NaN</td>\n",
       "      <td>NaN</td>\n",
       "      <td>hanwha</td>\n",
       "      <td>913</td>\n",
       "      <td>620580</td>\n",
       "      <td>NaN</td>\n",
       "    </tr>\n",
       "    <tr>\n",
       "      <th>5753</th>\n",
       "      <td>한화에스테이트</td>\n",
       "      <td>드림라인솔라파워5호</td>\n",
       "      <td>0.0</td>\n",
       "      <td>86755.0</td>\n",
       "      <td>0.0</td>\n",
       "      <td>99950.0</td>\n",
       "      <td>NaN</td>\n",
       "      <td>NaN</td>\n",
       "      <td>2019</td>\n",
       "      <td>2018</td>\n",
       "      <td>한화</td>\n",
       "      <td>비상장</td>\n",
       "      <td>비금융</td>\n",
       "      <td>99950.0</td>\n",
       "      <td>NaN</td>\n",
       "      <td>NaN</td>\n",
       "      <td>hanwha</td>\n",
       "      <td>913</td>\n",
       "      <td>39667</td>\n",
       "      <td>NaN</td>\n",
       "    </tr>\n",
       "    <tr>\n",
       "      <th>5940</th>\n",
       "      <td>한화시스템</td>\n",
       "      <td>드림라인솔라파워5호</td>\n",
       "      <td>0.0</td>\n",
       "      <td>230785.0</td>\n",
       "      <td>4593.0</td>\n",
       "      <td>1095012.0</td>\n",
       "      <td>26404.0</td>\n",
       "      <td>1121416.0</td>\n",
       "      <td>2019</td>\n",
       "      <td>2018</td>\n",
       "      <td>한화</td>\n",
       "      <td>비상장</td>\n",
       "      <td>비금융</td>\n",
       "      <td>1121416.0</td>\n",
       "      <td>NaN</td>\n",
       "      <td>NaN</td>\n",
       "      <td>hanwha</td>\n",
       "      <td>913</td>\n",
       "      <td>128888</td>\n",
       "      <td>NaN</td>\n",
       "    </tr>\n",
       "  </tbody>\n",
       "</table>\n",
       "</div>"
      ],
      "text/plain": [
       "            매출회사        매입회사  매출액  국내계열사계(매출액)  해외계열사계(매출액)      국내매출액  \\\n",
       "5611  한화갤러리아타임월드  드림라인솔라파워5호  0.0       3446.0          0.0   332681.0   \n",
       "5753     한화에스테이트  드림라인솔라파워5호  0.0      86755.0          0.0    99950.0   \n",
       "5940       한화시스템  드림라인솔라파워5호  0.0     230785.0       4593.0  1095012.0   \n",
       "\n",
       "        해외매출액      매출액총계  year2  year grpname2 매출사상/비 매출사금융/비금융     매출액Val  \\\n",
       "5611      0.0   332681.0   2019  2018       한화     상장       비금융   332681.0   \n",
       "5753      NaN        NaN   2019  2018       한화    비상장       비금융    99950.0   \n",
       "5940  26404.0  1121416.0   2019  2018       한화    비상장       비금융  1121416.0   \n",
       "\n",
       "     매입사상/비 매입사금융/비금융 grpname  grpcode  매출회사id  매입회사id  \n",
       "5611    NaN       NaN  hanwha      913  620580     NaN  \n",
       "5753    NaN       NaN  hanwha      913   39667     NaN  \n",
       "5940    NaN       NaN  hanwha      913  128888     NaN  "
      ]
     },
     "execution_count": 11,
     "metadata": {},
     "output_type": "execute_result"
    }
   ],
   "source": [
    "dfTrans19[dfTrans19['매입회사'] == '드림라인솔라파워5호']"
   ]
  },
  {
   "cell_type": "code",
   "execution_count": 12,
   "id": "614f4749",
   "metadata": {},
   "outputs": [],
   "source": [
    "dfTrans19.loc[5611, '매입회사id'] = 1902902067\n",
    "dfTrans19.loc[5753, '매입회사id'] = 386383\n",
    "dfTrans19.loc[5940, '매입회사id'] = 386383"
   ]
  },
  {
   "cell_type": "code",
   "execution_count": 13,
   "id": "ead26591",
   "metadata": {},
   "outputs": [
    {
     "data": {
      "text/html": [
       "<div>\n",
       "<style scoped>\n",
       "    .dataframe tbody tr th:only-of-type {\n",
       "        vertical-align: middle;\n",
       "    }\n",
       "\n",
       "    .dataframe tbody tr th {\n",
       "        vertical-align: top;\n",
       "    }\n",
       "\n",
       "    .dataframe thead th {\n",
       "        text-align: right;\n",
       "    }\n",
       "</style>\n",
       "<table border=\"1\" class=\"dataframe\">\n",
       "  <thead>\n",
       "    <tr style=\"text-align: right;\">\n",
       "      <th></th>\n",
       "      <th>매출회사</th>\n",
       "      <th>매입회사</th>\n",
       "      <th>매출액</th>\n",
       "      <th>국내계열사계(매출액)</th>\n",
       "      <th>해외계열사계(매출액)</th>\n",
       "      <th>국내매출액</th>\n",
       "      <th>해외매출액</th>\n",
       "      <th>매출액총계</th>\n",
       "      <th>year2</th>\n",
       "      <th>year</th>\n",
       "      <th>grpname2</th>\n",
       "      <th>매출사상/비</th>\n",
       "      <th>매출사금융/비금융</th>\n",
       "      <th>매출액Val</th>\n",
       "      <th>매입사상/비</th>\n",
       "      <th>매입사금융/비금융</th>\n",
       "      <th>grpname</th>\n",
       "      <th>grpcode</th>\n",
       "      <th>매출회사id</th>\n",
       "      <th>매입회사id</th>\n",
       "    </tr>\n",
       "  </thead>\n",
       "  <tbody>\n",
       "    <tr>\n",
       "      <th>6632</th>\n",
       "      <td>신세계</td>\n",
       "      <td>센트럴관광개발</td>\n",
       "      <td>388.0</td>\n",
       "      <td>196180.0</td>\n",
       "      <td>NaN</td>\n",
       "      <td>1739327.0</td>\n",
       "      <td>NaN</td>\n",
       "      <td>NaN</td>\n",
       "      <td>2019</td>\n",
       "      <td>2018</td>\n",
       "      <td>신세계</td>\n",
       "      <td>상장</td>\n",
       "      <td>비금융</td>\n",
       "      <td>1739327.0</td>\n",
       "      <td>NaN</td>\n",
       "      <td>NaN</td>\n",
       "      <td>shinsegae</td>\n",
       "      <td>577</td>\n",
       "      <td>620084</td>\n",
       "      <td>NaN</td>\n",
       "    </tr>\n",
       "    <tr>\n",
       "      <th>6693</th>\n",
       "      <td>신세계센트럴시티</td>\n",
       "      <td>센트럴관광개발</td>\n",
       "      <td>2339.0</td>\n",
       "      <td>101977.0</td>\n",
       "      <td>NaN</td>\n",
       "      <td>142969.0</td>\n",
       "      <td>NaN</td>\n",
       "      <td>NaN</td>\n",
       "      <td>2019</td>\n",
       "      <td>2018</td>\n",
       "      <td>신세계</td>\n",
       "      <td>비상장</td>\n",
       "      <td>비금융</td>\n",
       "      <td>172538.0</td>\n",
       "      <td>NaN</td>\n",
       "      <td>NaN</td>\n",
       "      <td>shinsegae</td>\n",
       "      <td>577</td>\n",
       "      <td>711268</td>\n",
       "      <td>NaN</td>\n",
       "    </tr>\n",
       "    <tr>\n",
       "      <th>6718</th>\n",
       "      <td>까사미아</td>\n",
       "      <td>센트럴관광개발</td>\n",
       "      <td>2472.0</td>\n",
       "      <td>7115.0</td>\n",
       "      <td>NaN</td>\n",
       "      <td>109567.0</td>\n",
       "      <td>NaN</td>\n",
       "      <td>NaN</td>\n",
       "      <td>2019</td>\n",
       "      <td>2018</td>\n",
       "      <td>신세계</td>\n",
       "      <td>비상장</td>\n",
       "      <td>비금융</td>\n",
       "      <td>109567.0</td>\n",
       "      <td>NaN</td>\n",
       "      <td>NaN</td>\n",
       "      <td>shinsegae</td>\n",
       "      <td>577</td>\n",
       "      <td>274224</td>\n",
       "      <td>NaN</td>\n",
       "    </tr>\n",
       "    <tr>\n",
       "      <th>6778</th>\n",
       "      <td>신세계조선호텔</td>\n",
       "      <td>센트럴관광개발</td>\n",
       "      <td>93.0</td>\n",
       "      <td>14890.0</td>\n",
       "      <td>NaN</td>\n",
       "      <td>191684.0</td>\n",
       "      <td>NaN</td>\n",
       "      <td>NaN</td>\n",
       "      <td>2019</td>\n",
       "      <td>2018</td>\n",
       "      <td>신세계</td>\n",
       "      <td>비상장</td>\n",
       "      <td>비금융</td>\n",
       "      <td>191684.0</td>\n",
       "      <td>NaN</td>\n",
       "      <td>NaN</td>\n",
       "      <td>shinsegae</td>\n",
       "      <td>577</td>\n",
       "      <td>630306</td>\n",
       "      <td>NaN</td>\n",
       "    </tr>\n",
       "    <tr>\n",
       "      <th>6807</th>\n",
       "      <td>신세계푸드</td>\n",
       "      <td>센트럴관광개발</td>\n",
       "      <td>187.0</td>\n",
       "      <td>397221.0</td>\n",
       "      <td>NaN</td>\n",
       "      <td>1263417.0</td>\n",
       "      <td>268.0</td>\n",
       "      <td>1263685.0</td>\n",
       "      <td>2019</td>\n",
       "      <td>2018</td>\n",
       "      <td>신세계</td>\n",
       "      <td>상장</td>\n",
       "      <td>비금융</td>\n",
       "      <td>1263685.0</td>\n",
       "      <td>NaN</td>\n",
       "      <td>NaN</td>\n",
       "      <td>shinsegae</td>\n",
       "      <td>577</td>\n",
       "      <td>40807</td>\n",
       "      <td>NaN</td>\n",
       "    </tr>\n",
       "    <tr>\n",
       "      <th>6837</th>\n",
       "      <td>신세계엘앤비</td>\n",
       "      <td>센트럴관광개발</td>\n",
       "      <td>32.0</td>\n",
       "      <td>56681.0</td>\n",
       "      <td>NaN</td>\n",
       "      <td>93560.0</td>\n",
       "      <td>NaN</td>\n",
       "      <td>NaN</td>\n",
       "      <td>2019</td>\n",
       "      <td>2018</td>\n",
       "      <td>신세계</td>\n",
       "      <td>비상장</td>\n",
       "      <td>비금융</td>\n",
       "      <td>93560.0</td>\n",
       "      <td>NaN</td>\n",
       "      <td>NaN</td>\n",
       "      <td>shinsegae</td>\n",
       "      <td>577</td>\n",
       "      <td>13072689</td>\n",
       "      <td>NaN</td>\n",
       "    </tr>\n",
       "    <tr>\n",
       "      <th>6861</th>\n",
       "      <td>신세계건설</td>\n",
       "      <td>센트럴관광개발</td>\n",
       "      <td>94209.0</td>\n",
       "      <td>675215.0</td>\n",
       "      <td>229.0</td>\n",
       "      <td>1084040.0</td>\n",
       "      <td>229.0</td>\n",
       "      <td>1084269.0</td>\n",
       "      <td>2019</td>\n",
       "      <td>2018</td>\n",
       "      <td>신세계</td>\n",
       "      <td>상장</td>\n",
       "      <td>비금융</td>\n",
       "      <td>1084269.0</td>\n",
       "      <td>NaN</td>\n",
       "      <td>NaN</td>\n",
       "      <td>shinsegae</td>\n",
       "      <td>577</td>\n",
       "      <td>100960</td>\n",
       "      <td>NaN</td>\n",
       "    </tr>\n",
       "    <tr>\n",
       "      <th>6897</th>\n",
       "      <td>신세계영랑호리조트</td>\n",
       "      <td>센트럴관광개발</td>\n",
       "      <td>0.0</td>\n",
       "      <td>1581.0</td>\n",
       "      <td>NaN</td>\n",
       "      <td>8171.0</td>\n",
       "      <td>NaN</td>\n",
       "      <td>NaN</td>\n",
       "      <td>2019</td>\n",
       "      <td>2018</td>\n",
       "      <td>신세계</td>\n",
       "      <td>비상장</td>\n",
       "      <td>비금융</td>\n",
       "      <td>8171.0</td>\n",
       "      <td>NaN</td>\n",
       "      <td>NaN</td>\n",
       "      <td>shinsegae</td>\n",
       "      <td>577</td>\n",
       "      <td>494258</td>\n",
       "      <td>NaN</td>\n",
       "    </tr>\n",
       "    <tr>\n",
       "      <th>6951</th>\n",
       "      <td>신세계아이앤씨</td>\n",
       "      <td>센트럴관광개발</td>\n",
       "      <td>6547.0</td>\n",
       "      <td>286625.0</td>\n",
       "      <td>NaN</td>\n",
       "      <td>373529.0</td>\n",
       "      <td>2.0</td>\n",
       "      <td>373531.0</td>\n",
       "      <td>2019</td>\n",
       "      <td>2018</td>\n",
       "      <td>신세계</td>\n",
       "      <td>상장</td>\n",
       "      <td>비금융</td>\n",
       "      <td>373531.0</td>\n",
       "      <td>NaN</td>\n",
       "      <td>NaN</td>\n",
       "      <td>shinsegae</td>\n",
       "      <td>577</td>\n",
       "      <td>538787</td>\n",
       "      <td>NaN</td>\n",
       "    </tr>\n",
       "  </tbody>\n",
       "</table>\n",
       "</div>"
      ],
      "text/plain": [
       "           매출회사     매입회사      매출액  국내계열사계(매출액)  해외계열사계(매출액)      국내매출액  해외매출액  \\\n",
       "6632        신세계  센트럴관광개발    388.0     196180.0          NaN  1739327.0    NaN   \n",
       "6693   신세계센트럴시티  센트럴관광개발   2339.0     101977.0          NaN   142969.0    NaN   \n",
       "6718       까사미아  센트럴관광개발   2472.0       7115.0          NaN   109567.0    NaN   \n",
       "6778    신세계조선호텔  센트럴관광개발     93.0      14890.0          NaN   191684.0    NaN   \n",
       "6807      신세계푸드  센트럴관광개발    187.0     397221.0          NaN  1263417.0  268.0   \n",
       "6837     신세계엘앤비  센트럴관광개발     32.0      56681.0          NaN    93560.0    NaN   \n",
       "6861      신세계건설  센트럴관광개발  94209.0     675215.0        229.0  1084040.0  229.0   \n",
       "6897  신세계영랑호리조트  센트럴관광개발      0.0       1581.0          NaN     8171.0    NaN   \n",
       "6951    신세계아이앤씨  센트럴관광개발   6547.0     286625.0          NaN   373529.0    2.0   \n",
       "\n",
       "          매출액총계  year2  year grpname2 매출사상/비 매출사금융/비금융     매출액Val 매입사상/비  \\\n",
       "6632        NaN   2019  2018      신세계     상장       비금융  1739327.0    NaN   \n",
       "6693        NaN   2019  2018      신세계    비상장       비금융   172538.0    NaN   \n",
       "6718        NaN   2019  2018      신세계    비상장       비금융   109567.0    NaN   \n",
       "6778        NaN   2019  2018      신세계    비상장       비금융   191684.0    NaN   \n",
       "6807  1263685.0   2019  2018      신세계     상장       비금융  1263685.0    NaN   \n",
       "6837        NaN   2019  2018      신세계    비상장       비금융    93560.0    NaN   \n",
       "6861  1084269.0   2019  2018      신세계     상장       비금융  1084269.0    NaN   \n",
       "6897        NaN   2019  2018      신세계    비상장       비금융     8171.0    NaN   \n",
       "6951   373531.0   2019  2018      신세계     상장       비금융   373531.0    NaN   \n",
       "\n",
       "     매입사금융/비금융    grpname  grpcode    매출회사id  매입회사id  \n",
       "6632       NaN  shinsegae      577    620084     NaN  \n",
       "6693       NaN  shinsegae      577    711268     NaN  \n",
       "6718       NaN  shinsegae      577    274224     NaN  \n",
       "6778       NaN  shinsegae      577    630306     NaN  \n",
       "6807       NaN  shinsegae      577     40807     NaN  \n",
       "6837       NaN  shinsegae      577  13072689     NaN  \n",
       "6861       NaN  shinsegae      577    100960     NaN  \n",
       "6897       NaN  shinsegae      577    494258     NaN  \n",
       "6951       NaN  shinsegae      577    538787     NaN  "
      ]
     },
     "execution_count": 13,
     "metadata": {},
     "output_type": "execute_result"
    }
   ],
   "source": [
    "dfTrans19[dfTrans19['매입회사'] == '센트럴관광개발']"
   ]
  },
  {
   "cell_type": "code",
   "execution_count": 15,
   "id": "050d288d",
   "metadata": {},
   "outputs": [],
   "source": [
    "dfTrans19.loc[6632, '매입회사id'] = 73540\n",
    "dfTrans19.loc[6693, '매입회사id'] = 73540\n",
    "dfTrans19.loc[6718, '매입회사id'] = 73540\n",
    "dfTrans19.loc[6778, '매입회사id'] = 73540\n",
    "dfTrans19.loc[6807, '매입회사id'] = 73540\n",
    "dfTrans19.loc[6837, '매입회사id'] = 73540\n",
    "dfTrans19.loc[6861, '매입회사id'] = 73540\n",
    "dfTrans19.loc[6897, '매입회사id'] = 73540\n",
    "dfTrans19.loc[6951, '매입회사id'] = 73540"
   ]
  },
  {
   "cell_type": "code",
   "execution_count": 16,
   "id": "cfc914e1",
   "metadata": {},
   "outputs": [
    {
     "data": {
      "text/html": [
       "<div>\n",
       "<style scoped>\n",
       "    .dataframe tbody tr th:only-of-type {\n",
       "        vertical-align: middle;\n",
       "    }\n",
       "\n",
       "    .dataframe tbody tr th {\n",
       "        vertical-align: top;\n",
       "    }\n",
       "\n",
       "    .dataframe thead th {\n",
       "        text-align: right;\n",
       "    }\n",
       "</style>\n",
       "<table border=\"1\" class=\"dataframe\">\n",
       "  <thead>\n",
       "    <tr style=\"text-align: right;\">\n",
       "      <th></th>\n",
       "      <th>매출회사</th>\n",
       "      <th>매입회사</th>\n",
       "      <th>매출액</th>\n",
       "      <th>국내계열사계(매출액)</th>\n",
       "      <th>해외계열사계(매출액)</th>\n",
       "      <th>국내매출액</th>\n",
       "      <th>해외매출액</th>\n",
       "      <th>매출액총계</th>\n",
       "      <th>year2</th>\n",
       "      <th>year</th>\n",
       "      <th>grpname2</th>\n",
       "      <th>매출사상/비</th>\n",
       "      <th>매출사금융/비금융</th>\n",
       "      <th>매출액Val</th>\n",
       "      <th>매입사상/비</th>\n",
       "      <th>매입사금융/비금융</th>\n",
       "      <th>grpname</th>\n",
       "      <th>grpcode</th>\n",
       "      <th>매출회사id</th>\n",
       "      <th>매입회사id</th>\n",
       "    </tr>\n",
       "  </thead>\n",
       "  <tbody>\n",
       "    <tr>\n",
       "      <th>7908</th>\n",
       "      <td>네오플럭스</td>\n",
       "      <td>케이티씨엔피그로쓰챔프2011의2호사모투자</td>\n",
       "      <td>8425.0</td>\n",
       "      <td>10350.0</td>\n",
       "      <td>NaN</td>\n",
       "      <td>22219.0</td>\n",
       "      <td>NaN</td>\n",
       "      <td>NaN</td>\n",
       "      <td>2019</td>\n",
       "      <td>2018</td>\n",
       "      <td>두산</td>\n",
       "      <td>비상장</td>\n",
       "      <td>금융</td>\n",
       "      <td>22219.0</td>\n",
       "      <td>NaN</td>\n",
       "      <td>NaN</td>\n",
       "      <td>doosan</td>\n",
       "      <td>391</td>\n",
       "      <td>1903209021</td>\n",
       "      <td>NaN</td>\n",
       "    </tr>\n",
       "  </tbody>\n",
       "</table>\n",
       "</div>"
      ],
      "text/plain": [
       "       매출회사                    매입회사     매출액  국내계열사계(매출액)  해외계열사계(매출액)  \\\n",
       "7908  네오플럭스  케이티씨엔피그로쓰챔프2011의2호사모투자  8425.0      10350.0          NaN   \n",
       "\n",
       "        국내매출액  해외매출액  매출액총계  year2  year grpname2 매출사상/비 매출사금융/비금융   매출액Val  \\\n",
       "7908  22219.0    NaN    NaN   2019  2018       두산    비상장        금융  22219.0   \n",
       "\n",
       "     매입사상/비 매입사금융/비금융 grpname  grpcode      매출회사id  매입회사id  \n",
       "7908    NaN       NaN  doosan      391  1903209021     NaN  "
      ]
     },
     "execution_count": 16,
     "metadata": {},
     "output_type": "execute_result"
    }
   ],
   "source": [
    "dfTrans19[dfTrans19['매입회사'] == '케이티씨엔피그로쓰챔프2011의2호사모투자']"
   ]
  },
  {
   "cell_type": "code",
   "execution_count": 17,
   "id": "ba429d30",
   "metadata": {},
   "outputs": [],
   "source": [
    "dfTrans19.loc[7908, '매입회사id'] = 19066564"
   ]
  },
  {
   "cell_type": "code",
   "execution_count": 18,
   "id": "d532eccc",
   "metadata": {},
   "outputs": [
    {
     "data": {
      "text/html": [
       "<div>\n",
       "<style scoped>\n",
       "    .dataframe tbody tr th:only-of-type {\n",
       "        vertical-align: middle;\n",
       "    }\n",
       "\n",
       "    .dataframe tbody tr th {\n",
       "        vertical-align: top;\n",
       "    }\n",
       "\n",
       "    .dataframe thead th {\n",
       "        text-align: right;\n",
       "    }\n",
       "</style>\n",
       "<table border=\"1\" class=\"dataframe\">\n",
       "  <thead>\n",
       "    <tr style=\"text-align: right;\">\n",
       "      <th></th>\n",
       "      <th>매출회사</th>\n",
       "      <th>매입회사</th>\n",
       "      <th>매출액</th>\n",
       "      <th>국내계열사계(매출액)</th>\n",
       "      <th>해외계열사계(매출액)</th>\n",
       "      <th>국내매출액</th>\n",
       "      <th>해외매출액</th>\n",
       "      <th>매출액총계</th>\n",
       "      <th>year2</th>\n",
       "      <th>year</th>\n",
       "      <th>grpname2</th>\n",
       "      <th>매출사상/비</th>\n",
       "      <th>매출사금융/비금융</th>\n",
       "      <th>매출액Val</th>\n",
       "      <th>매입사상/비</th>\n",
       "      <th>매입사금융/비금융</th>\n",
       "      <th>grpname</th>\n",
       "      <th>grpcode</th>\n",
       "      <th>매출회사id</th>\n",
       "      <th>매입회사id</th>\n",
       "    </tr>\n",
       "  </thead>\n",
       "  <tbody>\n",
       "    <tr>\n",
       "      <th>8335</th>\n",
       "      <td>미래에셋대우</td>\n",
       "      <td>PCA생명보험</td>\n",
       "      <td>231.0</td>\n",
       "      <td>18568.0</td>\n",
       "      <td>92.0</td>\n",
       "      <td>8999289.0</td>\n",
       "      <td>2278029.0</td>\n",
       "      <td>11277318.0</td>\n",
       "      <td>2019</td>\n",
       "      <td>2018</td>\n",
       "      <td>미래에셋</td>\n",
       "      <td>상장</td>\n",
       "      <td>금융</td>\n",
       "      <td>11277318.0</td>\n",
       "      <td>NaN</td>\n",
       "      <td>NaN</td>\n",
       "      <td>miraeasset</td>\n",
       "      <td>2602105</td>\n",
       "      <td>860085</td>\n",
       "      <td>NaN</td>\n",
       "    </tr>\n",
       "    <tr>\n",
       "      <th>8365</th>\n",
       "      <td>미래에셋자산운용</td>\n",
       "      <td>PCA생명보험</td>\n",
       "      <td>46.0</td>\n",
       "      <td>24066.0</td>\n",
       "      <td>179.0</td>\n",
       "      <td>265349.0</td>\n",
       "      <td>9176.0</td>\n",
       "      <td>274525.0</td>\n",
       "      <td>2019</td>\n",
       "      <td>2018</td>\n",
       "      <td>미래에셋</td>\n",
       "      <td>비상장</td>\n",
       "      <td>금융</td>\n",
       "      <td>274525.0</td>\n",
       "      <td>NaN</td>\n",
       "      <td>NaN</td>\n",
       "      <td>miraeasset</td>\n",
       "      <td>2602105</td>\n",
       "      <td>490050</td>\n",
       "      <td>NaN</td>\n",
       "    </tr>\n",
       "    <tr>\n",
       "      <th>8392</th>\n",
       "      <td>미래에셋컨설팅</td>\n",
       "      <td>PCA생명보험</td>\n",
       "      <td>10.0</td>\n",
       "      <td>4243.0</td>\n",
       "      <td>NaN</td>\n",
       "      <td>108786.0</td>\n",
       "      <td>NaN</td>\n",
       "      <td>NaN</td>\n",
       "      <td>2019</td>\n",
       "      <td>2018</td>\n",
       "      <td>미래에셋</td>\n",
       "      <td>비상장</td>\n",
       "      <td>비금융</td>\n",
       "      <td>108786.0</td>\n",
       "      <td>NaN</td>\n",
       "      <td>NaN</td>\n",
       "      <td>miraeasset</td>\n",
       "      <td>2602105</td>\n",
       "      <td>13045914</td>\n",
       "      <td>NaN</td>\n",
       "    </tr>\n",
       "  </tbody>\n",
       "</table>\n",
       "</div>"
      ],
      "text/plain": [
       "          매출회사     매입회사    매출액  국내계열사계(매출액)  해외계열사계(매출액)      국내매출액  \\\n",
       "8335    미래에셋대우  PCA생명보험  231.0      18568.0         92.0  8999289.0   \n",
       "8365  미래에셋자산운용  PCA생명보험   46.0      24066.0        179.0   265349.0   \n",
       "8392   미래에셋컨설팅  PCA생명보험   10.0       4243.0          NaN   108786.0   \n",
       "\n",
       "          해외매출액       매출액총계  year2  year grpname2 매출사상/비 매출사금융/비금융  \\\n",
       "8335  2278029.0  11277318.0   2019  2018     미래에셋     상장        금융   \n",
       "8365     9176.0    274525.0   2019  2018     미래에셋    비상장        금융   \n",
       "8392        NaN         NaN   2019  2018     미래에셋    비상장       비금융   \n",
       "\n",
       "          매출액Val 매입사상/비 매입사금융/비금융     grpname  grpcode    매출회사id  매입회사id  \n",
       "8335  11277318.0    NaN       NaN  miraeasset  2602105    860085     NaN  \n",
       "8365    274525.0    NaN       NaN  miraeasset  2602105    490050     NaN  \n",
       "8392    108786.0    NaN       NaN  miraeasset  2602105  13045914     NaN  "
      ]
     },
     "execution_count": 18,
     "metadata": {},
     "output_type": "execute_result"
    }
   ],
   "source": [
    "dfTrans19[dfTrans19['매입회사'] == 'PCA생명보험']"
   ]
  },
  {
   "cell_type": "code",
   "execution_count": 20,
   "id": "fc605c65",
   "metadata": {},
   "outputs": [],
   "source": [
    "dfTrans19.loc[8335, '매입회사id'] = 821683\n",
    "dfTrans19.loc[8365, '매입회사id'] = 821683\n",
    "dfTrans19.loc[8392, '매입회사id'] = 821683"
   ]
  },
  {
   "cell_type": "code",
   "execution_count": 22,
   "id": "b82661c3",
   "metadata": {},
   "outputs": [
    {
     "data": {
      "text/html": [
       "<div>\n",
       "<style scoped>\n",
       "    .dataframe tbody tr th:only-of-type {\n",
       "        vertical-align: middle;\n",
       "    }\n",
       "\n",
       "    .dataframe tbody tr th {\n",
       "        vertical-align: top;\n",
       "    }\n",
       "\n",
       "    .dataframe thead th {\n",
       "        text-align: right;\n",
       "    }\n",
       "</style>\n",
       "<table border=\"1\" class=\"dataframe\">\n",
       "  <thead>\n",
       "    <tr style=\"text-align: right;\">\n",
       "      <th></th>\n",
       "      <th>매출회사</th>\n",
       "      <th>매입회사</th>\n",
       "      <th>매출액</th>\n",
       "      <th>국내계열사계(매출액)</th>\n",
       "      <th>해외계열사계(매출액)</th>\n",
       "      <th>국내매출액</th>\n",
       "      <th>해외매출액</th>\n",
       "      <th>매출액총계</th>\n",
       "      <th>year2</th>\n",
       "      <th>year</th>\n",
       "      <th>grpname2</th>\n",
       "      <th>매출사상/비</th>\n",
       "      <th>매출사금융/비금융</th>\n",
       "      <th>매출액Val</th>\n",
       "      <th>매입사상/비</th>\n",
       "      <th>매입사금융/비금융</th>\n",
       "      <th>grpname</th>\n",
       "      <th>grpcode</th>\n",
       "      <th>매출회사id</th>\n",
       "      <th>매입회사id</th>\n",
       "    </tr>\n",
       "  </thead>\n",
       "  <tbody>\n",
       "    <tr>\n",
       "      <th>8339</th>\n",
       "      <td>미래에셋대우</td>\n",
       "      <td>미래에셋파트너스5호</td>\n",
       "      <td>36.0</td>\n",
       "      <td>18568.0</td>\n",
       "      <td>92.0</td>\n",
       "      <td>8999289.0</td>\n",
       "      <td>2278029.0</td>\n",
       "      <td>11277318.0</td>\n",
       "      <td>2019</td>\n",
       "      <td>2018</td>\n",
       "      <td>미래에셋</td>\n",
       "      <td>상장</td>\n",
       "      <td>금융</td>\n",
       "      <td>11277318.0</td>\n",
       "      <td>NaN</td>\n",
       "      <td>NaN</td>\n",
       "      <td>miraeasset</td>\n",
       "      <td>2602105</td>\n",
       "      <td>860085</td>\n",
       "      <td>NaN</td>\n",
       "    </tr>\n",
       "  </tbody>\n",
       "</table>\n",
       "</div>"
      ],
      "text/plain": [
       "        매출회사        매입회사   매출액  국내계열사계(매출액)  해외계열사계(매출액)      국내매출액  \\\n",
       "8339  미래에셋대우  미래에셋파트너스5호  36.0      18568.0         92.0  8999289.0   \n",
       "\n",
       "          해외매출액       매출액총계  year2  year grpname2 매출사상/비 매출사금융/비금융  \\\n",
       "8339  2278029.0  11277318.0   2019  2018     미래에셋     상장        금융   \n",
       "\n",
       "          매출액Val 매입사상/비 매입사금융/비금융     grpname  grpcode  매출회사id  매입회사id  \n",
       "8339  11277318.0    NaN       NaN  miraeasset  2602105  860085     NaN  "
      ]
     },
     "execution_count": 22,
     "metadata": {},
     "output_type": "execute_result"
    }
   ],
   "source": [
    "dfTrans19[dfTrans19['매입회사'] == '미래에셋파트너스5호']"
   ]
  },
  {
   "cell_type": "code",
   "execution_count": 23,
   "id": "a6ff7560",
   "metadata": {},
   "outputs": [],
   "source": [
    "dfTrans19.loc[8339, '매입회사id'] = 13098472"
   ]
  },
  {
   "cell_type": "code",
   "execution_count": 34,
   "id": "020862e2",
   "metadata": {},
   "outputs": [],
   "source": [
    "idx = dfTrans19[dfTrans19['매입회사id'].isna()].index"
   ]
  },
  {
   "cell_type": "code",
   "execution_count": 35,
   "id": "50a23a94",
   "metadata": {},
   "outputs": [],
   "source": [
    "dfTrans19.loc[idx, '매입회사id'] = 5350000000"
   ]
  },
  {
   "cell_type": "code",
   "execution_count": 38,
   "id": "3ba77012",
   "metadata": {},
   "outputs": [
    {
     "data": {
      "text/html": [
       "<div>\n",
       "<style scoped>\n",
       "    .dataframe tbody tr th:only-of-type {\n",
       "        vertical-align: middle;\n",
       "    }\n",
       "\n",
       "    .dataframe tbody tr th {\n",
       "        vertical-align: top;\n",
       "    }\n",
       "\n",
       "    .dataframe thead th {\n",
       "        text-align: right;\n",
       "    }\n",
       "</style>\n",
       "<table border=\"1\" class=\"dataframe\">\n",
       "  <thead>\n",
       "    <tr style=\"text-align: right;\">\n",
       "      <th></th>\n",
       "      <th>year</th>\n",
       "      <th>year2</th>\n",
       "      <th>grpname2</th>\n",
       "      <th>grpname</th>\n",
       "      <th>grpcode</th>\n",
       "      <th>firmname</th>\n",
       "      <th>firmid</th>\n",
       "      <th>fid</th>\n",
       "      <th>ultown</th>\n",
       "      <th>avpos</th>\n",
       "      <th>sd</th>\n",
       "      <th>steps</th>\n",
       "      <th>loop</th>\n",
       "      <th>lastcontrol</th>\n",
       "      <th>central</th>\n",
       "    </tr>\n",
       "  </thead>\n",
       "  <tbody>\n",
       "    <tr>\n",
       "      <th>0</th>\n",
       "      <td>2018.0</td>\n",
       "      <td>2019.0</td>\n",
       "      <td>애경</td>\n",
       "      <td>aekyung</td>\n",
       "      <td>615</td>\n",
       "      <td>우영운수</td>\n",
       "      <td>47919</td>\n",
       "      <td>1.0</td>\n",
       "      <td>1.000000</td>\n",
       "      <td>1.000000</td>\n",
       "      <td>1.0</td>\n",
       "      <td>NaN</td>\n",
       "      <td>0.0</td>\n",
       "      <td>100.0</td>\n",
       "      <td>0.000000</td>\n",
       "    </tr>\n",
       "    <tr>\n",
       "      <th>1</th>\n",
       "      <td>2018.0</td>\n",
       "      <td>2019.0</td>\n",
       "      <td>애경</td>\n",
       "      <td>aekyung</td>\n",
       "      <td>615</td>\n",
       "      <td>수원애경역사</td>\n",
       "      <td>73220</td>\n",
       "      <td>2.0</td>\n",
       "      <td>0.605655</td>\n",
       "      <td>3.206202</td>\n",
       "      <td>2.0</td>\n",
       "      <td>NaN</td>\n",
       "      <td>0.0</td>\n",
       "      <td>64.0</td>\n",
       "      <td>0.000000</td>\n",
       "    </tr>\n",
       "    <tr>\n",
       "      <th>2</th>\n",
       "      <td>2018.0</td>\n",
       "      <td>2019.0</td>\n",
       "      <td>애경</td>\n",
       "      <td>aekyung</td>\n",
       "      <td>615</td>\n",
       "      <td>애드미션</td>\n",
       "      <td>95760</td>\n",
       "      <td>3.0</td>\n",
       "      <td>0.852500</td>\n",
       "      <td>1.000000</td>\n",
       "      <td>1.0</td>\n",
       "      <td>NaN</td>\n",
       "      <td>0.0</td>\n",
       "      <td>85.0</td>\n",
       "      <td>0.000000</td>\n",
       "    </tr>\n",
       "    <tr>\n",
       "      <th>3</th>\n",
       "      <td>2018.0</td>\n",
       "      <td>2019.0</td>\n",
       "      <td>애경</td>\n",
       "      <td>aekyung</td>\n",
       "      <td>615</td>\n",
       "      <td>에이케이레저</td>\n",
       "      <td>99486</td>\n",
       "      <td>4.0</td>\n",
       "      <td>1.000000</td>\n",
       "      <td>2.569844</td>\n",
       "      <td>2.0</td>\n",
       "      <td>NaN</td>\n",
       "      <td>0.0</td>\n",
       "      <td>100.0</td>\n",
       "      <td>0.000000</td>\n",
       "    </tr>\n",
       "    <tr>\n",
       "      <th>4</th>\n",
       "      <td>2018.0</td>\n",
       "      <td>2019.0</td>\n",
       "      <td>애경</td>\n",
       "      <td>aekyung</td>\n",
       "      <td>615</td>\n",
       "      <td>에이케이에스앤디</td>\n",
       "      <td>125359</td>\n",
       "      <td>5.0</td>\n",
       "      <td>0.719310</td>\n",
       "      <td>2.206202</td>\n",
       "      <td>1.0</td>\n",
       "      <td>NaN</td>\n",
       "      <td>0.0</td>\n",
       "      <td>64.0</td>\n",
       "      <td>6.736839</td>\n",
       "    </tr>\n",
       "  </tbody>\n",
       "</table>\n",
       "</div>"
      ],
      "text/plain": [
       "     year   year2 grpname2  grpname  grpcode  firmname  firmid  fid    ultown  \\\n",
       "0  2018.0  2019.0       애경  aekyung      615      우영운수   47919  1.0  1.000000   \n",
       "1  2018.0  2019.0       애경  aekyung      615    수원애경역사   73220  2.0  0.605655   \n",
       "2  2018.0  2019.0       애경  aekyung      615      애드미션   95760  3.0  0.852500   \n",
       "3  2018.0  2019.0       애경  aekyung      615    에이케이레저   99486  4.0  1.000000   \n",
       "4  2018.0  2019.0       애경  aekyung      615  에이케이에스앤디  125359  5.0  0.719310   \n",
       "\n",
       "      avpos   sd  steps  loop  lastcontrol   central  \n",
       "0  1.000000  1.0    NaN   0.0        100.0  0.000000  \n",
       "1  3.206202  2.0    NaN   0.0         64.0  0.000000  \n",
       "2  1.000000  1.0    NaN   0.0         85.0  0.000000  \n",
       "3  2.569844  2.0    NaN   0.0        100.0  0.000000  \n",
       "4  2.206202  1.0    NaN   0.0         64.0  6.736839  "
      ]
     },
     "execution_count": 38,
     "metadata": {},
     "output_type": "execute_result"
    }
   ],
   "source": [
    "dfUltown = pd.read_stata(\"../data/almeida/2019/out/almeida_own1_2019.dta\")\n",
    "dfUltown.head()"
   ]
  },
  {
   "cell_type": "code",
   "execution_count": 39,
   "id": "b23463ec",
   "metadata": {},
   "outputs": [],
   "source": [
    "dfUltown['매출회사 실질지분율'] = dfUltown['ultown']\n",
    "dfUltown['매입회사 실질지분율'] = dfUltown['ultown']\n",
    "dfUltown['매출회사id'] = dfUltown['firmid']\n",
    "dfUltown['매입회사id'] = dfUltown['firmid']"
   ]
  },
  {
   "cell_type": "code",
   "execution_count": 41,
   "id": "ee88a0c8",
   "metadata": {},
   "outputs": [
    {
     "data": {
      "text/plain": [
       "dtype('int32')"
      ]
     },
     "execution_count": 41,
     "metadata": {},
     "output_type": "execute_result"
    }
   ],
   "source": [
    "dfUltown['매출회사id'].dtype"
   ]
  },
  {
   "cell_type": "code",
   "execution_count": 42,
   "id": "04af863e",
   "metadata": {},
   "outputs": [
    {
     "data": {
      "text/plain": [
       "dtype('int64')"
      ]
     },
     "execution_count": 42,
     "metadata": {},
     "output_type": "execute_result"
    }
   ],
   "source": [
    "dfTrans19['매출회사id'].dtype"
   ]
  },
  {
   "cell_type": "code",
   "execution_count": 43,
   "id": "1542bbee",
   "metadata": {},
   "outputs": [
    {
     "data": {
      "text/plain": [
       "dtype('float64')"
      ]
     },
     "execution_count": 43,
     "metadata": {},
     "output_type": "execute_result"
    }
   ],
   "source": [
    "dfTrans19['매입회사id'].dtype"
   ]
  },
  {
   "cell_type": "code",
   "execution_count": 44,
   "id": "90906b62",
   "metadata": {},
   "outputs": [
    {
     "data": {
      "text/plain": [
       "dtype('int32')"
      ]
     },
     "execution_count": 44,
     "metadata": {},
     "output_type": "execute_result"
    }
   ],
   "source": [
    "dfUltown['매입회사id'].dtype"
   ]
  },
  {
   "cell_type": "code",
   "execution_count": 45,
   "id": "cdc95397",
   "metadata": {},
   "outputs": [],
   "source": [
    "dfTrans19['매입회사id'] = dfTrans19['매입회사id'].astype('int32')"
   ]
  },
  {
   "cell_type": "code",
   "execution_count": 46,
   "id": "af8d50dd",
   "metadata": {},
   "outputs": [
    {
     "data": {
      "text/html": [
       "<div>\n",
       "<style scoped>\n",
       "    .dataframe tbody tr th:only-of-type {\n",
       "        vertical-align: middle;\n",
       "    }\n",
       "\n",
       "    .dataframe tbody tr th {\n",
       "        vertical-align: top;\n",
       "    }\n",
       "\n",
       "    .dataframe thead th {\n",
       "        text-align: right;\n",
       "    }\n",
       "</style>\n",
       "<table border=\"1\" class=\"dataframe\">\n",
       "  <thead>\n",
       "    <tr style=\"text-align: right;\">\n",
       "      <th></th>\n",
       "      <th>매출회사</th>\n",
       "      <th>매입회사</th>\n",
       "      <th>매출액</th>\n",
       "      <th>국내계열사계(매출액)</th>\n",
       "      <th>해외계열사계(매출액)</th>\n",
       "      <th>국내매출액</th>\n",
       "      <th>해외매출액</th>\n",
       "      <th>매출액총계</th>\n",
       "      <th>year2</th>\n",
       "      <th>year</th>\n",
       "      <th>...</th>\n",
       "      <th>매출사금융/비금융</th>\n",
       "      <th>매출액Val</th>\n",
       "      <th>매입사상/비</th>\n",
       "      <th>매입사금융/비금융</th>\n",
       "      <th>grpname</th>\n",
       "      <th>grpcode</th>\n",
       "      <th>매출회사id</th>\n",
       "      <th>매입회사id</th>\n",
       "      <th>매출회사 실질지분율</th>\n",
       "      <th>매입회사 실질지분율</th>\n",
       "    </tr>\n",
       "  </thead>\n",
       "  <tbody>\n",
       "    <tr>\n",
       "      <th>0</th>\n",
       "      <td>삼성전자</td>\n",
       "      <td>삼성물산</td>\n",
       "      <td>78676.0</td>\n",
       "      <td>2269950.0</td>\n",
       "      <td>149436938.0</td>\n",
       "      <td>16821275.0</td>\n",
       "      <td>153560595.0</td>\n",
       "      <td>170381870.0</td>\n",
       "      <td>2019</td>\n",
       "      <td>2018</td>\n",
       "      <td>...</td>\n",
       "      <td>비금융</td>\n",
       "      <td>170381870.0</td>\n",
       "      <td>상장</td>\n",
       "      <td>비금융</td>\n",
       "      <td>samsung</td>\n",
       "      <td>511</td>\n",
       "      <td>380725</td>\n",
       "      <td>810053</td>\n",
       "      <td>0.08541</td>\n",
       "      <td>0.311626</td>\n",
       "    </tr>\n",
       "    <tr>\n",
       "      <th>1</th>\n",
       "      <td>삼성전자</td>\n",
       "      <td>삼성바이오에피스</td>\n",
       "      <td>1.0</td>\n",
       "      <td>2269950.0</td>\n",
       "      <td>149436938.0</td>\n",
       "      <td>16821275.0</td>\n",
       "      <td>153560595.0</td>\n",
       "      <td>170381870.0</td>\n",
       "      <td>2019</td>\n",
       "      <td>2018</td>\n",
       "      <td>...</td>\n",
       "      <td>비금융</td>\n",
       "      <td>170381870.0</td>\n",
       "      <td>비상장</td>\n",
       "      <td>비금융</td>\n",
       "      <td>samsung</td>\n",
       "      <td>511</td>\n",
       "      <td>380725</td>\n",
       "      <td>18082125</td>\n",
       "      <td>0.08541</td>\n",
       "      <td>0.081307</td>\n",
       "    </tr>\n",
       "    <tr>\n",
       "      <th>2</th>\n",
       "      <td>삼성전자</td>\n",
       "      <td>삼성디스플레이</td>\n",
       "      <td>164404.0</td>\n",
       "      <td>2269950.0</td>\n",
       "      <td>149436938.0</td>\n",
       "      <td>16821275.0</td>\n",
       "      <td>153560595.0</td>\n",
       "      <td>170381870.0</td>\n",
       "      <td>2019</td>\n",
       "      <td>2018</td>\n",
       "      <td>...</td>\n",
       "      <td>비금융</td>\n",
       "      <td>170381870.0</td>\n",
       "      <td>비상장</td>\n",
       "      <td>비금융</td>\n",
       "      <td>samsung</td>\n",
       "      <td>511</td>\n",
       "      <td>380725</td>\n",
       "      <td>18082126</td>\n",
       "      <td>0.08541</td>\n",
       "      <td>0.074901</td>\n",
       "    </tr>\n",
       "    <tr>\n",
       "      <th>3</th>\n",
       "      <td>삼성전자</td>\n",
       "      <td>세메스</td>\n",
       "      <td>5.0</td>\n",
       "      <td>2269950.0</td>\n",
       "      <td>149436938.0</td>\n",
       "      <td>16821275.0</td>\n",
       "      <td>153560595.0</td>\n",
       "      <td>170381870.0</td>\n",
       "      <td>2019</td>\n",
       "      <td>2018</td>\n",
       "      <td>...</td>\n",
       "      <td>비금융</td>\n",
       "      <td>170381870.0</td>\n",
       "      <td>비상장</td>\n",
       "      <td>비금융</td>\n",
       "      <td>samsung</td>\n",
       "      <td>511</td>\n",
       "      <td>380725</td>\n",
       "      <td>314528</td>\n",
       "      <td>0.08541</td>\n",
       "      <td>0.078187</td>\n",
       "    </tr>\n",
       "    <tr>\n",
       "      <th>4</th>\n",
       "      <td>삼성전자</td>\n",
       "      <td>삼성전자서비스</td>\n",
       "      <td>456109.0</td>\n",
       "      <td>2269950.0</td>\n",
       "      <td>149436938.0</td>\n",
       "      <td>16821275.0</td>\n",
       "      <td>153560595.0</td>\n",
       "      <td>170381870.0</td>\n",
       "      <td>2019</td>\n",
       "      <td>2018</td>\n",
       "      <td>...</td>\n",
       "      <td>비금융</td>\n",
       "      <td>170381870.0</td>\n",
       "      <td>비상장</td>\n",
       "      <td>비금융</td>\n",
       "      <td>samsung</td>\n",
       "      <td>511</td>\n",
       "      <td>380725</td>\n",
       "      <td>952133</td>\n",
       "      <td>0.08541</td>\n",
       "      <td>0.084836</td>\n",
       "    </tr>\n",
       "  </tbody>\n",
       "</table>\n",
       "<p>5 rows × 22 columns</p>\n",
       "</div>"
      ],
      "text/plain": [
       "   매출회사      매입회사       매출액  국내계열사계(매출액)  해외계열사계(매출액)       국내매출액  \\\n",
       "0  삼성전자      삼성물산   78676.0    2269950.0  149436938.0  16821275.0   \n",
       "1  삼성전자  삼성바이오에피스       1.0    2269950.0  149436938.0  16821275.0   \n",
       "2  삼성전자   삼성디스플레이  164404.0    2269950.0  149436938.0  16821275.0   \n",
       "3  삼성전자       세메스       5.0    2269950.0  149436938.0  16821275.0   \n",
       "4  삼성전자   삼성전자서비스  456109.0    2269950.0  149436938.0  16821275.0   \n",
       "\n",
       "         해외매출액        매출액총계  year2  year  ... 매출사금융/비금융       매출액Val 매입사상/비  \\\n",
       "0  153560595.0  170381870.0   2019  2018  ...       비금융  170381870.0     상장   \n",
       "1  153560595.0  170381870.0   2019  2018  ...       비금융  170381870.0    비상장   \n",
       "2  153560595.0  170381870.0   2019  2018  ...       비금융  170381870.0    비상장   \n",
       "3  153560595.0  170381870.0   2019  2018  ...       비금융  170381870.0    비상장   \n",
       "4  153560595.0  170381870.0   2019  2018  ...       비금융  170381870.0    비상장   \n",
       "\n",
       "   매입사금융/비금융  grpname grpcode  매출회사id    매입회사id  매출회사 실질지분율  매입회사 실질지분율  \n",
       "0        비금융  samsung     511  380725    810053     0.08541    0.311626  \n",
       "1        비금융  samsung     511  380725  18082125     0.08541    0.081307  \n",
       "2        비금융  samsung     511  380725  18082126     0.08541    0.074901  \n",
       "3        비금융  samsung     511  380725    314528     0.08541    0.078187  \n",
       "4        비금융  samsung     511  380725    952133     0.08541    0.084836  \n",
       "\n",
       "[5 rows x 22 columns]"
      ]
     },
     "execution_count": 46,
     "metadata": {},
     "output_type": "execute_result"
    }
   ],
   "source": [
    "dfTrans19Vr = dfTrans19.merge(dfUltown[['매출회사id', '매출회사 실질지분율']], on='매출회사id', how='left')\\\n",
    "                       .merge(dfUltown[['매입회사id', '매입회사 실질지분율']], on='매입회사id', how='left')\n",
    "dfTrans19Vr.head()"
   ]
  },
  {
   "cell_type": "code",
   "execution_count": 48,
   "id": "5dc815b0",
   "metadata": {},
   "outputs": [],
   "source": [
    "dfTrans19.to_excel('../data/transactions-report/transactions2019.xlsx')"
   ]
  },
  {
   "cell_type": "code",
   "execution_count": 4,
   "id": "4f719307",
   "metadata": {},
   "outputs": [
    {
     "data": {
      "text/html": [
       "<div>\n",
       "<style scoped>\n",
       "    .dataframe tbody tr th:only-of-type {\n",
       "        vertical-align: middle;\n",
       "    }\n",
       "\n",
       "    .dataframe tbody tr th {\n",
       "        vertical-align: top;\n",
       "    }\n",
       "\n",
       "    .dataframe thead th {\n",
       "        text-align: right;\n",
       "    }\n",
       "</style>\n",
       "<table border=\"1\" class=\"dataframe\">\n",
       "  <thead>\n",
       "    <tr style=\"text-align: right;\">\n",
       "      <th></th>\n",
       "      <th>매출회사</th>\n",
       "      <th>매입회사</th>\n",
       "      <th>매출액</th>\n",
       "      <th>국내계열사계(매출액)</th>\n",
       "      <th>해외계열사계(매출액)</th>\n",
       "      <th>국내매출액</th>\n",
       "      <th>해외매출액</th>\n",
       "      <th>매출액총계</th>\n",
       "      <th>year2</th>\n",
       "      <th>year</th>\n",
       "      <th>grpname2</th>\n",
       "      <th>매출사상/비</th>\n",
       "      <th>매출사금융/비금융</th>\n",
       "      <th>매출액Val</th>\n",
       "      <th>매입사상/비</th>\n",
       "      <th>매입사금융/비금융</th>\n",
       "      <th>grpname</th>\n",
       "      <th>grpcode</th>\n",
       "      <th>매출회사id</th>\n",
       "      <th>매입회사id</th>\n",
       "    </tr>\n",
       "  </thead>\n",
       "  <tbody>\n",
       "    <tr>\n",
       "      <th>0</th>\n",
       "      <td>삼성전자</td>\n",
       "      <td>삼성물산</td>\n",
       "      <td>78676.0</td>\n",
       "      <td>2269950.0</td>\n",
       "      <td>149436938.0</td>\n",
       "      <td>16821275.0</td>\n",
       "      <td>153560595.0</td>\n",
       "      <td>170381870.0</td>\n",
       "      <td>2019</td>\n",
       "      <td>2018</td>\n",
       "      <td>삼성</td>\n",
       "      <td>상장</td>\n",
       "      <td>비금융</td>\n",
       "      <td>170381870.0</td>\n",
       "      <td>상장</td>\n",
       "      <td>비금융</td>\n",
       "      <td>samsung</td>\n",
       "      <td>511</td>\n",
       "      <td>380725</td>\n",
       "      <td>810053</td>\n",
       "    </tr>\n",
       "    <tr>\n",
       "      <th>1</th>\n",
       "      <td>삼성전자</td>\n",
       "      <td>삼성바이오에피스</td>\n",
       "      <td>1.0</td>\n",
       "      <td>2269950.0</td>\n",
       "      <td>149436938.0</td>\n",
       "      <td>16821275.0</td>\n",
       "      <td>153560595.0</td>\n",
       "      <td>170381870.0</td>\n",
       "      <td>2019</td>\n",
       "      <td>2018</td>\n",
       "      <td>삼성</td>\n",
       "      <td>상장</td>\n",
       "      <td>비금융</td>\n",
       "      <td>170381870.0</td>\n",
       "      <td>비상장</td>\n",
       "      <td>비금융</td>\n",
       "      <td>samsung</td>\n",
       "      <td>511</td>\n",
       "      <td>380725</td>\n",
       "      <td>18082125</td>\n",
       "    </tr>\n",
       "    <tr>\n",
       "      <th>2</th>\n",
       "      <td>삼성전자</td>\n",
       "      <td>삼성디스플레이</td>\n",
       "      <td>164404.0</td>\n",
       "      <td>2269950.0</td>\n",
       "      <td>149436938.0</td>\n",
       "      <td>16821275.0</td>\n",
       "      <td>153560595.0</td>\n",
       "      <td>170381870.0</td>\n",
       "      <td>2019</td>\n",
       "      <td>2018</td>\n",
       "      <td>삼성</td>\n",
       "      <td>상장</td>\n",
       "      <td>비금융</td>\n",
       "      <td>170381870.0</td>\n",
       "      <td>비상장</td>\n",
       "      <td>비금융</td>\n",
       "      <td>samsung</td>\n",
       "      <td>511</td>\n",
       "      <td>380725</td>\n",
       "      <td>18082126</td>\n",
       "    </tr>\n",
       "    <tr>\n",
       "      <th>3</th>\n",
       "      <td>삼성전자</td>\n",
       "      <td>세메스</td>\n",
       "      <td>5.0</td>\n",
       "      <td>2269950.0</td>\n",
       "      <td>149436938.0</td>\n",
       "      <td>16821275.0</td>\n",
       "      <td>153560595.0</td>\n",
       "      <td>170381870.0</td>\n",
       "      <td>2019</td>\n",
       "      <td>2018</td>\n",
       "      <td>삼성</td>\n",
       "      <td>상장</td>\n",
       "      <td>비금융</td>\n",
       "      <td>170381870.0</td>\n",
       "      <td>비상장</td>\n",
       "      <td>비금융</td>\n",
       "      <td>samsung</td>\n",
       "      <td>511</td>\n",
       "      <td>380725</td>\n",
       "      <td>314528</td>\n",
       "    </tr>\n",
       "    <tr>\n",
       "      <th>4</th>\n",
       "      <td>삼성전자</td>\n",
       "      <td>삼성전자서비스</td>\n",
       "      <td>456109.0</td>\n",
       "      <td>2269950.0</td>\n",
       "      <td>149436938.0</td>\n",
       "      <td>16821275.0</td>\n",
       "      <td>153560595.0</td>\n",
       "      <td>170381870.0</td>\n",
       "      <td>2019</td>\n",
       "      <td>2018</td>\n",
       "      <td>삼성</td>\n",
       "      <td>상장</td>\n",
       "      <td>비금융</td>\n",
       "      <td>170381870.0</td>\n",
       "      <td>비상장</td>\n",
       "      <td>비금융</td>\n",
       "      <td>samsung</td>\n",
       "      <td>511</td>\n",
       "      <td>380725</td>\n",
       "      <td>952133</td>\n",
       "    </tr>\n",
       "  </tbody>\n",
       "</table>\n",
       "</div>"
      ],
      "text/plain": [
       "   매출회사      매입회사       매출액  국내계열사계(매출액)  해외계열사계(매출액)       국내매출액  \\\n",
       "0  삼성전자      삼성물산   78676.0    2269950.0  149436938.0  16821275.0   \n",
       "1  삼성전자  삼성바이오에피스       1.0    2269950.0  149436938.0  16821275.0   \n",
       "2  삼성전자   삼성디스플레이  164404.0    2269950.0  149436938.0  16821275.0   \n",
       "3  삼성전자       세메스       5.0    2269950.0  149436938.0  16821275.0   \n",
       "4  삼성전자   삼성전자서비스  456109.0    2269950.0  149436938.0  16821275.0   \n",
       "\n",
       "         해외매출액        매출액총계  year2  year grpname2 매출사상/비 매출사금융/비금융  \\\n",
       "0  153560595.0  170381870.0   2019  2018       삼성     상장       비금융   \n",
       "1  153560595.0  170381870.0   2019  2018       삼성     상장       비금융   \n",
       "2  153560595.0  170381870.0   2019  2018       삼성     상장       비금융   \n",
       "3  153560595.0  170381870.0   2019  2018       삼성     상장       비금융   \n",
       "4  153560595.0  170381870.0   2019  2018       삼성     상장       비금융   \n",
       "\n",
       "        매출액Val 매입사상/비 매입사금융/비금융  grpname  grpcode  매출회사id    매입회사id  \n",
       "0  170381870.0     상장       비금융  samsung      511  380725    810053  \n",
       "1  170381870.0    비상장       비금융  samsung      511  380725  18082125  \n",
       "2  170381870.0    비상장       비금융  samsung      511  380725  18082126  \n",
       "3  170381870.0    비상장       비금융  samsung      511  380725    314528  \n",
       "4  170381870.0    비상장       비금융  samsung      511  380725    952133  "
      ]
     },
     "execution_count": 4,
     "metadata": {},
     "output_type": "execute_result"
    }
   ],
   "source": [
    "dfTrans19 = pd.read_excel('../data/transactions-report/transactions2019.xlsx')\n",
    "dfTrans19.head()"
   ]
  },
  {
   "cell_type": "code",
   "execution_count": 28,
   "id": "f72dee7c",
   "metadata": {},
   "outputs": [
    {
     "data": {
      "text/html": [
       "<div>\n",
       "<style scoped>\n",
       "    .dataframe tbody tr th:only-of-type {\n",
       "        vertical-align: middle;\n",
       "    }\n",
       "\n",
       "    .dataframe tbody tr th {\n",
       "        vertical-align: top;\n",
       "    }\n",
       "\n",
       "    .dataframe thead th {\n",
       "        text-align: right;\n",
       "    }\n",
       "</style>\n",
       "<table border=\"1\" class=\"dataframe\">\n",
       "  <thead>\n",
       "    <tr style=\"text-align: right;\">\n",
       "      <th></th>\n",
       "      <th>매출회사</th>\n",
       "      <th>매입회사</th>\n",
       "      <th>매출액</th>\n",
       "      <th>국내계열사계(매출액)</th>\n",
       "      <th>해외계열사계(매출액)</th>\n",
       "      <th>국내매출액</th>\n",
       "      <th>해외매출액</th>\n",
       "      <th>매출액총계</th>\n",
       "      <th>year2</th>\n",
       "      <th>year</th>\n",
       "      <th>grpname2</th>\n",
       "      <th>매출사상/비</th>\n",
       "      <th>매출사금융/비금융</th>\n",
       "      <th>매출액Val</th>\n",
       "      <th>매입사상/비</th>\n",
       "      <th>매입사금융/비금융</th>\n",
       "      <th>grpname</th>\n",
       "      <th>grpcode</th>\n",
       "      <th>매출회사id</th>\n",
       "      <th>매입회사id</th>\n",
       "    </tr>\n",
       "  </thead>\n",
       "  <tbody>\n",
       "    <tr>\n",
       "      <th>0</th>\n",
       "      <td>삼성전자</td>\n",
       "      <td>삼성물산</td>\n",
       "      <td>110238.0</td>\n",
       "      <td>2422149.0</td>\n",
       "      <td>130563681.0</td>\n",
       "      <td>20300939.0</td>\n",
       "      <td>134471920.0</td>\n",
       "      <td>154772859.0</td>\n",
       "      <td>2020</td>\n",
       "      <td>2019</td>\n",
       "      <td>삼성</td>\n",
       "      <td>상장</td>\n",
       "      <td>비금융</td>\n",
       "      <td>154772859.0</td>\n",
       "      <td>상장</td>\n",
       "      <td>비금융</td>\n",
       "      <td>samsung</td>\n",
       "      <td>511</td>\n",
       "      <td>380725</td>\n",
       "      <td>810053</td>\n",
       "    </tr>\n",
       "    <tr>\n",
       "      <th>1</th>\n",
       "      <td>삼성전자</td>\n",
       "      <td>삼성바이오에피스</td>\n",
       "      <td>4.0</td>\n",
       "      <td>2422149.0</td>\n",
       "      <td>130563681.0</td>\n",
       "      <td>20300939.0</td>\n",
       "      <td>134471920.0</td>\n",
       "      <td>154772859.0</td>\n",
       "      <td>2020</td>\n",
       "      <td>2019</td>\n",
       "      <td>삼성</td>\n",
       "      <td>상장</td>\n",
       "      <td>비금융</td>\n",
       "      <td>154772859.0</td>\n",
       "      <td>비상장</td>\n",
       "      <td>비금융</td>\n",
       "      <td>samsung</td>\n",
       "      <td>511</td>\n",
       "      <td>380725</td>\n",
       "      <td>18082125</td>\n",
       "    </tr>\n",
       "    <tr>\n",
       "      <th>2</th>\n",
       "      <td>삼성전자</td>\n",
       "      <td>삼성디스플레이</td>\n",
       "      <td>279363.0</td>\n",
       "      <td>2422149.0</td>\n",
       "      <td>130563681.0</td>\n",
       "      <td>20300939.0</td>\n",
       "      <td>134471920.0</td>\n",
       "      <td>154772859.0</td>\n",
       "      <td>2020</td>\n",
       "      <td>2019</td>\n",
       "      <td>삼성</td>\n",
       "      <td>상장</td>\n",
       "      <td>비금융</td>\n",
       "      <td>154772859.0</td>\n",
       "      <td>비상장</td>\n",
       "      <td>비금융</td>\n",
       "      <td>samsung</td>\n",
       "      <td>511</td>\n",
       "      <td>380725</td>\n",
       "      <td>18082126</td>\n",
       "    </tr>\n",
       "    <tr>\n",
       "      <th>3</th>\n",
       "      <td>삼성전자</td>\n",
       "      <td>세메스</td>\n",
       "      <td>7.0</td>\n",
       "      <td>2422149.0</td>\n",
       "      <td>130563681.0</td>\n",
       "      <td>20300939.0</td>\n",
       "      <td>134471920.0</td>\n",
       "      <td>154772859.0</td>\n",
       "      <td>2020</td>\n",
       "      <td>2019</td>\n",
       "      <td>삼성</td>\n",
       "      <td>상장</td>\n",
       "      <td>비금융</td>\n",
       "      <td>154772859.0</td>\n",
       "      <td>비상장</td>\n",
       "      <td>비금융</td>\n",
       "      <td>samsung</td>\n",
       "      <td>511</td>\n",
       "      <td>380725</td>\n",
       "      <td>314528</td>\n",
       "    </tr>\n",
       "    <tr>\n",
       "      <th>4</th>\n",
       "      <td>삼성전자</td>\n",
       "      <td>삼성전자서비스</td>\n",
       "      <td>453084.0</td>\n",
       "      <td>2422149.0</td>\n",
       "      <td>130563681.0</td>\n",
       "      <td>20300939.0</td>\n",
       "      <td>134471920.0</td>\n",
       "      <td>154772859.0</td>\n",
       "      <td>2020</td>\n",
       "      <td>2019</td>\n",
       "      <td>삼성</td>\n",
       "      <td>상장</td>\n",
       "      <td>비금융</td>\n",
       "      <td>154772859.0</td>\n",
       "      <td>비상장</td>\n",
       "      <td>비금융</td>\n",
       "      <td>samsung</td>\n",
       "      <td>511</td>\n",
       "      <td>380725</td>\n",
       "      <td>952133</td>\n",
       "    </tr>\n",
       "  </tbody>\n",
       "</table>\n",
       "</div>"
      ],
      "text/plain": [
       "   매출회사      매입회사       매출액  국내계열사계(매출액)  해외계열사계(매출액)       국내매출액  \\\n",
       "0  삼성전자      삼성물산  110238.0    2422149.0  130563681.0  20300939.0   \n",
       "1  삼성전자  삼성바이오에피스       4.0    2422149.0  130563681.0  20300939.0   \n",
       "2  삼성전자   삼성디스플레이  279363.0    2422149.0  130563681.0  20300939.0   \n",
       "3  삼성전자       세메스       7.0    2422149.0  130563681.0  20300939.0   \n",
       "4  삼성전자   삼성전자서비스  453084.0    2422149.0  130563681.0  20300939.0   \n",
       "\n",
       "         해외매출액        매출액총계  year2  year grpname2 매출사상/비 매출사금융/비금융  \\\n",
       "0  134471920.0  154772859.0   2020  2019       삼성     상장       비금융   \n",
       "1  134471920.0  154772859.0   2020  2019       삼성     상장       비금융   \n",
       "2  134471920.0  154772859.0   2020  2019       삼성     상장       비금융   \n",
       "3  134471920.0  154772859.0   2020  2019       삼성     상장       비금융   \n",
       "4  134471920.0  154772859.0   2020  2019       삼성     상장       비금융   \n",
       "\n",
       "        매출액Val 매입사상/비 매입사금융/비금융  grpname  grpcode  매출회사id    매입회사id  \n",
       "0  154772859.0     상장       비금융  samsung      511  380725    810053  \n",
       "1  154772859.0    비상장       비금융  samsung      511  380725  18082125  \n",
       "2  154772859.0    비상장       비금융  samsung      511  380725  18082126  \n",
       "3  154772859.0    비상장       비금융  samsung      511  380725    314528  \n",
       "4  154772859.0    비상장       비금융  samsung      511  380725    952133  "
      ]
     },
     "execution_count": 28,
     "metadata": {},
     "output_type": "execute_result"
    }
   ],
   "source": [
    "dfTrans20 = pd.read_excel('../data/transactions-report/transactions2020.xlsx')\n",
    "dfTrans20.head()"
   ]
  },
  {
   "cell_type": "code",
   "execution_count": 30,
   "id": "9a0e1907",
   "metadata": {},
   "outputs": [
    {
     "data": {
      "text/html": [
       "<div>\n",
       "<style scoped>\n",
       "    .dataframe tbody tr th:only-of-type {\n",
       "        vertical-align: middle;\n",
       "    }\n",
       "\n",
       "    .dataframe tbody tr th {\n",
       "        vertical-align: top;\n",
       "    }\n",
       "\n",
       "    .dataframe thead th {\n",
       "        text-align: right;\n",
       "    }\n",
       "</style>\n",
       "<table border=\"1\" class=\"dataframe\">\n",
       "  <thead>\n",
       "    <tr style=\"text-align: right;\">\n",
       "      <th></th>\n",
       "      <th>매출회사</th>\n",
       "      <th>매입회사</th>\n",
       "      <th>매출액</th>\n",
       "      <th>국내계열사계(매출액)</th>\n",
       "      <th>해외계열사계(매출액)</th>\n",
       "      <th>국내매출액</th>\n",
       "      <th>해외매출액</th>\n",
       "      <th>매출액총계</th>\n",
       "      <th>year2</th>\n",
       "      <th>year</th>\n",
       "      <th>...</th>\n",
       "      <th>매출사금융/비금융</th>\n",
       "      <th>매출액Val</th>\n",
       "      <th>매입사상/비</th>\n",
       "      <th>매입사금융/비금융</th>\n",
       "      <th>grpname</th>\n",
       "      <th>grpcode</th>\n",
       "      <th>매출회사id</th>\n",
       "      <th>매입회사id</th>\n",
       "      <th>매출회사 실질지분율</th>\n",
       "      <th>매입회사 실질지분율</th>\n",
       "    </tr>\n",
       "  </thead>\n",
       "  <tbody>\n",
       "    <tr>\n",
       "      <th>0</th>\n",
       "      <td>삼성전자</td>\n",
       "      <td>삼성물산</td>\n",
       "      <td>86705.0</td>\n",
       "      <td>3142513.0</td>\n",
       "      <td>141902290.0</td>\n",
       "      <td>19833135.0</td>\n",
       "      <td>146478056.0</td>\n",
       "      <td>166311191.0</td>\n",
       "      <td>2021</td>\n",
       "      <td>2020</td>\n",
       "      <td>...</td>\n",
       "      <td>비금융</td>\n",
       "      <td>1.660000e+14</td>\n",
       "      <td>상장</td>\n",
       "      <td>비금융</td>\n",
       "      <td>samsung</td>\n",
       "      <td>511</td>\n",
       "      <td>380725</td>\n",
       "      <td>810053</td>\n",
       "      <td>0.085685</td>\n",
       "      <td>0.316255</td>\n",
       "    </tr>\n",
       "    <tr>\n",
       "      <th>1</th>\n",
       "      <td>삼성전자</td>\n",
       "      <td>삼성바이오에피스</td>\n",
       "      <td>0.0</td>\n",
       "      <td>3142513.0</td>\n",
       "      <td>141902290.0</td>\n",
       "      <td>19833135.0</td>\n",
       "      <td>146478056.0</td>\n",
       "      <td>166311191.0</td>\n",
       "      <td>2021</td>\n",
       "      <td>2020</td>\n",
       "      <td>...</td>\n",
       "      <td>비금융</td>\n",
       "      <td>1.660000e+14</td>\n",
       "      <td>비상장</td>\n",
       "      <td>비금융</td>\n",
       "      <td>samsung</td>\n",
       "      <td>511</td>\n",
       "      <td>380725</td>\n",
       "      <td>18082125</td>\n",
       "      <td>0.085685</td>\n",
       "      <td>0.082313</td>\n",
       "    </tr>\n",
       "    <tr>\n",
       "      <th>2</th>\n",
       "      <td>삼성전자</td>\n",
       "      <td>삼성디스플레이</td>\n",
       "      <td>196823.0</td>\n",
       "      <td>3142513.0</td>\n",
       "      <td>141902290.0</td>\n",
       "      <td>19833135.0</td>\n",
       "      <td>146478056.0</td>\n",
       "      <td>166311191.0</td>\n",
       "      <td>2021</td>\n",
       "      <td>2020</td>\n",
       "      <td>...</td>\n",
       "      <td>비금융</td>\n",
       "      <td>1.660000e+14</td>\n",
       "      <td>비상장</td>\n",
       "      <td>비금융</td>\n",
       "      <td>samsung</td>\n",
       "      <td>511</td>\n",
       "      <td>380725</td>\n",
       "      <td>18082126</td>\n",
       "      <td>0.085685</td>\n",
       "      <td>0.075274</td>\n",
       "    </tr>\n",
       "    <tr>\n",
       "      <th>3</th>\n",
       "      <td>삼성전자</td>\n",
       "      <td>삼성전자서비스</td>\n",
       "      <td>465778.0</td>\n",
       "      <td>3142513.0</td>\n",
       "      <td>141902290.0</td>\n",
       "      <td>19833135.0</td>\n",
       "      <td>146478056.0</td>\n",
       "      <td>166311191.0</td>\n",
       "      <td>2021</td>\n",
       "      <td>2020</td>\n",
       "      <td>...</td>\n",
       "      <td>비금융</td>\n",
       "      <td>1.660000e+14</td>\n",
       "      <td>비상장</td>\n",
       "      <td>비금융</td>\n",
       "      <td>samsung</td>\n",
       "      <td>511</td>\n",
       "      <td>380725</td>\n",
       "      <td>952133</td>\n",
       "      <td>0.085685</td>\n",
       "      <td>0.085109</td>\n",
       "    </tr>\n",
       "    <tr>\n",
       "      <th>4</th>\n",
       "      <td>삼성전자</td>\n",
       "      <td>삼성전자판매</td>\n",
       "      <td>2225711.0</td>\n",
       "      <td>3142513.0</td>\n",
       "      <td>141902290.0</td>\n",
       "      <td>19833135.0</td>\n",
       "      <td>146478056.0</td>\n",
       "      <td>166311191.0</td>\n",
       "      <td>2021</td>\n",
       "      <td>2020</td>\n",
       "      <td>...</td>\n",
       "      <td>비금융</td>\n",
       "      <td>1.660000e+14</td>\n",
       "      <td>비상장</td>\n",
       "      <td>비금융</td>\n",
       "      <td>samsung</td>\n",
       "      <td>511</td>\n",
       "      <td>380725</td>\n",
       "      <td>102357</td>\n",
       "      <td>0.085685</td>\n",
       "      <td>0.085685</td>\n",
       "    </tr>\n",
       "  </tbody>\n",
       "</table>\n",
       "<p>5 rows × 22 columns</p>\n",
       "</div>"
      ],
      "text/plain": [
       "   매출회사      매입회사        매출액  국내계열사계(매출액)  해외계열사계(매출액)       국내매출액  \\\n",
       "0  삼성전자      삼성물산    86705.0    3142513.0  141902290.0  19833135.0   \n",
       "1  삼성전자  삼성바이오에피스        0.0    3142513.0  141902290.0  19833135.0   \n",
       "2  삼성전자   삼성디스플레이   196823.0    3142513.0  141902290.0  19833135.0   \n",
       "3  삼성전자   삼성전자서비스   465778.0    3142513.0  141902290.0  19833135.0   \n",
       "4  삼성전자    삼성전자판매  2225711.0    3142513.0  141902290.0  19833135.0   \n",
       "\n",
       "         해외매출액        매출액총계  year2  year  ... 매출사금융/비금융        매출액Val 매입사상/비  \\\n",
       "0  146478056.0  166311191.0   2021  2020  ...       비금융  1.660000e+14     상장   \n",
       "1  146478056.0  166311191.0   2021  2020  ...       비금융  1.660000e+14    비상장   \n",
       "2  146478056.0  166311191.0   2021  2020  ...       비금융  1.660000e+14    비상장   \n",
       "3  146478056.0  166311191.0   2021  2020  ...       비금융  1.660000e+14    비상장   \n",
       "4  146478056.0  166311191.0   2021  2020  ...       비금융  1.660000e+14    비상장   \n",
       "\n",
       "   매입사금융/비금융  grpname grpcode  매출회사id    매입회사id  매출회사 실질지분율  매입회사 실질지분율  \n",
       "0        비금융  samsung     511  380725    810053    0.085685    0.316255  \n",
       "1        비금융  samsung     511  380725  18082125    0.085685    0.082313  \n",
       "2        비금융  samsung     511  380725  18082126    0.085685    0.075274  \n",
       "3        비금융  samsung     511  380725    952133    0.085685    0.085109  \n",
       "4        비금융  samsung     511  380725    102357    0.085685    0.085685  \n",
       "\n",
       "[5 rows x 22 columns]"
      ]
     },
     "execution_count": 30,
     "metadata": {},
     "output_type": "execute_result"
    }
   ],
   "source": [
    "dfTrans21 = pd.read_excel('../data/transactions-report/transactions2021.xlsx')\n",
    "dfTrans21.head()"
   ]
  },
  {
   "cell_type": "code",
   "execution_count": null,
   "id": "3ed2bd43",
   "metadata": {},
   "outputs": [],
   "source": []
  },
  {
   "cell_type": "markdown",
   "id": "c6f24460",
   "metadata": {},
   "source": [
    "# 전체 재벌"
   ]
  },
  {
   "cell_type": "code",
   "execution_count": 6,
   "id": "7be45076",
   "metadata": {},
   "outputs": [
    {
     "data": {
      "text/plain": [
       "12797"
      ]
     },
     "execution_count": 6,
     "metadata": {},
     "output_type": "execute_result"
    }
   ],
   "source": [
    "len(dfTrans19)"
   ]
  },
  {
   "cell_type": "code",
   "execution_count": 14,
   "id": "58b427d8",
   "metadata": {},
   "outputs": [
    {
     "data": {
      "text/html": [
       "<div>\n",
       "<style scoped>\n",
       "    .dataframe tbody tr th:only-of-type {\n",
       "        vertical-align: middle;\n",
       "    }\n",
       "\n",
       "    .dataframe tbody tr th {\n",
       "        vertical-align: top;\n",
       "    }\n",
       "\n",
       "    .dataframe thead th {\n",
       "        text-align: right;\n",
       "    }\n",
       "</style>\n",
       "<table border=\"1\" class=\"dataframe\">\n",
       "  <thead>\n",
       "    <tr style=\"text-align: right;\">\n",
       "      <th></th>\n",
       "      <th>매출회사</th>\n",
       "      <th>매입회사</th>\n",
       "      <th>매출액</th>\n",
       "      <th>국내계열사계(매출액)</th>\n",
       "      <th>해외계열사계(매출액)</th>\n",
       "      <th>국내매출액</th>\n",
       "      <th>해외매출액</th>\n",
       "      <th>매출액총계</th>\n",
       "      <th>year2</th>\n",
       "      <th>year</th>\n",
       "      <th>grpname2</th>\n",
       "      <th>매출사상/비</th>\n",
       "      <th>매출사금융/비금융</th>\n",
       "      <th>매출액Val</th>\n",
       "      <th>매입사상/비</th>\n",
       "      <th>매입사금융/비금융</th>\n",
       "      <th>grpname</th>\n",
       "      <th>grpcode</th>\n",
       "      <th>매출회사id</th>\n",
       "      <th>매입회사id</th>\n",
       "    </tr>\n",
       "  </thead>\n",
       "  <tbody>\n",
       "    <tr>\n",
       "      <th>1457</th>\n",
       "      <td>에스케이</td>\n",
       "      <td>SKChinaCompany,Ltd</td>\n",
       "      <td>99.0</td>\n",
       "      <td>1403811.0</td>\n",
       "      <td>77406.0</td>\n",
       "      <td>2829872.0</td>\n",
       "      <td>163941.0</td>\n",
       "      <td>2993813.0</td>\n",
       "      <td>2019</td>\n",
       "      <td>2018</td>\n",
       "      <td>에스케이</td>\n",
       "      <td>상장</td>\n",
       "      <td>비금융</td>\n",
       "      <td>2672412.0</td>\n",
       "      <td>NaN</td>\n",
       "      <td>NaN</td>\n",
       "      <td>sk</td>\n",
       "      <td>535</td>\n",
       "      <td>814261</td>\n",
       "      <td>-2147483648</td>\n",
       "    </tr>\n",
       "    <tr>\n",
       "      <th>1458</th>\n",
       "      <td>에스케이</td>\n",
       "      <td>SKC&amp;CBeijingCo.,Ltd</td>\n",
       "      <td>5335.0</td>\n",
       "      <td>1403811.0</td>\n",
       "      <td>77406.0</td>\n",
       "      <td>2829872.0</td>\n",
       "      <td>163941.0</td>\n",
       "      <td>2993813.0</td>\n",
       "      <td>2019</td>\n",
       "      <td>2018</td>\n",
       "      <td>에스케이</td>\n",
       "      <td>상장</td>\n",
       "      <td>비금융</td>\n",
       "      <td>2672412.0</td>\n",
       "      <td>NaN</td>\n",
       "      <td>NaN</td>\n",
       "      <td>sk</td>\n",
       "      <td>535</td>\n",
       "      <td>814261</td>\n",
       "      <td>-2147483648</td>\n",
       "    </tr>\n",
       "    <tr>\n",
       "      <th>1459</th>\n",
       "      <td>에스케이</td>\n",
       "      <td>ESSENCORELimited</td>\n",
       "      <td>4745.0</td>\n",
       "      <td>1403811.0</td>\n",
       "      <td>77406.0</td>\n",
       "      <td>2829872.0</td>\n",
       "      <td>163941.0</td>\n",
       "      <td>2993813.0</td>\n",
       "      <td>2019</td>\n",
       "      <td>2018</td>\n",
       "      <td>에스케이</td>\n",
       "      <td>상장</td>\n",
       "      <td>비금융</td>\n",
       "      <td>2672412.0</td>\n",
       "      <td>NaN</td>\n",
       "      <td>NaN</td>\n",
       "      <td>sk</td>\n",
       "      <td>535</td>\n",
       "      <td>814261</td>\n",
       "      <td>-2147483648</td>\n",
       "    </tr>\n",
       "    <tr>\n",
       "      <th>1460</th>\n",
       "      <td>에스케이</td>\n",
       "      <td>SKcomputerandcommunicationL.L.C</td>\n",
       "      <td>99.0</td>\n",
       "      <td>1403811.0</td>\n",
       "      <td>77406.0</td>\n",
       "      <td>2829872.0</td>\n",
       "      <td>163941.0</td>\n",
       "      <td>2993813.0</td>\n",
       "      <td>2019</td>\n",
       "      <td>2018</td>\n",
       "      <td>에스케이</td>\n",
       "      <td>상장</td>\n",
       "      <td>비금융</td>\n",
       "      <td>2672412.0</td>\n",
       "      <td>NaN</td>\n",
       "      <td>NaN</td>\n",
       "      <td>sk</td>\n",
       "      <td>535</td>\n",
       "      <td>814261</td>\n",
       "      <td>-2147483648</td>\n",
       "    </tr>\n",
       "    <tr>\n",
       "      <th>1461</th>\n",
       "      <td>에스케이</td>\n",
       "      <td>SKMaterials(Jiangsu)Co.,Ltd</td>\n",
       "      <td>657.0</td>\n",
       "      <td>1403811.0</td>\n",
       "      <td>77406.0</td>\n",
       "      <td>2829872.0</td>\n",
       "      <td>163941.0</td>\n",
       "      <td>2993813.0</td>\n",
       "      <td>2019</td>\n",
       "      <td>2018</td>\n",
       "      <td>에스케이</td>\n",
       "      <td>상장</td>\n",
       "      <td>비금융</td>\n",
       "      <td>2672412.0</td>\n",
       "      <td>NaN</td>\n",
       "      <td>NaN</td>\n",
       "      <td>sk</td>\n",
       "      <td>535</td>\n",
       "      <td>814261</td>\n",
       "      <td>-2147483648</td>\n",
       "    </tr>\n",
       "    <tr>\n",
       "      <th>...</th>\n",
       "      <td>...</td>\n",
       "      <td>...</td>\n",
       "      <td>...</td>\n",
       "      <td>...</td>\n",
       "      <td>...</td>\n",
       "      <td>...</td>\n",
       "      <td>...</td>\n",
       "      <td>...</td>\n",
       "      <td>...</td>\n",
       "      <td>...</td>\n",
       "      <td>...</td>\n",
       "      <td>...</td>\n",
       "      <td>...</td>\n",
       "      <td>...</td>\n",
       "      <td>...</td>\n",
       "      <td>...</td>\n",
       "      <td>...</td>\n",
       "      <td>...</td>\n",
       "      <td>...</td>\n",
       "      <td>...</td>\n",
       "    </tr>\n",
       "    <tr>\n",
       "      <th>12645</th>\n",
       "      <td>포스코우리이아이지글로벌사모투자</td>\n",
       "      <td>PWEFCooperatiefU.A</td>\n",
       "      <td>6032.0</td>\n",
       "      <td>NaN</td>\n",
       "      <td>6032.0</td>\n",
       "      <td>8.0</td>\n",
       "      <td>6032.0</td>\n",
       "      <td>6040.0</td>\n",
       "      <td>2019</td>\n",
       "      <td>2018</td>\n",
       "      <td>다우키움</td>\n",
       "      <td>비상장</td>\n",
       "      <td>금융</td>\n",
       "      <td>6040.0</td>\n",
       "      <td>NaN</td>\n",
       "      <td>NaN</td>\n",
       "      <td>daou</td>\n",
       "      <td>291</td>\n",
       "      <td>21047972</td>\n",
       "      <td>-2147483648</td>\n",
       "    </tr>\n",
       "    <tr>\n",
       "      <th>12648</th>\n",
       "      <td>한국전력우리스프랏글로벌해외자원개발제3차</td>\n",
       "      <td>COPAEurekaInc</td>\n",
       "      <td>415.0</td>\n",
       "      <td>NaN</td>\n",
       "      <td>415.0</td>\n",
       "      <td>1.0</td>\n",
       "      <td>415.0</td>\n",
       "      <td>416.0</td>\n",
       "      <td>2019</td>\n",
       "      <td>2018</td>\n",
       "      <td>다우키움</td>\n",
       "      <td>비상장</td>\n",
       "      <td>금융</td>\n",
       "      <td>416.0</td>\n",
       "      <td>NaN</td>\n",
       "      <td>NaN</td>\n",
       "      <td>daou</td>\n",
       "      <td>291</td>\n",
       "      <td>1903302530</td>\n",
       "      <td>-2147483648</td>\n",
       "    </tr>\n",
       "    <tr>\n",
       "      <th>12680</th>\n",
       "      <td>다우기술</td>\n",
       "      <td>다우재팬</td>\n",
       "      <td>339.0</td>\n",
       "      <td>58222.0</td>\n",
       "      <td>339.0</td>\n",
       "      <td>191862.0</td>\n",
       "      <td>407.0</td>\n",
       "      <td>192269.0</td>\n",
       "      <td>2019</td>\n",
       "      <td>2018</td>\n",
       "      <td>다우키움</td>\n",
       "      <td>상장</td>\n",
       "      <td>비금융</td>\n",
       "      <td>192269.0</td>\n",
       "      <td>NaN</td>\n",
       "      <td>NaN</td>\n",
       "      <td>daou</td>\n",
       "      <td>291</td>\n",
       "      <td>980650</td>\n",
       "      <td>-2147483648</td>\n",
       "    </tr>\n",
       "    <tr>\n",
       "      <th>12707</th>\n",
       "      <td>미래테크놀로지</td>\n",
       "      <td>다우재팬</td>\n",
       "      <td>87.0</td>\n",
       "      <td>76.0</td>\n",
       "      <td>87.0</td>\n",
       "      <td>22864.0</td>\n",
       "      <td>392.0</td>\n",
       "      <td>23256.0</td>\n",
       "      <td>2019</td>\n",
       "      <td>2018</td>\n",
       "      <td>다우키움</td>\n",
       "      <td>상장</td>\n",
       "      <td>비금융</td>\n",
       "      <td>23256.0</td>\n",
       "      <td>NaN</td>\n",
       "      <td>NaN</td>\n",
       "      <td>daou</td>\n",
       "      <td>291</td>\n",
       "      <td>180684</td>\n",
       "      <td>-2147483648</td>\n",
       "    </tr>\n",
       "    <tr>\n",
       "      <th>12756</th>\n",
       "      <td>키다리이엔티</td>\n",
       "      <td>WOSMUSAS</td>\n",
       "      <td>852.0</td>\n",
       "      <td>1792.0</td>\n",
       "      <td>852.0</td>\n",
       "      <td>52639.0</td>\n",
       "      <td>2231.0</td>\n",
       "      <td>54870.0</td>\n",
       "      <td>2019</td>\n",
       "      <td>2018</td>\n",
       "      <td>다우키움</td>\n",
       "      <td>비상장</td>\n",
       "      <td>비금융</td>\n",
       "      <td>54870.0</td>\n",
       "      <td>NaN</td>\n",
       "      <td>NaN</td>\n",
       "      <td>daou</td>\n",
       "      <td>291</td>\n",
       "      <td>1802402905</td>\n",
       "      <td>-2147483648</td>\n",
       "    </tr>\n",
       "  </tbody>\n",
       "</table>\n",
       "<p>694 rows × 20 columns</p>\n",
       "</div>"
      ],
      "text/plain": [
       "                        매출회사                             매입회사     매출액  \\\n",
       "1457                    에스케이               SKChinaCompany,Ltd    99.0   \n",
       "1458                    에스케이              SKC&CBeijingCo.,Ltd  5335.0   \n",
       "1459                    에스케이                 ESSENCORELimited  4745.0   \n",
       "1460                    에스케이  SKcomputerandcommunicationL.L.C    99.0   \n",
       "1461                    에스케이      SKMaterials(Jiangsu)Co.,Ltd   657.0   \n",
       "...                      ...                              ...     ...   \n",
       "12645       포스코우리이아이지글로벌사모투자               PWEFCooperatiefU.A  6032.0   \n",
       "12648  한국전력우리스프랏글로벌해외자원개발제3차                    COPAEurekaInc   415.0   \n",
       "12680                   다우기술                             다우재팬   339.0   \n",
       "12707                미래테크놀로지                             다우재팬    87.0   \n",
       "12756                 키다리이엔티                         WOSMUSAS   852.0   \n",
       "\n",
       "       국내계열사계(매출액)  해외계열사계(매출액)      국내매출액     해외매출액      매출액총계  year2  year  \\\n",
       "1457     1403811.0      77406.0  2829872.0  163941.0  2993813.0   2019  2018   \n",
       "1458     1403811.0      77406.0  2829872.0  163941.0  2993813.0   2019  2018   \n",
       "1459     1403811.0      77406.0  2829872.0  163941.0  2993813.0   2019  2018   \n",
       "1460     1403811.0      77406.0  2829872.0  163941.0  2993813.0   2019  2018   \n",
       "1461     1403811.0      77406.0  2829872.0  163941.0  2993813.0   2019  2018   \n",
       "...            ...          ...        ...       ...        ...    ...   ...   \n",
       "12645          NaN       6032.0        8.0    6032.0     6040.0   2019  2018   \n",
       "12648          NaN        415.0        1.0     415.0      416.0   2019  2018   \n",
       "12680      58222.0        339.0   191862.0     407.0   192269.0   2019  2018   \n",
       "12707         76.0         87.0    22864.0     392.0    23256.0   2019  2018   \n",
       "12756       1792.0        852.0    52639.0    2231.0    54870.0   2019  2018   \n",
       "\n",
       "      grpname2 매출사상/비 매출사금융/비금융     매출액Val 매입사상/비 매입사금융/비금융 grpname  grpcode  \\\n",
       "1457      에스케이     상장       비금융  2672412.0    NaN       NaN      sk      535   \n",
       "1458      에스케이     상장       비금융  2672412.0    NaN       NaN      sk      535   \n",
       "1459      에스케이     상장       비금융  2672412.0    NaN       NaN      sk      535   \n",
       "1460      에스케이     상장       비금융  2672412.0    NaN       NaN      sk      535   \n",
       "1461      에스케이     상장       비금융  2672412.0    NaN       NaN      sk      535   \n",
       "...        ...    ...       ...        ...    ...       ...     ...      ...   \n",
       "12645     다우키움    비상장        금융     6040.0    NaN       NaN    daou      291   \n",
       "12648     다우키움    비상장        금융      416.0    NaN       NaN    daou      291   \n",
       "12680     다우키움     상장       비금융   192269.0    NaN       NaN    daou      291   \n",
       "12707     다우키움     상장       비금융    23256.0    NaN       NaN    daou      291   \n",
       "12756     다우키움    비상장       비금융    54870.0    NaN       NaN    daou      291   \n",
       "\n",
       "           매출회사id      매입회사id  \n",
       "1457       814261 -2147483648  \n",
       "1458       814261 -2147483648  \n",
       "1459       814261 -2147483648  \n",
       "1460       814261 -2147483648  \n",
       "1461       814261 -2147483648  \n",
       "...           ...         ...  \n",
       "12645    21047972 -2147483648  \n",
       "12648  1903302530 -2147483648  \n",
       "12680      980650 -2147483648  \n",
       "12707      180684 -2147483648  \n",
       "12756  1802402905 -2147483648  \n",
       "\n",
       "[694 rows x 20 columns]"
      ]
     },
     "execution_count": 14,
     "metadata": {},
     "output_type": "execute_result"
    }
   ],
   "source": [
    "dfTrans19[dfTrans19['매입회사id'] == -2147483648]"
   ]
  },
  {
   "cell_type": "code",
   "execution_count": 33,
   "id": "9447d97b",
   "metadata": {},
   "outputs": [
    {
     "data": {
      "text/html": [
       "<div>\n",
       "<style scoped>\n",
       "    .dataframe tbody tr th:only-of-type {\n",
       "        vertical-align: middle;\n",
       "    }\n",
       "\n",
       "    .dataframe tbody tr th {\n",
       "        vertical-align: top;\n",
       "    }\n",
       "\n",
       "    .dataframe thead th {\n",
       "        text-align: right;\n",
       "    }\n",
       "</style>\n",
       "<table border=\"1\" class=\"dataframe\">\n",
       "  <thead>\n",
       "    <tr style=\"text-align: right;\">\n",
       "      <th></th>\n",
       "      <th>매출회사</th>\n",
       "      <th>매입회사</th>\n",
       "      <th>매출액</th>\n",
       "      <th>국내계열사계(매출액)</th>\n",
       "      <th>해외계열사계(매출액)</th>\n",
       "      <th>국내매출액</th>\n",
       "      <th>해외매출액</th>\n",
       "      <th>매출액총계</th>\n",
       "      <th>year2</th>\n",
       "      <th>year</th>\n",
       "      <th>grpname2</th>\n",
       "      <th>매출사상/비</th>\n",
       "      <th>매출사금융/비금융</th>\n",
       "      <th>매출액Val</th>\n",
       "      <th>매입사상/비</th>\n",
       "      <th>매입사금융/비금융</th>\n",
       "      <th>grpname</th>\n",
       "      <th>grpcode</th>\n",
       "      <th>매출회사id</th>\n",
       "      <th>매입회사id</th>\n",
       "    </tr>\n",
       "  </thead>\n",
       "  <tbody>\n",
       "    <tr>\n",
       "      <th>1418</th>\n",
       "      <td>에스케이</td>\n",
       "      <td>SKChinaCompany,Ltd</td>\n",
       "      <td>138.0</td>\n",
       "      <td>1401318.0</td>\n",
       "      <td>85604.0</td>\n",
       "      <td>3023603.0</td>\n",
       "      <td>221913.0</td>\n",
       "      <td>3245516.0</td>\n",
       "      <td>2020</td>\n",
       "      <td>2019</td>\n",
       "      <td>에스케이</td>\n",
       "      <td>상장</td>\n",
       "      <td>비금융</td>\n",
       "      <td>3245516.0</td>\n",
       "      <td>NaN</td>\n",
       "      <td>NaN</td>\n",
       "      <td>sk</td>\n",
       "      <td>535</td>\n",
       "      <td>814261</td>\n",
       "      <td>5350000000</td>\n",
       "    </tr>\n",
       "    <tr>\n",
       "      <th>1419</th>\n",
       "      <td>에스케이</td>\n",
       "      <td>SKC&amp;CBeijingCo.,Ltd</td>\n",
       "      <td>9726.0</td>\n",
       "      <td>1401318.0</td>\n",
       "      <td>85604.0</td>\n",
       "      <td>3023603.0</td>\n",
       "      <td>221913.0</td>\n",
       "      <td>3245516.0</td>\n",
       "      <td>2020</td>\n",
       "      <td>2019</td>\n",
       "      <td>에스케이</td>\n",
       "      <td>상장</td>\n",
       "      <td>비금융</td>\n",
       "      <td>3245516.0</td>\n",
       "      <td>NaN</td>\n",
       "      <td>NaN</td>\n",
       "      <td>sk</td>\n",
       "      <td>535</td>\n",
       "      <td>814261</td>\n",
       "      <td>5350000000</td>\n",
       "    </tr>\n",
       "    <tr>\n",
       "      <th>1420</th>\n",
       "      <td>에스케이</td>\n",
       "      <td>ESSENCORELimited</td>\n",
       "      <td>3713.0</td>\n",
       "      <td>1401318.0</td>\n",
       "      <td>85604.0</td>\n",
       "      <td>3023603.0</td>\n",
       "      <td>221913.0</td>\n",
       "      <td>3245516.0</td>\n",
       "      <td>2020</td>\n",
       "      <td>2019</td>\n",
       "      <td>에스케이</td>\n",
       "      <td>상장</td>\n",
       "      <td>비금융</td>\n",
       "      <td>3245516.0</td>\n",
       "      <td>NaN</td>\n",
       "      <td>NaN</td>\n",
       "      <td>sk</td>\n",
       "      <td>535</td>\n",
       "      <td>814261</td>\n",
       "      <td>5350000000</td>\n",
       "    </tr>\n",
       "    <tr>\n",
       "      <th>1421</th>\n",
       "      <td>에스케이</td>\n",
       "      <td>SKPharmtecoInc</td>\n",
       "      <td>251.0</td>\n",
       "      <td>1401318.0</td>\n",
       "      <td>85604.0</td>\n",
       "      <td>3023603.0</td>\n",
       "      <td>221913.0</td>\n",
       "      <td>3245516.0</td>\n",
       "      <td>2020</td>\n",
       "      <td>2019</td>\n",
       "      <td>에스케이</td>\n",
       "      <td>상장</td>\n",
       "      <td>비금융</td>\n",
       "      <td>3245516.0</td>\n",
       "      <td>NaN</td>\n",
       "      <td>NaN</td>\n",
       "      <td>sk</td>\n",
       "      <td>535</td>\n",
       "      <td>814261</td>\n",
       "      <td>5350000000</td>\n",
       "    </tr>\n",
       "    <tr>\n",
       "      <th>1422</th>\n",
       "      <td>에스케이</td>\n",
       "      <td>SKSiltronAmerica,Inc</td>\n",
       "      <td>1204.0</td>\n",
       "      <td>1401318.0</td>\n",
       "      <td>85604.0</td>\n",
       "      <td>3023603.0</td>\n",
       "      <td>221913.0</td>\n",
       "      <td>3245516.0</td>\n",
       "      <td>2020</td>\n",
       "      <td>2019</td>\n",
       "      <td>에스케이</td>\n",
       "      <td>상장</td>\n",
       "      <td>비금융</td>\n",
       "      <td>3245516.0</td>\n",
       "      <td>NaN</td>\n",
       "      <td>NaN</td>\n",
       "      <td>sk</td>\n",
       "      <td>535</td>\n",
       "      <td>814261</td>\n",
       "      <td>5350000000</td>\n",
       "    </tr>\n",
       "    <tr>\n",
       "      <th>...</th>\n",
       "      <td>...</td>\n",
       "      <td>...</td>\n",
       "      <td>...</td>\n",
       "      <td>...</td>\n",
       "      <td>...</td>\n",
       "      <td>...</td>\n",
       "      <td>...</td>\n",
       "      <td>...</td>\n",
       "      <td>...</td>\n",
       "      <td>...</td>\n",
       "      <td>...</td>\n",
       "      <td>...</td>\n",
       "      <td>...</td>\n",
       "      <td>...</td>\n",
       "      <td>...</td>\n",
       "      <td>...</td>\n",
       "      <td>...</td>\n",
       "      <td>...</td>\n",
       "      <td>...</td>\n",
       "      <td>...</td>\n",
       "    </tr>\n",
       "    <tr>\n",
       "      <th>13122</th>\n",
       "      <td>삼양사</td>\n",
       "      <td>SamyangEngineeringPlastics(Shanghai)Co.,Ltd</td>\n",
       "      <td>20972.0</td>\n",
       "      <td>25247.0</td>\n",
       "      <td>35571.0</td>\n",
       "      <td>1137163.0</td>\n",
       "      <td>413638.0</td>\n",
       "      <td>1550801.0</td>\n",
       "      <td>2020</td>\n",
       "      <td>2019</td>\n",
       "      <td>삼양</td>\n",
       "      <td>상장</td>\n",
       "      <td>비금융</td>\n",
       "      <td>1551876.0</td>\n",
       "      <td>NaN</td>\n",
       "      <td>NaN</td>\n",
       "      <td>samyang</td>\n",
       "      <td>512</td>\n",
       "      <td>18078753</td>\n",
       "      <td>5350000000</td>\n",
       "    </tr>\n",
       "    <tr>\n",
       "      <th>13123</th>\n",
       "      <td>삼양사</td>\n",
       "      <td>SamyangEPHungaryCo.,Ltd</td>\n",
       "      <td>14599.0</td>\n",
       "      <td>25247.0</td>\n",
       "      <td>35571.0</td>\n",
       "      <td>1137163.0</td>\n",
       "      <td>413638.0</td>\n",
       "      <td>1550801.0</td>\n",
       "      <td>2020</td>\n",
       "      <td>2019</td>\n",
       "      <td>삼양</td>\n",
       "      <td>상장</td>\n",
       "      <td>비금융</td>\n",
       "      <td>1551876.0</td>\n",
       "      <td>NaN</td>\n",
       "      <td>NaN</td>\n",
       "      <td>samyang</td>\n",
       "      <td>512</td>\n",
       "      <td>18078753</td>\n",
       "      <td>5350000000</td>\n",
       "    </tr>\n",
       "    <tr>\n",
       "      <th>13139</th>\n",
       "      <td>삼양데이타시스템</td>\n",
       "      <td>SamyangEngineeringPlastics(Shanghai)Co.,Ltd</td>\n",
       "      <td>7.0</td>\n",
       "      <td>16509.0</td>\n",
       "      <td>147.0</td>\n",
       "      <td>60547.0</td>\n",
       "      <td>64.0</td>\n",
       "      <td>60611.0</td>\n",
       "      <td>2020</td>\n",
       "      <td>2019</td>\n",
       "      <td>삼양</td>\n",
       "      <td>비상장</td>\n",
       "      <td>비금융</td>\n",
       "      <td>60611.0</td>\n",
       "      <td>NaN</td>\n",
       "      <td>NaN</td>\n",
       "      <td>samyang</td>\n",
       "      <td>512</td>\n",
       "      <td>58010</td>\n",
       "      <td>5350000000</td>\n",
       "    </tr>\n",
       "    <tr>\n",
       "      <th>13140</th>\n",
       "      <td>삼양데이타시스템</td>\n",
       "      <td>SamyangEPHungaryCo.,Ltd</td>\n",
       "      <td>2.0</td>\n",
       "      <td>16509.0</td>\n",
       "      <td>147.0</td>\n",
       "      <td>60547.0</td>\n",
       "      <td>64.0</td>\n",
       "      <td>60611.0</td>\n",
       "      <td>2020</td>\n",
       "      <td>2019</td>\n",
       "      <td>삼양</td>\n",
       "      <td>비상장</td>\n",
       "      <td>비금융</td>\n",
       "      <td>60611.0</td>\n",
       "      <td>NaN</td>\n",
       "      <td>NaN</td>\n",
       "      <td>samyang</td>\n",
       "      <td>512</td>\n",
       "      <td>58010</td>\n",
       "      <td>5350000000</td>\n",
       "    </tr>\n",
       "    <tr>\n",
       "      <th>13141</th>\n",
       "      <td>삼양데이타시스템</td>\n",
       "      <td>SamyangEPvietnamLLC</td>\n",
       "      <td>138.0</td>\n",
       "      <td>16509.0</td>\n",
       "      <td>147.0</td>\n",
       "      <td>60547.0</td>\n",
       "      <td>64.0</td>\n",
       "      <td>60611.0</td>\n",
       "      <td>2020</td>\n",
       "      <td>2019</td>\n",
       "      <td>삼양</td>\n",
       "      <td>비상장</td>\n",
       "      <td>비금융</td>\n",
       "      <td>60611.0</td>\n",
       "      <td>NaN</td>\n",
       "      <td>NaN</td>\n",
       "      <td>samyang</td>\n",
       "      <td>512</td>\n",
       "      <td>58010</td>\n",
       "      <td>5350000000</td>\n",
       "    </tr>\n",
       "  </tbody>\n",
       "</table>\n",
       "<p>1027 rows × 20 columns</p>\n",
       "</div>"
      ],
      "text/plain": [
       "           매출회사                                         매입회사      매출액  \\\n",
       "1418       에스케이                           SKChinaCompany,Ltd    138.0   \n",
       "1419       에스케이                          SKC&CBeijingCo.,Ltd   9726.0   \n",
       "1420       에스케이                             ESSENCORELimited   3713.0   \n",
       "1421       에스케이                               SKPharmtecoInc    251.0   \n",
       "1422       에스케이                         SKSiltronAmerica,Inc   1204.0   \n",
       "...         ...                                          ...      ...   \n",
       "13122       삼양사  SamyangEngineeringPlastics(Shanghai)Co.,Ltd  20972.0   \n",
       "13123       삼양사                      SamyangEPHungaryCo.,Ltd  14599.0   \n",
       "13139  삼양데이타시스템  SamyangEngineeringPlastics(Shanghai)Co.,Ltd      7.0   \n",
       "13140  삼양데이타시스템                      SamyangEPHungaryCo.,Ltd      2.0   \n",
       "13141  삼양데이타시스템                          SamyangEPvietnamLLC    138.0   \n",
       "\n",
       "       국내계열사계(매출액)  해외계열사계(매출액)      국내매출액     해외매출액      매출액총계  year2  year  \\\n",
       "1418     1401318.0      85604.0  3023603.0  221913.0  3245516.0   2020  2019   \n",
       "1419     1401318.0      85604.0  3023603.0  221913.0  3245516.0   2020  2019   \n",
       "1420     1401318.0      85604.0  3023603.0  221913.0  3245516.0   2020  2019   \n",
       "1421     1401318.0      85604.0  3023603.0  221913.0  3245516.0   2020  2019   \n",
       "1422     1401318.0      85604.0  3023603.0  221913.0  3245516.0   2020  2019   \n",
       "...            ...          ...        ...       ...        ...    ...   ...   \n",
       "13122      25247.0      35571.0  1137163.0  413638.0  1550801.0   2020  2019   \n",
       "13123      25247.0      35571.0  1137163.0  413638.0  1550801.0   2020  2019   \n",
       "13139      16509.0        147.0    60547.0      64.0    60611.0   2020  2019   \n",
       "13140      16509.0        147.0    60547.0      64.0    60611.0   2020  2019   \n",
       "13141      16509.0        147.0    60547.0      64.0    60611.0   2020  2019   \n",
       "\n",
       "      grpname2 매출사상/비 매출사금융/비금융     매출액Val 매입사상/비 매입사금융/비금융  grpname  grpcode  \\\n",
       "1418      에스케이     상장       비금융  3245516.0    NaN       NaN       sk      535   \n",
       "1419      에스케이     상장       비금융  3245516.0    NaN       NaN       sk      535   \n",
       "1420      에스케이     상장       비금융  3245516.0    NaN       NaN       sk      535   \n",
       "1421      에스케이     상장       비금융  3245516.0    NaN       NaN       sk      535   \n",
       "1422      에스케이     상장       비금융  3245516.0    NaN       NaN       sk      535   \n",
       "...        ...    ...       ...        ...    ...       ...      ...      ...   \n",
       "13122       삼양     상장       비금융  1551876.0    NaN       NaN  samyang      512   \n",
       "13123       삼양     상장       비금융  1551876.0    NaN       NaN  samyang      512   \n",
       "13139       삼양    비상장       비금융    60611.0    NaN       NaN  samyang      512   \n",
       "13140       삼양    비상장       비금융    60611.0    NaN       NaN  samyang      512   \n",
       "13141       삼양    비상장       비금융    60611.0    NaN       NaN  samyang      512   \n",
       "\n",
       "         매출회사id      매입회사id  \n",
       "1418     814261  5350000000  \n",
       "1419     814261  5350000000  \n",
       "1420     814261  5350000000  \n",
       "1421     814261  5350000000  \n",
       "1422     814261  5350000000  \n",
       "...         ...         ...  \n",
       "13122  18078753  5350000000  \n",
       "13123  18078753  5350000000  \n",
       "13139     58010  5350000000  \n",
       "13140     58010  5350000000  \n",
       "13141     58010  5350000000  \n",
       "\n",
       "[1027 rows x 20 columns]"
      ]
     },
     "execution_count": 33,
     "metadata": {},
     "output_type": "execute_result"
    }
   ],
   "source": [
    "dfTrans20[dfTrans20['매입회사id'] == 5350000000]"
   ]
  },
  {
   "cell_type": "code",
   "execution_count": 34,
   "id": "cc6bf392",
   "metadata": {},
   "outputs": [
    {
     "data": {
      "text/html": [
       "<div>\n",
       "<style scoped>\n",
       "    .dataframe tbody tr th:only-of-type {\n",
       "        vertical-align: middle;\n",
       "    }\n",
       "\n",
       "    .dataframe tbody tr th {\n",
       "        vertical-align: top;\n",
       "    }\n",
       "\n",
       "    .dataframe thead th {\n",
       "        text-align: right;\n",
       "    }\n",
       "</style>\n",
       "<table border=\"1\" class=\"dataframe\">\n",
       "  <thead>\n",
       "    <tr style=\"text-align: right;\">\n",
       "      <th></th>\n",
       "      <th>매출회사</th>\n",
       "      <th>매입회사</th>\n",
       "      <th>매출액</th>\n",
       "      <th>국내계열사계(매출액)</th>\n",
       "      <th>해외계열사계(매출액)</th>\n",
       "      <th>국내매출액</th>\n",
       "      <th>해외매출액</th>\n",
       "      <th>매출액총계</th>\n",
       "      <th>year2</th>\n",
       "      <th>year</th>\n",
       "      <th>...</th>\n",
       "      <th>매출사금융/비금융</th>\n",
       "      <th>매출액Val</th>\n",
       "      <th>매입사상/비</th>\n",
       "      <th>매입사금융/비금융</th>\n",
       "      <th>grpname</th>\n",
       "      <th>grpcode</th>\n",
       "      <th>매출회사id</th>\n",
       "      <th>매입회사id</th>\n",
       "      <th>매출회사 실질지분율</th>\n",
       "      <th>매입회사 실질지분율</th>\n",
       "    </tr>\n",
       "  </thead>\n",
       "  <tbody>\n",
       "    <tr>\n",
       "      <th>1428</th>\n",
       "      <td>에스케이</td>\n",
       "      <td>ESSENCORELimited</td>\n",
       "      <td>2369.0</td>\n",
       "      <td>1451273.0</td>\n",
       "      <td>101150.0</td>\n",
       "      <td>3365216.0</td>\n",
       "      <td>108768.0</td>\n",
       "      <td>3473984.0</td>\n",
       "      <td>2021</td>\n",
       "      <td>2020</td>\n",
       "      <td>...</td>\n",
       "      <td>비금융</td>\n",
       "      <td>3.470000e+12</td>\n",
       "      <td>NaN</td>\n",
       "      <td>NaN</td>\n",
       "      <td>sk</td>\n",
       "      <td>535</td>\n",
       "      <td>814261</td>\n",
       "      <td>5350000000</td>\n",
       "      <td>0.275832</td>\n",
       "      <td>NaN</td>\n",
       "    </tr>\n",
       "    <tr>\n",
       "      <th>1429</th>\n",
       "      <td>에스케이</td>\n",
       "      <td>SKC&amp;CBeijingCo.,Ltd</td>\n",
       "      <td>5599.0</td>\n",
       "      <td>1451273.0</td>\n",
       "      <td>101150.0</td>\n",
       "      <td>3365216.0</td>\n",
       "      <td>108768.0</td>\n",
       "      <td>3473984.0</td>\n",
       "      <td>2021</td>\n",
       "      <td>2020</td>\n",
       "      <td>...</td>\n",
       "      <td>비금융</td>\n",
       "      <td>3.470000e+12</td>\n",
       "      <td>NaN</td>\n",
       "      <td>NaN</td>\n",
       "      <td>sk</td>\n",
       "      <td>535</td>\n",
       "      <td>814261</td>\n",
       "      <td>5350000000</td>\n",
       "      <td>0.275832</td>\n",
       "      <td>NaN</td>\n",
       "    </tr>\n",
       "    <tr>\n",
       "      <th>1430</th>\n",
       "      <td>에스케이</td>\n",
       "      <td>SKBiotekIrelandLimited</td>\n",
       "      <td>3177.0</td>\n",
       "      <td>1451273.0</td>\n",
       "      <td>101150.0</td>\n",
       "      <td>3365216.0</td>\n",
       "      <td>108768.0</td>\n",
       "      <td>3473984.0</td>\n",
       "      <td>2021</td>\n",
       "      <td>2020</td>\n",
       "      <td>...</td>\n",
       "      <td>비금융</td>\n",
       "      <td>3.470000e+12</td>\n",
       "      <td>NaN</td>\n",
       "      <td>NaN</td>\n",
       "      <td>sk</td>\n",
       "      <td>535</td>\n",
       "      <td>814261</td>\n",
       "      <td>5350000000</td>\n",
       "      <td>0.275832</td>\n",
       "      <td>NaN</td>\n",
       "    </tr>\n",
       "    <tr>\n",
       "      <th>1431</th>\n",
       "      <td>에스케이</td>\n",
       "      <td>SKBiotekUSA,Inc</td>\n",
       "      <td>82.0</td>\n",
       "      <td>1451273.0</td>\n",
       "      <td>101150.0</td>\n",
       "      <td>3365216.0</td>\n",
       "      <td>108768.0</td>\n",
       "      <td>3473984.0</td>\n",
       "      <td>2021</td>\n",
       "      <td>2020</td>\n",
       "      <td>...</td>\n",
       "      <td>비금융</td>\n",
       "      <td>3.470000e+12</td>\n",
       "      <td>NaN</td>\n",
       "      <td>NaN</td>\n",
       "      <td>sk</td>\n",
       "      <td>535</td>\n",
       "      <td>814261</td>\n",
       "      <td>5350000000</td>\n",
       "      <td>0.275832</td>\n",
       "      <td>NaN</td>\n",
       "    </tr>\n",
       "    <tr>\n",
       "      <th>1432</th>\n",
       "      <td>에스케이</td>\n",
       "      <td>SKPharmtecoInc.AlchemyAcquisitionCorp.</td>\n",
       "      <td>832.0</td>\n",
       "      <td>1451273.0</td>\n",
       "      <td>101150.0</td>\n",
       "      <td>3365216.0</td>\n",
       "      <td>108768.0</td>\n",
       "      <td>3473984.0</td>\n",
       "      <td>2021</td>\n",
       "      <td>2020</td>\n",
       "      <td>...</td>\n",
       "      <td>비금융</td>\n",
       "      <td>3.470000e+12</td>\n",
       "      <td>NaN</td>\n",
       "      <td>NaN</td>\n",
       "      <td>sk</td>\n",
       "      <td>535</td>\n",
       "      <td>814261</td>\n",
       "      <td>5350000000</td>\n",
       "      <td>0.275832</td>\n",
       "      <td>NaN</td>\n",
       "    </tr>\n",
       "    <tr>\n",
       "      <th>...</th>\n",
       "      <td>...</td>\n",
       "      <td>...</td>\n",
       "      <td>...</td>\n",
       "      <td>...</td>\n",
       "      <td>...</td>\n",
       "      <td>...</td>\n",
       "      <td>...</td>\n",
       "      <td>...</td>\n",
       "      <td>...</td>\n",
       "      <td>...</td>\n",
       "      <td>...</td>\n",
       "      <td>...</td>\n",
       "      <td>...</td>\n",
       "      <td>...</td>\n",
       "      <td>...</td>\n",
       "      <td>...</td>\n",
       "      <td>...</td>\n",
       "      <td>...</td>\n",
       "      <td>...</td>\n",
       "      <td>...</td>\n",
       "      <td>...</td>\n",
       "    </tr>\n",
       "    <tr>\n",
       "      <th>14011</th>\n",
       "      <td>티씨이</td>\n",
       "      <td>TCEVINADENIMJOINTSTOCKCOMPANY</td>\n",
       "      <td>533.0</td>\n",
       "      <td>7.0</td>\n",
       "      <td>1323.0</td>\n",
       "      <td>4997.0</td>\n",
       "      <td>91944.0</td>\n",
       "      <td>96941.0</td>\n",
       "      <td>2021</td>\n",
       "      <td>2020</td>\n",
       "      <td>...</td>\n",
       "      <td>비금융</td>\n",
       "      <td>9.694100e+10</td>\n",
       "      <td>NaN</td>\n",
       "      <td>NaN</td>\n",
       "      <td>IS</td>\n",
       "      <td>3501209</td>\n",
       "      <td>13035598</td>\n",
       "      <td>5350000000</td>\n",
       "      <td>0.500000</td>\n",
       "      <td>NaN</td>\n",
       "    </tr>\n",
       "    <tr>\n",
       "      <th>14012</th>\n",
       "      <td>티씨이</td>\n",
       "      <td>TCEJEANSCO.LTD</td>\n",
       "      <td>790.0</td>\n",
       "      <td>7.0</td>\n",
       "      <td>1323.0</td>\n",
       "      <td>4997.0</td>\n",
       "      <td>91944.0</td>\n",
       "      <td>96941.0</td>\n",
       "      <td>2021</td>\n",
       "      <td>2020</td>\n",
       "      <td>...</td>\n",
       "      <td>비금융</td>\n",
       "      <td>9.694100e+10</td>\n",
       "      <td>NaN</td>\n",
       "      <td>NaN</td>\n",
       "      <td>IS</td>\n",
       "      <td>3501209</td>\n",
       "      <td>13035598</td>\n",
       "      <td>5350000000</td>\n",
       "      <td>0.500000</td>\n",
       "      <td>NaN</td>\n",
       "    </tr>\n",
       "    <tr>\n",
       "      <th>14172</th>\n",
       "      <td>조인스중앙</td>\n",
       "      <td>JoongangilboUSA,Inc</td>\n",
       "      <td>38.0</td>\n",
       "      <td>18389.0</td>\n",
       "      <td>38.0</td>\n",
       "      <td>19069.0</td>\n",
       "      <td>38.0</td>\n",
       "      <td>19107.0</td>\n",
       "      <td>2021</td>\n",
       "      <td>2020</td>\n",
       "      <td>...</td>\n",
       "      <td>비금융</td>\n",
       "      <td>1.910700e+10</td>\n",
       "      <td>NaN</td>\n",
       "      <td>NaN</td>\n",
       "      <td>joongang</td>\n",
       "      <td>36006</td>\n",
       "      <td>459541</td>\n",
       "      <td>5350000000</td>\n",
       "      <td>0.406774</td>\n",
       "      <td>NaN</td>\n",
       "    </tr>\n",
       "    <tr>\n",
       "      <th>14202</th>\n",
       "      <td>중앙일보</td>\n",
       "      <td>JoongangilboUSA,Inc</td>\n",
       "      <td>109.0</td>\n",
       "      <td>59992.0</td>\n",
       "      <td>109.0</td>\n",
       "      <td>272344.0</td>\n",
       "      <td>1844.0</td>\n",
       "      <td>274188.0</td>\n",
       "      <td>2021</td>\n",
       "      <td>2020</td>\n",
       "      <td>...</td>\n",
       "      <td>비금융</td>\n",
       "      <td>2.740000e+11</td>\n",
       "      <td>NaN</td>\n",
       "      <td>NaN</td>\n",
       "      <td>joongang</td>\n",
       "      <td>36006</td>\n",
       "      <td>340219</td>\n",
       "      <td>5350000000</td>\n",
       "      <td>0.756918</td>\n",
       "      <td>NaN</td>\n",
       "    </tr>\n",
       "    <tr>\n",
       "      <th>14216</th>\n",
       "      <td>중앙일보에스</td>\n",
       "      <td>JoongangilboUSA,Inc</td>\n",
       "      <td>8.0</td>\n",
       "      <td>16975.0</td>\n",
       "      <td>8.0</td>\n",
       "      <td>42746.0</td>\n",
       "      <td>63.0</td>\n",
       "      <td>42809.0</td>\n",
       "      <td>2021</td>\n",
       "      <td>2020</td>\n",
       "      <td>...</td>\n",
       "      <td>비금융</td>\n",
       "      <td>4.280900e+10</td>\n",
       "      <td>NaN</td>\n",
       "      <td>NaN</td>\n",
       "      <td>joongang</td>\n",
       "      <td>36006</td>\n",
       "      <td>241604</td>\n",
       "      <td>5350000000</td>\n",
       "      <td>0.756918</td>\n",
       "      <td>NaN</td>\n",
       "    </tr>\n",
       "  </tbody>\n",
       "</table>\n",
       "<p>852 rows × 22 columns</p>\n",
       "</div>"
      ],
      "text/plain": [
       "         매출회사                                    매입회사     매출액  국내계열사계(매출액)  \\\n",
       "1428     에스케이                        ESSENCORELimited  2369.0    1451273.0   \n",
       "1429     에스케이                     SKC&CBeijingCo.,Ltd  5599.0    1451273.0   \n",
       "1430     에스케이                  SKBiotekIrelandLimited  3177.0    1451273.0   \n",
       "1431     에스케이                         SKBiotekUSA,Inc    82.0    1451273.0   \n",
       "1432     에스케이  SKPharmtecoInc.AlchemyAcquisitionCorp.   832.0    1451273.0   \n",
       "...       ...                                     ...     ...          ...   \n",
       "14011     티씨이           TCEVINADENIMJOINTSTOCKCOMPANY   533.0          7.0   \n",
       "14012     티씨이                          TCEJEANSCO.LTD   790.0          7.0   \n",
       "14172   조인스중앙                     JoongangilboUSA,Inc    38.0      18389.0   \n",
       "14202    중앙일보                     JoongangilboUSA,Inc   109.0      59992.0   \n",
       "14216  중앙일보에스                     JoongangilboUSA,Inc     8.0      16975.0   \n",
       "\n",
       "       해외계열사계(매출액)      국내매출액     해외매출액      매출액총계  year2  year  ...  \\\n",
       "1428      101150.0  3365216.0  108768.0  3473984.0   2021  2020  ...   \n",
       "1429      101150.0  3365216.0  108768.0  3473984.0   2021  2020  ...   \n",
       "1430      101150.0  3365216.0  108768.0  3473984.0   2021  2020  ...   \n",
       "1431      101150.0  3365216.0  108768.0  3473984.0   2021  2020  ...   \n",
       "1432      101150.0  3365216.0  108768.0  3473984.0   2021  2020  ...   \n",
       "...            ...        ...       ...        ...    ...   ...  ...   \n",
       "14011       1323.0     4997.0   91944.0    96941.0   2021  2020  ...   \n",
       "14012       1323.0     4997.0   91944.0    96941.0   2021  2020  ...   \n",
       "14172         38.0    19069.0      38.0    19107.0   2021  2020  ...   \n",
       "14202        109.0   272344.0    1844.0   274188.0   2021  2020  ...   \n",
       "14216          8.0    42746.0      63.0    42809.0   2021  2020  ...   \n",
       "\n",
       "      매출사금융/비금융        매출액Val 매입사상/비  매입사금융/비금융   grpname  grpcode    매출회사id  \\\n",
       "1428        비금융  3.470000e+12    NaN        NaN        sk      535    814261   \n",
       "1429        비금융  3.470000e+12    NaN        NaN        sk      535    814261   \n",
       "1430        비금융  3.470000e+12    NaN        NaN        sk      535    814261   \n",
       "1431        비금융  3.470000e+12    NaN        NaN        sk      535    814261   \n",
       "1432        비금융  3.470000e+12    NaN        NaN        sk      535    814261   \n",
       "...         ...           ...    ...        ...       ...      ...       ...   \n",
       "14011       비금융  9.694100e+10    NaN        NaN        IS  3501209  13035598   \n",
       "14012       비금융  9.694100e+10    NaN        NaN        IS  3501209  13035598   \n",
       "14172       비금융  1.910700e+10    NaN        NaN  joongang    36006    459541   \n",
       "14202       비금융  2.740000e+11    NaN        NaN  joongang    36006    340219   \n",
       "14216       비금융  4.280900e+10    NaN        NaN  joongang    36006    241604   \n",
       "\n",
       "           매입회사id  매출회사 실질지분율  매입회사 실질지분율  \n",
       "1428   5350000000    0.275832         NaN  \n",
       "1429   5350000000    0.275832         NaN  \n",
       "1430   5350000000    0.275832         NaN  \n",
       "1431   5350000000    0.275832         NaN  \n",
       "1432   5350000000    0.275832         NaN  \n",
       "...           ...         ...         ...  \n",
       "14011  5350000000    0.500000         NaN  \n",
       "14012  5350000000    0.500000         NaN  \n",
       "14172  5350000000    0.406774         NaN  \n",
       "14202  5350000000    0.756918         NaN  \n",
       "14216  5350000000    0.756918         NaN  \n",
       "\n",
       "[852 rows x 22 columns]"
      ]
     },
     "execution_count": 34,
     "metadata": {},
     "output_type": "execute_result"
    }
   ],
   "source": [
    "dfTrans21[dfTrans21['매입회사id'] == 5350000000]"
   ]
  },
  {
   "cell_type": "code",
   "execution_count": 35,
   "id": "884ff366",
   "metadata": {},
   "outputs": [
    {
     "data": {
      "text/plain": [
       "11196"
      ]
     },
     "execution_count": 35,
     "metadata": {},
     "output_type": "execute_result"
    }
   ],
   "source": [
    "dfTrans19Dmstc = dfTrans19[(dfTrans19['매입회사id'] != -2147483648) & (dfTrans19['매출액'] > 0)]\n",
    "len(dfTrans19Dmstc)"
   ]
  },
  {
   "cell_type": "code",
   "execution_count": 36,
   "id": "f6d03533",
   "metadata": {},
   "outputs": [
    {
     "data": {
      "text/plain": [
       "11180"
      ]
     },
     "execution_count": 36,
     "metadata": {},
     "output_type": "execute_result"
    }
   ],
   "source": [
    "dfTrans20Dmstc = dfTrans20[(dfTrans20['매입회사id'] != 5350000000) & (dfTrans20['매출액'] > 0)]\n",
    "len(dfTrans20Dmstc)"
   ]
  },
  {
   "cell_type": "code",
   "execution_count": 37,
   "id": "fc71e7d4",
   "metadata": {},
   "outputs": [
    {
     "data": {
      "text/plain": [
       "11843"
      ]
     },
     "execution_count": 37,
     "metadata": {},
     "output_type": "execute_result"
    }
   ],
   "source": [
    "dfTrans21Dmstc = dfTrans21[(dfTrans21['매입회사id'] != 5350000000) & (dfTrans21['매출액'] > 0)]\n",
    "len(dfTrans21Dmstc)"
   ]
  },
  {
   "cell_type": "code",
   "execution_count": 74,
   "id": "7d1c1b25",
   "metadata": {},
   "outputs": [
    {
     "data": {
      "text/html": [
       "<div>\n",
       "<style scoped>\n",
       "    .dataframe tbody tr th:only-of-type {\n",
       "        vertical-align: middle;\n",
       "    }\n",
       "\n",
       "    .dataframe tbody tr th {\n",
       "        vertical-align: top;\n",
       "    }\n",
       "\n",
       "    .dataframe thead th {\n",
       "        text-align: right;\n",
       "    }\n",
       "</style>\n",
       "<table border=\"1\" class=\"dataframe\">\n",
       "  <thead>\n",
       "    <tr style=\"text-align: right;\">\n",
       "      <th></th>\n",
       "      <th>chaebol</th>\n",
       "      <th>the_same_person_2019</th>\n",
       "      <th>n_affil_2019</th>\n",
       "      <th>ttl_asset_2019</th>\n",
       "      <th>rank_2019</th>\n",
       "    </tr>\n",
       "  </thead>\n",
       "  <tbody>\n",
       "    <tr>\n",
       "      <th>0</th>\n",
       "      <td>삼성</td>\n",
       "      <td>이재용</td>\n",
       "      <td>62</td>\n",
       "      <td>414547</td>\n",
       "      <td>1</td>\n",
       "    </tr>\n",
       "    <tr>\n",
       "      <th>1</th>\n",
       "      <td>현대자동차</td>\n",
       "      <td>정몽구</td>\n",
       "      <td>53</td>\n",
       "      <td>223493</td>\n",
       "      <td>2</td>\n",
       "    </tr>\n",
       "    <tr>\n",
       "      <th>2</th>\n",
       "      <td>에스케이</td>\n",
       "      <td>최태원</td>\n",
       "      <td>111</td>\n",
       "      <td>218013</td>\n",
       "      <td>3</td>\n",
       "    </tr>\n",
       "    <tr>\n",
       "      <th>3</th>\n",
       "      <td>엘지</td>\n",
       "      <td>구광모</td>\n",
       "      <td>75</td>\n",
       "      <td>129616</td>\n",
       "      <td>4</td>\n",
       "    </tr>\n",
       "    <tr>\n",
       "      <th>4</th>\n",
       "      <td>롯데</td>\n",
       "      <td>신동빈</td>\n",
       "      <td>95</td>\n",
       "      <td>115339</td>\n",
       "      <td>5</td>\n",
       "    </tr>\n",
       "  </tbody>\n",
       "</table>\n",
       "</div>"
      ],
      "text/plain": [
       "  chaebol the_same_person_2019  n_affil_2019  ttl_asset_2019  rank_2019\n",
       "0      삼성                  이재용            62          414547          1\n",
       "1   현대자동차                  정몽구            53          223493          2\n",
       "2    에스케이                  최태원           111          218013          3\n",
       "3      엘지                  구광모            75          129616          4\n",
       "4      롯데                  신동빈            95          115339          5"
      ]
     },
     "execution_count": 74,
     "metadata": {},
     "output_type": "execute_result"
    }
   ],
   "source": [
    "dfAffilNum19 = pd.read_excel('../data/grpSumry/affilNumTtlAsset/affilNumTtlAsset2019.xlsx')\n",
    "dfAffilNum19.head()"
   ]
  },
  {
   "cell_type": "code",
   "execution_count": 75,
   "id": "234f1802",
   "metadata": {},
   "outputs": [
    {
     "data": {
      "text/html": [
       "<div>\n",
       "<style scoped>\n",
       "    .dataframe tbody tr th:only-of-type {\n",
       "        vertical-align: middle;\n",
       "    }\n",
       "\n",
       "    .dataframe tbody tr th {\n",
       "        vertical-align: top;\n",
       "    }\n",
       "\n",
       "    .dataframe thead th {\n",
       "        text-align: right;\n",
       "    }\n",
       "</style>\n",
       "<table border=\"1\" class=\"dataframe\">\n",
       "  <thead>\n",
       "    <tr style=\"text-align: right;\">\n",
       "      <th></th>\n",
       "      <th>chaebol</th>\n",
       "      <th>the_same_person_2020</th>\n",
       "      <th>n_affil_2020</th>\n",
       "      <th>ttl_asset_2020</th>\n",
       "      <th>rank_2020</th>\n",
       "    </tr>\n",
       "  </thead>\n",
       "  <tbody>\n",
       "    <tr>\n",
       "      <th>0</th>\n",
       "      <td>삼성</td>\n",
       "      <td>이재용</td>\n",
       "      <td>59</td>\n",
       "      <td>424848</td>\n",
       "      <td>1</td>\n",
       "    </tr>\n",
       "    <tr>\n",
       "      <th>1</th>\n",
       "      <td>현대자동차</td>\n",
       "      <td>정몽구</td>\n",
       "      <td>54</td>\n",
       "      <td>234706</td>\n",
       "      <td>2</td>\n",
       "    </tr>\n",
       "    <tr>\n",
       "      <th>2</th>\n",
       "      <td>에스케이</td>\n",
       "      <td>최태원</td>\n",
       "      <td>125</td>\n",
       "      <td>225526</td>\n",
       "      <td>3</td>\n",
       "    </tr>\n",
       "    <tr>\n",
       "      <th>3</th>\n",
       "      <td>엘지</td>\n",
       "      <td>구광모</td>\n",
       "      <td>70</td>\n",
       "      <td>136967</td>\n",
       "      <td>4</td>\n",
       "    </tr>\n",
       "    <tr>\n",
       "      <th>4</th>\n",
       "      <td>롯데</td>\n",
       "      <td>신동빈</td>\n",
       "      <td>86</td>\n",
       "      <td>121524</td>\n",
       "      <td>5</td>\n",
       "    </tr>\n",
       "  </tbody>\n",
       "</table>\n",
       "</div>"
      ],
      "text/plain": [
       "  chaebol the_same_person_2020  n_affil_2020  ttl_asset_2020  rank_2020\n",
       "0      삼성                  이재용            59          424848          1\n",
       "1   현대자동차                  정몽구            54          234706          2\n",
       "2    에스케이                  최태원           125          225526          3\n",
       "3      엘지                  구광모            70          136967          4\n",
       "4      롯데                  신동빈            86          121524          5"
      ]
     },
     "execution_count": 75,
     "metadata": {},
     "output_type": "execute_result"
    }
   ],
   "source": [
    "dfAffilNum20 = pd.read_excel('../data/grpSumry/affilNumTtlAsset/affilNumTtlAsset2020.xlsx')\n",
    "dfAffilNum20.head()"
   ]
  },
  {
   "cell_type": "code",
   "execution_count": 40,
   "id": "6678b8cd",
   "metadata": {},
   "outputs": [
    {
     "data": {
      "text/html": [
       "<div>\n",
       "<style scoped>\n",
       "    .dataframe tbody tr th:only-of-type {\n",
       "        vertical-align: middle;\n",
       "    }\n",
       "\n",
       "    .dataframe tbody tr th {\n",
       "        vertical-align: top;\n",
       "    }\n",
       "\n",
       "    .dataframe thead th {\n",
       "        text-align: right;\n",
       "    }\n",
       "</style>\n",
       "<table border=\"1\" class=\"dataframe\">\n",
       "  <thead>\n",
       "    <tr style=\"text-align: right;\">\n",
       "      <th></th>\n",
       "      <th>chaebol</th>\n",
       "      <th>the_same_person_2021</th>\n",
       "      <th>n_affil_2021</th>\n",
       "      <th>ttl_asset_2021</th>\n",
       "      <th>rank_2021</th>\n",
       "    </tr>\n",
       "  </thead>\n",
       "  <tbody>\n",
       "    <tr>\n",
       "      <th>0</th>\n",
       "      <td>삼성</td>\n",
       "      <td>이재용</td>\n",
       "      <td>59</td>\n",
       "      <td>457305</td>\n",
       "      <td>1</td>\n",
       "    </tr>\n",
       "    <tr>\n",
       "      <th>1</th>\n",
       "      <td>현대자동차</td>\n",
       "      <td>정의선</td>\n",
       "      <td>53</td>\n",
       "      <td>246084</td>\n",
       "      <td>2</td>\n",
       "    </tr>\n",
       "    <tr>\n",
       "      <th>2</th>\n",
       "      <td>에스케이</td>\n",
       "      <td>최태원</td>\n",
       "      <td>148</td>\n",
       "      <td>239530</td>\n",
       "      <td>3</td>\n",
       "    </tr>\n",
       "    <tr>\n",
       "      <th>3</th>\n",
       "      <td>엘지</td>\n",
       "      <td>구광모</td>\n",
       "      <td>70</td>\n",
       "      <td>151322</td>\n",
       "      <td>4</td>\n",
       "    </tr>\n",
       "    <tr>\n",
       "      <th>4</th>\n",
       "      <td>롯데</td>\n",
       "      <td>신동빈</td>\n",
       "      <td>86</td>\n",
       "      <td>117781</td>\n",
       "      <td>5</td>\n",
       "    </tr>\n",
       "  </tbody>\n",
       "</table>\n",
       "</div>"
      ],
      "text/plain": [
       "  chaebol the_same_person_2021  n_affil_2021  ttl_asset_2021  rank_2021\n",
       "0      삼성                  이재용            59          457305          1\n",
       "1   현대자동차                  정의선            53          246084          2\n",
       "2    에스케이                  최태원           148          239530          3\n",
       "3      엘지                  구광모            70          151322          4\n",
       "4      롯데                  신동빈            86          117781          5"
      ]
     },
     "execution_count": 40,
     "metadata": {},
     "output_type": "execute_result"
    }
   ],
   "source": [
    "dfAffilNum21 = pd.read_excel('../data/grpSumry/affilNumTtlAsset/affilNumTtlAsset2021.xlsx')\n",
    "dfAffilNum21.head()"
   ]
  },
  {
   "cell_type": "code",
   "execution_count": 18,
   "id": "7836d6d6",
   "metadata": {},
   "outputs": [
    {
     "data": {
      "text/html": [
       "<div>\n",
       "<style scoped>\n",
       "    .dataframe tbody tr th:only-of-type {\n",
       "        vertical-align: middle;\n",
       "    }\n",
       "\n",
       "    .dataframe tbody tr th {\n",
       "        vertical-align: top;\n",
       "    }\n",
       "\n",
       "    .dataframe thead th {\n",
       "        text-align: right;\n",
       "    }\n",
       "</style>\n",
       "<table border=\"1\" class=\"dataframe\">\n",
       "  <thead>\n",
       "    <tr style=\"text-align: right;\">\n",
       "      <th></th>\n",
       "      <th>year</th>\n",
       "      <th>year2</th>\n",
       "      <th>grpname</th>\n",
       "      <th>grpname2</th>\n",
       "      <th>grpcode</th>\n",
       "      <th>매출회사</th>\n",
       "      <th>매출회사id</th>\n",
       "      <th>매출사\\n상/비</th>\n",
       "      <th>매입회사</th>\n",
       "      <th>매입회사id</th>\n",
       "      <th>매입사\\n상/비</th>\n",
       "      <th>매출액</th>\n",
       "      <th>매출회사\\n국내계열사계</th>\n",
       "      <th>매출회사\\n해외계열사계</th>\n",
       "      <th>매출회사\\n매출액총계</th>\n",
       "      <th>매출회사\\n국내매출액</th>\n",
       "      <th>매출회사\\n해외매출액</th>\n",
       "      <th>재벌순위</th>\n",
       "      <th>매출사 CFR\\n(우선주포함)</th>\n",
       "      <th>매출사 FAM\\n(우선주포함)</th>\n",
       "    </tr>\n",
       "  </thead>\n",
       "  <tbody>\n",
       "    <tr>\n",
       "      <th>0</th>\n",
       "      <td>2017</td>\n",
       "      <td>2018</td>\n",
       "      <td>DB</td>\n",
       "      <td>DB</td>\n",
       "      <td>365</td>\n",
       "      <td>DBInc.</td>\n",
       "      <td>352098</td>\n",
       "      <td>상장</td>\n",
       "      <td>DBInc.</td>\n",
       "      <td>352098</td>\n",
       "      <td>상장</td>\n",
       "      <td>0.0</td>\n",
       "      <td>43037.0</td>\n",
       "      <td>0</td>\n",
       "      <td>199530.0</td>\n",
       "      <td>123317.0</td>\n",
       "      <td>76213.0</td>\n",
       "      <td>36</td>\n",
       "      <td>0.401239</td>\n",
       "      <td>0.401239</td>\n",
       "    </tr>\n",
       "    <tr>\n",
       "      <th>1</th>\n",
       "      <td>2017</td>\n",
       "      <td>2018</td>\n",
       "      <td>DB</td>\n",
       "      <td>DB</td>\n",
       "      <td>365</td>\n",
       "      <td>DBInc.</td>\n",
       "      <td>352098</td>\n",
       "      <td>상장</td>\n",
       "      <td>DB금융서비스</td>\n",
       "      <td>23044292</td>\n",
       "      <td>비상장</td>\n",
       "      <td>0.0</td>\n",
       "      <td>43037.0</td>\n",
       "      <td>0</td>\n",
       "      <td>199530.0</td>\n",
       "      <td>123317.0</td>\n",
       "      <td>76213.0</td>\n",
       "      <td>36</td>\n",
       "      <td>0.401239</td>\n",
       "      <td>0.401239</td>\n",
       "    </tr>\n",
       "    <tr>\n",
       "      <th>2</th>\n",
       "      <td>2017</td>\n",
       "      <td>2018</td>\n",
       "      <td>DB</td>\n",
       "      <td>DB</td>\n",
       "      <td>365</td>\n",
       "      <td>DBInc.</td>\n",
       "      <td>352098</td>\n",
       "      <td>상장</td>\n",
       "      <td>DB금융투자</td>\n",
       "      <td>821640</td>\n",
       "      <td>상장</td>\n",
       "      <td>1424.0</td>\n",
       "      <td>43037.0</td>\n",
       "      <td>0</td>\n",
       "      <td>199530.0</td>\n",
       "      <td>123317.0</td>\n",
       "      <td>76213.0</td>\n",
       "      <td>36</td>\n",
       "      <td>0.401239</td>\n",
       "      <td>0.401239</td>\n",
       "    </tr>\n",
       "    <tr>\n",
       "      <th>3</th>\n",
       "      <td>2017</td>\n",
       "      <td>2018</td>\n",
       "      <td>DB</td>\n",
       "      <td>DB</td>\n",
       "      <td>365</td>\n",
       "      <td>DBInc.</td>\n",
       "      <td>352098</td>\n",
       "      <td>상장</td>\n",
       "      <td>DB라이텍</td>\n",
       "      <td>137656</td>\n",
       "      <td>상장</td>\n",
       "      <td>307.0</td>\n",
       "      <td>43037.0</td>\n",
       "      <td>0</td>\n",
       "      <td>199530.0</td>\n",
       "      <td>123317.0</td>\n",
       "      <td>76213.0</td>\n",
       "      <td>36</td>\n",
       "      <td>0.401239</td>\n",
       "      <td>0.401239</td>\n",
       "    </tr>\n",
       "    <tr>\n",
       "      <th>4</th>\n",
       "      <td>2017</td>\n",
       "      <td>2018</td>\n",
       "      <td>DB</td>\n",
       "      <td>DB</td>\n",
       "      <td>365</td>\n",
       "      <td>DBInc.</td>\n",
       "      <td>352098</td>\n",
       "      <td>상장</td>\n",
       "      <td>DB메탈</td>\n",
       "      <td>12097776</td>\n",
       "      <td>비상장</td>\n",
       "      <td>1566.0</td>\n",
       "      <td>43037.0</td>\n",
       "      <td>0</td>\n",
       "      <td>199530.0</td>\n",
       "      <td>123317.0</td>\n",
       "      <td>76213.0</td>\n",
       "      <td>36</td>\n",
       "      <td>0.401239</td>\n",
       "      <td>0.401239</td>\n",
       "    </tr>\n",
       "  </tbody>\n",
       "</table>\n",
       "</div>"
      ],
      "text/plain": [
       "   year  year2 grpname grpname2  grpcode    매출회사  매출회사id 매출사\\n상/비     매입회사  \\\n",
       "0  2017   2018      DB       DB      365  DBInc.  352098       상장   DBInc.   \n",
       "1  2017   2018      DB       DB      365  DBInc.  352098       상장  DB금융서비스   \n",
       "2  2017   2018      DB       DB      365  DBInc.  352098       상장   DB금융투자   \n",
       "3  2017   2018      DB       DB      365  DBInc.  352098       상장    DB라이텍   \n",
       "4  2017   2018      DB       DB      365  DBInc.  352098       상장     DB메탈   \n",
       "\n",
       "     매입회사id 매입사\\n상/비     매출액  매출회사\\n국내계열사계  매출회사\\n해외계열사계  매출회사\\n매출액총계  \\\n",
       "0    352098       상장     0.0       43037.0             0     199530.0   \n",
       "1  23044292      비상장     0.0       43037.0             0     199530.0   \n",
       "2    821640       상장  1424.0       43037.0             0     199530.0   \n",
       "3    137656       상장   307.0       43037.0             0     199530.0   \n",
       "4  12097776      비상장  1566.0       43037.0             0     199530.0   \n",
       "\n",
       "   매출회사\\n국내매출액  매출회사\\n해외매출액  재벌순위  매출사 CFR\\n(우선주포함)  매출사 FAM\\n(우선주포함)  \n",
       "0     123317.0      76213.0    36          0.401239          0.401239  \n",
       "1     123317.0      76213.0    36          0.401239          0.401239  \n",
       "2     123317.0      76213.0    36          0.401239          0.401239  \n",
       "3     123317.0      76213.0    36          0.401239          0.401239  \n",
       "4     123317.0      76213.0    36          0.401239          0.401239  "
      ]
     },
     "execution_count": 18,
     "metadata": {},
     "output_type": "execute_result"
    }
   ],
   "source": [
    "dfTrans18Dmstc = pd.read_excel(\"../data/transactions-report/2018 재벌 상품용역거래.xlsx\")\n",
    "dfTrans18Dmstc.head()"
   ]
  },
  {
   "cell_type": "code",
   "execution_count": 21,
   "id": "255ff4dd",
   "metadata": {},
   "outputs": [],
   "source": [
    "dfTrans18Dmstc = dfTrans18Dmstc[dfTrans18Dmstc['매출액'] > 0]"
   ]
  },
  {
   "cell_type": "code",
   "execution_count": 57,
   "id": "fb21259e",
   "metadata": {},
   "outputs": [
    {
     "data": {
      "text/html": [
       "<div>\n",
       "<style scoped>\n",
       "    .dataframe tbody tr th:only-of-type {\n",
       "        vertical-align: middle;\n",
       "    }\n",
       "\n",
       "    .dataframe tbody tr th {\n",
       "        vertical-align: top;\n",
       "    }\n",
       "\n",
       "    .dataframe thead th {\n",
       "        text-align: right;\n",
       "    }\n",
       "</style>\n",
       "<table border=\"1\" class=\"dataframe\">\n",
       "  <thead>\n",
       "    <tr style=\"text-align: right;\">\n",
       "      <th></th>\n",
       "      <th>chaebol</th>\n",
       "      <th>the_same_person_2017</th>\n",
       "      <th>n_affil_2017</th>\n",
       "      <th>ttl_asset_2017</th>\n",
       "      <th>rank_2017</th>\n",
       "    </tr>\n",
       "  </thead>\n",
       "  <tbody>\n",
       "    <tr>\n",
       "      <th>0</th>\n",
       "      <td>삼성</td>\n",
       "      <td>이건희</td>\n",
       "      <td>62</td>\n",
       "      <td>363218</td>\n",
       "      <td>1</td>\n",
       "    </tr>\n",
       "    <tr>\n",
       "      <th>1</th>\n",
       "      <td>현대자동차</td>\n",
       "      <td>정몽구</td>\n",
       "      <td>53</td>\n",
       "      <td>218625</td>\n",
       "      <td>2</td>\n",
       "    </tr>\n",
       "    <tr>\n",
       "      <th>2</th>\n",
       "      <td>에스케이(주)</td>\n",
       "      <td>최태원</td>\n",
       "      <td>96</td>\n",
       "      <td>170697</td>\n",
       "      <td>3</td>\n",
       "    </tr>\n",
       "    <tr>\n",
       "      <th>3</th>\n",
       "      <td>엘지</td>\n",
       "      <td>구본무</td>\n",
       "      <td>68</td>\n",
       "      <td>112326</td>\n",
       "      <td>4</td>\n",
       "    </tr>\n",
       "    <tr>\n",
       "      <th>4</th>\n",
       "      <td>롯데</td>\n",
       "      <td>신격호</td>\n",
       "      <td>90</td>\n",
       "      <td>110820</td>\n",
       "      <td>5</td>\n",
       "    </tr>\n",
       "  </tbody>\n",
       "</table>\n",
       "</div>"
      ],
      "text/plain": [
       "   chaebol the_same_person_2017  n_affil_2017  ttl_asset_2017  rank_2017\n",
       "0       삼성                  이건희            62          363218          1\n",
       "1    현대자동차                  정몽구            53          218625          2\n",
       "2  에스케이(주)                  최태원            96          170697          3\n",
       "3       엘지                  구본무            68          112326          4\n",
       "4       롯데                  신격호            90          110820          5"
      ]
     },
     "execution_count": 57,
     "metadata": {},
     "output_type": "execute_result"
    }
   ],
   "source": [
    "dfAffilNum17 = pd.read_excel('../data/grpSumry/affilNumTtlAsset/affilNumTtlAsset2017.xlsx')\n",
    "dfAffilNum17.head()"
   ]
  },
  {
   "cell_type": "code",
   "execution_count": 23,
   "id": "e5528d09",
   "metadata": {},
   "outputs": [
    {
     "data": {
      "text/html": [
       "<div>\n",
       "<style scoped>\n",
       "    .dataframe tbody tr th:only-of-type {\n",
       "        vertical-align: middle;\n",
       "    }\n",
       "\n",
       "    .dataframe tbody tr th {\n",
       "        vertical-align: top;\n",
       "    }\n",
       "\n",
       "    .dataframe thead th {\n",
       "        text-align: right;\n",
       "    }\n",
       "</style>\n",
       "<table border=\"1\" class=\"dataframe\">\n",
       "  <thead>\n",
       "    <tr style=\"text-align: right;\">\n",
       "      <th></th>\n",
       "      <th>chaebol</th>\n",
       "      <th>the_same_person_2018</th>\n",
       "      <th>n_affil_2018</th>\n",
       "      <th>ttl_asset_2018</th>\n",
       "      <th>rank_2018</th>\n",
       "    </tr>\n",
       "  </thead>\n",
       "  <tbody>\n",
       "    <tr>\n",
       "      <th>0</th>\n",
       "      <td>삼성</td>\n",
       "      <td>이재용</td>\n",
       "      <td>62</td>\n",
       "      <td>399479</td>\n",
       "      <td>1</td>\n",
       "    </tr>\n",
       "    <tr>\n",
       "      <th>1</th>\n",
       "      <td>현대자동차</td>\n",
       "      <td>정몽구</td>\n",
       "      <td>56</td>\n",
       "      <td>222654</td>\n",
       "      <td>2</td>\n",
       "    </tr>\n",
       "    <tr>\n",
       "      <th>2</th>\n",
       "      <td>에스케이</td>\n",
       "      <td>최태원</td>\n",
       "      <td>101</td>\n",
       "      <td>189531</td>\n",
       "      <td>3</td>\n",
       "    </tr>\n",
       "    <tr>\n",
       "      <th>3</th>\n",
       "      <td>엘지</td>\n",
       "      <td>구본무</td>\n",
       "      <td>70</td>\n",
       "      <td>123135</td>\n",
       "      <td>4</td>\n",
       "    </tr>\n",
       "    <tr>\n",
       "      <th>4</th>\n",
       "      <td>롯데</td>\n",
       "      <td>신동빈</td>\n",
       "      <td>107</td>\n",
       "      <td>116239</td>\n",
       "      <td>5</td>\n",
       "    </tr>\n",
       "  </tbody>\n",
       "</table>\n",
       "</div>"
      ],
      "text/plain": [
       "  chaebol the_same_person_2018  n_affil_2018  ttl_asset_2018  rank_2018\n",
       "0      삼성                  이재용            62          399479          1\n",
       "1   현대자동차                  정몽구            56          222654          2\n",
       "2    에스케이                  최태원           101          189531          3\n",
       "3      엘지                  구본무            70          123135          4\n",
       "4      롯데                  신동빈           107          116239          5"
      ]
     },
     "execution_count": 23,
     "metadata": {},
     "output_type": "execute_result"
    }
   ],
   "source": [
    "dfAffilNum18 = pd.read_excel('../data/grpSumry/affilNumTtlAsset/affilNumTtlAsset2018.xlsx')\n",
    "dfAffilNum18.head()"
   ]
  },
  {
   "cell_type": "code",
   "execution_count": 93,
   "id": "edb39056",
   "metadata": {},
   "outputs": [
    {
     "data": {
      "text/html": [
       "<div>\n",
       "<style scoped>\n",
       "    .dataframe tbody tr th:only-of-type {\n",
       "        vertical-align: middle;\n",
       "    }\n",
       "\n",
       "    .dataframe tbody tr th {\n",
       "        vertical-align: top;\n",
       "    }\n",
       "\n",
       "    .dataframe thead th {\n",
       "        text-align: right;\n",
       "    }\n",
       "</style>\n",
       "<table border=\"1\" class=\"dataframe\">\n",
       "  <thead>\n",
       "    <tr style=\"text-align: right;\">\n",
       "      <th></th>\n",
       "      <th>공개년월</th>\n",
       "      <th>회계년</th>\n",
       "      <th>기업집단명</th>\n",
       "      <th>소속회사명</th>\n",
       "      <th>대표자</th>\n",
       "      <th>설립일</th>\n",
       "      <th>계열편입일</th>\n",
       "      <th>업종코드</th>\n",
       "      <th>영위업종</th>\n",
       "      <th>종업원수</th>\n",
       "      <th>...</th>\n",
       "      <th>기업공개일</th>\n",
       "      <th>자산총액</th>\n",
       "      <th>부채총액</th>\n",
       "      <th>자본총액</th>\n",
       "      <th>자본금</th>\n",
       "      <th>매출액</th>\n",
       "      <th>당기순이익</th>\n",
       "      <th>구분</th>\n",
       "      <th>법인등록번호</th>\n",
       "      <th>year2</th>\n",
       "    </tr>\n",
       "  </thead>\n",
       "  <tbody>\n",
       "    <tr>\n",
       "      <th>0</th>\n",
       "      <td>201805</td>\n",
       "      <td>2017</td>\n",
       "      <td>DB</td>\n",
       "      <td>(주)동부월드</td>\n",
       "      <td>최경진</td>\n",
       "      <td>1989/05/15</td>\n",
       "      <td>1997/06/02</td>\n",
       "      <td>R91</td>\n",
       "      <td>스포츠 및 오락관련 서비스업</td>\n",
       "      <td>76</td>\n",
       "      <td>...</td>\n",
       "      <td>NaN</td>\n",
       "      <td>188,988</td>\n",
       "      <td>57,318</td>\n",
       "      <td>131,670</td>\n",
       "      <td>161,454</td>\n",
       "      <td>10,894</td>\n",
       "      <td>-3,672</td>\n",
       "      <td>회생절차</td>\n",
       "      <td>1101110628086</td>\n",
       "      <td>2018</td>\n",
       "    </tr>\n",
       "    <tr>\n",
       "      <th>1</th>\n",
       "      <td>201805</td>\n",
       "      <td>2017</td>\n",
       "      <td>DB</td>\n",
       "      <td>디비씨앤에스자동차손해사정(주)</td>\n",
       "      <td>문수원</td>\n",
       "      <td>2011/03/17</td>\n",
       "      <td>2011/04/05</td>\n",
       "      <td>K66</td>\n",
       "      <td>금융 및 보험 관련 서비스업</td>\n",
       "      <td>742</td>\n",
       "      <td>...</td>\n",
       "      <td>NaN</td>\n",
       "      <td>10,602</td>\n",
       "      <td>6,887</td>\n",
       "      <td>3,715</td>\n",
       "      <td>200</td>\n",
       "      <td>45,777</td>\n",
       "      <td>1,388</td>\n",
       "      <td>금융보험업</td>\n",
       "      <td>1101114558669</td>\n",
       "      <td>2018</td>\n",
       "    </tr>\n",
       "    <tr>\n",
       "      <th>2</th>\n",
       "      <td>201805</td>\n",
       "      <td>2017</td>\n",
       "      <td>DB</td>\n",
       "      <td>디비캐피탈(주)</td>\n",
       "      <td>윤재인</td>\n",
       "      <td>1995/12/08</td>\n",
       "      <td>1995/12/08</td>\n",
       "      <td>K64</td>\n",
       "      <td>금융업</td>\n",
       "      <td>20</td>\n",
       "      <td>...</td>\n",
       "      <td>NaN</td>\n",
       "      <td>186,265</td>\n",
       "      <td>103,745</td>\n",
       "      <td>82,520</td>\n",
       "      <td>62,014</td>\n",
       "      <td>11,477</td>\n",
       "      <td>2,344</td>\n",
       "      <td>금융보험업</td>\n",
       "      <td>1101111220641</td>\n",
       "      <td>2018</td>\n",
       "    </tr>\n",
       "    <tr>\n",
       "      <th>3</th>\n",
       "      <td>201805</td>\n",
       "      <td>2017</td>\n",
       "      <td>DB</td>\n",
       "      <td>디비금융투자(주)</td>\n",
       "      <td>고원종</td>\n",
       "      <td>1982/12/20</td>\n",
       "      <td>1982/12/20</td>\n",
       "      <td>K66</td>\n",
       "      <td>금융 및 보험 관련 서비스업</td>\n",
       "      <td>968</td>\n",
       "      <td>...</td>\n",
       "      <td>1988/06/27</td>\n",
       "      <td>5,401,797</td>\n",
       "      <td>4,808,879</td>\n",
       "      <td>592,918</td>\n",
       "      <td>212,232</td>\n",
       "      <td>806,256</td>\n",
       "      <td>2,591</td>\n",
       "      <td>금융보험업</td>\n",
       "      <td>1101110339956</td>\n",
       "      <td>2018</td>\n",
       "    </tr>\n",
       "    <tr>\n",
       "      <th>4</th>\n",
       "      <td>201805</td>\n",
       "      <td>2017</td>\n",
       "      <td>DB</td>\n",
       "      <td>디비생명보험(주)</td>\n",
       "      <td>이태운</td>\n",
       "      <td>1989/04/14</td>\n",
       "      <td>1997/01/03</td>\n",
       "      <td>K65</td>\n",
       "      <td>보험 및 연금업</td>\n",
       "      <td>569</td>\n",
       "      <td>...</td>\n",
       "      <td>NaN</td>\n",
       "      <td>10,663,512</td>\n",
       "      <td>10,024,347</td>\n",
       "      <td>639,165</td>\n",
       "      <td>193,331</td>\n",
       "      <td>2,378,149</td>\n",
       "      <td>29,215</td>\n",
       "      <td>금융보험업</td>\n",
       "      <td>1101110623606</td>\n",
       "      <td>2018</td>\n",
       "    </tr>\n",
       "  </tbody>\n",
       "</table>\n",
       "<p>5 rows × 22 columns</p>\n",
       "</div>"
      ],
      "text/plain": [
       "     공개년월   회계년 기업집단명             소속회사명  대표자         설립일       계열편입일 업종코드  \\\n",
       "0  201805  2017    DB           (주)동부월드  최경진  1989/05/15  1997/06/02  R91   \n",
       "1  201805  2017    DB  디비씨앤에스자동차손해사정(주)  문수원  2011/03/17  2011/04/05  K66   \n",
       "2  201805  2017    DB          디비캐피탈(주)  윤재인  1995/12/08  1995/12/08  K64   \n",
       "3  201805  2017    DB         디비금융투자(주)  고원종  1982/12/20  1982/12/20  K66   \n",
       "4  201805  2017    DB         디비생명보험(주)  이태운  1989/04/14  1997/01/03  K65   \n",
       "\n",
       "              영위업종 종업원수  ...       기업공개일        자산총액        부채총액     자본총액  \\\n",
       "0  스포츠 및 오락관련 서비스업   76  ...         NaN     188,988      57,318  131,670   \n",
       "1  금융 및 보험 관련 서비스업  742  ...         NaN      10,602       6,887    3,715   \n",
       "2              금융업   20  ...         NaN     186,265     103,745   82,520   \n",
       "3  금융 및 보험 관련 서비스업  968  ...  1988/06/27   5,401,797   4,808,879  592,918   \n",
       "4         보험 및 연금업  569  ...         NaN  10,663,512  10,024,347  639,165   \n",
       "\n",
       "       자본금        매출액   당기순이익     구분         법인등록번호 year2  \n",
       "0  161,454     10,894  -3,672   회생절차  1101110628086  2018  \n",
       "1      200     45,777   1,388  금융보험업  1101114558669  2018  \n",
       "2   62,014     11,477   2,344  금융보험업  1101111220641  2018  \n",
       "3  212,232    806,256   2,591  금융보험업  1101110339956  2018  \n",
       "4  193,331  2,378,149  29,215  금융보험업  1101110623606  2018  \n",
       "\n",
       "[5 rows x 22 columns]"
      ]
     },
     "execution_count": 93,
     "metadata": {},
     "output_type": "execute_result"
    }
   ],
   "source": [
    "dfCmpnySumry18 = pd.read_excel('../data/cmpnySumry/cmpnySumry2018Kor.xlsx')\n",
    "dfCmpnySumry18.head()"
   ]
  },
  {
   "cell_type": "code",
   "execution_count": 94,
   "id": "92b08d11",
   "metadata": {},
   "outputs": [
    {
     "data": {
      "text/html": [
       "<div>\n",
       "<style scoped>\n",
       "    .dataframe tbody tr th:only-of-type {\n",
       "        vertical-align: middle;\n",
       "    }\n",
       "\n",
       "    .dataframe tbody tr th {\n",
       "        vertical-align: top;\n",
       "    }\n",
       "\n",
       "    .dataframe thead th {\n",
       "        text-align: right;\n",
       "    }\n",
       "</style>\n",
       "<table border=\"1\" class=\"dataframe\">\n",
       "  <thead>\n",
       "    <tr style=\"text-align: right;\">\n",
       "      <th></th>\n",
       "      <th>공개년월</th>\n",
       "      <th>회계년</th>\n",
       "      <th>기업집단명</th>\n",
       "      <th>소속회사명</th>\n",
       "      <th>대표자</th>\n",
       "      <th>설립일</th>\n",
       "      <th>계열편입일</th>\n",
       "      <th>업종코드</th>\n",
       "      <th>영위업종</th>\n",
       "      <th>종업원수</th>\n",
       "      <th>...</th>\n",
       "      <th>자산총액</th>\n",
       "      <th>부채총액</th>\n",
       "      <th>자본총액</th>\n",
       "      <th>자본금</th>\n",
       "      <th>매출액</th>\n",
       "      <th>당기순이익</th>\n",
       "      <th>구분</th>\n",
       "      <th>법인등록번호</th>\n",
       "      <th>year2</th>\n",
       "      <th>rcmgCode</th>\n",
       "    </tr>\n",
       "  </thead>\n",
       "  <tbody>\n",
       "    <tr>\n",
       "      <th>0</th>\n",
       "      <td>201905</td>\n",
       "      <td>2018</td>\n",
       "      <td>DB</td>\n",
       "      <td>디비생명보험(주)</td>\n",
       "      <td>이태운</td>\n",
       "      <td>1989/04/14</td>\n",
       "      <td>1997/01/03</td>\n",
       "      <td>K65</td>\n",
       "      <td>보험 및 연금업</td>\n",
       "      <td>563</td>\n",
       "      <td>...</td>\n",
       "      <td>10,887,144</td>\n",
       "      <td>10,296,289</td>\n",
       "      <td>590,855</td>\n",
       "      <td>193,331</td>\n",
       "      <td>2,180,825</td>\n",
       "      <td>24,637</td>\n",
       "      <td>금융보험업</td>\n",
       "      <td>1101110623606</td>\n",
       "      <td>2019</td>\n",
       "      <td>821420.0</td>\n",
       "    </tr>\n",
       "    <tr>\n",
       "      <th>1</th>\n",
       "      <td>201905</td>\n",
       "      <td>2018</td>\n",
       "      <td>DB</td>\n",
       "      <td>디비금융서비스(주)</td>\n",
       "      <td>황원기</td>\n",
       "      <td>2014/01/13</td>\n",
       "      <td>2014/03/01</td>\n",
       "      <td>K66</td>\n",
       "      <td>금융 및 보험관련 서비스업</td>\n",
       "      <td>30</td>\n",
       "      <td>...</td>\n",
       "      <td>6,057</td>\n",
       "      <td>2,460</td>\n",
       "      <td>3,597</td>\n",
       "      <td>14,001</td>\n",
       "      <td>13,311</td>\n",
       "      <td>-2,499</td>\n",
       "      <td>금융보험업</td>\n",
       "      <td>1101115314474</td>\n",
       "      <td>2019</td>\n",
       "      <td>23044292.0</td>\n",
       "    </tr>\n",
       "    <tr>\n",
       "      <th>2</th>\n",
       "      <td>201905</td>\n",
       "      <td>2018</td>\n",
       "      <td>DB</td>\n",
       "      <td>디비에프아이에스(주)</td>\n",
       "      <td>강운식</td>\n",
       "      <td>2014/12/01</td>\n",
       "      <td>2018/06/01</td>\n",
       "      <td>J62</td>\n",
       "      <td>컴퓨터 프로그래밍, 시스템 통합 및 관리업</td>\n",
       "      <td>217</td>\n",
       "      <td>...</td>\n",
       "      <td>47,579</td>\n",
       "      <td>5,854</td>\n",
       "      <td>41,725</td>\n",
       "      <td>1,000</td>\n",
       "      <td>47,269</td>\n",
       "      <td>12,063</td>\n",
       "      <td>일반회사</td>\n",
       "      <td>1101115576727</td>\n",
       "      <td>2019</td>\n",
       "      <td>24038019.0</td>\n",
       "    </tr>\n",
       "    <tr>\n",
       "      <th>3</th>\n",
       "      <td>201905</td>\n",
       "      <td>2018</td>\n",
       "      <td>DB</td>\n",
       "      <td>디비금융투자(주)</td>\n",
       "      <td>고원종</td>\n",
       "      <td>1982/12/20</td>\n",
       "      <td>1982/12/20</td>\n",
       "      <td>K66</td>\n",
       "      <td>금융 및 보험관련 서비스업</td>\n",
       "      <td>892</td>\n",
       "      <td>...</td>\n",
       "      <td>5,428,689</td>\n",
       "      <td>4,794,353</td>\n",
       "      <td>634,336</td>\n",
       "      <td>212,232</td>\n",
       "      <td>725,156</td>\n",
       "      <td>46,854</td>\n",
       "      <td>금융보험업</td>\n",
       "      <td>1101110339956</td>\n",
       "      <td>2019</td>\n",
       "      <td>821640.0</td>\n",
       "    </tr>\n",
       "    <tr>\n",
       "      <th>4</th>\n",
       "      <td>201905</td>\n",
       "      <td>2018</td>\n",
       "      <td>DB</td>\n",
       "      <td>디비인베스트(주)</td>\n",
       "      <td>최경진</td>\n",
       "      <td>2009/11/16</td>\n",
       "      <td>2010/01/04</td>\n",
       "      <td>M71</td>\n",
       "      <td>전문 서비스업</td>\n",
       "      <td>1</td>\n",
       "      <td>...</td>\n",
       "      <td>14,912</td>\n",
       "      <td>17,943</td>\n",
       "      <td>-3,031</td>\n",
       "      <td>306,500</td>\n",
       "      <td>933</td>\n",
       "      <td>-267</td>\n",
       "      <td>일반회사</td>\n",
       "      <td>1101114220359</td>\n",
       "      <td>2019</td>\n",
       "      <td>16003715.0</td>\n",
       "    </tr>\n",
       "  </tbody>\n",
       "</table>\n",
       "<p>5 rows × 23 columns</p>\n",
       "</div>"
      ],
      "text/plain": [
       "     공개년월   회계년 기업집단명        소속회사명  대표자         설립일       계열편입일 업종코드  \\\n",
       "0  201905  2018    DB    디비생명보험(주)  이태운  1989/04/14  1997/01/03  K65   \n",
       "1  201905  2018    DB   디비금융서비스(주)  황원기  2014/01/13  2014/03/01  K66   \n",
       "2  201905  2018    DB  디비에프아이에스(주)  강운식  2014/12/01  2018/06/01  J62   \n",
       "3  201905  2018    DB    디비금융투자(주)  고원종  1982/12/20  1982/12/20  K66   \n",
       "4  201905  2018    DB    디비인베스트(주)  최경진  2009/11/16  2010/01/04  M71   \n",
       "\n",
       "                      영위업종 종업원수  ...        자산총액        부채총액     자본총액  \\\n",
       "0                 보험 및 연금업  563  ...  10,887,144  10,296,289  590,855   \n",
       "1           금융 및 보험관련 서비스업   30  ...       6,057       2,460    3,597   \n",
       "2  컴퓨터 프로그래밍, 시스템 통합 및 관리업  217  ...      47,579       5,854   41,725   \n",
       "3           금융 및 보험관련 서비스업  892  ...   5,428,689   4,794,353  634,336   \n",
       "4                  전문 서비스업    1  ...      14,912      17,943   -3,031   \n",
       "\n",
       "       자본금        매출액   당기순이익     구분         법인등록번호 year2    rcmgCode  \n",
       "0  193,331  2,180,825  24,637  금융보험업  1101110623606  2019    821420.0  \n",
       "1   14,001     13,311  -2,499  금융보험업  1101115314474  2019  23044292.0  \n",
       "2    1,000     47,269  12,063   일반회사  1101115576727  2019  24038019.0  \n",
       "3  212,232    725,156  46,854  금융보험업  1101110339956  2019    821640.0  \n",
       "4  306,500        933    -267   일반회사  1101114220359  2019  16003715.0  \n",
       "\n",
       "[5 rows x 23 columns]"
      ]
     },
     "execution_count": 94,
     "metadata": {},
     "output_type": "execute_result"
    }
   ],
   "source": [
    "dfCmpnySumry19 = pd.read_excel('../data/cmpnySumry/cmpnySumry2019Kor.xlsx')\n",
    "dfCmpnySumry19.head()"
   ]
  },
  {
   "cell_type": "code",
   "execution_count": 95,
   "id": "21ea0249",
   "metadata": {},
   "outputs": [
    {
     "data": {
      "text/html": [
       "<div>\n",
       "<style scoped>\n",
       "    .dataframe tbody tr th:only-of-type {\n",
       "        vertical-align: middle;\n",
       "    }\n",
       "\n",
       "    .dataframe tbody tr th {\n",
       "        vertical-align: top;\n",
       "    }\n",
       "\n",
       "    .dataframe thead th {\n",
       "        text-align: right;\n",
       "    }\n",
       "</style>\n",
       "<table border=\"1\" class=\"dataframe\">\n",
       "  <thead>\n",
       "    <tr style=\"text-align: right;\">\n",
       "      <th></th>\n",
       "      <th>공개년월</th>\n",
       "      <th>회계년</th>\n",
       "      <th>기업집단명</th>\n",
       "      <th>소속회사명</th>\n",
       "      <th>대표자</th>\n",
       "      <th>설립일</th>\n",
       "      <th>계열편입일</th>\n",
       "      <th>업종코드</th>\n",
       "      <th>영위업종</th>\n",
       "      <th>종업원수</th>\n",
       "      <th>...</th>\n",
       "      <th>자산총액</th>\n",
       "      <th>부채총액</th>\n",
       "      <th>자본총액</th>\n",
       "      <th>자본금</th>\n",
       "      <th>매출액</th>\n",
       "      <th>당기순이익</th>\n",
       "      <th>구분</th>\n",
       "      <th>법인등록번호</th>\n",
       "      <th>year2</th>\n",
       "      <th>rcmgCode</th>\n",
       "    </tr>\n",
       "  </thead>\n",
       "  <tbody>\n",
       "    <tr>\n",
       "      <th>0</th>\n",
       "      <td>202005</td>\n",
       "      <td>2019</td>\n",
       "      <td>넥슨</td>\n",
       "      <td>(유)가승개발</td>\n",
       "      <td>서춘식</td>\n",
       "      <td>2016/01/21</td>\n",
       "      <td>2016/01/21</td>\n",
       "      <td>R91</td>\n",
       "      <td>스포츠 및 오락관련 서비스업</td>\n",
       "      <td>3</td>\n",
       "      <td>...</td>\n",
       "      <td>15,208</td>\n",
       "      <td>6,064</td>\n",
       "      <td>9,144</td>\n",
       "      <td>100</td>\n",
       "      <td>0</td>\n",
       "      <td>-465</td>\n",
       "      <td>일반회사</td>\n",
       "      <td>1345140003989</td>\n",
       "      <td>2020</td>\n",
       "      <td>1.802408e+09</td>\n",
       "    </tr>\n",
       "    <tr>\n",
       "      <th>1</th>\n",
       "      <td>202005</td>\n",
       "      <td>2019</td>\n",
       "      <td>지에스</td>\n",
       "      <td>(유)가승개발</td>\n",
       "      <td>서춘식</td>\n",
       "      <td>2016/01/21</td>\n",
       "      <td>2016/04/01</td>\n",
       "      <td>R91</td>\n",
       "      <td>스포츠 및 오락관련 서비스업</td>\n",
       "      <td>3</td>\n",
       "      <td>...</td>\n",
       "      <td>15,208</td>\n",
       "      <td>6,064</td>\n",
       "      <td>9,144</td>\n",
       "      <td>100</td>\n",
       "      <td>NaN</td>\n",
       "      <td>-465</td>\n",
       "      <td>일반회사</td>\n",
       "      <td>1345140003989</td>\n",
       "      <td>2020</td>\n",
       "      <td>1.802408e+09</td>\n",
       "    </tr>\n",
       "    <tr>\n",
       "      <th>2</th>\n",
       "      <td>202005</td>\n",
       "      <td>2019</td>\n",
       "      <td>카카오</td>\n",
       "      <td>(유)매디슨카운티의다리</td>\n",
       "      <td>이명한</td>\n",
       "      <td>2016/11/16</td>\n",
       "      <td>2020/02/03</td>\n",
       "      <td>R90</td>\n",
       "      <td>창작, 예술 및 여가관련 서비스업</td>\n",
       "      <td>0</td>\n",
       "      <td>...</td>\n",
       "      <td>11</td>\n",
       "      <td>28</td>\n",
       "      <td>-17</td>\n",
       "      <td>10</td>\n",
       "      <td>3</td>\n",
       "      <td>2</td>\n",
       "      <td>일반회사</td>\n",
       "      <td>1101140192605</td>\n",
       "      <td>2020</td>\n",
       "      <td>1.803409e+09</td>\n",
       "    </tr>\n",
       "    <tr>\n",
       "      <th>3</th>\n",
       "      <td>202005</td>\n",
       "      <td>2019</td>\n",
       "      <td>엘에스</td>\n",
       "      <td>(유)빌드윈문경태양광발전</td>\n",
       "      <td>김선철</td>\n",
       "      <td>2018/12/11</td>\n",
       "      <td>2019/02/01</td>\n",
       "      <td>D35</td>\n",
       "      <td>전기, 가스, 증기 및 공기 조절 공급업</td>\n",
       "      <td>1</td>\n",
       "      <td>...</td>\n",
       "      <td>331</td>\n",
       "      <td>0</td>\n",
       "      <td>331</td>\n",
       "      <td>331</td>\n",
       "      <td>0</td>\n",
       "      <td>0</td>\n",
       "      <td>일반회사</td>\n",
       "      <td>1754140000582</td>\n",
       "      <td>2020</td>\n",
       "      <td>2.102105e+09</td>\n",
       "    </tr>\n",
       "    <tr>\n",
       "      <th>4</th>\n",
       "      <td>202005</td>\n",
       "      <td>2019</td>\n",
       "      <td>엘에스</td>\n",
       "      <td>(유)빌드윈인동태양광발전</td>\n",
       "      <td>김선철</td>\n",
       "      <td>2018/12/11</td>\n",
       "      <td>2019/02/01</td>\n",
       "      <td>D35</td>\n",
       "      <td>전기, 가스, 증기 및 공기 조절 공급업</td>\n",
       "      <td>1</td>\n",
       "      <td>...</td>\n",
       "      <td>4,883</td>\n",
       "      <td>4,140</td>\n",
       "      <td>743</td>\n",
       "      <td>756</td>\n",
       "      <td>0</td>\n",
       "      <td>-13</td>\n",
       "      <td>일반회사</td>\n",
       "      <td>1760140002014</td>\n",
       "      <td>2020</td>\n",
       "      <td>2.102105e+09</td>\n",
       "    </tr>\n",
       "  </tbody>\n",
       "</table>\n",
       "<p>5 rows × 23 columns</p>\n",
       "</div>"
      ],
      "text/plain": [
       "     공개년월   회계년 기업집단명          소속회사명  대표자         설립일       계열편입일 업종코드  \\\n",
       "0  202005  2019    넥슨        (유)가승개발  서춘식  2016/01/21  2016/01/21  R91   \n",
       "1  202005  2019   지에스        (유)가승개발  서춘식  2016/01/21  2016/04/01  R91   \n",
       "2  202005  2019   카카오   (유)매디슨카운티의다리  이명한  2016/11/16  2020/02/03  R90   \n",
       "3  202005  2019   엘에스  (유)빌드윈문경태양광발전  김선철  2018/12/11  2019/02/01  D35   \n",
       "4  202005  2019   엘에스  (유)빌드윈인동태양광발전  김선철  2018/12/11  2019/02/01  D35   \n",
       "\n",
       "                     영위업종 종업원수  ...    자산총액   부채총액   자본총액  자본금  매출액 당기순이익  \\\n",
       "0         스포츠 및 오락관련 서비스업    3  ...  15,208  6,064  9,144  100    0  -465   \n",
       "1         스포츠 및 오락관련 서비스업    3  ...  15,208  6,064  9,144  100  NaN  -465   \n",
       "2      창작, 예술 및 여가관련 서비스업    0  ...      11     28    -17   10    3     2   \n",
       "3  전기, 가스, 증기 및 공기 조절 공급업    1  ...     331      0    331  331    0     0   \n",
       "4  전기, 가스, 증기 및 공기 조절 공급업    1  ...   4,883  4,140    743  756    0   -13   \n",
       "\n",
       "     구분         법인등록번호 year2      rcmgCode  \n",
       "0  일반회사  1345140003989  2020  1.802408e+09  \n",
       "1  일반회사  1345140003989  2020  1.802408e+09  \n",
       "2  일반회사  1101140192605  2020  1.803409e+09  \n",
       "3  일반회사  1754140000582  2020  2.102105e+09  \n",
       "4  일반회사  1760140002014  2020  2.102105e+09  \n",
       "\n",
       "[5 rows x 23 columns]"
      ]
     },
     "execution_count": 95,
     "metadata": {},
     "output_type": "execute_result"
    }
   ],
   "source": [
    "dfCmpnySumry20 = pd.read_excel('../data/cmpnySumry/cmpnySumry2020Kor.xlsx')\n",
    "dfCmpnySumry20.head()"
   ]
  },
  {
   "cell_type": "code",
   "execution_count": 96,
   "id": "dbd46a64",
   "metadata": {},
   "outputs": [
    {
     "data": {
      "text/html": [
       "<div>\n",
       "<style scoped>\n",
       "    .dataframe tbody tr th:only-of-type {\n",
       "        vertical-align: middle;\n",
       "    }\n",
       "\n",
       "    .dataframe tbody tr th {\n",
       "        vertical-align: top;\n",
       "    }\n",
       "\n",
       "    .dataframe thead th {\n",
       "        text-align: right;\n",
       "    }\n",
       "</style>\n",
       "<table border=\"1\" class=\"dataframe\">\n",
       "  <thead>\n",
       "    <tr style=\"text-align: right;\">\n",
       "      <th></th>\n",
       "      <th>공개년월</th>\n",
       "      <th>회계년</th>\n",
       "      <th>기업집단명</th>\n",
       "      <th>소속회사명</th>\n",
       "      <th>대표자</th>\n",
       "      <th>설립일</th>\n",
       "      <th>계열편입일</th>\n",
       "      <th>업종코드</th>\n",
       "      <th>영위업종</th>\n",
       "      <th>종업원수</th>\n",
       "      <th>...</th>\n",
       "      <th>자산총액</th>\n",
       "      <th>부채총액</th>\n",
       "      <th>자본총액</th>\n",
       "      <th>자본금</th>\n",
       "      <th>매출액</th>\n",
       "      <th>당기순이익</th>\n",
       "      <th>구분</th>\n",
       "      <th>법인등록번호</th>\n",
       "      <th>year2</th>\n",
       "      <th>rcmgCode</th>\n",
       "    </tr>\n",
       "  </thead>\n",
       "  <tbody>\n",
       "    <tr>\n",
       "      <th>0</th>\n",
       "      <td>202105</td>\n",
       "      <td>2020</td>\n",
       "      <td>롯데</td>\n",
       "      <td>롯데쇼핑</td>\n",
       "      <td>강희태</td>\n",
       "      <td>19700702</td>\n",
       "      <td>19870401.0</td>\n",
       "      <td>G47</td>\n",
       "      <td>소매업; 자동차 제외</td>\n",
       "      <td>24963</td>\n",
       "      <td>...</td>\n",
       "      <td>2.490000e+13</td>\n",
       "      <td>1.530000e+13</td>\n",
       "      <td>9.600000e+12</td>\n",
       "      <td>1.410000e+11</td>\n",
       "      <td>8.710000e+12</td>\n",
       "      <td>-1.030000e+12</td>\n",
       "      <td>일반회사</td>\n",
       "      <td>1100000000000</td>\n",
       "      <td>2021</td>\n",
       "      <td>620068</td>\n",
       "    </tr>\n",
       "    <tr>\n",
       "      <th>1</th>\n",
       "      <td>202105</td>\n",
       "      <td>2020</td>\n",
       "      <td>지에스</td>\n",
       "      <td>지에스건설</td>\n",
       "      <td>임병용</td>\n",
       "      <td>19691219</td>\n",
       "      <td>20050404.0</td>\n",
       "      <td>F41</td>\n",
       "      <td>종합 건설업</td>\n",
       "      <td>6928</td>\n",
       "      <td>...</td>\n",
       "      <td>1.190000e+13</td>\n",
       "      <td>7.450000e+12</td>\n",
       "      <td>4.420000e+12</td>\n",
       "      <td>4.040000e+11</td>\n",
       "      <td>8.890000e+12</td>\n",
       "      <td>3.270000e+11</td>\n",
       "      <td>일반회사</td>\n",
       "      <td>1100000000000</td>\n",
       "      <td>2021</td>\n",
       "      <td>500143</td>\n",
       "    </tr>\n",
       "    <tr>\n",
       "      <th>2</th>\n",
       "      <td>202105</td>\n",
       "      <td>2020</td>\n",
       "      <td>SM</td>\n",
       "      <td>삼라</td>\n",
       "      <td>조유선</td>\n",
       "      <td>19690826</td>\n",
       "      <td>20040501.0</td>\n",
       "      <td>F41</td>\n",
       "      <td>종합 건설업</td>\n",
       "      <td>12</td>\n",
       "      <td>...</td>\n",
       "      <td>6.240000e+11</td>\n",
       "      <td>2.720000e+11</td>\n",
       "      <td>3.520000e+11</td>\n",
       "      <td>1.685000e+10</td>\n",
       "      <td>1.490000e+11</td>\n",
       "      <td>7.785100e+10</td>\n",
       "      <td>일반회사</td>\n",
       "      <td>1100000000000</td>\n",
       "      <td>2021</td>\n",
       "      <td>500429</td>\n",
       "    </tr>\n",
       "    <tr>\n",
       "      <th>3</th>\n",
       "      <td>202105</td>\n",
       "      <td>2020</td>\n",
       "      <td>한화</td>\n",
       "      <td>한화</td>\n",
       "      <td>옥경석 외</td>\n",
       "      <td>19521028</td>\n",
       "      <td>19870401.0</td>\n",
       "      <td>C20</td>\n",
       "      <td>화학 물질 및 화학제품 제조업; 의약품 제외</td>\n",
       "      <td>5026</td>\n",
       "      <td>...</td>\n",
       "      <td>7.360000e+12</td>\n",
       "      <td>3.870000e+12</td>\n",
       "      <td>3.490000e+12</td>\n",
       "      <td>4.900000e+11</td>\n",
       "      <td>4.000000e+12</td>\n",
       "      <td>1.290000e+11</td>\n",
       "      <td>일반회사</td>\n",
       "      <td>1100000000000</td>\n",
       "      <td>2021</td>\n",
       "      <td>350893</td>\n",
       "    </tr>\n",
       "    <tr>\n",
       "      <th>4</th>\n",
       "      <td>202105</td>\n",
       "      <td>2020</td>\n",
       "      <td>동원</td>\n",
       "      <td>동원산업</td>\n",
       "      <td>이명우</td>\n",
       "      <td>19690416</td>\n",
       "      <td>20030128.0</td>\n",
       "      <td>A03</td>\n",
       "      <td>어업</td>\n",
       "      <td>761</td>\n",
       "      <td>...</td>\n",
       "      <td>1.630000e+12</td>\n",
       "      <td>8.800000e+11</td>\n",
       "      <td>7.540000e+11</td>\n",
       "      <td>1.838800e+10</td>\n",
       "      <td>7.020000e+11</td>\n",
       "      <td>7.895000e+10</td>\n",
       "      <td>일반회사</td>\n",
       "      <td>1100000000000</td>\n",
       "      <td>2021</td>\n",
       "      <td>100030</td>\n",
       "    </tr>\n",
       "  </tbody>\n",
       "</table>\n",
       "<p>5 rows × 23 columns</p>\n",
       "</div>"
      ],
      "text/plain": [
       "     공개년월   회계년 기업집단명  소속회사명    대표자       설립일       계열편입일 업종코드  \\\n",
       "0  202105  2020    롯데   롯데쇼핑    강희태  19700702  19870401.0  G47   \n",
       "1  202105  2020   지에스  지에스건설    임병용  19691219  20050404.0  F41   \n",
       "2  202105  2020    SM     삼라    조유선  19690826  20040501.0  F41   \n",
       "3  202105  2020    한화     한화  옥경석 외  19521028  19870401.0  C20   \n",
       "4  202105  2020    동원   동원산업    이명우  19690416  20030128.0  A03   \n",
       "\n",
       "                       영위업종   종업원수  ...          자산총액          부채총액  \\\n",
       "0               소매업; 자동차 제외  24963  ...  2.490000e+13  1.530000e+13   \n",
       "1                    종합 건설업   6928  ...  1.190000e+13  7.450000e+12   \n",
       "2                    종합 건설업     12  ...  6.240000e+11  2.720000e+11   \n",
       "3  화학 물질 및 화학제품 제조업; 의약품 제외   5026  ...  7.360000e+12  3.870000e+12   \n",
       "4                        어업    761  ...  1.630000e+12  8.800000e+11   \n",
       "\n",
       "           자본총액           자본금           매출액         당기순이익    구분  \\\n",
       "0  9.600000e+12  1.410000e+11  8.710000e+12 -1.030000e+12  일반회사   \n",
       "1  4.420000e+12  4.040000e+11  8.890000e+12  3.270000e+11  일반회사   \n",
       "2  3.520000e+11  1.685000e+10  1.490000e+11  7.785100e+10  일반회사   \n",
       "3  3.490000e+12  4.900000e+11  4.000000e+12  1.290000e+11  일반회사   \n",
       "4  7.540000e+11  1.838800e+10  7.020000e+11  7.895000e+10  일반회사   \n",
       "\n",
       "          법인등록번호  year2 rcmgCode  \n",
       "0  1100000000000   2021   620068  \n",
       "1  1100000000000   2021   500143  \n",
       "2  1100000000000   2021   500429  \n",
       "3  1100000000000   2021   350893  \n",
       "4  1100000000000   2021   100030  \n",
       "\n",
       "[5 rows x 23 columns]"
      ]
     },
     "execution_count": 96,
     "metadata": {},
     "output_type": "execute_result"
    }
   ],
   "source": [
    "dfCmpnySumry21 = pd.read_excel('../data/cmpnySumry/cmpnySumry2021Kor.xlsx')\n",
    "dfCmpnySumry21.head()"
   ]
  },
  {
   "cell_type": "code",
   "execution_count": 106,
   "id": "30293786",
   "metadata": {},
   "outputs": [
    {
     "data": {
      "text/plain": [
       "52"
      ]
     },
     "execution_count": 106,
     "metadata": {},
     "output_type": "execute_result"
    }
   ],
   "source": [
    "dfCmpnySumry18 = dfCmpnySumry18[dfCmpnySumry18['기업집단명'].isin(dfAffilNum18['chaebol'])]\n",
    "dfCmpnySumry18['기업집단명'].nunique()"
   ]
  },
  {
   "cell_type": "code",
   "execution_count": 109,
   "id": "26e72abe",
   "metadata": {},
   "outputs": [
    {
     "data": {
      "text/plain": [
       "47"
      ]
     },
     "execution_count": 109,
     "metadata": {},
     "output_type": "execute_result"
    }
   ],
   "source": [
    "dfCmpnySumry19 = dfCmpnySumry19[dfCmpnySumry19['기업집단명'].isin(dfAffilNum19['chaebol'])]\n",
    "dfCmpnySumry19['기업집단명'].nunique()"
   ]
  },
  {
   "cell_type": "code",
   "execution_count": 110,
   "id": "b2cccfbf",
   "metadata": {},
   "outputs": [
    {
     "data": {
      "text/plain": [
       "55"
      ]
     },
     "execution_count": 110,
     "metadata": {},
     "output_type": "execute_result"
    }
   ],
   "source": [
    "dfCmpnySumry20 = dfCmpnySumry20[dfCmpnySumry20['기업집단명'].isin(dfAffilNum20['chaebol'])]\n",
    "dfCmpnySumry20['기업집단명'].nunique()"
   ]
  },
  {
   "cell_type": "code",
   "execution_count": 107,
   "id": "6a2d91ac",
   "metadata": {},
   "outputs": [
    {
     "data": {
      "text/plain": [
       "60"
      ]
     },
     "execution_count": 107,
     "metadata": {},
     "output_type": "execute_result"
    }
   ],
   "source": [
    "dfCmpnySumry21 = dfCmpnySumry21[dfCmpnySumry21['기업집단명'].isin(dfAffilNum21['chaebol'])]\n",
    "dfCmpnySumry21['기업집단명'].nunique()"
   ]
  },
  {
   "cell_type": "code",
   "execution_count": 112,
   "id": "81ec78d2",
   "metadata": {},
   "outputs": [
    {
     "data": {
      "text/plain": [
       "1914"
      ]
     },
     "execution_count": 112,
     "metadata": {},
     "output_type": "execute_result"
    }
   ],
   "source": [
    "dfCmpnySumry18['소속회사명'].nunique()"
   ]
  },
  {
   "cell_type": "code",
   "execution_count": 113,
   "id": "d663dce1",
   "metadata": {},
   "outputs": [
    {
     "data": {
      "text/plain": [
       "1729"
      ]
     },
     "execution_count": 113,
     "metadata": {},
     "output_type": "execute_result"
    }
   ],
   "source": [
    "dfCmpnySumry19['소속회사명'].nunique()"
   ]
  },
  {
   "cell_type": "code",
   "execution_count": 114,
   "id": "4c00729d",
   "metadata": {},
   "outputs": [
    {
     "data": {
      "text/plain": [
       "2096"
      ]
     },
     "execution_count": 114,
     "metadata": {},
     "output_type": "execute_result"
    }
   ],
   "source": [
    "dfCmpnySumry20['소속회사명'].nunique()"
   ]
  },
  {
   "cell_type": "code",
   "execution_count": 115,
   "id": "ea607fbe",
   "metadata": {},
   "outputs": [
    {
     "data": {
      "text/plain": [
       "2410"
      ]
     },
     "execution_count": 115,
     "metadata": {},
     "output_type": "execute_result"
    }
   ],
   "source": [
    "dfCmpnySumry21['소속회사명'].nunique()"
   ]
  },
  {
   "cell_type": "code",
   "execution_count": 125,
   "id": "cec04b93",
   "metadata": {},
   "outputs": [
    {
     "data": {
      "text/html": [
       "<div>\n",
       "<style scoped>\n",
       "    .dataframe tbody tr th:only-of-type {\n",
       "        vertical-align: middle;\n",
       "    }\n",
       "\n",
       "    .dataframe tbody tr th {\n",
       "        vertical-align: top;\n",
       "    }\n",
       "\n",
       "    .dataframe thead th {\n",
       "        text-align: right;\n",
       "    }\n",
       "</style>\n",
       "<table border=\"1\" class=\"dataframe\">\n",
       "  <thead>\n",
       "    <tr style=\"text-align: right;\">\n",
       "      <th></th>\n",
       "      <th>매출회사</th>\n",
       "      <th>매입회사</th>\n",
       "      <th>매출액</th>\n",
       "      <th>국내계열사계(매출액)</th>\n",
       "      <th>해외계열사계(매출액)</th>\n",
       "      <th>국내매출액</th>\n",
       "      <th>해외매출액</th>\n",
       "      <th>매출액총계</th>\n",
       "      <th>year2</th>\n",
       "      <th>year</th>\n",
       "      <th>grpname2</th>\n",
       "      <th>매출사상/비</th>\n",
       "      <th>매출사금융/비금융</th>\n",
       "      <th>매출액Val</th>\n",
       "      <th>매입사상/비</th>\n",
       "      <th>매입사금융/비금융</th>\n",
       "      <th>grpname</th>\n",
       "      <th>grpcode</th>\n",
       "      <th>매출회사id</th>\n",
       "      <th>매입회사id</th>\n",
       "    </tr>\n",
       "  </thead>\n",
       "  <tbody>\n",
       "    <tr>\n",
       "      <th>0</th>\n",
       "      <td>삼성전자</td>\n",
       "      <td>삼성물산</td>\n",
       "      <td>78676.0</td>\n",
       "      <td>2269950.0</td>\n",
       "      <td>149436938.0</td>\n",
       "      <td>16821275.0</td>\n",
       "      <td>153560595.0</td>\n",
       "      <td>170381870.0</td>\n",
       "      <td>2019</td>\n",
       "      <td>2018</td>\n",
       "      <td>삼성</td>\n",
       "      <td>상장</td>\n",
       "      <td>비금융</td>\n",
       "      <td>170381870.0</td>\n",
       "      <td>상장</td>\n",
       "      <td>비금융</td>\n",
       "      <td>samsung</td>\n",
       "      <td>511</td>\n",
       "      <td>380725</td>\n",
       "      <td>810053</td>\n",
       "    </tr>\n",
       "    <tr>\n",
       "      <th>1</th>\n",
       "      <td>삼성전자</td>\n",
       "      <td>삼성바이오에피스</td>\n",
       "      <td>1.0</td>\n",
       "      <td>2269950.0</td>\n",
       "      <td>149436938.0</td>\n",
       "      <td>16821275.0</td>\n",
       "      <td>153560595.0</td>\n",
       "      <td>170381870.0</td>\n",
       "      <td>2019</td>\n",
       "      <td>2018</td>\n",
       "      <td>삼성</td>\n",
       "      <td>상장</td>\n",
       "      <td>비금융</td>\n",
       "      <td>170381870.0</td>\n",
       "      <td>비상장</td>\n",
       "      <td>비금융</td>\n",
       "      <td>samsung</td>\n",
       "      <td>511</td>\n",
       "      <td>380725</td>\n",
       "      <td>18082125</td>\n",
       "    </tr>\n",
       "    <tr>\n",
       "      <th>2</th>\n",
       "      <td>삼성전자</td>\n",
       "      <td>삼성디스플레이</td>\n",
       "      <td>164404.0</td>\n",
       "      <td>2269950.0</td>\n",
       "      <td>149436938.0</td>\n",
       "      <td>16821275.0</td>\n",
       "      <td>153560595.0</td>\n",
       "      <td>170381870.0</td>\n",
       "      <td>2019</td>\n",
       "      <td>2018</td>\n",
       "      <td>삼성</td>\n",
       "      <td>상장</td>\n",
       "      <td>비금융</td>\n",
       "      <td>170381870.0</td>\n",
       "      <td>비상장</td>\n",
       "      <td>비금융</td>\n",
       "      <td>samsung</td>\n",
       "      <td>511</td>\n",
       "      <td>380725</td>\n",
       "      <td>18082126</td>\n",
       "    </tr>\n",
       "    <tr>\n",
       "      <th>3</th>\n",
       "      <td>삼성전자</td>\n",
       "      <td>세메스</td>\n",
       "      <td>5.0</td>\n",
       "      <td>2269950.0</td>\n",
       "      <td>149436938.0</td>\n",
       "      <td>16821275.0</td>\n",
       "      <td>153560595.0</td>\n",
       "      <td>170381870.0</td>\n",
       "      <td>2019</td>\n",
       "      <td>2018</td>\n",
       "      <td>삼성</td>\n",
       "      <td>상장</td>\n",
       "      <td>비금융</td>\n",
       "      <td>170381870.0</td>\n",
       "      <td>비상장</td>\n",
       "      <td>비금융</td>\n",
       "      <td>samsung</td>\n",
       "      <td>511</td>\n",
       "      <td>380725</td>\n",
       "      <td>314528</td>\n",
       "    </tr>\n",
       "    <tr>\n",
       "      <th>4</th>\n",
       "      <td>삼성전자</td>\n",
       "      <td>삼성전자서비스</td>\n",
       "      <td>456109.0</td>\n",
       "      <td>2269950.0</td>\n",
       "      <td>149436938.0</td>\n",
       "      <td>16821275.0</td>\n",
       "      <td>153560595.0</td>\n",
       "      <td>170381870.0</td>\n",
       "      <td>2019</td>\n",
       "      <td>2018</td>\n",
       "      <td>삼성</td>\n",
       "      <td>상장</td>\n",
       "      <td>비금융</td>\n",
       "      <td>170381870.0</td>\n",
       "      <td>비상장</td>\n",
       "      <td>비금융</td>\n",
       "      <td>samsung</td>\n",
       "      <td>511</td>\n",
       "      <td>380725</td>\n",
       "      <td>952133</td>\n",
       "    </tr>\n",
       "  </tbody>\n",
       "</table>\n",
       "</div>"
      ],
      "text/plain": [
       "   매출회사      매입회사       매출액  국내계열사계(매출액)  해외계열사계(매출액)       국내매출액  \\\n",
       "0  삼성전자      삼성물산   78676.0    2269950.0  149436938.0  16821275.0   \n",
       "1  삼성전자  삼성바이오에피스       1.0    2269950.0  149436938.0  16821275.0   \n",
       "2  삼성전자   삼성디스플레이  164404.0    2269950.0  149436938.0  16821275.0   \n",
       "3  삼성전자       세메스       5.0    2269950.0  149436938.0  16821275.0   \n",
       "4  삼성전자   삼성전자서비스  456109.0    2269950.0  149436938.0  16821275.0   \n",
       "\n",
       "         해외매출액        매출액총계  year2  year grpname2 매출사상/비 매출사금융/비금융  \\\n",
       "0  153560595.0  170381870.0   2019  2018       삼성     상장       비금융   \n",
       "1  153560595.0  170381870.0   2019  2018       삼성     상장       비금융   \n",
       "2  153560595.0  170381870.0   2019  2018       삼성     상장       비금융   \n",
       "3  153560595.0  170381870.0   2019  2018       삼성     상장       비금융   \n",
       "4  153560595.0  170381870.0   2019  2018       삼성     상장       비금융   \n",
       "\n",
       "        매출액Val 매입사상/비 매입사금융/비금융  grpname  grpcode  매출회사id    매입회사id  \n",
       "0  170381870.0     상장       비금융  samsung      511  380725    810053  \n",
       "1  170381870.0    비상장       비금융  samsung      511  380725  18082125  \n",
       "2  170381870.0    비상장       비금융  samsung      511  380725  18082126  \n",
       "3  170381870.0    비상장       비금융  samsung      511  380725    314528  \n",
       "4  170381870.0    비상장       비금융  samsung      511  380725    952133  "
      ]
     },
     "execution_count": 125,
     "metadata": {},
     "output_type": "execute_result"
    }
   ],
   "source": [
    "dfTrans19Dmstc[dfTrans19Dmstc['매출회사상/비'] == '상장']"
   ]
  },
  {
   "cell_type": "markdown",
   "id": "c8510c05",
   "metadata": {},
   "source": [
    "## 기업수"
   ]
  },
  {
   "cell_type": "code",
   "execution_count": 124,
   "id": "5889f554",
   "metadata": {},
   "outputs": [
    {
     "data": {
      "text/plain": [
       "241"
      ]
     },
     "execution_count": 124,
     "metadata": {},
     "output_type": "execute_result"
    }
   ],
   "source": [
    "dfCmpnySumry18[~dfCmpnySumry18['기업공개일'].isna()]['소속회사명'].nunique()"
   ]
  },
  {
   "cell_type": "code",
   "execution_count": 205,
   "id": "eb0b2e38",
   "metadata": {},
   "outputs": [
    {
     "data": {
      "text/plain": [
       "1673"
      ]
     },
     "execution_count": 205,
     "metadata": {},
     "output_type": "execute_result"
    }
   ],
   "source": [
    "dfCmpnySumry18[dfCmpnySumry18['기업공개일'].isna()]['소속회사명'].nunique()"
   ]
  },
  {
   "cell_type": "code",
   "execution_count": 130,
   "id": "cfff9e05",
   "metadata": {},
   "outputs": [
    {
     "data": {
      "text/plain": [
       "210"
      ]
     },
     "execution_count": 130,
     "metadata": {},
     "output_type": "execute_result"
    }
   ],
   "source": [
    "dfCmpnySumry19[~dfCmpnySumry19['기업공개일'].isna()]['소속회사명'].nunique()"
   ]
  },
  {
   "cell_type": "code",
   "execution_count": 206,
   "id": "3a7d9e7b",
   "metadata": {},
   "outputs": [
    {
     "data": {
      "text/plain": [
       "1519"
      ]
     },
     "execution_count": 206,
     "metadata": {},
     "output_type": "execute_result"
    }
   ],
   "source": [
    "dfCmpnySumry19[dfCmpnySumry19['기업공개일'].isna()]['소속회사명'].nunique()"
   ]
  },
  {
   "cell_type": "code",
   "execution_count": 131,
   "id": "a05bde1d",
   "metadata": {},
   "outputs": [
    {
     "data": {
      "text/plain": [
       "256"
      ]
     },
     "execution_count": 131,
     "metadata": {},
     "output_type": "execute_result"
    }
   ],
   "source": [
    "dfCmpnySumry20[~dfCmpnySumry20['기업공개일'].isna()]['소속회사명'].nunique()"
   ]
  },
  {
   "cell_type": "code",
   "execution_count": 207,
   "id": "965d81ac",
   "metadata": {},
   "outputs": [
    {
     "data": {
      "text/plain": [
       "1840"
      ]
     },
     "execution_count": 207,
     "metadata": {},
     "output_type": "execute_result"
    }
   ],
   "source": [
    "dfCmpnySumry20[dfCmpnySumry20['기업공개일'].isna()]['소속회사명'].nunique()"
   ]
  },
  {
   "cell_type": "code",
   "execution_count": 132,
   "id": "d691db7b",
   "metadata": {},
   "outputs": [
    {
     "data": {
      "text/plain": [
       "258"
      ]
     },
     "execution_count": 132,
     "metadata": {},
     "output_type": "execute_result"
    }
   ],
   "source": [
    "dfCmpnySumry21[~dfCmpnySumry21['기업공개일'].isna()]['소속회사명'].nunique()"
   ]
  },
  {
   "cell_type": "code",
   "execution_count": 208,
   "id": "d0fb4db8",
   "metadata": {},
   "outputs": [
    {
     "data": {
      "text/plain": [
       "2152"
      ]
     },
     "execution_count": 208,
     "metadata": {},
     "output_type": "execute_result"
    }
   ],
   "source": [
    "dfCmpnySumry21[dfCmpnySumry21['기업공개일'].isna()]['소속회사명'].nunique()"
   ]
  },
  {
   "cell_type": "markdown",
   "id": "e7be341f",
   "metadata": {},
   "source": [
    "## 상장비율"
   ]
  },
  {
   "cell_type": "code",
   "execution_count": 139,
   "id": "cceb6dbe",
   "metadata": {},
   "outputs": [
    {
     "data": {
      "text/plain": [
       "0.12591431556948798"
      ]
     },
     "execution_count": 139,
     "metadata": {},
     "output_type": "execute_result"
    }
   ],
   "source": [
    "dfCmpnySumry18[~dfCmpnySumry18['기업공개일'].isna()]['소속회사명'].nunique() / dfCmpnySumry18['소속회사명'].nunique() "
   ]
  },
  {
   "cell_type": "code",
   "execution_count": 140,
   "id": "b45d48f6",
   "metadata": {},
   "outputs": [
    {
     "data": {
      "text/plain": [
       "0.1214574898785425"
      ]
     },
     "execution_count": 140,
     "metadata": {},
     "output_type": "execute_result"
    }
   ],
   "source": [
    "dfCmpnySumry19[~dfCmpnySumry19['기업공개일'].isna()]['소속회사명'].nunique() / dfCmpnySumry19['소속회사명'].nunique()"
   ]
  },
  {
   "cell_type": "code",
   "execution_count": 141,
   "id": "3e6101e8",
   "metadata": {},
   "outputs": [
    {
     "data": {
      "text/plain": [
       "0.12213740458015267"
      ]
     },
     "execution_count": 141,
     "metadata": {},
     "output_type": "execute_result"
    }
   ],
   "source": [
    "dfCmpnySumry20[~dfCmpnySumry20['기업공개일'].isna()]['소속회사명'].nunique() / dfCmpnySumry20['소속회사명'].nunique()"
   ]
  },
  {
   "cell_type": "code",
   "execution_count": 142,
   "id": "e4d233a8",
   "metadata": {},
   "outputs": [
    {
     "data": {
      "text/plain": [
       "0.10705394190871369"
      ]
     },
     "execution_count": 142,
     "metadata": {},
     "output_type": "execute_result"
    }
   ],
   "source": [
    "dfCmpnySumry21[~dfCmpnySumry21['기업공개일'].isna()]['소속회사명'].nunique() / dfCmpnySumry21['소속회사명'].nunique()"
   ]
  },
  {
   "cell_type": "markdown",
   "id": "35bc4195",
   "metadata": {},
   "source": [
    "## 평균거래계열사수"
   ]
  },
  {
   "cell_type": "code",
   "execution_count": 145,
   "id": "2daaa667",
   "metadata": {},
   "outputs": [
    {
     "data": {
      "text/html": [
       "<div>\n",
       "<style scoped>\n",
       "    .dataframe tbody tr th:only-of-type {\n",
       "        vertical-align: middle;\n",
       "    }\n",
       "\n",
       "    .dataframe tbody tr th {\n",
       "        vertical-align: top;\n",
       "    }\n",
       "\n",
       "    .dataframe thead th {\n",
       "        text-align: right;\n",
       "    }\n",
       "</style>\n",
       "<table border=\"1\" class=\"dataframe\">\n",
       "  <thead>\n",
       "    <tr style=\"text-align: right;\">\n",
       "      <th></th>\n",
       "      <th>year</th>\n",
       "      <th>year2</th>\n",
       "      <th>grpname</th>\n",
       "      <th>grpname2</th>\n",
       "      <th>grpcode</th>\n",
       "      <th>매출회사</th>\n",
       "      <th>매출회사id</th>\n",
       "      <th>매출사\\n상/비</th>\n",
       "      <th>매입회사</th>\n",
       "      <th>매입회사id</th>\n",
       "      <th>매입사\\n상/비</th>\n",
       "      <th>매출액</th>\n",
       "      <th>매출회사\\n국내계열사계</th>\n",
       "      <th>매출회사\\n해외계열사계</th>\n",
       "      <th>매출회사\\n매출액총계</th>\n",
       "      <th>매출회사\\n국내매출액</th>\n",
       "      <th>매출회사\\n해외매출액</th>\n",
       "      <th>재벌순위</th>\n",
       "      <th>매출사 CFR\\n(우선주포함)</th>\n",
       "      <th>매출사 FAM\\n(우선주포함)</th>\n",
       "    </tr>\n",
       "  </thead>\n",
       "  <tbody>\n",
       "    <tr>\n",
       "      <th>2</th>\n",
       "      <td>2017</td>\n",
       "      <td>2018</td>\n",
       "      <td>DB</td>\n",
       "      <td>DB</td>\n",
       "      <td>365</td>\n",
       "      <td>DBInc.</td>\n",
       "      <td>352098</td>\n",
       "      <td>상장</td>\n",
       "      <td>DB금융투자</td>\n",
       "      <td>821640</td>\n",
       "      <td>상장</td>\n",
       "      <td>1424.0</td>\n",
       "      <td>43037.0</td>\n",
       "      <td>0</td>\n",
       "      <td>199530.0</td>\n",
       "      <td>123317.0</td>\n",
       "      <td>76213.0</td>\n",
       "      <td>36</td>\n",
       "      <td>0.401239</td>\n",
       "      <td>0.401239</td>\n",
       "    </tr>\n",
       "    <tr>\n",
       "      <th>3</th>\n",
       "      <td>2017</td>\n",
       "      <td>2018</td>\n",
       "      <td>DB</td>\n",
       "      <td>DB</td>\n",
       "      <td>365</td>\n",
       "      <td>DBInc.</td>\n",
       "      <td>352098</td>\n",
       "      <td>상장</td>\n",
       "      <td>DB라이텍</td>\n",
       "      <td>137656</td>\n",
       "      <td>상장</td>\n",
       "      <td>307.0</td>\n",
       "      <td>43037.0</td>\n",
       "      <td>0</td>\n",
       "      <td>199530.0</td>\n",
       "      <td>123317.0</td>\n",
       "      <td>76213.0</td>\n",
       "      <td>36</td>\n",
       "      <td>0.401239</td>\n",
       "      <td>0.401239</td>\n",
       "    </tr>\n",
       "    <tr>\n",
       "      <th>4</th>\n",
       "      <td>2017</td>\n",
       "      <td>2018</td>\n",
       "      <td>DB</td>\n",
       "      <td>DB</td>\n",
       "      <td>365</td>\n",
       "      <td>DBInc.</td>\n",
       "      <td>352098</td>\n",
       "      <td>상장</td>\n",
       "      <td>DB메탈</td>\n",
       "      <td>12097776</td>\n",
       "      <td>비상장</td>\n",
       "      <td>1566.0</td>\n",
       "      <td>43037.0</td>\n",
       "      <td>0</td>\n",
       "      <td>199530.0</td>\n",
       "      <td>123317.0</td>\n",
       "      <td>76213.0</td>\n",
       "      <td>36</td>\n",
       "      <td>0.401239</td>\n",
       "      <td>0.401239</td>\n",
       "    </tr>\n",
       "    <tr>\n",
       "      <th>5</th>\n",
       "      <td>2017</td>\n",
       "      <td>2018</td>\n",
       "      <td>DB</td>\n",
       "      <td>DB</td>\n",
       "      <td>365</td>\n",
       "      <td>DBInc.</td>\n",
       "      <td>352098</td>\n",
       "      <td>상장</td>\n",
       "      <td>DB생명보험</td>\n",
       "      <td>821420</td>\n",
       "      <td>비상장</td>\n",
       "      <td>5291.0</td>\n",
       "      <td>43037.0</td>\n",
       "      <td>0</td>\n",
       "      <td>199530.0</td>\n",
       "      <td>123317.0</td>\n",
       "      <td>76213.0</td>\n",
       "      <td>36</td>\n",
       "      <td>0.401239</td>\n",
       "      <td>0.401239</td>\n",
       "    </tr>\n",
       "    <tr>\n",
       "      <th>6</th>\n",
       "      <td>2017</td>\n",
       "      <td>2018</td>\n",
       "      <td>DB</td>\n",
       "      <td>DB</td>\n",
       "      <td>365</td>\n",
       "      <td>DBInc.</td>\n",
       "      <td>352098</td>\n",
       "      <td>상장</td>\n",
       "      <td>DB손해보험</td>\n",
       "      <td>870099</td>\n",
       "      <td>상장</td>\n",
       "      <td>13298.0</td>\n",
       "      <td>43037.0</td>\n",
       "      <td>0</td>\n",
       "      <td>199530.0</td>\n",
       "      <td>123317.0</td>\n",
       "      <td>76213.0</td>\n",
       "      <td>36</td>\n",
       "      <td>0.401239</td>\n",
       "      <td>0.401239</td>\n",
       "    </tr>\n",
       "  </tbody>\n",
       "</table>\n",
       "</div>"
      ],
      "text/plain": [
       "   year  year2 grpname grpname2  grpcode    매출회사  매출회사id 매출사\\n상/비    매입회사  \\\n",
       "2  2017   2018      DB       DB      365  DBInc.  352098       상장  DB금융투자   \n",
       "3  2017   2018      DB       DB      365  DBInc.  352098       상장   DB라이텍   \n",
       "4  2017   2018      DB       DB      365  DBInc.  352098       상장    DB메탈   \n",
       "5  2017   2018      DB       DB      365  DBInc.  352098       상장  DB생명보험   \n",
       "6  2017   2018      DB       DB      365  DBInc.  352098       상장  DB손해보험   \n",
       "\n",
       "     매입회사id 매입사\\n상/비      매출액  매출회사\\n국내계열사계  매출회사\\n해외계열사계  매출회사\\n매출액총계  \\\n",
       "2    821640       상장   1424.0       43037.0             0     199530.0   \n",
       "3    137656       상장    307.0       43037.0             0     199530.0   \n",
       "4  12097776      비상장   1566.0       43037.0             0     199530.0   \n",
       "5    821420      비상장   5291.0       43037.0             0     199530.0   \n",
       "6    870099       상장  13298.0       43037.0             0     199530.0   \n",
       "\n",
       "   매출회사\\n국내매출액  매출회사\\n해외매출액  재벌순위  매출사 CFR\\n(우선주포함)  매출사 FAM\\n(우선주포함)  \n",
       "2     123317.0      76213.0    36          0.401239          0.401239  \n",
       "3     123317.0      76213.0    36          0.401239          0.401239  \n",
       "4     123317.0      76213.0    36          0.401239          0.401239  \n",
       "5     123317.0      76213.0    36          0.401239          0.401239  \n",
       "6     123317.0      76213.0    36          0.401239          0.401239  "
      ]
     },
     "execution_count": 145,
     "metadata": {},
     "output_type": "execute_result"
    }
   ],
   "source": [
    "dfTrans18Dmstc.head()"
   ]
  },
  {
   "cell_type": "code",
   "execution_count": 197,
   "id": "43c5ce74",
   "metadata": {},
   "outputs": [
    {
     "data": {
      "text/plain": [
       "5.377742946708464"
      ]
     },
     "execution_count": 197,
     "metadata": {},
     "output_type": "execute_result"
    }
   ],
   "source": [
    "len(dfTrans18Dmstc) /\\\n",
    "dfCmpnySumry18['소속회사명'].nunique()"
   ]
  },
  {
   "cell_type": "code",
   "execution_count": 146,
   "id": "022d6f18",
   "metadata": {},
   "outputs": [
    {
     "data": {
      "text/plain": [
       "14.867219917012449"
      ]
     },
     "execution_count": 146,
     "metadata": {},
     "output_type": "execute_result"
    }
   ],
   "source": [
    "len(dfTrans18Dmstc[dfTrans18Dmstc['매출사\\n상/비'] == '상장']) /\\\n",
    "dfCmpnySumry18[~dfCmpnySumry18['기업공개일'].isna()]['소속회사명'].nunique()"
   ]
  },
  {
   "cell_type": "code",
   "execution_count": 196,
   "id": "a87bd73a",
   "metadata": {},
   "outputs": [
    {
     "data": {
      "text/plain": [
       "4.010759115361626"
      ]
     },
     "execution_count": 196,
     "metadata": {},
     "output_type": "execute_result"
    }
   ],
   "source": [
    "len(dfTrans18Dmstc[dfTrans18Dmstc['매출사\\n상/비'] == '비상장']) /\\\n",
    "dfCmpnySumry18[dfCmpnySumry18['기업공개일'].isna()]['소속회사명'].nunique()"
   ]
  },
  {
   "cell_type": "code",
   "execution_count": 198,
   "id": "9490eab9",
   "metadata": {},
   "outputs": [
    {
     "data": {
      "text/plain": [
       "6.47541931752458"
      ]
     },
     "execution_count": 198,
     "metadata": {},
     "output_type": "execute_result"
    }
   ],
   "source": [
    "len(dfTrans19Dmstc) /\\\n",
    "dfCmpnySumry19['소속회사명'].nunique()"
   ]
  },
  {
   "cell_type": "code",
   "execution_count": 148,
   "id": "cf144b3f",
   "metadata": {},
   "outputs": [
    {
     "data": {
      "text/plain": [
       "18.97142857142857"
      ]
     },
     "execution_count": 148,
     "metadata": {},
     "output_type": "execute_result"
    }
   ],
   "source": [
    "len(dfTrans19Dmstc[dfTrans19Dmstc['매출사상/비'] == '상장']) /\\\n",
    "dfCmpnySumry19[~dfCmpnySumry19['기업공개일'].isna()]['소속회사명'].nunique()"
   ]
  },
  {
   "cell_type": "code",
   "execution_count": 199,
   "id": "f8f14774",
   "metadata": {},
   "outputs": [
    {
     "data": {
      "text/plain": [
       "4.720210664911126"
      ]
     },
     "execution_count": 199,
     "metadata": {},
     "output_type": "execute_result"
    }
   ],
   "source": [
    "len(dfTrans19Dmstc[dfTrans19Dmstc['매출사상/비'] == '비상장']) /\\\n",
    "dfCmpnySumry19[dfCmpnySumry19['기업공개일'].isna()]['소속회사명'].nunique()"
   ]
  },
  {
   "cell_type": "code",
   "execution_count": 200,
   "id": "f35cecac",
   "metadata": {},
   "outputs": [
    {
     "data": {
      "text/plain": [
       "5.333969465648855"
      ]
     },
     "execution_count": 200,
     "metadata": {},
     "output_type": "execute_result"
    }
   ],
   "source": [
    "len(dfTrans20Dmstc) /\\\n",
    "dfCmpnySumry20['소속회사명'].nunique()"
   ]
  },
  {
   "cell_type": "code",
   "execution_count": 150,
   "id": "3648c2b4",
   "metadata": {},
   "outputs": [
    {
     "data": {
      "text/plain": [
       "15.39453125"
      ]
     },
     "execution_count": 150,
     "metadata": {},
     "output_type": "execute_result"
    }
   ],
   "source": [
    "len(dfTrans20Dmstc[dfTrans20Dmstc['매출사상/비'] == '상장']) /\\\n",
    "dfCmpnySumry20[~dfCmpnySumry20['기업공개일'].isna()]['소속회사명'].nunique()"
   ]
  },
  {
   "cell_type": "code",
   "execution_count": 201,
   "id": "69f1c343",
   "metadata": {},
   "outputs": [
    {
     "data": {
      "text/plain": [
       "3.9326086956521737"
      ]
     },
     "execution_count": 201,
     "metadata": {},
     "output_type": "execute_result"
    }
   ],
   "source": [
    "len(dfTrans20Dmstc[dfTrans20Dmstc['매출사상/비'] == '비상장']) /\\\n",
    "dfCmpnySumry20[dfCmpnySumry20['기업공개일'].isna()]['소속회사명'].nunique()"
   ]
  },
  {
   "cell_type": "code",
   "execution_count": 203,
   "id": "c5bd5c46",
   "metadata": {},
   "outputs": [
    {
     "data": {
      "text/plain": [
       "4.914107883817428"
      ]
     },
     "execution_count": 203,
     "metadata": {},
     "output_type": "execute_result"
    }
   ],
   "source": [
    "len(dfTrans21Dmstc) /\\\n",
    "dfCmpnySumry21['소속회사명'].nunique()"
   ]
  },
  {
   "cell_type": "code",
   "execution_count": 151,
   "id": "4970fd1e",
   "metadata": {},
   "outputs": [
    {
     "data": {
      "text/plain": [
       "15.717054263565892"
      ]
     },
     "execution_count": 151,
     "metadata": {},
     "output_type": "execute_result"
    }
   ],
   "source": [
    "len(dfTrans21Dmstc[dfTrans21Dmstc['매출사상/비'] == '상장']) /\\\n",
    "dfCmpnySumry21[~dfCmpnySumry21['기업공개일'].isna()]['소속회사명'].nunique()"
   ]
  },
  {
   "cell_type": "code",
   "execution_count": 204,
   "id": "1a801a5e",
   "metadata": {},
   "outputs": [
    {
     "data": {
      "text/plain": [
       "3.579925650557621"
      ]
     },
     "execution_count": 204,
     "metadata": {},
     "output_type": "execute_result"
    }
   ],
   "source": [
    "len(dfTrans21Dmstc[dfTrans21Dmstc['매출사상/비'] == '비상장']) /\\\n",
    "dfCmpnySumry21[dfCmpnySumry21['기업공개일'].isna()]['소속회사명'].nunique()"
   ]
  },
  {
   "cell_type": "markdown",
   "id": "b7010e60",
   "metadata": {},
   "source": [
    "## 평균내부거래금액"
   ]
  },
  {
   "cell_type": "code",
   "execution_count": 192,
   "id": "9e8c5dcd",
   "metadata": {},
   "outputs": [
    {
     "data": {
      "text/plain": [
       "89177.05471786835"
      ]
     },
     "execution_count": 192,
     "metadata": {},
     "output_type": "execute_result"
    }
   ],
   "source": [
    "dfTrans18Dmstc['매출액'].sum() /\\\n",
    "dfCmpnySumry18['소속회사명'].nunique()"
   ]
  },
  {
   "cell_type": "code",
   "execution_count": 153,
   "id": "4a5d2321",
   "metadata": {},
   "outputs": [
    {
     "data": {
      "text/plain": [
       "309381.1704979253"
      ]
     },
     "execution_count": 153,
     "metadata": {},
     "output_type": "execute_result"
    }
   ],
   "source": [
    "dfTrans18Dmstc[dfTrans18Dmstc['매출사\\n상/비'] == '상장']['매출액'].sum() /\\\n",
    "dfCmpnySumry18[~dfCmpnySumry18['기업공개일'].isna()]['소속회사명'].nunique()"
   ]
  },
  {
   "cell_type": "code",
   "execution_count": 191,
   "id": "cacc2fdd",
   "metadata": {},
   "outputs": [
    {
     "data": {
      "text/plain": [
       "57456.079282725645"
      ]
     },
     "execution_count": 191,
     "metadata": {},
     "output_type": "execute_result"
    }
   ],
   "source": [
    "dfTrans18Dmstc[dfTrans18Dmstc['매출사\\n상/비'] == '비상장']['매출액'].sum() /\\\n",
    "dfCmpnySumry18[dfCmpnySumry18['기업공개일'].isna()]['소속회사명'].nunique()"
   ]
  },
  {
   "cell_type": "code",
   "execution_count": 193,
   "id": "75d4a5d8",
   "metadata": {},
   "outputs": [
    {
     "data": {
      "text/plain": [
       "104231.45515905149"
      ]
     },
     "execution_count": 193,
     "metadata": {},
     "output_type": "execute_result"
    }
   ],
   "source": [
    "dfTrans19Dmstc['매출액'].sum() /\\\n",
    "dfCmpnySumry19['소속회사명'].nunique()"
   ]
  },
  {
   "cell_type": "code",
   "execution_count": 154,
   "id": "0eac4f46",
   "metadata": {},
   "outputs": [
    {
     "data": {
      "text/plain": [
       "377488.03652380954"
      ]
     },
     "execution_count": 154,
     "metadata": {},
     "output_type": "execute_result"
    }
   ],
   "source": [
    "dfTrans19Dmstc[dfTrans19Dmstc['매출사상/비'] == '상장']['매출액'].sum() /\\\n",
    "dfCmpnySumry19[~dfCmpnySumry19['기업공개일'].isna()]['소속회사명'].nunique()"
   ]
  },
  {
   "cell_type": "code",
   "execution_count": 189,
   "id": "7d097f2e",
   "metadata": {},
   "outputs": [
    {
     "data": {
      "text/plain": [
       "66291.31816984859"
      ]
     },
     "execution_count": 189,
     "metadata": {},
     "output_type": "execute_result"
    }
   ],
   "source": [
    "dfTrans19Dmstc[dfTrans19Dmstc['매출사상/비'] == '비상장']['매출액'].sum() /\\\n",
    "dfCmpnySumry19[dfCmpnySumry19['기업공개일'].isna()]['소속회사명'].nunique()"
   ]
  },
  {
   "cell_type": "code",
   "execution_count": 194,
   "id": "8976eedc",
   "metadata": {},
   "outputs": [
    {
     "data": {
      "text/plain": [
       "83745.20840648856"
      ]
     },
     "execution_count": 194,
     "metadata": {},
     "output_type": "execute_result"
    }
   ],
   "source": [
    "dfTrans20Dmstc['매출액'].sum() /\\\n",
    "dfCmpnySumry20['소속회사명'].nunique()"
   ]
  },
  {
   "cell_type": "code",
   "execution_count": 155,
   "id": "7b579dc8",
   "metadata": {},
   "outputs": [
    {
     "data": {
      "text/plain": [
       "313778.3273828125"
      ]
     },
     "execution_count": 155,
     "metadata": {},
     "output_type": "execute_result"
    }
   ],
   "source": [
    "dfTrans20Dmstc[dfTrans20Dmstc['매출사상/비'] == '상장']['매출액'].sum() /\\\n",
    "dfCmpnySumry20[~dfCmpnySumry20['기업공개일'].isna()]['소속회사명'].nunique()"
   ]
  },
  {
   "cell_type": "code",
   "execution_count": 188,
   "id": "b7eaf751",
   "metadata": {},
   "outputs": [
    {
     "data": {
      "text/plain": [
       "51738.08207065218"
      ]
     },
     "execution_count": 188,
     "metadata": {},
     "output_type": "execute_result"
    }
   ],
   "source": [
    "dfTrans20Dmstc[dfTrans20Dmstc['매출사상/비'] == '비상장']['매출액'].sum() /\\\n",
    "dfCmpnySumry20[dfCmpnySumry20['기업공개일'].isna()]['소속회사명'].nunique()"
   ]
  },
  {
   "cell_type": "code",
   "execution_count": 195,
   "id": "13315ec7",
   "metadata": {},
   "outputs": [
    {
     "data": {
      "text/plain": [
       "68118.61605850623"
      ]
     },
     "execution_count": 195,
     "metadata": {},
     "output_type": "execute_result"
    }
   ],
   "source": [
    "dfTrans21Dmstc['매출액'].sum() /\\\n",
    "dfCmpnySumry21['소속회사명'].nunique()"
   ]
  },
  {
   "cell_type": "code",
   "execution_count": 156,
   "id": "c047e409",
   "metadata": {},
   "outputs": [
    {
     "data": {
      "text/plain": [
       "300942.37004263565"
      ]
     },
     "execution_count": 156,
     "metadata": {},
     "output_type": "execute_result"
    }
   ],
   "source": [
    "dfTrans21Dmstc[dfTrans21Dmstc['매출사상/비'] == '상장']['매출액'].sum() /\\\n",
    "dfCmpnySumry21[~dfCmpnySumry21['기업공개일'].isna()]['소속회사명'].nunique()"
   ]
  },
  {
   "cell_type": "code",
   "execution_count": 187,
   "id": "05f6386e",
   "metadata": {},
   "outputs": [
    {
     "data": {
      "text/plain": [
       "38886.16274628253"
      ]
     },
     "execution_count": 187,
     "metadata": {},
     "output_type": "execute_result"
    }
   ],
   "source": [
    "dfTrans21Dmstc[dfTrans21Dmstc['매출사상/비'] == '비상장']['매출액'].sum() /\\\n",
    "dfCmpnySumry21[dfCmpnySumry21['기업공개일'].isna()]['소속회사명'].nunique()"
   ]
  },
  {
   "cell_type": "markdown",
   "id": "0a42ebaf",
   "metadata": {},
   "source": [
    "## 총매출액 대비 내부 거래 비중"
   ]
  },
  {
   "cell_type": "code",
   "execution_count": 158,
   "id": "db773e51",
   "metadata": {},
   "outputs": [
    {
     "data": {
      "text/plain": [
       "74560862.09"
      ]
     },
     "execution_count": 158,
     "metadata": {},
     "output_type": "execute_result"
    }
   ],
   "source": [
    "dfTrans18Dmstc[dfTrans18Dmstc['매출사\\n상/비'] == '상장']['매출액'].sum()"
   ]
  },
  {
   "cell_type": "code",
   "execution_count": 164,
   "id": "cbbf0ef0",
   "metadata": {},
   "outputs": [],
   "source": [
    "dfCmpnySumry18['매출액'] = dfCmpnySumry18['매출액'].replace(',', '', regex=True).astype(float)\n",
    "dfCmpnySumry19['매출액'] = dfCmpnySumry19['매출액'].replace(',', '', regex=True).astype(float)\n",
    "dfCmpnySumry20['매출액'] = dfCmpnySumry20['매출액'].replace(',', '', regex=True).astype(float)\n",
    "dfCmpnySumry21['매출액'] = dfCmpnySumry21['매출액'].replace(',', '', regex=True).astype(float)"
   ]
  },
  {
   "cell_type": "code",
   "execution_count": 176,
   "id": "c58eaae7",
   "metadata": {},
   "outputs": [
    {
     "data": {
      "text/plain": [
       "0.12403513724952457"
      ]
     },
     "execution_count": 176,
     "metadata": {},
     "output_type": "execute_result"
    }
   ],
   "source": [
    "dfTrans18Dmstc['매출액'].sum() /\\\n",
    "dfCmpnySumry18['매출액'].sum()"
   ]
  },
  {
   "cell_type": "code",
   "execution_count": 165,
   "id": "72cd936c",
   "metadata": {},
   "outputs": [
    {
     "data": {
      "text/plain": [
       "0.0782614507175856"
      ]
     },
     "execution_count": 165,
     "metadata": {},
     "output_type": "execute_result"
    }
   ],
   "source": [
    "dfTrans18Dmstc[dfTrans18Dmstc['매출사\\n상/비'] == '상장']['매출액'].sum() /\\\n",
    "dfCmpnySumry18[~dfCmpnySumry18['기업공개일'].isna()]['매출액'].sum()"
   ]
  },
  {
   "cell_type": "code",
   "execution_count": 186,
   "id": "fe1e7606",
   "metadata": {},
   "outputs": [
    {
     "data": {
      "text/plain": [
       "0.22703637075159872"
      ]
     },
     "execution_count": 186,
     "metadata": {},
     "output_type": "execute_result"
    }
   ],
   "source": [
    "dfTrans18Dmstc[dfTrans18Dmstc['매출사\\n상/비'] == '비상장']['매출액'].sum() /\\\n",
    "dfCmpnySumry18[dfCmpnySumry18['기업공개일'].isna()]['매출액'].sum()"
   ]
  },
  {
   "cell_type": "code",
   "execution_count": 177,
   "id": "406853a6",
   "metadata": {},
   "outputs": [
    {
     "data": {
      "text/plain": [
       "0.13610687872554067"
      ]
     },
     "execution_count": 177,
     "metadata": {},
     "output_type": "execute_result"
    }
   ],
   "source": [
    "dfTrans19Dmstc['매출액'].sum() /\\\n",
    "dfCmpnySumry19['매출액'].sum()"
   ]
  },
  {
   "cell_type": "code",
   "execution_count": 168,
   "id": "24eb5ec2",
   "metadata": {},
   "outputs": [
    {
     "data": {
      "text/plain": [
       "0.08722634434487488"
      ]
     },
     "execution_count": 168,
     "metadata": {},
     "output_type": "execute_result"
    }
   ],
   "source": [
    "dfTrans19Dmstc[dfTrans19Dmstc['매출사상/비'] == '상장']['매출액'].sum() /\\\n",
    "dfCmpnySumry19[~dfCmpnySumry19['기업공개일'].isna()]['매출액'].sum()"
   ]
  },
  {
   "cell_type": "code",
   "execution_count": 184,
   "id": "9248c561",
   "metadata": {},
   "outputs": [
    {
     "data": {
      "text/plain": [
       "0.24248743815576534"
      ]
     },
     "execution_count": 184,
     "metadata": {},
     "output_type": "execute_result"
    }
   ],
   "source": [
    "dfTrans19Dmstc[dfTrans19Dmstc['매출사상/비'] == '비상장']['매출액'].sum() /\\\n",
    "dfCmpnySumry19[dfCmpnySumry19['기업공개일'].isna()]['매출액'].sum()"
   ]
  },
  {
   "cell_type": "code",
   "execution_count": 178,
   "id": "2d0ccccf",
   "metadata": {},
   "outputs": [
    {
     "data": {
      "text/plain": [
       "0.12519751803095414"
      ]
     },
     "execution_count": 178,
     "metadata": {},
     "output_type": "execute_result"
    }
   ],
   "source": [
    "dfTrans20Dmstc['매출액'].sum() /\\\n",
    "dfCmpnySumry20['매출액'].sum()"
   ]
  },
  {
   "cell_type": "code",
   "execution_count": 169,
   "id": "fa5b7e05",
   "metadata": {},
   "outputs": [
    {
     "data": {
      "text/plain": [
       "0.08403641724358478"
      ]
     },
     "execution_count": 169,
     "metadata": {},
     "output_type": "execute_result"
    }
   ],
   "source": [
    "dfTrans20Dmstc[dfTrans20Dmstc['매출사상/비'] == '상장']['매출액'].sum() /\\\n",
    "dfCmpnySumry20[~dfCmpnySumry20['기업공개일'].isna()]['매출액'].sum()"
   ]
  },
  {
   "cell_type": "code",
   "execution_count": 183,
   "id": "bc03bf0c",
   "metadata": {},
   "outputs": [
    {
     "data": {
      "text/plain": [
       "0.21337115894153658"
      ]
     },
     "execution_count": 183,
     "metadata": {},
     "output_type": "execute_result"
    }
   ],
   "source": [
    "dfTrans20Dmstc[dfTrans20Dmstc['매출사상/비'] == '비상장']['매출액'].sum() /\\\n",
    "dfCmpnySumry20[dfCmpnySumry20['기업공개일'].isna()]['매출액'].sum()"
   ]
  },
  {
   "cell_type": "code",
   "execution_count": 180,
   "id": "e1f5b823",
   "metadata": {},
   "outputs": [
    {
     "data": {
      "text/plain": [
       "0.11843155744759018"
      ]
     },
     "execution_count": 180,
     "metadata": {},
     "output_type": "execute_result"
    }
   ],
   "source": [
    "dfTrans21Dmstc['매출액'].sum() /\\\n",
    "dfCmpnySumry21['매출액'].sum() * 1000000"
   ]
  },
  {
   "cell_type": "code",
   "execution_count": 175,
   "id": "33e74a5c",
   "metadata": {},
   "outputs": [
    {
     "data": {
      "text/plain": [
       "0.07972019573023983"
      ]
     },
     "execution_count": 175,
     "metadata": {},
     "output_type": "execute_result"
    }
   ],
   "source": [
    "dfTrans21Dmstc[dfTrans21Dmstc['매출사상/비'] == '상장']['매출액'].sum() /\\\n",
    "dfCmpnySumry21[~dfCmpnySumry21['기업공개일'].isna()]['매출액'].sum() * 1000000"
   ]
  },
  {
   "cell_type": "code",
   "execution_count": 182,
   "id": "be7b29f7",
   "metadata": {},
   "outputs": [
    {
     "data": {
      "text/plain": [
       "0.20300524247199242"
      ]
     },
     "execution_count": 182,
     "metadata": {},
     "output_type": "execute_result"
    }
   ],
   "source": [
    "dfTrans21Dmstc[dfTrans21Dmstc['매출사상/비'] == '비상장']['매출액'].sum() /\\\n",
    "dfCmpnySumry21[dfCmpnySumry21['기업공개일'].isna()]['매출액'].sum() * 1000000"
   ]
  },
  {
   "cell_type": "code",
   "execution_count": 97,
   "id": "f3e9a6dd",
   "metadata": {},
   "outputs": [
    {
     "data": {
      "text/html": [
       "<div>\n",
       "<style scoped>\n",
       "    .dataframe tbody tr th:only-of-type {\n",
       "        vertical-align: middle;\n",
       "    }\n",
       "\n",
       "    .dataframe tbody tr th {\n",
       "        vertical-align: top;\n",
       "    }\n",
       "\n",
       "    .dataframe thead th {\n",
       "        text-align: right;\n",
       "    }\n",
       "</style>\n",
       "<table border=\"1\" class=\"dataframe\">\n",
       "  <thead>\n",
       "    <tr style=\"text-align: right;\">\n",
       "      <th></th>\n",
       "      <th>year</th>\n",
       "      <th>year2</th>\n",
       "      <th>grpname</th>\n",
       "      <th>grpname2</th>\n",
       "      <th>grpcode</th>\n",
       "      <th>매출회사</th>\n",
       "      <th>매출회사id</th>\n",
       "      <th>매출사\\n상/비</th>\n",
       "      <th>매입회사</th>\n",
       "      <th>매입회사id</th>\n",
       "      <th>매입사\\n상/비</th>\n",
       "      <th>매출액</th>\n",
       "      <th>매출회사\\n국내계열사계</th>\n",
       "      <th>매출회사\\n해외계열사계</th>\n",
       "      <th>매출회사\\n매출액총계</th>\n",
       "      <th>매출회사\\n국내매출액</th>\n",
       "      <th>매출회사\\n해외매출액</th>\n",
       "      <th>재벌순위</th>\n",
       "      <th>매출사 CFR\\n(우선주포함)</th>\n",
       "      <th>매출사 FAM\\n(우선주포함)</th>\n",
       "    </tr>\n",
       "  </thead>\n",
       "  <tbody>\n",
       "    <tr>\n",
       "      <th>2</th>\n",
       "      <td>2017</td>\n",
       "      <td>2018</td>\n",
       "      <td>DB</td>\n",
       "      <td>DB</td>\n",
       "      <td>365</td>\n",
       "      <td>DBInc.</td>\n",
       "      <td>352098</td>\n",
       "      <td>상장</td>\n",
       "      <td>DB금융투자</td>\n",
       "      <td>821640</td>\n",
       "      <td>상장</td>\n",
       "      <td>1424.0</td>\n",
       "      <td>43037.0</td>\n",
       "      <td>0</td>\n",
       "      <td>199530.0</td>\n",
       "      <td>123317.0</td>\n",
       "      <td>76213.0</td>\n",
       "      <td>36</td>\n",
       "      <td>0.401239</td>\n",
       "      <td>0.401239</td>\n",
       "    </tr>\n",
       "    <tr>\n",
       "      <th>3</th>\n",
       "      <td>2017</td>\n",
       "      <td>2018</td>\n",
       "      <td>DB</td>\n",
       "      <td>DB</td>\n",
       "      <td>365</td>\n",
       "      <td>DBInc.</td>\n",
       "      <td>352098</td>\n",
       "      <td>상장</td>\n",
       "      <td>DB라이텍</td>\n",
       "      <td>137656</td>\n",
       "      <td>상장</td>\n",
       "      <td>307.0</td>\n",
       "      <td>43037.0</td>\n",
       "      <td>0</td>\n",
       "      <td>199530.0</td>\n",
       "      <td>123317.0</td>\n",
       "      <td>76213.0</td>\n",
       "      <td>36</td>\n",
       "      <td>0.401239</td>\n",
       "      <td>0.401239</td>\n",
       "    </tr>\n",
       "    <tr>\n",
       "      <th>4</th>\n",
       "      <td>2017</td>\n",
       "      <td>2018</td>\n",
       "      <td>DB</td>\n",
       "      <td>DB</td>\n",
       "      <td>365</td>\n",
       "      <td>DBInc.</td>\n",
       "      <td>352098</td>\n",
       "      <td>상장</td>\n",
       "      <td>DB메탈</td>\n",
       "      <td>12097776</td>\n",
       "      <td>비상장</td>\n",
       "      <td>1566.0</td>\n",
       "      <td>43037.0</td>\n",
       "      <td>0</td>\n",
       "      <td>199530.0</td>\n",
       "      <td>123317.0</td>\n",
       "      <td>76213.0</td>\n",
       "      <td>36</td>\n",
       "      <td>0.401239</td>\n",
       "      <td>0.401239</td>\n",
       "    </tr>\n",
       "    <tr>\n",
       "      <th>5</th>\n",
       "      <td>2017</td>\n",
       "      <td>2018</td>\n",
       "      <td>DB</td>\n",
       "      <td>DB</td>\n",
       "      <td>365</td>\n",
       "      <td>DBInc.</td>\n",
       "      <td>352098</td>\n",
       "      <td>상장</td>\n",
       "      <td>DB생명보험</td>\n",
       "      <td>821420</td>\n",
       "      <td>비상장</td>\n",
       "      <td>5291.0</td>\n",
       "      <td>43037.0</td>\n",
       "      <td>0</td>\n",
       "      <td>199530.0</td>\n",
       "      <td>123317.0</td>\n",
       "      <td>76213.0</td>\n",
       "      <td>36</td>\n",
       "      <td>0.401239</td>\n",
       "      <td>0.401239</td>\n",
       "    </tr>\n",
       "    <tr>\n",
       "      <th>6</th>\n",
       "      <td>2017</td>\n",
       "      <td>2018</td>\n",
       "      <td>DB</td>\n",
       "      <td>DB</td>\n",
       "      <td>365</td>\n",
       "      <td>DBInc.</td>\n",
       "      <td>352098</td>\n",
       "      <td>상장</td>\n",
       "      <td>DB손해보험</td>\n",
       "      <td>870099</td>\n",
       "      <td>상장</td>\n",
       "      <td>13298.0</td>\n",
       "      <td>43037.0</td>\n",
       "      <td>0</td>\n",
       "      <td>199530.0</td>\n",
       "      <td>123317.0</td>\n",
       "      <td>76213.0</td>\n",
       "      <td>36</td>\n",
       "      <td>0.401239</td>\n",
       "      <td>0.401239</td>\n",
       "    </tr>\n",
       "  </tbody>\n",
       "</table>\n",
       "</div>"
      ],
      "text/plain": [
       "   year  year2 grpname grpname2  grpcode    매출회사  매출회사id 매출사\\n상/비    매입회사  \\\n",
       "2  2017   2018      DB       DB      365  DBInc.  352098       상장  DB금융투자   \n",
       "3  2017   2018      DB       DB      365  DBInc.  352098       상장   DB라이텍   \n",
       "4  2017   2018      DB       DB      365  DBInc.  352098       상장    DB메탈   \n",
       "5  2017   2018      DB       DB      365  DBInc.  352098       상장  DB생명보험   \n",
       "6  2017   2018      DB       DB      365  DBInc.  352098       상장  DB손해보험   \n",
       "\n",
       "     매입회사id 매입사\\n상/비      매출액  매출회사\\n국내계열사계  매출회사\\n해외계열사계  매출회사\\n매출액총계  \\\n",
       "2    821640       상장   1424.0       43037.0             0     199530.0   \n",
       "3    137656       상장    307.0       43037.0             0     199530.0   \n",
       "4  12097776      비상장   1566.0       43037.0             0     199530.0   \n",
       "5    821420      비상장   5291.0       43037.0             0     199530.0   \n",
       "6    870099       상장  13298.0       43037.0             0     199530.0   \n",
       "\n",
       "   매출회사\\n국내매출액  매출회사\\n해외매출액  재벌순위  매출사 CFR\\n(우선주포함)  매출사 FAM\\n(우선주포함)  \n",
       "2     123317.0      76213.0    36          0.401239          0.401239  \n",
       "3     123317.0      76213.0    36          0.401239          0.401239  \n",
       "4     123317.0      76213.0    36          0.401239          0.401239  \n",
       "5     123317.0      76213.0    36          0.401239          0.401239  \n",
       "6     123317.0      76213.0    36          0.401239          0.401239  "
      ]
     },
     "execution_count": 97,
     "metadata": {},
     "output_type": "execute_result"
    }
   ],
   "source": [
    "dfTrans18Dmstc.head()"
   ]
  },
  {
   "cell_type": "markdown",
   "id": "e86be418",
   "metadata": {},
   "source": [
    "# 10대 재벌"
   ]
  },
  {
   "cell_type": "code",
   "execution_count": 210,
   "id": "72c3aa61",
   "metadata": {},
   "outputs": [
    {
     "data": {
      "text/plain": [
       "0       삼성\n",
       "1    현대자동차\n",
       "2     에스케이\n",
       "3       엘지\n",
       "4       롯데\n",
       "5      지에스\n",
       "6       한화\n",
       "7    현대중공업\n",
       "8      신세계\n",
       "9       두산\n",
       "Name: chaebol, dtype: object"
      ]
     },
     "execution_count": 210,
     "metadata": {},
     "output_type": "execute_result"
    }
   ],
   "source": [
    "dfAffilNum18['chaebol'][:10]"
   ]
  },
  {
   "cell_type": "code",
   "execution_count": 212,
   "id": "b2a4ce74",
   "metadata": {},
   "outputs": [
    {
     "data": {
      "text/plain": [
       "array(['두산', '롯데', '삼성', '신세계', '에스케이', '엘지', '지에스', '한화', '현대자동차',\n",
       "       '현대중공업'], dtype=object)"
      ]
     },
     "execution_count": 212,
     "metadata": {},
     "output_type": "execute_result"
    }
   ],
   "source": [
    "dfTrans18Dmstc10Big = dfTrans18Dmstc[dfTrans18Dmstc['grpname2'].isin(dfAffilNum18['chaebol'][:10])]\n",
    "dfTrans18Dmstc10Big['grpname2'].unique()"
   ]
  },
  {
   "cell_type": "code",
   "execution_count": 213,
   "id": "b26344f7",
   "metadata": {},
   "outputs": [
    {
     "data": {
      "text/plain": [
       "array(['두산', '롯데', '삼성', '신세계', '에스케이', '엘지', '지에스', '한화', '현대자동차',\n",
       "       '현대중공업'], dtype=object)"
      ]
     },
     "execution_count": 213,
     "metadata": {},
     "output_type": "execute_result"
    }
   ],
   "source": [
    "dfCmpnySumry18Big10 = dfCmpnySumry18[dfCmpnySumry18['기업집단명'].isin(dfAffilNum18['chaebol'][:10])]\n",
    "dfCmpnySumry18Big10['기업집단명'].unique()"
   ]
  },
  {
   "cell_type": "code",
   "execution_count": 214,
   "id": "f9c884cd",
   "metadata": {},
   "outputs": [],
   "source": [
    "dfTrans18Dmstc10Big = dfTrans18Dmstc[dfTrans18Dmstc['grpname2'].isin(dfAffilNum18['chaebol'][:10])]\n",
    "dfCmpnySumry18Big10 = dfCmpnySumry18[dfCmpnySumry18['기업집단명'].isin(dfAffilNum18['chaebol'][:10])]\n",
    "dfTrans18Dmstc5Big = dfTrans18Dmstc[dfTrans18Dmstc['grpname2'].isin(dfAffilNum18['chaebol'][:5])]\n",
    "dfCmpnySumry18Big5 = dfCmpnySumry18[dfCmpnySumry18['기업집단명'].isin(dfAffilNum18['chaebol'][:5])]"
   ]
  },
  {
   "cell_type": "code",
   "execution_count": 215,
   "id": "4f34a843",
   "metadata": {},
   "outputs": [],
   "source": [
    "dfTrans19Dmstc10Big = dfTrans19Dmstc[dfTrans19Dmstc['grpname2'].isin(dfAffilNum19['chaebol'][:10])]\n",
    "dfCmpnySumry19Big10 = dfCmpnySumry19[dfCmpnySumry19['기업집단명'].isin(dfAffilNum19['chaebol'][:10])]\n",
    "dfTrans19Dmstc5Big = dfTrans19Dmstc[dfTrans19Dmstc['grpname2'].isin(dfAffilNum19['chaebol'][:5])]\n",
    "dfCmpnySumry19Big5 = dfCmpnySumry19[dfCmpnySumry19['기업집단명'].isin(dfAffilNum19['chaebol'][:5])]"
   ]
  },
  {
   "cell_type": "code",
   "execution_count": 217,
   "id": "c56a37ae",
   "metadata": {},
   "outputs": [],
   "source": [
    "dfTrans20Dmstc10Big = dfTrans20Dmstc[dfTrans20Dmstc['grpname2'].isin(dfAffilNum20['chaebol'][:10])]\n",
    "dfCmpnySumry20Big10 = dfCmpnySumry20[dfCmpnySumry20['기업집단명'].isin(dfAffilNum20['chaebol'][:10])]\n",
    "dfTrans20Dmstc5Big = dfTrans20Dmstc[dfTrans20Dmstc['grpname2'].isin(dfAffilNum20['chaebol'][:5])]\n",
    "dfCmpnySumry20Big5 = dfCmpnySumry20[dfCmpnySumry20['기업집단명'].isin(dfAffilNum20['chaebol'][:5])]"
   ]
  },
  {
   "cell_type": "code",
   "execution_count": 218,
   "id": "3cee90e9",
   "metadata": {},
   "outputs": [],
   "source": [
    "dfTrans21Dmstc10Big = dfTrans21Dmstc[dfTrans21Dmstc['grpname2'].isin(dfAffilNum21['chaebol'][:10])]\n",
    "dfCmpnySumry21Big10 = dfCmpnySumry21[dfCmpnySumry21['기업집단명'].isin(dfAffilNum21['chaebol'][:10])]\n",
    "dfTrans21Dmstc5Big = dfTrans21Dmstc[dfTrans21Dmstc['grpname2'].isin(dfAffilNum21['chaebol'][:5])]\n",
    "dfCmpnySumry21Big5 = dfCmpnySumry21[dfCmpnySumry21['기업집단명'].isin(dfAffilNum21['chaebol'][:5])]"
   ]
  },
  {
   "cell_type": "markdown",
   "id": "fef13958",
   "metadata": {},
   "source": [
    "## 기업수"
   ]
  },
  {
   "cell_type": "code",
   "execution_count": 219,
   "id": "9935950d",
   "metadata": {},
   "outputs": [
    {
     "data": {
      "text/plain": [
       "98"
      ]
     },
     "execution_count": 219,
     "metadata": {},
     "output_type": "execute_result"
    }
   ],
   "source": [
    "dfCmpnySumry18Big10[~dfCmpnySumry18Big10['기업공개일'].isna()]['소속회사명'].nunique()"
   ]
  },
  {
   "cell_type": "code",
   "execution_count": 221,
   "id": "337f2f6c",
   "metadata": {},
   "outputs": [
    {
     "data": {
      "text/plain": [
       "535"
      ]
     },
     "execution_count": 221,
     "metadata": {},
     "output_type": "execute_result"
    }
   ],
   "source": [
    "dfCmpnySumry18Big10[dfCmpnySumry18Big10['기업공개일'].isna()]['소속회사명'].nunique()"
   ]
  },
  {
   "cell_type": "code",
   "execution_count": 222,
   "id": "fb2fe69c",
   "metadata": {},
   "outputs": [
    {
     "data": {
      "text/plain": [
       "96"
      ]
     },
     "execution_count": 222,
     "metadata": {},
     "output_type": "execute_result"
    }
   ],
   "source": [
    "dfCmpnySumry19Big10[~dfCmpnySumry19Big10['기업공개일'].isna()]['소속회사명'].nunique()"
   ]
  },
  {
   "cell_type": "code",
   "execution_count": 223,
   "id": "3a8e6263",
   "metadata": {},
   "outputs": [
    {
     "data": {
      "text/plain": [
       "539"
      ]
     },
     "execution_count": 223,
     "metadata": {},
     "output_type": "execute_result"
    }
   ],
   "source": [
    "dfCmpnySumry19Big10[dfCmpnySumry19Big10['기업공개일'].isna()]['소속회사명'].nunique()"
   ]
  },
  {
   "cell_type": "code",
   "execution_count": 224,
   "id": "8bb7d7ef",
   "metadata": {},
   "outputs": [
    {
     "data": {
      "text/plain": [
       "105"
      ]
     },
     "execution_count": 224,
     "metadata": {},
     "output_type": "execute_result"
    }
   ],
   "source": [
    "dfCmpnySumry20Big10[~dfCmpnySumry20Big10['기업공개일'].isna()]['소속회사명'].nunique()"
   ]
  },
  {
   "cell_type": "code",
   "execution_count": 225,
   "id": "b6bc94c7",
   "metadata": {},
   "outputs": [
    {
     "data": {
      "text/plain": [
       "589"
      ]
     },
     "execution_count": 225,
     "metadata": {},
     "output_type": "execute_result"
    }
   ],
   "source": [
    "dfCmpnySumry20Big10[dfCmpnySumry20Big10['기업공개일'].isna()]['소속회사명'].nunique()"
   ]
  },
  {
   "cell_type": "code",
   "execution_count": 227,
   "id": "8d0fe418",
   "metadata": {},
   "outputs": [
    {
     "data": {
      "text/plain": [
       "105"
      ]
     },
     "execution_count": 227,
     "metadata": {},
     "output_type": "execute_result"
    }
   ],
   "source": [
    "dfCmpnySumry21Big10[~dfCmpnySumry21Big10['기업공개일'].isna()]['소속회사명'].nunique()"
   ]
  },
  {
   "cell_type": "code",
   "execution_count": 226,
   "id": "679dbc96",
   "metadata": {},
   "outputs": [
    {
     "data": {
      "text/plain": [
       "628"
      ]
     },
     "execution_count": 226,
     "metadata": {},
     "output_type": "execute_result"
    }
   ],
   "source": [
    "dfCmpnySumry21Big10[dfCmpnySumry21Big10['기업공개일'].isna()]['소속회사명'].nunique()"
   ]
  },
  {
   "cell_type": "markdown",
   "id": "e04b638f",
   "metadata": {},
   "source": [
    "## 상장비율"
   ]
  },
  {
   "cell_type": "code",
   "execution_count": 228,
   "id": "aabb1f2f",
   "metadata": {},
   "outputs": [
    {
     "data": {
      "text/plain": [
       "0.15481832543443919"
      ]
     },
     "execution_count": 228,
     "metadata": {},
     "output_type": "execute_result"
    }
   ],
   "source": [
    "dfCmpnySumry18Big10[~dfCmpnySumry18Big10['기업공개일'].isna()]['소속회사명'].nunique() /\\\n",
    "dfCmpnySumry18Big10['소속회사명'].nunique() "
   ]
  },
  {
   "cell_type": "code",
   "execution_count": 140,
   "id": "9153cab4",
   "metadata": {},
   "outputs": [
    {
     "data": {
      "text/plain": [
       "0.1214574898785425"
      ]
     },
     "execution_count": 140,
     "metadata": {},
     "output_type": "execute_result"
    }
   ],
   "source": [
    "dfCmpnySumry19Big10[~dfCmpnySumry19Big10['기업공개일'].isna()]['소속회사명'].nunique() /\\\n",
    "dfCmpnySumry19Big10['소속회사명'].nunique()"
   ]
  },
  {
   "cell_type": "code",
   "execution_count": 229,
   "id": "3dab9c62",
   "metadata": {},
   "outputs": [
    {
     "data": {
      "text/plain": [
       "0.15129682997118155"
      ]
     },
     "execution_count": 229,
     "metadata": {},
     "output_type": "execute_result"
    }
   ],
   "source": [
    "dfCmpnySumry20Big10[~dfCmpnySumry20Big10['기업공개일'].isna()]['소속회사명'].nunique() /\\\n",
    "dfCmpnySumry20Big10['소속회사명'].nunique()"
   ]
  },
  {
   "cell_type": "code",
   "execution_count": 230,
   "id": "df61dc18",
   "metadata": {},
   "outputs": [
    {
     "data": {
      "text/plain": [
       "0.1432469304229195"
      ]
     },
     "execution_count": 230,
     "metadata": {},
     "output_type": "execute_result"
    }
   ],
   "source": [
    "dfCmpnySumry21Big10[~dfCmpnySumry21Big10['기업공개일'].isna()]['소속회사명'].nunique() /\\\n",
    "dfCmpnySumry21Big10['소속회사명'].nunique()"
   ]
  },
  {
   "cell_type": "markdown",
   "id": "7ef4dde2",
   "metadata": {},
   "source": [
    "## 평균거래계열사수"
   ]
  },
  {
   "cell_type": "code",
   "execution_count": 231,
   "id": "6f4b2aed",
   "metadata": {},
   "outputs": [
    {
     "data": {
      "text/plain": [
       "9.437598736176936"
      ]
     },
     "execution_count": 231,
     "metadata": {},
     "output_type": "execute_result"
    }
   ],
   "source": [
    "len(dfTrans18Dmstc10Big) /\\\n",
    "dfCmpnySumry18Big10['소속회사명'].nunique()"
   ]
  },
  {
   "cell_type": "code",
   "execution_count": 232,
   "id": "4ce9ac5a",
   "metadata": {},
   "outputs": [
    {
     "data": {
      "text/plain": [
       "22.93877551020408"
      ]
     },
     "execution_count": 232,
     "metadata": {},
     "output_type": "execute_result"
    }
   ],
   "source": [
    "len(dfTrans18Dmstc10Big[dfTrans18Dmstc10Big['매출사\\n상/비'] == '상장']) /\\\n",
    "dfCmpnySumry18Big10[~dfCmpnySumry18Big10['기업공개일'].isna()]['소속회사명'].nunique()"
   ]
  },
  {
   "cell_type": "code",
   "execution_count": 233,
   "id": "9acb4982",
   "metadata": {},
   "outputs": [
    {
     "data": {
      "text/plain": [
       "6.964485981308411"
      ]
     },
     "execution_count": 233,
     "metadata": {},
     "output_type": "execute_result"
    }
   ],
   "source": [
    "len(dfTrans18Dmstc10Big[dfTrans18Dmstc10Big['매출사\\n상/비'] == '비상장']) /\\\n",
    "dfCmpnySumry18Big10[dfCmpnySumry18Big10['기업공개일'].isna()]['소속회사명'].nunique()"
   ]
  },
  {
   "cell_type": "code",
   "execution_count": 234,
   "id": "c1228805",
   "metadata": {},
   "outputs": [
    {
     "data": {
      "text/plain": [
       "10.171653543307087"
      ]
     },
     "execution_count": 234,
     "metadata": {},
     "output_type": "execute_result"
    }
   ],
   "source": [
    "len(dfTrans19Dmstc10Big) /\\\n",
    "dfCmpnySumry19Big10['소속회사명'].nunique()"
   ]
  },
  {
   "cell_type": "code",
   "execution_count": 235,
   "id": "869ddbf1",
   "metadata": {},
   "outputs": [
    {
     "data": {
      "text/plain": [
       "26.572916666666668"
      ]
     },
     "execution_count": 235,
     "metadata": {},
     "output_type": "execute_result"
    }
   ],
   "source": [
    "len(dfTrans19Dmstc10Big[dfTrans19Dmstc10Big['매출사상/비'] == '상장']) /\\\n",
    "dfCmpnySumry19Big10[~dfCmpnySumry19Big10['기업공개일'].isna()]['소속회사명'].nunique()"
   ]
  },
  {
   "cell_type": "code",
   "execution_count": 236,
   "id": "ac93a1a3",
   "metadata": {},
   "outputs": [
    {
     "data": {
      "text/plain": [
       "7.244897959183674"
      ]
     },
     "execution_count": 236,
     "metadata": {},
     "output_type": "execute_result"
    }
   ],
   "source": [
    "len(dfTrans19Dmstc10Big[dfTrans19Dmstc10Big['매출사상/비'] == '비상장']) /\\\n",
    "dfCmpnySumry19Big10[dfCmpnySumry19Big10['기업공개일'].isna()]['소속회사명'].nunique()"
   ]
  },
  {
   "cell_type": "code",
   "execution_count": 237,
   "id": "09f591c9",
   "metadata": {},
   "outputs": [
    {
     "data": {
      "text/plain": [
       "9.32420749279539"
      ]
     },
     "execution_count": 237,
     "metadata": {},
     "output_type": "execute_result"
    }
   ],
   "source": [
    "len(dfTrans20Dmstc10Big) /\\\n",
    "dfCmpnySumry20Big10['소속회사명'].nunique()"
   ]
  },
  {
   "cell_type": "code",
   "execution_count": 238,
   "id": "b92676e0",
   "metadata": {},
   "outputs": [
    {
     "data": {
      "text/plain": [
       "24.495238095238093"
      ]
     },
     "execution_count": 238,
     "metadata": {},
     "output_type": "execute_result"
    }
   ],
   "source": [
    "len(dfTrans20Dmstc10Big[dfTrans20Dmstc10Big['매출사상/비'] == '상장']) /\\\n",
    "dfCmpnySumry20Big10[~dfCmpnySumry20Big10['기업공개일'].isna()]['소속회사명'].nunique()"
   ]
  },
  {
   "cell_type": "code",
   "execution_count": 239,
   "id": "1136c2b4",
   "metadata": {},
   "outputs": [
    {
     "data": {
      "text/plain": [
       "6.619694397283531"
      ]
     },
     "execution_count": 239,
     "metadata": {},
     "output_type": "execute_result"
    }
   ],
   "source": [
    "len(dfTrans20Dmstc10Big[dfTrans20Dmstc10Big['매출사상/비'] == '비상장']) /\\\n",
    "dfCmpnySumry20Big10[dfCmpnySumry20Big10['기업공개일'].isna()]['소속회사명'].nunique()"
   ]
  },
  {
   "cell_type": "code",
   "execution_count": 240,
   "id": "14d9a4bc",
   "metadata": {},
   "outputs": [
    {
     "data": {
      "text/plain": [
       "8.881309686221009"
      ]
     },
     "execution_count": 240,
     "metadata": {},
     "output_type": "execute_result"
    }
   ],
   "source": [
    "len(dfTrans21Dmstc10Big) /\\\n",
    "dfCmpnySumry21Big10['소속회사명'].nunique()"
   ]
  },
  {
   "cell_type": "code",
   "execution_count": 241,
   "id": "0b35b4a3",
   "metadata": {},
   "outputs": [
    {
     "data": {
      "text/plain": [
       "24.83809523809524"
      ]
     },
     "execution_count": 241,
     "metadata": {},
     "output_type": "execute_result"
    }
   ],
   "source": [
    "len(dfTrans21Dmstc10Big[dfTrans21Dmstc10Big['매출사상/비'] == '상장']) /\\\n",
    "dfCmpnySumry21Big10[~dfCmpnySumry21Big10['기업공개일'].isna()]['소속회사명'].nunique()"
   ]
  },
  {
   "cell_type": "code",
   "execution_count": 242,
   "id": "1181c34f",
   "metadata": {},
   "outputs": [
    {
     "data": {
      "text/plain": [
       "6.1050955414012735"
      ]
     },
     "execution_count": 242,
     "metadata": {},
     "output_type": "execute_result"
    }
   ],
   "source": [
    "len(dfTrans21Dmstc10Big[dfTrans21Dmstc10Big['매출사상/비'] == '비상장']) /\\\n",
    "dfCmpnySumry21Big10[dfCmpnySumry21Big10['기업공개일'].isna()]['소속회사명'].nunique()"
   ]
  },
  {
   "cell_type": "markdown",
   "id": "30886ef1",
   "metadata": {},
   "source": [
    "## 평균내부거래금액"
   ]
  },
  {
   "cell_type": "code",
   "execution_count": 243,
   "id": "fce7270d",
   "metadata": {},
   "outputs": [
    {
     "data": {
      "text/plain": [
       "224344.33807266984"
      ]
     },
     "execution_count": 243,
     "metadata": {},
     "output_type": "execute_result"
    }
   ],
   "source": [
    "dfTrans18Dmstc10Big['매출액'].sum() /\\\n",
    "dfCmpnySumry18Big10['소속회사명'].nunique()"
   ]
  },
  {
   "cell_type": "code",
   "execution_count": 244,
   "id": "780edbe8",
   "metadata": {},
   "outputs": [
    {
     "data": {
      "text/plain": [
       "637309.9489795918"
      ]
     },
     "execution_count": 244,
     "metadata": {},
     "output_type": "execute_result"
    }
   ],
   "source": [
    "dfTrans18Dmstc10Big[dfTrans18Dmstc10Big['매출사\\n상/비'] == '상장']['매출액'].sum() /\\\n",
    "dfCmpnySumry18Big10[~dfCmpnySumry18Big10['기업공개일'].isna()]['소속회사명'].nunique()"
   ]
  },
  {
   "cell_type": "code",
   "execution_count": 245,
   "id": "21ad6d7e",
   "metadata": {},
   "outputs": [
    {
     "data": {
      "text/plain": [
       "148698.30093457943"
      ]
     },
     "execution_count": 245,
     "metadata": {},
     "output_type": "execute_result"
    }
   ],
   "source": [
    "dfTrans18Dmstc10Big[dfTrans18Dmstc10Big['매출사\\n상/비'] == '비상장']['매출액'].sum() /\\\n",
    "dfCmpnySumry18Big10[dfCmpnySumry18Big10['기업공개일'].isna()]['소속회사명'].nunique()"
   ]
  },
  {
   "cell_type": "code",
   "execution_count": 246,
   "id": "b59b4697",
   "metadata": {},
   "outputs": [
    {
     "data": {
      "text/plain": [
       "242071.67642519684"
      ]
     },
     "execution_count": 246,
     "metadata": {},
     "output_type": "execute_result"
    }
   ],
   "source": [
    "dfTrans19Dmstc10Big['매출액'].sum() /\\\n",
    "dfCmpnySumry19Big10['소속회사명'].nunique()"
   ]
  },
  {
   "cell_type": "code",
   "execution_count": 247,
   "id": "5c4c2b31",
   "metadata": {},
   "outputs": [
    {
     "data": {
      "text/plain": [
       "702813.8805208333"
      ]
     },
     "execution_count": 247,
     "metadata": {},
     "output_type": "execute_result"
    }
   ],
   "source": [
    "dfTrans19Dmstc10Big[dfTrans19Dmstc10Big['매출사상/비'] == '상장']['매출액'].sum() /\\\n",
    "dfCmpnySumry19Big10[~dfCmpnySumry19Big10['기업공개일'].isna()]['소속회사명'].nunique()"
   ]
  },
  {
   "cell_type": "code",
   "execution_count": 248,
   "id": "1fce2f36",
   "metadata": {},
   "outputs": [
    {
     "data": {
      "text/plain": [
       "160005.33580705008"
      ]
     },
     "execution_count": 248,
     "metadata": {},
     "output_type": "execute_result"
    }
   ],
   "source": [
    "dfTrans19Dmstc10Big[dfTrans19Dmstc10Big['매출사상/비'] == '비상장']['매출액'].sum() /\\\n",
    "dfCmpnySumry19Big10[dfCmpnySumry19Big10['기업공개일'].isna()]['소속회사명'].nunique()"
   ]
  },
  {
   "cell_type": "code",
   "execution_count": 249,
   "id": "0226721e",
   "metadata": {},
   "outputs": [
    {
     "data": {
      "text/plain": [
       "218405.34250720462"
      ]
     },
     "execution_count": 249,
     "metadata": {},
     "output_type": "execute_result"
    }
   ],
   "source": [
    "dfTrans20Dmstc10Big['매출액'].sum() /\\\n",
    "dfCmpnySumry20Big10['소속회사명'].nunique()"
   ]
  },
  {
   "cell_type": "code",
   "execution_count": 250,
   "id": "05733260",
   "metadata": {},
   "outputs": [
    {
     "data": {
      "text/plain": [
       "673349.3333333334"
      ]
     },
     "execution_count": 250,
     "metadata": {},
     "output_type": "execute_result"
    }
   ],
   "source": [
    "dfTrans20Dmstc10Big[dfTrans20Dmstc10Big['매출사상/비'] == '상장']['매출액'].sum() /\\\n",
    "dfCmpnySumry20Big10[~dfCmpnySumry20Big10['기업공개일'].isna()]['소속회사명'].nunique()"
   ]
  },
  {
   "cell_type": "code",
   "execution_count": 251,
   "id": "291342db",
   "metadata": {},
   "outputs": [
    {
     "data": {
      "text/plain": [
       "137303.2728353141"
      ]
     },
     "execution_count": 251,
     "metadata": {},
     "output_type": "execute_result"
    }
   ],
   "source": [
    "dfTrans20Dmstc10Big[dfTrans20Dmstc10Big['매출사상/비'] == '비상장']['매출액'].sum() /\\\n",
    "dfCmpnySumry20Big10[dfCmpnySumry20Big10['기업공개일'].isna()]['소속회사명'].nunique()"
   ]
  },
  {
   "cell_type": "code",
   "execution_count": 252,
   "id": "3abbbe09",
   "metadata": {},
   "outputs": [
    {
     "data": {
      "text/plain": [
       "188750.2545702592"
      ]
     },
     "execution_count": 252,
     "metadata": {},
     "output_type": "execute_result"
    }
   ],
   "source": [
    "dfTrans21Dmstc10Big['매출액'].sum() /\\\n",
    "dfCmpnySumry21Big10['소속회사명'].nunique()"
   ]
  },
  {
   "cell_type": "code",
   "execution_count": 253,
   "id": "3f1bc0d9",
   "metadata": {},
   "outputs": [
    {
     "data": {
      "text/plain": [
       "655406.2095238095"
      ]
     },
     "execution_count": 253,
     "metadata": {},
     "output_type": "execute_result"
    }
   ],
   "source": [
    "dfTrans21Dmstc10Big[dfTrans21Dmstc10Big['매출사상/비'] == '상장']['매출액'].sum() /\\\n",
    "dfCmpnySumry21Big10[~dfCmpnySumry21Big10['기업공개일'].isna()]['소속회사명'].nunique()"
   ]
  },
  {
   "cell_type": "code",
   "execution_count": 254,
   "id": "935c0b25",
   "metadata": {},
   "outputs": [
    {
     "data": {
      "text/plain": [
       "106319.9101910828"
      ]
     },
     "execution_count": 254,
     "metadata": {},
     "output_type": "execute_result"
    }
   ],
   "source": [
    "dfTrans21Dmstc10Big[dfTrans21Dmstc10Big['매출사상/비'] == '비상장']['매출액'].sum() /\\\n",
    "dfCmpnySumry21Big10[dfCmpnySumry21Big10['기업공개일'].isna()]['소속회사명'].nunique()"
   ]
  },
  {
   "cell_type": "markdown",
   "id": "99d41da1",
   "metadata": {},
   "source": [
    "## 총매출액 대비 내부 거래 비중"
   ]
  },
  {
   "cell_type": "code",
   "execution_count": 255,
   "id": "e668986e",
   "metadata": {},
   "outputs": [
    {
     "data": {
      "text/plain": [
       "62456375.0"
      ]
     },
     "execution_count": 255,
     "metadata": {},
     "output_type": "execute_result"
    }
   ],
   "source": [
    "dfTrans18Dmstc10Big[dfTrans18Dmstc10Big['매출사\\n상/비'] == '상장']['매출액'].sum()"
   ]
  },
  {
   "cell_type": "code",
   "execution_count": 256,
   "id": "30c25683",
   "metadata": {},
   "outputs": [
    {
     "name": "stderr",
     "output_type": "stream",
     "text": [
      "/var/folders/xw/1rpcyks10ps27v4w_vlbb6s00000gn/T/ipykernel_37869/3917260575.py:1: SettingWithCopyWarning: \n",
      "A value is trying to be set on a copy of a slice from a DataFrame.\n",
      "Try using .loc[row_indexer,col_indexer] = value instead\n",
      "\n",
      "See the caveats in the documentation: https://pandas.pydata.org/pandas-docs/stable/user_guide/indexing.html#returning-a-view-versus-a-copy\n",
      "  dfCmpnySumry18Big10['매출액'] = dfCmpnySumry18Big10['매출액'].replace(',', '', regex=True).astype(float)\n",
      "/var/folders/xw/1rpcyks10ps27v4w_vlbb6s00000gn/T/ipykernel_37869/3917260575.py:2: SettingWithCopyWarning: \n",
      "A value is trying to be set on a copy of a slice from a DataFrame.\n",
      "Try using .loc[row_indexer,col_indexer] = value instead\n",
      "\n",
      "See the caveats in the documentation: https://pandas.pydata.org/pandas-docs/stable/user_guide/indexing.html#returning-a-view-versus-a-copy\n",
      "  dfCmpnySumry19Big10['매출액'] = dfCmpnySumry19Big10['매출액'].replace(',', '', regex=True).astype(float)\n",
      "/var/folders/xw/1rpcyks10ps27v4w_vlbb6s00000gn/T/ipykernel_37869/3917260575.py:3: SettingWithCopyWarning: \n",
      "A value is trying to be set on a copy of a slice from a DataFrame.\n",
      "Try using .loc[row_indexer,col_indexer] = value instead\n",
      "\n",
      "See the caveats in the documentation: https://pandas.pydata.org/pandas-docs/stable/user_guide/indexing.html#returning-a-view-versus-a-copy\n",
      "  dfCmpnySumry20Big10['매출액'] = dfCmpnySumry20Big10['매출액'].replace(',', '', regex=True).astype(float)\n",
      "/var/folders/xw/1rpcyks10ps27v4w_vlbb6s00000gn/T/ipykernel_37869/3917260575.py:4: SettingWithCopyWarning: \n",
      "A value is trying to be set on a copy of a slice from a DataFrame.\n",
      "Try using .loc[row_indexer,col_indexer] = value instead\n",
      "\n",
      "See the caveats in the documentation: https://pandas.pydata.org/pandas-docs/stable/user_guide/indexing.html#returning-a-view-versus-a-copy\n",
      "  dfCmpnySumry21Big10['매출액'] = dfCmpnySumry21Big10['매출액'].replace(',', '', regex=True).astype(float)\n"
     ]
    }
   ],
   "source": [
    "dfCmpnySumry18Big10['매출액'] = dfCmpnySumry18Big10['매출액'].replace(',', '', regex=True).astype(float)\n",
    "dfCmpnySumry19Big10['매출액'] = dfCmpnySumry19Big10['매출액'].replace(',', '', regex=True).astype(float)\n",
    "dfCmpnySumry20Big10['매출액'] = dfCmpnySumry20Big10['매출액'].replace(',', '', regex=True).astype(float)\n",
    "dfCmpnySumry21Big10['매출액'] = dfCmpnySumry21Big10['매출액'].replace(',', '', regex=True).astype(float)"
   ]
  },
  {
   "cell_type": "code",
   "execution_count": 257,
   "id": "33321d92",
   "metadata": {},
   "outputs": [
    {
     "data": {
      "text/plain": [
       "0.13640852179098226"
      ]
     },
     "execution_count": 257,
     "metadata": {},
     "output_type": "execute_result"
    }
   ],
   "source": [
    "dfTrans18Dmstc10Big['매출액'].sum() /\\\n",
    "dfCmpnySumry18Big10['매출액'].sum()"
   ]
  },
  {
   "cell_type": "code",
   "execution_count": 258,
   "id": "fc67efb8",
   "metadata": {},
   "outputs": [
    {
     "data": {
      "text/plain": [
       "0.08483720166654059"
      ]
     },
     "execution_count": 258,
     "metadata": {},
     "output_type": "execute_result"
    }
   ],
   "source": [
    "dfTrans18Dmstc10Big[dfTrans18Dmstc10Big['매출사\\n상/비'] == '상장']['매출액'].sum() /\\\n",
    "dfCmpnySumry18Big10[~dfCmpnySumry18Big10['기업공개일'].isna()]['매출액'].sum()"
   ]
  },
  {
   "cell_type": "code",
   "execution_count": 259,
   "id": "f326e232",
   "metadata": {},
   "outputs": [
    {
     "data": {
      "text/plain": [
       "0.2609402271768699"
      ]
     },
     "execution_count": 259,
     "metadata": {},
     "output_type": "execute_result"
    }
   ],
   "source": [
    "dfTrans18Dmstc10Big[dfTrans18Dmstc10Big['매출사\\n상/비'] == '비상장']['매출액'].sum() /\\\n",
    "dfCmpnySumry18Big10[dfCmpnySumry18Big10['기업공개일'].isna()]['매출액'].sum()"
   ]
  },
  {
   "cell_type": "code",
   "execution_count": 260,
   "id": "d80e66a1",
   "metadata": {},
   "outputs": [
    {
     "data": {
      "text/plain": [
       "0.14724977358513205"
      ]
     },
     "execution_count": 260,
     "metadata": {},
     "output_type": "execute_result"
    }
   ],
   "source": [
    "dfTrans19Dmstc10Big['매출액'].sum() /\\\n",
    "dfCmpnySumry19Big10['매출액'].sum()"
   ]
  },
  {
   "cell_type": "code",
   "execution_count": 261,
   "id": "0f3e11a5",
   "metadata": {},
   "outputs": [
    {
     "data": {
      "text/plain": [
       "0.09129619104595564"
      ]
     },
     "execution_count": 261,
     "metadata": {},
     "output_type": "execute_result"
    }
   ],
   "source": [
    "dfTrans19Dmstc10Big[dfTrans19Dmstc10Big['매출사상/비'] == '상장']['매출액'].sum() /\\\n",
    "dfCmpnySumry19Big10[~dfCmpnySumry19Big10['기업공개일'].isna()]['매출액'].sum()"
   ]
  },
  {
   "cell_type": "code",
   "execution_count": 262,
   "id": "1f50926e",
   "metadata": {},
   "outputs": [
    {
     "data": {
      "text/plain": [
       "0.28286980622854146"
      ]
     },
     "execution_count": 262,
     "metadata": {},
     "output_type": "execute_result"
    }
   ],
   "source": [
    "dfTrans19Dmstc10Big[dfTrans19Dmstc10Big['매출사상/비'] == '비상장']['매출액'].sum() /\\\n",
    "dfCmpnySumry19Big10[dfCmpnySumry19Big10['기업공개일'].isna()]['매출액'].sum()"
   ]
  },
  {
   "cell_type": "code",
   "execution_count": 263,
   "id": "7687b818",
   "metadata": {},
   "outputs": [
    {
     "data": {
      "text/plain": [
       "0.14163446160198662"
      ]
     },
     "execution_count": 263,
     "metadata": {},
     "output_type": "execute_result"
    }
   ],
   "source": [
    "dfTrans20Dmstc10Big['매출액'].sum() /\\\n",
    "dfCmpnySumry20Big10['매출액'].sum()"
   ]
  },
  {
   "cell_type": "code",
   "execution_count": 264,
   "id": "341003e5",
   "metadata": {},
   "outputs": [
    {
     "data": {
      "text/plain": [
       "0.09468821474050394"
      ]
     },
     "execution_count": 264,
     "metadata": {},
     "output_type": "execute_result"
    }
   ],
   "source": [
    "dfTrans20Dmstc10Big[dfTrans20Dmstc10Big['매출사상/비'] == '상장']['매출액'].sum() /\\\n",
    "dfCmpnySumry20Big10[~dfCmpnySumry20Big10['기업공개일'].isna()]['매출액'].sum()"
   ]
  },
  {
   "cell_type": "code",
   "execution_count": 265,
   "id": "c5f78be3",
   "metadata": {},
   "outputs": [
    {
     "data": {
      "text/plain": [
       "0.24999441318400784"
      ]
     },
     "execution_count": 265,
     "metadata": {},
     "output_type": "execute_result"
    }
   ],
   "source": [
    "dfTrans20Dmstc10Big[dfTrans20Dmstc10Big['매출사상/비'] == '비상장']['매출액'].sum() /\\\n",
    "dfCmpnySumry20Big10[dfCmpnySumry20Big10['기업공개일'].isna()]['매출액'].sum()"
   ]
  },
  {
   "cell_type": "code",
   "execution_count": 266,
   "id": "e856d37b",
   "metadata": {},
   "outputs": [
    {
     "data": {
      "text/plain": [
       "0.13400424107916992"
      ]
     },
     "execution_count": 266,
     "metadata": {},
     "output_type": "execute_result"
    }
   ],
   "source": [
    "dfTrans21Dmstc10Big['매출액'].sum() /\\\n",
    "dfCmpnySumry21Big10['매출액'].sum() * 1000000"
   ]
  },
  {
   "cell_type": "code",
   "execution_count": 267,
   "id": "a7752cf5",
   "metadata": {},
   "outputs": [
    {
     "data": {
      "text/plain": [
       "0.09060785612925931"
      ]
     },
     "execution_count": 267,
     "metadata": {},
     "output_type": "execute_result"
    }
   ],
   "source": [
    "dfTrans21Dmstc10Big[dfTrans21Dmstc10Big['매출사상/비'] == '상장']['매출액'].sum() /\\\n",
    "dfCmpnySumry21Big10[~dfCmpnySumry21Big10['기업공개일'].isna()]['매출액'].sum() * 1000000"
   ]
  },
  {
   "cell_type": "code",
   "execution_count": 268,
   "id": "1a579a6e",
   "metadata": {},
   "outputs": [
    {
     "data": {
      "text/plain": [
       "0.2446208732413941"
      ]
     },
     "execution_count": 268,
     "metadata": {},
     "output_type": "execute_result"
    }
   ],
   "source": [
    "dfTrans21Dmstc10Big[dfTrans21Dmstc10Big['매출사상/비'] == '비상장']['매출액'].sum() /\\\n",
    "dfCmpnySumry21Big10[dfCmpnySumry21Big10['기업공개일'].isna()]['매출액'].sum() * 1000000"
   ]
  },
  {
   "cell_type": "markdown",
   "id": "c76146b2",
   "metadata": {},
   "source": [
    "# 5대 재벌"
   ]
  },
  {
   "cell_type": "markdown",
   "id": "61fbe142",
   "metadata": {},
   "source": [
    "## 기업수"
   ]
  },
  {
   "cell_type": "code",
   "execution_count": 269,
   "id": "470f4d1d",
   "metadata": {},
   "outputs": [
    {
     "data": {
      "text/plain": [
       "66"
      ]
     },
     "execution_count": 269,
     "metadata": {},
     "output_type": "execute_result"
    }
   ],
   "source": [
    "dfCmpnySumry18Big5[~dfCmpnySumry18Big5['기업공개일'].isna()]['소속회사명'].nunique()"
   ]
  },
  {
   "cell_type": "code",
   "execution_count": 270,
   "id": "a75b57ec",
   "metadata": {},
   "outputs": [
    {
     "data": {
      "text/plain": [
       "329"
      ]
     },
     "execution_count": 270,
     "metadata": {},
     "output_type": "execute_result"
    }
   ],
   "source": [
    "dfCmpnySumry18Big5[dfCmpnySumry18Big5['기업공개일'].isna()]['소속회사명'].nunique()"
   ]
  },
  {
   "cell_type": "code",
   "execution_count": 271,
   "id": "03702922",
   "metadata": {},
   "outputs": [
    {
     "data": {
      "text/plain": [
       "66"
      ]
     },
     "execution_count": 271,
     "metadata": {},
     "output_type": "execute_result"
    }
   ],
   "source": [
    "dfCmpnySumry19Big5[~dfCmpnySumry19Big5['기업공개일'].isna()]['소속회사명'].nunique()"
   ]
  },
  {
   "cell_type": "code",
   "execution_count": 272,
   "id": "af1f94a6",
   "metadata": {},
   "outputs": [
    {
     "data": {
      "text/plain": [
       "329"
      ]
     },
     "execution_count": 272,
     "metadata": {},
     "output_type": "execute_result"
    }
   ],
   "source": [
    "dfCmpnySumry19Big5[dfCmpnySumry19Big5['기업공개일'].isna()]['소속회사명'].nunique()"
   ]
  },
  {
   "cell_type": "code",
   "execution_count": 273,
   "id": "a13d3438",
   "metadata": {},
   "outputs": [
    {
     "data": {
      "text/plain": [
       "70"
      ]
     },
     "execution_count": 273,
     "metadata": {},
     "output_type": "execute_result"
    }
   ],
   "source": [
    "dfCmpnySumry20Big5[~dfCmpnySumry20Big5['기업공개일'].isna()]['소속회사명'].nunique()"
   ]
  },
  {
   "cell_type": "code",
   "execution_count": 274,
   "id": "818fe250",
   "metadata": {},
   "outputs": [
    {
     "data": {
      "text/plain": [
       "323"
      ]
     },
     "execution_count": 274,
     "metadata": {},
     "output_type": "execute_result"
    }
   ],
   "source": [
    "dfCmpnySumry20Big5[dfCmpnySumry20Big5['기업공개일'].isna()]['소속회사명'].nunique()"
   ]
  },
  {
   "cell_type": "code",
   "execution_count": 275,
   "id": "01c0e472",
   "metadata": {},
   "outputs": [
    {
     "data": {
      "text/plain": [
       "70"
      ]
     },
     "execution_count": 275,
     "metadata": {},
     "output_type": "execute_result"
    }
   ],
   "source": [
    "dfCmpnySumry21Big5[~dfCmpnySumry21Big5['기업공개일'].isna()]['소속회사명'].nunique()"
   ]
  },
  {
   "cell_type": "code",
   "execution_count": 276,
   "id": "98b84890",
   "metadata": {},
   "outputs": [
    {
     "data": {
      "text/plain": [
       "345"
      ]
     },
     "execution_count": 276,
     "metadata": {},
     "output_type": "execute_result"
    }
   ],
   "source": [
    "dfCmpnySumry21Big5[dfCmpnySumry21Big5['기업공개일'].isna()]['소속회사명'].nunique()"
   ]
  },
  {
   "cell_type": "markdown",
   "id": "9cbda461",
   "metadata": {},
   "source": [
    "## 상장비율"
   ]
  },
  {
   "cell_type": "code",
   "execution_count": 277,
   "id": "4674afb3",
   "metadata": {},
   "outputs": [
    {
     "data": {
      "text/plain": [
       "0.1670886075949367"
      ]
     },
     "execution_count": 277,
     "metadata": {},
     "output_type": "execute_result"
    }
   ],
   "source": [
    "dfCmpnySumry18Big5[~dfCmpnySumry18Big5['기업공개일'].isna()]['소속회사명'].nunique() /\\\n",
    "dfCmpnySumry18Big5['소속회사명'].nunique() "
   ]
  },
  {
   "cell_type": "code",
   "execution_count": 278,
   "id": "e884d602",
   "metadata": {},
   "outputs": [
    {
     "data": {
      "text/plain": [
       "0.1670886075949367"
      ]
     },
     "execution_count": 278,
     "metadata": {},
     "output_type": "execute_result"
    }
   ],
   "source": [
    "dfCmpnySumry19Big5[~dfCmpnySumry19Big5['기업공개일'].isna()]['소속회사명'].nunique() /\\\n",
    "dfCmpnySumry19Big5['소속회사명'].nunique()"
   ]
  },
  {
   "cell_type": "code",
   "execution_count": 279,
   "id": "629e4a16",
   "metadata": {},
   "outputs": [
    {
     "data": {
      "text/plain": [
       "0.178117048346056"
      ]
     },
     "execution_count": 279,
     "metadata": {},
     "output_type": "execute_result"
    }
   ],
   "source": [
    "dfCmpnySumry20Big5[~dfCmpnySumry20Big5['기업공개일'].isna()]['소속회사명'].nunique() /\\\n",
    "dfCmpnySumry20Big5['소속회사명'].nunique()"
   ]
  },
  {
   "cell_type": "code",
   "execution_count": 280,
   "id": "c590fe83",
   "metadata": {},
   "outputs": [
    {
     "data": {
      "text/plain": [
       "0.1686746987951807"
      ]
     },
     "execution_count": 280,
     "metadata": {},
     "output_type": "execute_result"
    }
   ],
   "source": [
    "dfCmpnySumry21Big5[~dfCmpnySumry21Big5['기업공개일'].isna()]['소속회사명'].nunique() /\\\n",
    "dfCmpnySumry21Big5['소속회사명'].nunique()"
   ]
  },
  {
   "cell_type": "markdown",
   "id": "13f377a2",
   "metadata": {},
   "source": [
    "## 평균거래계열사수"
   ]
  },
  {
   "cell_type": "code",
   "execution_count": 281,
   "id": "9be08adc",
   "metadata": {},
   "outputs": [
    {
     "data": {
      "text/plain": [
       "11.20506329113924"
      ]
     },
     "execution_count": 281,
     "metadata": {},
     "output_type": "execute_result"
    }
   ],
   "source": [
    "len(dfTrans18Dmstc5Big) /\\\n",
    "dfCmpnySumry18Big5['소속회사명'].nunique()"
   ]
  },
  {
   "cell_type": "code",
   "execution_count": 282,
   "id": "2e47313a",
   "metadata": {},
   "outputs": [
    {
     "data": {
      "text/plain": [
       "25.742424242424242"
      ]
     },
     "execution_count": 282,
     "metadata": {},
     "output_type": "execute_result"
    }
   ],
   "source": [
    "len(dfTrans18Dmstc5Big[dfTrans18Dmstc5Big['매출사\\n상/비'] == '상장']) /\\\n",
    "dfCmpnySumry18Big5[~dfCmpnySumry18Big5['기업공개일'].isna()]['소속회사명'].nunique()"
   ]
  },
  {
   "cell_type": "code",
   "execution_count": 283,
   "id": "ee0b1ab8",
   "metadata": {},
   "outputs": [
    {
     "data": {
      "text/plain": [
       "8.288753799392097"
      ]
     },
     "execution_count": 283,
     "metadata": {},
     "output_type": "execute_result"
    }
   ],
   "source": [
    "len(dfTrans18Dmstc5Big[dfTrans18Dmstc5Big['매출사\\n상/비'] == '비상장']) /\\\n",
    "dfCmpnySumry18Big5[dfCmpnySumry18Big5['기업공개일'].isna()]['소속회사명'].nunique()"
   ]
  },
  {
   "cell_type": "code",
   "execution_count": 284,
   "id": "d01320e1",
   "metadata": {},
   "outputs": [
    {
     "data": {
      "text/plain": [
       "12.521518987341771"
      ]
     },
     "execution_count": 284,
     "metadata": {},
     "output_type": "execute_result"
    }
   ],
   "source": [
    "len(dfTrans19Dmstc5Big) /\\\n",
    "dfCmpnySumry19Big5['소속회사명'].nunique()"
   ]
  },
  {
   "cell_type": "code",
   "execution_count": 285,
   "id": "0815d6f9",
   "metadata": {},
   "outputs": [
    {
     "data": {
      "text/plain": [
       "30.075757575757574"
      ]
     },
     "execution_count": 285,
     "metadata": {},
     "output_type": "execute_result"
    }
   ],
   "source": [
    "len(dfTrans19Dmstc5Big[dfTrans19Dmstc5Big['매출사상/비'] == '상장']) /\\\n",
    "dfCmpnySumry19Big5[~dfCmpnySumry19Big5['기업공개일'].isna()]['소속회사명'].nunique()"
   ]
  },
  {
   "cell_type": "code",
   "execution_count": 286,
   "id": "7fecdc72",
   "metadata": {},
   "outputs": [
    {
     "data": {
      "text/plain": [
       "9.0"
      ]
     },
     "execution_count": 286,
     "metadata": {},
     "output_type": "execute_result"
    }
   ],
   "source": [
    "len(dfTrans19Dmstc5Big[dfTrans19Dmstc5Big['매출사상/비'] == '비상장']) /\\\n",
    "dfCmpnySumry19Big5[dfCmpnySumry19Big5['기업공개일'].isna()]['소속회사명'].nunique()"
   ]
  },
  {
   "cell_type": "code",
   "execution_count": 287,
   "id": "e6f96756",
   "metadata": {},
   "outputs": [
    {
     "data": {
      "text/plain": [
       "11.755725190839694"
      ]
     },
     "execution_count": 287,
     "metadata": {},
     "output_type": "execute_result"
    }
   ],
   "source": [
    "len(dfTrans20Dmstc5Big) /\\\n",
    "dfCmpnySumry20Big5['소속회사명'].nunique()"
   ]
  },
  {
   "cell_type": "code",
   "execution_count": 288,
   "id": "e9091395",
   "metadata": {},
   "outputs": [
    {
     "data": {
      "text/plain": [
       "26.32857142857143"
      ]
     },
     "execution_count": 288,
     "metadata": {},
     "output_type": "execute_result"
    }
   ],
   "source": [
    "len(dfTrans20Dmstc5Big[dfTrans20Dmstc5Big['매출사상/비'] == '상장']) /\\\n",
    "dfCmpnySumry20Big5[~dfCmpnySumry20Big5['기업공개일'].isna()]['소속회사명'].nunique()"
   ]
  },
  {
   "cell_type": "code",
   "execution_count": 289,
   "id": "f5d721ea",
   "metadata": {},
   "outputs": [
    {
     "data": {
      "text/plain": [
       "8.597523219814242"
      ]
     },
     "execution_count": 289,
     "metadata": {},
     "output_type": "execute_result"
    }
   ],
   "source": [
    "len(dfTrans20Dmstc5Big[dfTrans20Dmstc5Big['매출사상/비'] == '비상장']) /\\\n",
    "dfCmpnySumry20Big5[dfCmpnySumry20Big5['기업공개일'].isna()]['소속회사명'].nunique()"
   ]
  },
  {
   "cell_type": "code",
   "execution_count": 290,
   "id": "bd964a58",
   "metadata": {},
   "outputs": [
    {
     "data": {
      "text/plain": [
       "11.086746987951807"
      ]
     },
     "execution_count": 290,
     "metadata": {},
     "output_type": "execute_result"
    }
   ],
   "source": [
    "len(dfTrans21Dmstc5Big) /\\\n",
    "dfCmpnySumry21Big5['소속회사명'].nunique()"
   ]
  },
  {
   "cell_type": "code",
   "execution_count": 291,
   "id": "fbdbc2cb",
   "metadata": {},
   "outputs": [
    {
     "data": {
      "text/plain": [
       "26.857142857142858"
      ]
     },
     "execution_count": 291,
     "metadata": {},
     "output_type": "execute_result"
    }
   ],
   "source": [
    "len(dfTrans21Dmstc5Big[dfTrans21Dmstc5Big['매출사상/비'] == '상장']) /\\\n",
    "dfCmpnySumry21Big5[~dfCmpnySumry21Big5['기업공개일'].isna()]['소속회사명'].nunique()"
   ]
  },
  {
   "cell_type": "code",
   "execution_count": 292,
   "id": "8b6ef652",
   "metadata": {},
   "outputs": [
    {
     "data": {
      "text/plain": [
       "7.808695652173913"
      ]
     },
     "execution_count": 292,
     "metadata": {},
     "output_type": "execute_result"
    }
   ],
   "source": [
    "len(dfTrans21Dmstc5Big[dfTrans21Dmstc5Big['매출사상/비'] == '비상장']) /\\\n",
    "dfCmpnySumry21Big5[dfCmpnySumry21Big5['기업공개일'].isna()]['소속회사명'].nunique()"
   ]
  },
  {
   "cell_type": "markdown",
   "id": "2f1ca399",
   "metadata": {},
   "source": [
    "## 평균내부거래금액"
   ]
  },
  {
   "cell_type": "code",
   "execution_count": 293,
   "id": "10cefab7",
   "metadata": {},
   "outputs": [
    {
     "data": {
      "text/plain": [
       "319931.6"
      ]
     },
     "execution_count": 293,
     "metadata": {},
     "output_type": "execute_result"
    }
   ],
   "source": [
    "dfTrans18Dmstc5Big['매출액'].sum() /\\\n",
    "dfCmpnySumry18Big5['소속회사명'].nunique()"
   ]
  },
  {
   "cell_type": "code",
   "execution_count": 294,
   "id": "5233b6e3",
   "metadata": {},
   "outputs": [
    {
     "data": {
      "text/plain": [
       "867393.1818181818"
      ]
     },
     "execution_count": 294,
     "metadata": {},
     "output_type": "execute_result"
    }
   ],
   "source": [
    "dfTrans18Dmstc5Big[dfTrans18Dmstc5Big['매출사\\n상/비'] == '상장']['매출액'].sum() /\\\n",
    "dfCmpnySumry18Big5[~dfCmpnySumry18Big5['기업공개일'].isna()]['소속회사명'].nunique()"
   ]
  },
  {
   "cell_type": "code",
   "execution_count": 295,
   "id": "74990e42",
   "metadata": {},
   "outputs": [
    {
     "data": {
      "text/plain": [
       "210106.4802431611"
      ]
     },
     "execution_count": 295,
     "metadata": {},
     "output_type": "execute_result"
    }
   ],
   "source": [
    "dfTrans18Dmstc5Big[dfTrans18Dmstc5Big['매출사\\n상/비'] == '비상장']['매출액'].sum() /\\\n",
    "dfCmpnySumry18Big5[dfCmpnySumry18Big5['기업공개일'].isna()]['소속회사명'].nunique()"
   ]
  },
  {
   "cell_type": "code",
   "execution_count": 296,
   "id": "a2776856",
   "metadata": {},
   "outputs": [
    {
     "data": {
      "text/plain": [
       "342313.7974683544"
      ]
     },
     "execution_count": 296,
     "metadata": {},
     "output_type": "execute_result"
    }
   ],
   "source": [
    "dfTrans19Dmstc5Big['매출액'].sum() /\\\n",
    "dfCmpnySumry19Big5['소속회사명'].nunique()"
   ]
  },
  {
   "cell_type": "code",
   "execution_count": 297,
   "id": "1ed85d4c",
   "metadata": {},
   "outputs": [
    {
     "data": {
      "text/plain": [
       "944166.0"
      ]
     },
     "execution_count": 297,
     "metadata": {},
     "output_type": "execute_result"
    }
   ],
   "source": [
    "dfTrans19Dmstc5Big[dfTrans19Dmstc5Big['매출사상/비'] == '상장']['매출액'].sum() /\\\n",
    "dfCmpnySumry19Big5[~dfCmpnySumry19Big5['기업공개일'].isna()]['소속회사명'].nunique()"
   ]
  },
  {
   "cell_type": "code",
   "execution_count": 298,
   "id": "0e178ed5",
   "metadata": {},
   "outputs": [
    {
     "data": {
      "text/plain": [
       "221577.48936170212"
      ]
     },
     "execution_count": 298,
     "metadata": {},
     "output_type": "execute_result"
    }
   ],
   "source": [
    "dfTrans19Dmstc5Big[dfTrans19Dmstc5Big['매출사상/비'] == '비상장']['매출액'].sum() /\\\n",
    "dfCmpnySumry19Big5[dfCmpnySumry19Big5['기업공개일'].isna()]['소속회사명'].nunique()"
   ]
  },
  {
   "cell_type": "code",
   "execution_count": 299,
   "id": "619acc7e",
   "metadata": {},
   "outputs": [
    {
     "data": {
      "text/plain": [
       "327637.3979643766"
      ]
     },
     "execution_count": 299,
     "metadata": {},
     "output_type": "execute_result"
    }
   ],
   "source": [
    "dfTrans20Dmstc5Big['매출액'].sum() /\\\n",
    "dfCmpnySumry20Big5['소속회사명'].nunique()"
   ]
  },
  {
   "cell_type": "code",
   "execution_count": 300,
   "id": "df2f55a9",
   "metadata": {},
   "outputs": [
    {
     "data": {
      "text/plain": [
       "894019.5142857142"
      ]
     },
     "execution_count": 300,
     "metadata": {},
     "output_type": "execute_result"
    }
   ],
   "source": [
    "dfTrans20Dmstc5Big[dfTrans20Dmstc5Big['매출사상/비'] == '상장']['매출액'].sum() /\\\n",
    "dfCmpnySumry20Big5[~dfCmpnySumry20Big5['기업공개일'].isna()]['소속회사명'].nunique()"
   ]
  },
  {
   "cell_type": "code",
   "execution_count": 301,
   "id": "93003ffb",
   "metadata": {},
   "outputs": [
    {
     "data": {
      "text/plain": [
       "204892.04767801857"
      ]
     },
     "execution_count": 301,
     "metadata": {},
     "output_type": "execute_result"
    }
   ],
   "source": [
    "dfTrans20Dmstc5Big[dfTrans20Dmstc5Big['매출사상/비'] == '비상장']['매출액'].sum() /\\\n",
    "dfCmpnySumry20Big5[dfCmpnySumry20Big5['기업공개일'].isna()]['소속회사명'].nunique()"
   ]
  },
  {
   "cell_type": "code",
   "execution_count": 302,
   "id": "08d40a43",
   "metadata": {},
   "outputs": [
    {
     "data": {
      "text/plain": [
       "285201.70120481926"
      ]
     },
     "execution_count": 302,
     "metadata": {},
     "output_type": "execute_result"
    }
   ],
   "source": [
    "dfTrans21Dmstc5Big['매출액'].sum() /\\\n",
    "dfCmpnySumry21Big5['소속회사명'].nunique()"
   ]
  },
  {
   "cell_type": "code",
   "execution_count": 303,
   "id": "6b238118",
   "metadata": {},
   "outputs": [
    {
     "data": {
      "text/plain": [
       "873724.0857142857"
      ]
     },
     "execution_count": 303,
     "metadata": {},
     "output_type": "execute_result"
    }
   ],
   "source": [
    "dfTrans21Dmstc5Big[dfTrans21Dmstc5Big['매출사상/비'] == '상장']['매출액'].sum() /\\\n",
    "dfCmpnySumry21Big5[~dfCmpnySumry21Big5['기업공개일'].isna()]['소속회사명'].nunique()"
   ]
  },
  {
   "cell_type": "code",
   "execution_count": 304,
   "id": "1397e0c6",
   "metadata": {},
   "outputs": [
    {
     "data": {
      "text/plain": [
       "157933.99130434782"
      ]
     },
     "execution_count": 304,
     "metadata": {},
     "output_type": "execute_result"
    }
   ],
   "source": [
    "dfTrans21Dmstc5Big[dfTrans21Dmstc5Big['매출사상/비'] == '비상장']['매출액'].sum() /\\\n",
    "dfCmpnySumry21Big5[dfCmpnySumry21Big5['기업공개일'].isna()]['소속회사명'].nunique()"
   ]
  },
  {
   "cell_type": "markdown",
   "id": "22fcf255",
   "metadata": {},
   "source": [
    "## 총매출액 대비 내부 거래 비중"
   ]
  },
  {
   "cell_type": "code",
   "execution_count": 305,
   "id": "b2ef9208",
   "metadata": {},
   "outputs": [
    {
     "data": {
      "text/plain": [
       "57247950.0"
      ]
     },
     "execution_count": 305,
     "metadata": {},
     "output_type": "execute_result"
    }
   ],
   "source": [
    "dfTrans18Dmstc5Big[dfTrans18Dmstc5Big['매출사\\n상/비'] == '상장']['매출액'].sum()"
   ]
  },
  {
   "cell_type": "code",
   "execution_count": 306,
   "id": "a1bf94ed",
   "metadata": {},
   "outputs": [
    {
     "name": "stderr",
     "output_type": "stream",
     "text": [
      "/var/folders/xw/1rpcyks10ps27v4w_vlbb6s00000gn/T/ipykernel_37869/3946549270.py:1: SettingWithCopyWarning: \n",
      "A value is trying to be set on a copy of a slice from a DataFrame.\n",
      "Try using .loc[row_indexer,col_indexer] = value instead\n",
      "\n",
      "See the caveats in the documentation: https://pandas.pydata.org/pandas-docs/stable/user_guide/indexing.html#returning-a-view-versus-a-copy\n",
      "  dfCmpnySumry18Big5['매출액'] = dfCmpnySumry18Big5['매출액'].replace(',', '', regex=True).astype(float)\n",
      "/var/folders/xw/1rpcyks10ps27v4w_vlbb6s00000gn/T/ipykernel_37869/3946549270.py:2: SettingWithCopyWarning: \n",
      "A value is trying to be set on a copy of a slice from a DataFrame.\n",
      "Try using .loc[row_indexer,col_indexer] = value instead\n",
      "\n",
      "See the caveats in the documentation: https://pandas.pydata.org/pandas-docs/stable/user_guide/indexing.html#returning-a-view-versus-a-copy\n",
      "  dfCmpnySumry19Big5['매출액'] = dfCmpnySumry19Big5['매출액'].replace(',', '', regex=True).astype(float)\n",
      "/var/folders/xw/1rpcyks10ps27v4w_vlbb6s00000gn/T/ipykernel_37869/3946549270.py:3: SettingWithCopyWarning: \n",
      "A value is trying to be set on a copy of a slice from a DataFrame.\n",
      "Try using .loc[row_indexer,col_indexer] = value instead\n",
      "\n",
      "See the caveats in the documentation: https://pandas.pydata.org/pandas-docs/stable/user_guide/indexing.html#returning-a-view-versus-a-copy\n",
      "  dfCmpnySumry20Big5['매출액'] = dfCmpnySumry20Big5['매출액'].replace(',', '', regex=True).astype(float)\n",
      "/var/folders/xw/1rpcyks10ps27v4w_vlbb6s00000gn/T/ipykernel_37869/3946549270.py:4: SettingWithCopyWarning: \n",
      "A value is trying to be set on a copy of a slice from a DataFrame.\n",
      "Try using .loc[row_indexer,col_indexer] = value instead\n",
      "\n",
      "See the caveats in the documentation: https://pandas.pydata.org/pandas-docs/stable/user_guide/indexing.html#returning-a-view-versus-a-copy\n",
      "  dfCmpnySumry21Big5['매출액'] = dfCmpnySumry21Big5['매출액'].replace(',', '', regex=True).astype(float)\n"
     ]
    }
   ],
   "source": [
    "dfCmpnySumry18Big5['매출액'] = dfCmpnySumry18Big5['매출액'].replace(',', '', regex=True).astype(float)\n",
    "dfCmpnySumry19Big5['매출액'] = dfCmpnySumry19Big5['매출액'].replace(',', '', regex=True).astype(float)\n",
    "dfCmpnySumry20Big5['매출액'] = dfCmpnySumry20Big5['매출액'].replace(',', '', regex=True).astype(float)\n",
    "dfCmpnySumry21Big5['매출액'] = dfCmpnySumry21Big5['매출액'].replace(',', '', regex=True).astype(float)"
   ]
  },
  {
   "cell_type": "code",
   "execution_count": 307,
   "id": "974f614b",
   "metadata": {},
   "outputs": [
    {
     "data": {
      "text/plain": [
       "0.14963495125599297"
      ]
     },
     "execution_count": 307,
     "metadata": {},
     "output_type": "execute_result"
    }
   ],
   "source": [
    "dfTrans18Dmstc5Big['매출액'].sum() /\\\n",
    "dfCmpnySumry18Big5['매출액'].sum()"
   ]
  },
  {
   "cell_type": "code",
   "execution_count": 308,
   "id": "a559cd54",
   "metadata": {},
   "outputs": [
    {
     "data": {
      "text/plain": [
       "0.09085207012251635"
      ]
     },
     "execution_count": 308,
     "metadata": {},
     "output_type": "execute_result"
    }
   ],
   "source": [
    "dfTrans18Dmstc5Big[dfTrans18Dmstc5Big['매출사\\n상/비'] == '상장']['매출액'].sum() /\\\n",
    "dfCmpnySumry18Big5[~dfCmpnySumry18Big5['기업공개일'].isna()]['매출액'].sum()"
   ]
  },
  {
   "cell_type": "code",
   "execution_count": 309,
   "id": "54188819",
   "metadata": {},
   "outputs": [
    {
     "data": {
      "text/plain": [
       "0.3223826717899394"
      ]
     },
     "execution_count": 309,
     "metadata": {},
     "output_type": "execute_result"
    }
   ],
   "source": [
    "dfTrans18Dmstc5Big[dfTrans18Dmstc5Big['매출사\\n상/비'] == '비상장']['매출액'].sum() /\\\n",
    "dfCmpnySumry18Big5[dfCmpnySumry18Big5['기업공개일'].isna()]['매출액'].sum()"
   ]
  },
  {
   "cell_type": "code",
   "execution_count": 310,
   "id": "676014d9",
   "metadata": {},
   "outputs": [
    {
     "data": {
      "text/plain": [
       "0.1601033108277865"
      ]
     },
     "execution_count": 310,
     "metadata": {},
     "output_type": "execute_result"
    }
   ],
   "source": [
    "dfTrans19Dmstc5Big['매출액'].sum() /\\\n",
    "dfCmpnySumry19Big5['매출액'].sum()"
   ]
  },
  {
   "cell_type": "code",
   "execution_count": 311,
   "id": "78e5d918",
   "metadata": {},
   "outputs": [
    {
     "data": {
      "text/plain": [
       "0.09889337089264368"
      ]
     },
     "execution_count": 311,
     "metadata": {},
     "output_type": "execute_result"
    }
   ],
   "source": [
    "dfTrans19Dmstc5Big[dfTrans19Dmstc5Big['매출사상/비'] == '상장']['매출액'].sum() /\\\n",
    "dfCmpnySumry19Big5[~dfCmpnySumry19Big5['기업공개일'].isna()]['매출액'].sum()"
   ]
  },
  {
   "cell_type": "code",
   "execution_count": 312,
   "id": "2d387251",
   "metadata": {},
   "outputs": [
    {
     "data": {
      "text/plain": [
       "0.33998353095183753"
      ]
     },
     "execution_count": 312,
     "metadata": {},
     "output_type": "execute_result"
    }
   ],
   "source": [
    "dfTrans19Dmstc5Big[dfTrans19Dmstc5Big['매출사상/비'] == '비상장']['매출액'].sum() /\\\n",
    "dfCmpnySumry19Big5[dfCmpnySumry19Big5['기업공개일'].isna()]['매출액'].sum()"
   ]
  },
  {
   "cell_type": "code",
   "execution_count": 313,
   "id": "205dd0ec",
   "metadata": {},
   "outputs": [
    {
     "data": {
      "text/plain": [
       "0.15171804185428148"
      ]
     },
     "execution_count": 313,
     "metadata": {},
     "output_type": "execute_result"
    }
   ],
   "source": [
    "dfTrans20Dmstc5Big['매출액'].sum() /\\\n",
    "dfCmpnySumry20Big5['매출액'].sum()"
   ]
  },
  {
   "cell_type": "code",
   "execution_count": 314,
   "id": "d8592bad",
   "metadata": {},
   "outputs": [
    {
     "data": {
      "text/plain": [
       "0.09830974287965324"
      ]
     },
     "execution_count": 314,
     "metadata": {},
     "output_type": "execute_result"
    }
   ],
   "source": [
    "dfTrans20Dmstc5Big[dfTrans20Dmstc5Big['매출사상/비'] == '상장']['매출액'].sum() /\\\n",
    "dfCmpnySumry20Big5[~dfCmpnySumry20Big5['기업공개일'].isna()]['매출액'].sum()"
   ]
  },
  {
   "cell_type": "code",
   "execution_count": 315,
   "id": "91e9e709",
   "metadata": {},
   "outputs": [
    {
     "data": {
      "text/plain": [
       "0.31199966135516505"
      ]
     },
     "execution_count": 315,
     "metadata": {},
     "output_type": "execute_result"
    }
   ],
   "source": [
    "dfTrans20Dmstc5Big[dfTrans20Dmstc5Big['매출사상/비'] == '비상장']['매출액'].sum() /\\\n",
    "dfCmpnySumry20Big5[dfCmpnySumry20Big5['기업공개일'].isna()]['매출액'].sum()"
   ]
  },
  {
   "cell_type": "code",
   "execution_count": 316,
   "id": "4873cdb0",
   "metadata": {},
   "outputs": [
    {
     "data": {
      "text/plain": [
       "0.14176765782315714"
      ]
     },
     "execution_count": 316,
     "metadata": {},
     "output_type": "execute_result"
    }
   ],
   "source": [
    "dfTrans21Dmstc5Big['매출액'].sum() /\\\n",
    "dfCmpnySumry21Big5['매출액'].sum() * 1000000"
   ]
  },
  {
   "cell_type": "code",
   "execution_count": 317,
   "id": "cff71f95",
   "metadata": {},
   "outputs": [
    {
     "data": {
      "text/plain": [
       "0.09383785357345313"
      ]
     },
     "execution_count": 317,
     "metadata": {},
     "output_type": "execute_result"
    }
   ],
   "source": [
    "dfTrans21Dmstc5Big[dfTrans21Dmstc5Big['매출사상/비'] == '상장']['매출액'].sum() /\\\n",
    "dfCmpnySumry21Big5[~dfCmpnySumry21Big5['기업공개일'].isna()]['매출액'].sum() * 1000000"
   ]
  },
  {
   "cell_type": "code",
   "execution_count": 318,
   "id": "d903620c",
   "metadata": {},
   "outputs": [
    {
     "data": {
      "text/plain": [
       "0.2975685061974676"
      ]
     },
     "execution_count": 318,
     "metadata": {},
     "output_type": "execute_result"
    }
   ],
   "source": [
    "dfTrans21Dmstc5Big[dfTrans21Dmstc5Big['매출사상/비'] == '비상장']['매출액'].sum() /\\\n",
    "dfCmpnySumry21Big5[dfCmpnySumry21Big5['기업공개일'].isna()]['매출액'].sum() * 1000000"
   ]
  },
  {
   "cell_type": "markdown",
   "id": "21dd4c01",
   "metadata": {},
   "source": [
    "# 직접지분율"
   ]
  },
  {
   "cell_type": "code",
   "execution_count": 334,
   "id": "1019d0ac",
   "metadata": {},
   "outputs": [
    {
     "data": {
      "text/html": [
       "<div>\n",
       "<style scoped>\n",
       "    .dataframe tbody tr th:only-of-type {\n",
       "        vertical-align: middle;\n",
       "    }\n",
       "\n",
       "    .dataframe tbody tr th {\n",
       "        vertical-align: top;\n",
       "    }\n",
       "\n",
       "    .dataframe thead th {\n",
       "        text-align: right;\n",
       "    }\n",
       "</style>\n",
       "<table border=\"1\" class=\"dataframe\">\n",
       "  <thead>\n",
       "    <tr style=\"text-align: right;\">\n",
       "      <th></th>\n",
       "      <th>firmid_before</th>\n",
       "      <th>firmid</th>\n",
       "      <th>fid</th>\n",
       "      <th>ultown</th>\n",
       "      <th>avpos</th>\n",
       "      <th>sd</th>\n",
       "      <th>steps</th>\n",
       "      <th>loop</th>\n",
       "      <th>lastcontrol</th>\n",
       "      <th>central</th>\n",
       "      <th>year</th>\n",
       "      <th>grpname</th>\n",
       "      <th>grpcode</th>\n",
       "      <th>grpname2</th>\n",
       "      <th>firmname</th>\n",
       "    </tr>\n",
       "  </thead>\n",
       "  <tbody>\n",
       "    <tr>\n",
       "      <th>0</th>\n",
       "      <td>280.0</td>\n",
       "      <td>2.800000e+02</td>\n",
       "      <td>1.0</td>\n",
       "      <td>0.050860</td>\n",
       "      <td>2.147486</td>\n",
       "      <td>2.0</td>\n",
       "      <td>3.0</td>\n",
       "      <td>1.0</td>\n",
       "      <td>7.0</td>\n",
       "      <td>0.0</td>\n",
       "      <td>2000.0</td>\n",
       "      <td>lg</td>\n",
       "      <td>282.0</td>\n",
       "      <td></td>\n",
       "      <td></td>\n",
       "    </tr>\n",
       "    <tr>\n",
       "      <th>1</th>\n",
       "      <td>280.0</td>\n",
       "      <td>2.800000e+02</td>\n",
       "      <td>1.0</td>\n",
       "      <td>0.087554</td>\n",
       "      <td>2.283047</td>\n",
       "      <td>2.0</td>\n",
       "      <td>3.0</td>\n",
       "      <td>1.0</td>\n",
       "      <td>12.0</td>\n",
       "      <td>0.0</td>\n",
       "      <td>2001.0</td>\n",
       "      <td>lg</td>\n",
       "      <td>282.0</td>\n",
       "      <td></td>\n",
       "      <td></td>\n",
       "    </tr>\n",
       "    <tr>\n",
       "      <th>2</th>\n",
       "      <td>1402.0</td>\n",
       "      <td>1.402000e+03</td>\n",
       "      <td>1.0</td>\n",
       "      <td>0.000000</td>\n",
       "      <td>NaN</td>\n",
       "      <td>NaN</td>\n",
       "      <td>NaN</td>\n",
       "      <td>NaN</td>\n",
       "      <td>0.0</td>\n",
       "      <td>NaN</td>\n",
       "      <td>2012.0</td>\n",
       "      <td>kogas</td>\n",
       "      <td>24072.0</td>\n",
       "      <td></td>\n",
       "      <td></td>\n",
       "    </tr>\n",
       "    <tr>\n",
       "      <th>3</th>\n",
       "      <td>1402.0</td>\n",
       "      <td>1.402000e+03</td>\n",
       "      <td>1.0</td>\n",
       "      <td>0.000000</td>\n",
       "      <td>NaN</td>\n",
       "      <td>NaN</td>\n",
       "      <td>NaN</td>\n",
       "      <td>NaN</td>\n",
       "      <td>0.0</td>\n",
       "      <td>NaN</td>\n",
       "      <td>2013.0</td>\n",
       "      <td>kogas</td>\n",
       "      <td>24072.0</td>\n",
       "      <td></td>\n",
       "      <td></td>\n",
       "    </tr>\n",
       "    <tr>\n",
       "      <th>4</th>\n",
       "      <td>1402.0</td>\n",
       "      <td>1.402000e+03</td>\n",
       "      <td>1.0</td>\n",
       "      <td>0.000000</td>\n",
       "      <td>NaN</td>\n",
       "      <td>NaN</td>\n",
       "      <td>NaN</td>\n",
       "      <td>NaN</td>\n",
       "      <td>0.0</td>\n",
       "      <td>NaN</td>\n",
       "      <td>2014.0</td>\n",
       "      <td>kogas</td>\n",
       "      <td>24072.0</td>\n",
       "      <td></td>\n",
       "      <td></td>\n",
       "    </tr>\n",
       "    <tr>\n",
       "      <th>...</th>\n",
       "      <td>...</td>\n",
       "      <td>...</td>\n",
       "      <td>...</td>\n",
       "      <td>...</td>\n",
       "      <td>...</td>\n",
       "      <td>...</td>\n",
       "      <td>...</td>\n",
       "      <td>...</td>\n",
       "      <td>...</td>\n",
       "      <td>...</td>\n",
       "      <td>...</td>\n",
       "      <td>...</td>\n",
       "      <td>...</td>\n",
       "      <td>...</td>\n",
       "      <td>...</td>\n",
       "    </tr>\n",
       "    <tr>\n",
       "      <th>22163</th>\n",
       "      <td>NaN</td>\n",
       "      <td>2.101743e+07</td>\n",
       "      <td>41.0</td>\n",
       "      <td>0.339856</td>\n",
       "      <td>2.999706</td>\n",
       "      <td>2.0</td>\n",
       "      <td>NaN</td>\n",
       "      <td>0.0</td>\n",
       "      <td>41.0</td>\n",
       "      <td>0.0</td>\n",
       "      <td>2016.0</td>\n",
       "      <td>ls</td>\n",
       "      <td>2402204.0</td>\n",
       "      <td>엘에스</td>\n",
       "      <td>베스트토요타</td>\n",
       "    </tr>\n",
       "    <tr>\n",
       "      <th>22164</th>\n",
       "      <td>NaN</td>\n",
       "      <td>2.303900e+07</td>\n",
       "      <td>42.0</td>\n",
       "      <td>0.239648</td>\n",
       "      <td>1.994576</td>\n",
       "      <td>1.0</td>\n",
       "      <td>NaN</td>\n",
       "      <td>0.0</td>\n",
       "      <td>25.0</td>\n",
       "      <td>0.0</td>\n",
       "      <td>2016.0</td>\n",
       "      <td>ls</td>\n",
       "      <td>2402204.0</td>\n",
       "      <td>엘에스</td>\n",
       "      <td>LS아이앤디</td>\n",
       "    </tr>\n",
       "    <tr>\n",
       "      <th>22165</th>\n",
       "      <td>NaN</td>\n",
       "      <td>1.801406e+09</td>\n",
       "      <td>43.0</td>\n",
       "      <td>0.132485</td>\n",
       "      <td>2.992250</td>\n",
       "      <td>2.0</td>\n",
       "      <td>NaN</td>\n",
       "      <td>0.0</td>\n",
       "      <td>25.0</td>\n",
       "      <td>0.0</td>\n",
       "      <td>2016.0</td>\n",
       "      <td>ls</td>\n",
       "      <td>2402204.0</td>\n",
       "      <td>엘에스</td>\n",
       "      <td>LS전선아시아</td>\n",
       "    </tr>\n",
       "    <tr>\n",
       "      <th>22166</th>\n",
       "      <td>NaN</td>\n",
       "      <td>1.802803e+09</td>\n",
       "      <td>44.0</td>\n",
       "      <td>0.339856</td>\n",
       "      <td>2.999706</td>\n",
       "      <td>2.0</td>\n",
       "      <td>NaN</td>\n",
       "      <td>0.0</td>\n",
       "      <td>41.0</td>\n",
       "      <td>0.0</td>\n",
       "      <td>2016.0</td>\n",
       "      <td>ls</td>\n",
       "      <td>2402204.0</td>\n",
       "      <td>엘에스</td>\n",
       "      <td>바이클로</td>\n",
       "    </tr>\n",
       "    <tr>\n",
       "      <th>22167</th>\n",
       "      <td>NaN</td>\n",
       "      <td>1.901700e+09</td>\n",
       "      <td>45.0</td>\n",
       "      <td>0.339856</td>\n",
       "      <td>2.999706</td>\n",
       "      <td>2.0</td>\n",
       "      <td>NaN</td>\n",
       "      <td>0.0</td>\n",
       "      <td>41.0</td>\n",
       "      <td>0.0</td>\n",
       "      <td>2016.0</td>\n",
       "      <td>ls</td>\n",
       "      <td>2402204.0</td>\n",
       "      <td>엘에스</td>\n",
       "      <td>엠비케이코퍼레이션</td>\n",
       "    </tr>\n",
       "  </tbody>\n",
       "</table>\n",
       "<p>22168 rows × 15 columns</p>\n",
       "</div>"
      ],
      "text/plain": [
       "       firmid_before        firmid   fid    ultown     avpos   sd  steps  \\\n",
       "0              280.0  2.800000e+02   1.0  0.050860  2.147486  2.0    3.0   \n",
       "1              280.0  2.800000e+02   1.0  0.087554  2.283047  2.0    3.0   \n",
       "2             1402.0  1.402000e+03   1.0  0.000000       NaN  NaN    NaN   \n",
       "3             1402.0  1.402000e+03   1.0  0.000000       NaN  NaN    NaN   \n",
       "4             1402.0  1.402000e+03   1.0  0.000000       NaN  NaN    NaN   \n",
       "...              ...           ...   ...       ...       ...  ...    ...   \n",
       "22163            NaN  2.101743e+07  41.0  0.339856  2.999706  2.0    NaN   \n",
       "22164            NaN  2.303900e+07  42.0  0.239648  1.994576  1.0    NaN   \n",
       "22165            NaN  1.801406e+09  43.0  0.132485  2.992250  2.0    NaN   \n",
       "22166            NaN  1.802803e+09  44.0  0.339856  2.999706  2.0    NaN   \n",
       "22167            NaN  1.901700e+09  45.0  0.339856  2.999706  2.0    NaN   \n",
       "\n",
       "       loop  lastcontrol  central    year grpname    grpcode grpname2  \\\n",
       "0       1.0          7.0      0.0  2000.0      lg      282.0            \n",
       "1       1.0         12.0      0.0  2001.0      lg      282.0            \n",
       "2       NaN          0.0      NaN  2012.0   kogas    24072.0            \n",
       "3       NaN          0.0      NaN  2013.0   kogas    24072.0            \n",
       "4       NaN          0.0      NaN  2014.0   kogas    24072.0            \n",
       "...     ...          ...      ...     ...     ...        ...      ...   \n",
       "22163   0.0         41.0      0.0  2016.0      ls  2402204.0      엘에스   \n",
       "22164   0.0         25.0      0.0  2016.0      ls  2402204.0      엘에스   \n",
       "22165   0.0         25.0      0.0  2016.0      ls  2402204.0      엘에스   \n",
       "22166   0.0         41.0      0.0  2016.0      ls  2402204.0      엘에스   \n",
       "22167   0.0         41.0      0.0  2016.0      ls  2402204.0      엘에스   \n",
       "\n",
       "        firmname  \n",
       "0                 \n",
       "1                 \n",
       "2                 \n",
       "3                 \n",
       "4                 \n",
       "...          ...  \n",
       "22163     베스트토요타  \n",
       "22164     LS아이앤디  \n",
       "22165    LS전선아시아  \n",
       "22166       바이클로  \n",
       "22167  엠비케이코퍼레이션  \n",
       "\n",
       "[22168 rows x 15 columns]"
      ]
     },
     "execution_count": 334,
     "metadata": {},
     "output_type": "execute_result"
    }
   ],
   "source": [
    "pd.read_stata('../data/almeida/almeida_own1_2001-2018_0913수정.dta')"
   ]
  },
  {
   "cell_type": "code",
   "execution_count": 345,
   "id": "4bfaa39a",
   "metadata": {},
   "outputs": [
    {
     "data": {
      "text/html": [
       "<div>\n",
       "<style scoped>\n",
       "    .dataframe tbody tr th:only-of-type {\n",
       "        vertical-align: middle;\n",
       "    }\n",
       "\n",
       "    .dataframe tbody tr th {\n",
       "        vertical-align: top;\n",
       "    }\n",
       "\n",
       "    .dataframe thead th {\n",
       "        text-align: right;\n",
       "    }\n",
       "</style>\n",
       "<table border=\"1\" class=\"dataframe\">\n",
       "  <thead>\n",
       "    <tr style=\"text-align: right;\">\n",
       "      <th></th>\n",
       "      <th>year</th>\n",
       "      <th>year2</th>\n",
       "      <th>grpname</th>\n",
       "      <th>grpname2</th>\n",
       "      <th>grpcode</th>\n",
       "      <th>매출회사</th>\n",
       "      <th>매출회사id</th>\n",
       "      <th>매출사\\n상/비</th>\n",
       "      <th>매입회사</th>\n",
       "      <th>매입회사id</th>\n",
       "      <th>매입사\\n상/비</th>\n",
       "      <th>매출액</th>\n",
       "      <th>매출회사\\n국내계열사계</th>\n",
       "      <th>매출회사\\n해외계열사계</th>\n",
       "      <th>매출회사\\n매출액총계</th>\n",
       "      <th>매출회사\\n국내매출액</th>\n",
       "      <th>매출회사\\n해외매출액</th>\n",
       "      <th>재벌순위</th>\n",
       "      <th>매출사 CFR\\n(우선주포함)</th>\n",
       "      <th>매출사 FAM\\n(우선주포함)</th>\n",
       "    </tr>\n",
       "  </thead>\n",
       "  <tbody>\n",
       "    <tr>\n",
       "      <th>2</th>\n",
       "      <td>2017</td>\n",
       "      <td>2018</td>\n",
       "      <td>DB</td>\n",
       "      <td>DB</td>\n",
       "      <td>365</td>\n",
       "      <td>DBInc.</td>\n",
       "      <td>352098</td>\n",
       "      <td>상장</td>\n",
       "      <td>DB금융투자</td>\n",
       "      <td>821640</td>\n",
       "      <td>상장</td>\n",
       "      <td>1424.0</td>\n",
       "      <td>43037.0</td>\n",
       "      <td>0</td>\n",
       "      <td>199530.0</td>\n",
       "      <td>123317.0</td>\n",
       "      <td>76213.0</td>\n",
       "      <td>36</td>\n",
       "      <td>0.401239</td>\n",
       "      <td>0.401239</td>\n",
       "    </tr>\n",
       "    <tr>\n",
       "      <th>3</th>\n",
       "      <td>2017</td>\n",
       "      <td>2018</td>\n",
       "      <td>DB</td>\n",
       "      <td>DB</td>\n",
       "      <td>365</td>\n",
       "      <td>DBInc.</td>\n",
       "      <td>352098</td>\n",
       "      <td>상장</td>\n",
       "      <td>DB라이텍</td>\n",
       "      <td>137656</td>\n",
       "      <td>상장</td>\n",
       "      <td>307.0</td>\n",
       "      <td>43037.0</td>\n",
       "      <td>0</td>\n",
       "      <td>199530.0</td>\n",
       "      <td>123317.0</td>\n",
       "      <td>76213.0</td>\n",
       "      <td>36</td>\n",
       "      <td>0.401239</td>\n",
       "      <td>0.401239</td>\n",
       "    </tr>\n",
       "    <tr>\n",
       "      <th>4</th>\n",
       "      <td>2017</td>\n",
       "      <td>2018</td>\n",
       "      <td>DB</td>\n",
       "      <td>DB</td>\n",
       "      <td>365</td>\n",
       "      <td>DBInc.</td>\n",
       "      <td>352098</td>\n",
       "      <td>상장</td>\n",
       "      <td>DB메탈</td>\n",
       "      <td>12097776</td>\n",
       "      <td>비상장</td>\n",
       "      <td>1566.0</td>\n",
       "      <td>43037.0</td>\n",
       "      <td>0</td>\n",
       "      <td>199530.0</td>\n",
       "      <td>123317.0</td>\n",
       "      <td>76213.0</td>\n",
       "      <td>36</td>\n",
       "      <td>0.401239</td>\n",
       "      <td>0.401239</td>\n",
       "    </tr>\n",
       "    <tr>\n",
       "      <th>5</th>\n",
       "      <td>2017</td>\n",
       "      <td>2018</td>\n",
       "      <td>DB</td>\n",
       "      <td>DB</td>\n",
       "      <td>365</td>\n",
       "      <td>DBInc.</td>\n",
       "      <td>352098</td>\n",
       "      <td>상장</td>\n",
       "      <td>DB생명보험</td>\n",
       "      <td>821420</td>\n",
       "      <td>비상장</td>\n",
       "      <td>5291.0</td>\n",
       "      <td>43037.0</td>\n",
       "      <td>0</td>\n",
       "      <td>199530.0</td>\n",
       "      <td>123317.0</td>\n",
       "      <td>76213.0</td>\n",
       "      <td>36</td>\n",
       "      <td>0.401239</td>\n",
       "      <td>0.401239</td>\n",
       "    </tr>\n",
       "    <tr>\n",
       "      <th>6</th>\n",
       "      <td>2017</td>\n",
       "      <td>2018</td>\n",
       "      <td>DB</td>\n",
       "      <td>DB</td>\n",
       "      <td>365</td>\n",
       "      <td>DBInc.</td>\n",
       "      <td>352098</td>\n",
       "      <td>상장</td>\n",
       "      <td>DB손해보험</td>\n",
       "      <td>870099</td>\n",
       "      <td>상장</td>\n",
       "      <td>13298.0</td>\n",
       "      <td>43037.0</td>\n",
       "      <td>0</td>\n",
       "      <td>199530.0</td>\n",
       "      <td>123317.0</td>\n",
       "      <td>76213.0</td>\n",
       "      <td>36</td>\n",
       "      <td>0.401239</td>\n",
       "      <td>0.401239</td>\n",
       "    </tr>\n",
       "  </tbody>\n",
       "</table>\n",
       "</div>"
      ],
      "text/plain": [
       "   year  year2 grpname grpname2  grpcode    매출회사  매출회사id 매출사\\n상/비    매입회사  \\\n",
       "2  2017   2018      DB       DB      365  DBInc.  352098       상장  DB금융투자   \n",
       "3  2017   2018      DB       DB      365  DBInc.  352098       상장   DB라이텍   \n",
       "4  2017   2018      DB       DB      365  DBInc.  352098       상장    DB메탈   \n",
       "5  2017   2018      DB       DB      365  DBInc.  352098       상장  DB생명보험   \n",
       "6  2017   2018      DB       DB      365  DBInc.  352098       상장  DB손해보험   \n",
       "\n",
       "     매입회사id 매입사\\n상/비      매출액  매출회사\\n국내계열사계  매출회사\\n해외계열사계  매출회사\\n매출액총계  \\\n",
       "2    821640       상장   1424.0       43037.0             0     199530.0   \n",
       "3    137656       상장    307.0       43037.0             0     199530.0   \n",
       "4  12097776      비상장   1566.0       43037.0             0     199530.0   \n",
       "5    821420      비상장   5291.0       43037.0             0     199530.0   \n",
       "6    870099       상장  13298.0       43037.0             0     199530.0   \n",
       "\n",
       "   매출회사\\n국내매출액  매출회사\\n해외매출액  재벌순위  매출사 CFR\\n(우선주포함)  매출사 FAM\\n(우선주포함)  \n",
       "2     123317.0      76213.0    36          0.401239          0.401239  \n",
       "3     123317.0      76213.0    36          0.401239          0.401239  \n",
       "4     123317.0      76213.0    36          0.401239          0.401239  \n",
       "5     123317.0      76213.0    36          0.401239          0.401239  \n",
       "6     123317.0      76213.0    36          0.401239          0.401239  "
      ]
     },
     "execution_count": 345,
     "metadata": {},
     "output_type": "execute_result"
    }
   ],
   "source": [
    "dfTrans18Dmstc.head()"
   ]
  },
  {
   "cell_type": "code",
   "execution_count": 346,
   "id": "aabae88b",
   "metadata": {},
   "outputs": [
    {
     "data": {
      "text/html": [
       "<div>\n",
       "<style scoped>\n",
       "    .dataframe tbody tr th:only-of-type {\n",
       "        vertical-align: middle;\n",
       "    }\n",
       "\n",
       "    .dataframe tbody tr th {\n",
       "        vertical-align: top;\n",
       "    }\n",
       "\n",
       "    .dataframe thead th {\n",
       "        text-align: right;\n",
       "    }\n",
       "</style>\n",
       "<table border=\"1\" class=\"dataframe\">\n",
       "  <thead>\n",
       "    <tr style=\"text-align: right;\">\n",
       "      <th></th>\n",
       "      <th>year</th>\n",
       "      <th>year2</th>\n",
       "      <th>grpname</th>\n",
       "      <th>grpname2</th>\n",
       "      <th>grpcode</th>\n",
       "      <th>매출회사</th>\n",
       "      <th>매출회사id</th>\n",
       "      <th>매출사\\n상/비</th>\n",
       "      <th>매입회사</th>\n",
       "      <th>매입회사id</th>\n",
       "      <th>매입사\\n상/비</th>\n",
       "      <th>매출액</th>\n",
       "      <th>매출회사\\n국내계열사계</th>\n",
       "      <th>매출회사\\n해외계열사계</th>\n",
       "      <th>매출회사\\n매출액총계</th>\n",
       "      <th>매출회사\\n국내매출액</th>\n",
       "      <th>매출회사\\n해외매출액</th>\n",
       "      <th>재벌순위</th>\n",
       "      <th>매출사 CFR\\n(우선주포함)</th>\n",
       "      <th>매출사 FAM\\n(우선주포함)</th>\n",
       "    </tr>\n",
       "  </thead>\n",
       "  <tbody>\n",
       "    <tr>\n",
       "      <th>7940</th>\n",
       "      <td>2017</td>\n",
       "      <td>2018</td>\n",
       "      <td>nexon</td>\n",
       "      <td>넥슨</td>\n",
       "      <td>1902205</td>\n",
       "      <td>(유)와이즈키즈</td>\n",
       "      <td>196338</td>\n",
       "      <td>비상장</td>\n",
       "      <td>(유)엔엑스프로퍼티스</td>\n",
       "      <td>214529</td>\n",
       "      <td>비상장</td>\n",
       "      <td>22.0</td>\n",
       "      <td>26.0</td>\n",
       "      <td>0</td>\n",
       "      <td>63.0</td>\n",
       "      <td>55.0</td>\n",
       "      <td>8.0</td>\n",
       "      <td>45</td>\n",
       "      <td>1.0</td>\n",
       "      <td>1.0</td>\n",
       "    </tr>\n",
       "    <tr>\n",
       "      <th>7942</th>\n",
       "      <td>2017</td>\n",
       "      <td>2018</td>\n",
       "      <td>nexon</td>\n",
       "      <td>넥슨</td>\n",
       "      <td>1902205</td>\n",
       "      <td>(유)와이즈키즈</td>\n",
       "      <td>196338</td>\n",
       "      <td>비상장</td>\n",
       "      <td>네오플</td>\n",
       "      <td>198274</td>\n",
       "      <td>비상장</td>\n",
       "      <td>3.0</td>\n",
       "      <td>26.0</td>\n",
       "      <td>0</td>\n",
       "      <td>63.0</td>\n",
       "      <td>55.0</td>\n",
       "      <td>8.0</td>\n",
       "      <td>45</td>\n",
       "      <td>1.0</td>\n",
       "      <td>1.0</td>\n",
       "    </tr>\n",
       "    <tr>\n",
       "      <th>7959</th>\n",
       "      <td>2017</td>\n",
       "      <td>2018</td>\n",
       "      <td>nexon</td>\n",
       "      <td>넥슨</td>\n",
       "      <td>1902205</td>\n",
       "      <td>(유)와이즈키즈</td>\n",
       "      <td>196338</td>\n",
       "      <td>비상장</td>\n",
       "      <td>엔엑스씨</td>\n",
       "      <td>799173</td>\n",
       "      <td>비상장</td>\n",
       "      <td>1.0</td>\n",
       "      <td>26.0</td>\n",
       "      <td>0</td>\n",
       "      <td>63.0</td>\n",
       "      <td>55.0</td>\n",
       "      <td>8.0</td>\n",
       "      <td>45</td>\n",
       "      <td>1.0</td>\n",
       "      <td>1.0</td>\n",
       "    </tr>\n",
       "  </tbody>\n",
       "</table>\n",
       "</div>"
      ],
      "text/plain": [
       "      year  year2 grpname grpname2  grpcode      매출회사  매출회사id 매출사\\n상/비  \\\n",
       "7940  2017   2018   nexon       넥슨  1902205  (유)와이즈키즈  196338      비상장   \n",
       "7942  2017   2018   nexon       넥슨  1902205  (유)와이즈키즈  196338      비상장   \n",
       "7959  2017   2018   nexon       넥슨  1902205  (유)와이즈키즈  196338      비상장   \n",
       "\n",
       "             매입회사  매입회사id 매입사\\n상/비   매출액  매출회사\\n국내계열사계  매출회사\\n해외계열사계  \\\n",
       "7940  (유)엔엑스프로퍼티스  214529      비상장  22.0          26.0             0   \n",
       "7942          네오플  198274      비상장   3.0          26.0             0   \n",
       "7959         엔엑스씨  799173      비상장   1.0          26.0             0   \n",
       "\n",
       "      매출회사\\n매출액총계  매출회사\\n국내매출액  매출회사\\n해외매출액  재벌순위  매출사 CFR\\n(우선주포함)  \\\n",
       "7940         63.0         55.0          8.0    45               1.0   \n",
       "7942         63.0         55.0          8.0    45               1.0   \n",
       "7959         63.0         55.0          8.0    45               1.0   \n",
       "\n",
       "      매출사 FAM\\n(우선주포함)  \n",
       "7940               1.0  \n",
       "7942               1.0  \n",
       "7959               1.0  "
      ]
     },
     "execution_count": 346,
     "metadata": {},
     "output_type": "execute_result"
    }
   ],
   "source": [
    "dfTrans18Dmstc[dfTrans18Dmstc['매출회사id'] == 196338]"
   ]
  },
  {
   "cell_type": "markdown",
   "id": "b907133f",
   "metadata": {},
   "source": [
    "# 직접지분율 실질지분율 데이터 병합"
   ]
  },
  {
   "cell_type": "code",
   "execution_count": 357,
   "id": "63a98012",
   "metadata": {},
   "outputs": [
    {
     "data": {
      "text/html": [
       "<div>\n",
       "<style scoped>\n",
       "    .dataframe tbody tr th:only-of-type {\n",
       "        vertical-align: middle;\n",
       "    }\n",
       "\n",
       "    .dataframe tbody tr th {\n",
       "        vertical-align: top;\n",
       "    }\n",
       "\n",
       "    .dataframe thead th {\n",
       "        text-align: right;\n",
       "    }\n",
       "</style>\n",
       "<table border=\"1\" class=\"dataframe\">\n",
       "  <thead>\n",
       "    <tr style=\"text-align: right;\">\n",
       "      <th></th>\n",
       "      <th>grpname2</th>\n",
       "      <th>grpname</th>\n",
       "      <th>grpcode</th>\n",
       "      <th>firmname</th>\n",
       "      <th>firmid</th>\n",
       "      <th>own</th>\n",
       "      <th>own2</th>\n",
       "      <th>type</th>\n",
       "      <th>ownerid</th>\n",
       "      <th>ownername</th>\n",
       "    </tr>\n",
       "  </thead>\n",
       "  <tbody>\n",
       "    <tr>\n",
       "      <th>0</th>\n",
       "      <td>넥슨</td>\n",
       "      <td>nexon</td>\n",
       "      <td>1902205.0</td>\n",
       "      <td>엔엑스씨</td>\n",
       "      <td>799173</td>\n",
       "      <td>0.982809</td>\n",
       "      <td>0.982809</td>\n",
       "      <td>0</td>\n",
       "      <td>NaN</td>\n",
       "      <td>NaN</td>\n",
       "    </tr>\n",
       "    <tr>\n",
       "      <th>1</th>\n",
       "      <td>넥슨</td>\n",
       "      <td>nexon</td>\n",
       "      <td>1902205.0</td>\n",
       "      <td>엔엑스씨</td>\n",
       "      <td>799173</td>\n",
       "      <td>0.017191</td>\n",
       "      <td>0.017191</td>\n",
       "      <td>1</td>\n",
       "      <td>196338.0</td>\n",
       "      <td>NaN</td>\n",
       "    </tr>\n",
       "    <tr>\n",
       "      <th>2</th>\n",
       "      <td>넥슨</td>\n",
       "      <td>nexon</td>\n",
       "      <td>1902205.0</td>\n",
       "      <td>엔엑스씨</td>\n",
       "      <td>799173</td>\n",
       "      <td>0.000000</td>\n",
       "      <td>0.000000</td>\n",
       "      <td>99</td>\n",
       "      <td>NaN</td>\n",
       "      <td>NaN</td>\n",
       "    </tr>\n",
       "    <tr>\n",
       "      <th>3</th>\n",
       "      <td>넥슨</td>\n",
       "      <td>nexon</td>\n",
       "      <td>1902205.0</td>\n",
       "      <td>(유)와이즈키즈</td>\n",
       "      <td>196338</td>\n",
       "      <td>1.000000</td>\n",
       "      <td>1.000000</td>\n",
       "      <td>0</td>\n",
       "      <td>NaN</td>\n",
       "      <td>NaN</td>\n",
       "    </tr>\n",
       "    <tr>\n",
       "      <th>4</th>\n",
       "      <td>넥슨</td>\n",
       "      <td>nexon</td>\n",
       "      <td>1902205.0</td>\n",
       "      <td>(유)와이즈키즈</td>\n",
       "      <td>196338</td>\n",
       "      <td>0.000000</td>\n",
       "      <td>0.000000</td>\n",
       "      <td>1</td>\n",
       "      <td>NaN</td>\n",
       "      <td>NaN</td>\n",
       "    </tr>\n",
       "  </tbody>\n",
       "</table>\n",
       "</div>"
      ],
      "text/plain": [
       "  grpname2 grpname    grpcode  firmname  firmid       own      own2  type  \\\n",
       "0       넥슨   nexon  1902205.0      엔엑스씨  799173  0.982809  0.982809     0   \n",
       "1       넥슨   nexon  1902205.0      엔엑스씨  799173  0.017191  0.017191     1   \n",
       "2       넥슨   nexon  1902205.0      엔엑스씨  799173  0.000000  0.000000    99   \n",
       "3       넥슨   nexon  1902205.0  (유)와이즈키즈  196338  1.000000  1.000000     0   \n",
       "4       넥슨   nexon  1902205.0  (유)와이즈키즈  196338  0.000000  0.000000     1   \n",
       "\n",
       "    ownerid ownername  \n",
       "0       NaN       NaN  \n",
       "1  196338.0       NaN  \n",
       "2       NaN       NaN  \n",
       "3       NaN       NaN  \n",
       "4       NaN       NaN  "
      ]
     },
     "execution_count": 357,
     "metadata": {},
     "output_type": "execute_result"
    }
   ],
   "source": [
    "lInput18 = [pd.read_excel(fName, sheet_name=-1) for fName in glob.glob('../data/almeida/2018/in/*.xlsx')]\n",
    "dfOwnInput18 = pd.concat(lInput18)\n",
    "dfOwnInput18.head()"
   ]
  },
  {
   "cell_type": "code",
   "execution_count": 358,
   "id": "94591b34",
   "metadata": {},
   "outputs": [
    {
     "data": {
      "text/plain": [
       "Index(['공개년월', '회계년', '기업집단명', '소속회사명', '대표자', '설립일', '계열편입일', '업종코드', '영위업종',\n",
       "       '종업원수', '결산기일', '결산주총일', '기업공개일', '자산총액', '부채총액', '자본총액', '자본금', '매출액',\n",
       "       '당기순이익', '구분', '법인등록번호', 'year2'],\n",
       "      dtype='object')"
      ]
     },
     "execution_count": 358,
     "metadata": {},
     "output_type": "execute_result"
    }
   ],
   "source": [
    "dfCmpnySumry18.columns"
   ]
  },
  {
   "cell_type": "code",
   "execution_count": 361,
   "id": "c1e3ff7c",
   "metadata": {},
   "outputs": [
    {
     "data": {
      "text/html": [
       "<div>\n",
       "<style scoped>\n",
       "    .dataframe tbody tr th:only-of-type {\n",
       "        vertical-align: middle;\n",
       "    }\n",
       "\n",
       "    .dataframe tbody tr th {\n",
       "        vertical-align: top;\n",
       "    }\n",
       "\n",
       "    .dataframe thead th {\n",
       "        text-align: right;\n",
       "    }\n",
       "</style>\n",
       "<table border=\"1\" class=\"dataframe\">\n",
       "  <thead>\n",
       "    <tr style=\"text-align: right;\">\n",
       "      <th></th>\n",
       "      <th>공개년월</th>\n",
       "      <th>회계년</th>\n",
       "      <th>기업집단명</th>\n",
       "      <th>소속회사명</th>\n",
       "      <th>대표자</th>\n",
       "      <th>설립일</th>\n",
       "      <th>계열편입일</th>\n",
       "      <th>업종코드</th>\n",
       "      <th>영위업종</th>\n",
       "      <th>종업원수</th>\n",
       "      <th>...</th>\n",
       "      <th>기업공개일</th>\n",
       "      <th>자산총액</th>\n",
       "      <th>부채총액</th>\n",
       "      <th>자본총액</th>\n",
       "      <th>자본금</th>\n",
       "      <th>매출액</th>\n",
       "      <th>당기순이익</th>\n",
       "      <th>구분</th>\n",
       "      <th>법인등록번호</th>\n",
       "      <th>year2</th>\n",
       "    </tr>\n",
       "  </thead>\n",
       "  <tbody>\n",
       "    <tr>\n",
       "      <th>0</th>\n",
       "      <td>201805</td>\n",
       "      <td>2017</td>\n",
       "      <td>DB</td>\n",
       "      <td>(주)동부월드</td>\n",
       "      <td>최경진</td>\n",
       "      <td>1989/05/15</td>\n",
       "      <td>1997/06/02</td>\n",
       "      <td>R91</td>\n",
       "      <td>스포츠 및 오락관련 서비스업</td>\n",
       "      <td>76</td>\n",
       "      <td>...</td>\n",
       "      <td>NaN</td>\n",
       "      <td>188,988</td>\n",
       "      <td>57,318</td>\n",
       "      <td>131,670</td>\n",
       "      <td>161,454</td>\n",
       "      <td>10894.0</td>\n",
       "      <td>-3,672</td>\n",
       "      <td>회생절차</td>\n",
       "      <td>1101110628086</td>\n",
       "      <td>2018</td>\n",
       "    </tr>\n",
       "    <tr>\n",
       "      <th>1</th>\n",
       "      <td>201805</td>\n",
       "      <td>2017</td>\n",
       "      <td>DB</td>\n",
       "      <td>디비씨앤에스자동차손해사정(주)</td>\n",
       "      <td>문수원</td>\n",
       "      <td>2011/03/17</td>\n",
       "      <td>2011/04/05</td>\n",
       "      <td>K66</td>\n",
       "      <td>금융 및 보험 관련 서비스업</td>\n",
       "      <td>742</td>\n",
       "      <td>...</td>\n",
       "      <td>NaN</td>\n",
       "      <td>10,602</td>\n",
       "      <td>6,887</td>\n",
       "      <td>3,715</td>\n",
       "      <td>200</td>\n",
       "      <td>45777.0</td>\n",
       "      <td>1,388</td>\n",
       "      <td>금융보험업</td>\n",
       "      <td>1101114558669</td>\n",
       "      <td>2018</td>\n",
       "    </tr>\n",
       "    <tr>\n",
       "      <th>2</th>\n",
       "      <td>201805</td>\n",
       "      <td>2017</td>\n",
       "      <td>DB</td>\n",
       "      <td>디비캐피탈(주)</td>\n",
       "      <td>윤재인</td>\n",
       "      <td>1995/12/08</td>\n",
       "      <td>1995/12/08</td>\n",
       "      <td>K64</td>\n",
       "      <td>금융업</td>\n",
       "      <td>20</td>\n",
       "      <td>...</td>\n",
       "      <td>NaN</td>\n",
       "      <td>186,265</td>\n",
       "      <td>103,745</td>\n",
       "      <td>82,520</td>\n",
       "      <td>62,014</td>\n",
       "      <td>11477.0</td>\n",
       "      <td>2,344</td>\n",
       "      <td>금융보험업</td>\n",
       "      <td>1101111220641</td>\n",
       "      <td>2018</td>\n",
       "    </tr>\n",
       "    <tr>\n",
       "      <th>3</th>\n",
       "      <td>201805</td>\n",
       "      <td>2017</td>\n",
       "      <td>DB</td>\n",
       "      <td>디비금융투자(주)</td>\n",
       "      <td>고원종</td>\n",
       "      <td>1982/12/20</td>\n",
       "      <td>1982/12/20</td>\n",
       "      <td>K66</td>\n",
       "      <td>금융 및 보험 관련 서비스업</td>\n",
       "      <td>968</td>\n",
       "      <td>...</td>\n",
       "      <td>1988/06/27</td>\n",
       "      <td>5,401,797</td>\n",
       "      <td>4,808,879</td>\n",
       "      <td>592,918</td>\n",
       "      <td>212,232</td>\n",
       "      <td>806256.0</td>\n",
       "      <td>2,591</td>\n",
       "      <td>금융보험업</td>\n",
       "      <td>1101110339956</td>\n",
       "      <td>2018</td>\n",
       "    </tr>\n",
       "    <tr>\n",
       "      <th>4</th>\n",
       "      <td>201805</td>\n",
       "      <td>2017</td>\n",
       "      <td>DB</td>\n",
       "      <td>디비생명보험(주)</td>\n",
       "      <td>이태운</td>\n",
       "      <td>1989/04/14</td>\n",
       "      <td>1997/01/03</td>\n",
       "      <td>K65</td>\n",
       "      <td>보험 및 연금업</td>\n",
       "      <td>569</td>\n",
       "      <td>...</td>\n",
       "      <td>NaN</td>\n",
       "      <td>10,663,512</td>\n",
       "      <td>10,024,347</td>\n",
       "      <td>639,165</td>\n",
       "      <td>193,331</td>\n",
       "      <td>2378149.0</td>\n",
       "      <td>29,215</td>\n",
       "      <td>금융보험업</td>\n",
       "      <td>1101110623606</td>\n",
       "      <td>2018</td>\n",
       "    </tr>\n",
       "  </tbody>\n",
       "</table>\n",
       "<p>5 rows × 22 columns</p>\n",
       "</div>"
      ],
      "text/plain": [
       "     공개년월   회계년 기업집단명             소속회사명  대표자         설립일       계열편입일 업종코드  \\\n",
       "0  201805  2017    DB           (주)동부월드  최경진  1989/05/15  1997/06/02  R91   \n",
       "1  201805  2017    DB  디비씨앤에스자동차손해사정(주)  문수원  2011/03/17  2011/04/05  K66   \n",
       "2  201805  2017    DB          디비캐피탈(주)  윤재인  1995/12/08  1995/12/08  K64   \n",
       "3  201805  2017    DB         디비금융투자(주)  고원종  1982/12/20  1982/12/20  K66   \n",
       "4  201805  2017    DB         디비생명보험(주)  이태운  1989/04/14  1997/01/03  K65   \n",
       "\n",
       "              영위업종 종업원수  ...       기업공개일        자산총액        부채총액     자본총액  \\\n",
       "0  스포츠 및 오락관련 서비스업   76  ...         NaN     188,988      57,318  131,670   \n",
       "1  금융 및 보험 관련 서비스업  742  ...         NaN      10,602       6,887    3,715   \n",
       "2              금융업   20  ...         NaN     186,265     103,745   82,520   \n",
       "3  금융 및 보험 관련 서비스업  968  ...  1988/06/27   5,401,797   4,808,879  592,918   \n",
       "4         보험 및 연금업  569  ...         NaN  10,663,512  10,024,347  639,165   \n",
       "\n",
       "       자본금        매출액   당기순이익     구분         법인등록번호 year2  \n",
       "0  161,454    10894.0  -3,672   회생절차  1101110628086  2018  \n",
       "1      200    45777.0   1,388  금융보험업  1101114558669  2018  \n",
       "2   62,014    11477.0   2,344  금융보험업  1101111220641  2018  \n",
       "3  212,232   806256.0   2,591  금융보험업  1101110339956  2018  \n",
       "4  193,331  2378149.0  29,215  금융보험업  1101110623606  2018  \n",
       "\n",
       "[5 rows x 22 columns]"
      ]
     },
     "execution_count": 361,
     "metadata": {},
     "output_type": "execute_result"
    }
   ],
   "source": [
    "dfCmpnySumry18.head()"
   ]
  },
  {
   "cell_type": "code",
   "execution_count": 363,
   "id": "e919815f",
   "metadata": {},
   "outputs": [
    {
     "name": "stderr",
     "output_type": "stream",
     "text": [
      "/Users/choidamian/Chaebol/notebooks/../scripts/api.py:379: SettingWithCopyWarning: \n",
      "A value is trying to be set on a copy of a slice from a DataFrame\n",
      "\n",
      "See the caveats in the documentation: https://pandas.pydata.org/pandas-docs/stable/user_guide/indexing.html#returning-a-view-versus-a-copy\n",
      "  dfTrgt.drop(columns=['rcmgCode'], inplace=True)\n"
     ]
    },
    {
     "name": "stdout",
     "output_type": "stream",
     "text": [
      "Rcmg code missing for 282 companies\n",
      "Found kiscode for 1211110068750: 137656\n",
      "Found kiscode for 1954110020532: H18678\n",
      "Found kiscode for 1614110000352: 321141\n",
      "Found kiscode for 1648110027701: 215559\n",
      "Found kiscode for 1101116643541: IY8177\n",
      "Found kiscode for 1411110039319: H77784\n",
      "Found kiscode for 1350110081485: 116695\n",
      "Found kiscode for 1101114306373: H78719\n",
      "Found kiscode for 1101114177237: H35316\n",
      "Found kiscode for 1101113936733: C85906\n",
      "Found kiscode for 1101113207712: 377398\n",
      "Found kiscode for 1101116172243: HT8917\n",
      "Found kiscode for 1311110419472: HI0594\n",
      "Found kiscode for 1311110484194: IQ8719\n",
      "Found kiscode for 1101112405474: 715767\n",
      "Found kiscode for 1101140141983: L56436\n",
      "Found kiscode for 1311110382950: M01787\n",
      "Found kiscode for 1101110522890: I59595\n",
      "Found kiscode for 1101111242330: 887391\n",
      "No company found for 1101116389757. Continuing...\n",
      "Found kiscode for 2201110167693: IU7928\n",
      "No company found for 1101011066683. Continuing...\n",
      "Found kiscode for 1353110014555: G89184\n",
      "Found kiscode for 1101115241081: J99697\n",
      "Found kiscode for 1101116166577: HT7054\n",
      "Found kiscode for 1101114097782: G23818\n",
      "Found kiscode for 2062110055612: HG6043\n",
      "Found kiscode for 1101130015528: H51324\n",
      "Found kiscode for 1101130012805: C12091\n",
      "Found kiscode for 1101113479957: B97568\n",
      "Found kiscode for 1101115571561: M36168\n",
      "Found kiscode for 1101114592211: H55921\n",
      "Found kiscode for 1942110038423: 135447\n",
      "Found kiscode for 1101113809112: 673629\n",
      "Found kiscode for 1942110097859: C83534\n",
      "Found kiscode for 1942110282020: IZ1058\n",
      "Found kiscode for 1101111843972: 128099\n",
      "Found kiscode for 1501110049169: 177157\n",
      "Found kiscode for 2201110039769: 214578\n",
      "Found kiscode for 1543110016871: 378768\n",
      "Found kiscode for 1344110068569: HL9660\n",
      "Found kiscode for 1357110065667: C52230\n",
      "Found kiscode for 1101116707636: JB3253\n",
      "Found kiscode for 1357110080706: H45638\n",
      "Found kiscode for 1544110027959: HT1755\n",
      "Found kiscode for 1545110071889: IM5714\n",
      "Found kiscode for 2201110125534: EO2208\n",
      "Found kiscode for 1357110121089: IQ5248\n",
      "Found kiscode for 1544110027636: HQ6951\n",
      "Found kiscode for 1101116429529: IR1676\n",
      "Found kiscode for 1243110020977: 155209\n",
      "Found kiscode for 1357110065899: 422304\n",
      "Found kiscode for 1101112042820: 160118\n",
      "Found kiscode for 1544110028030: HT7095\n",
      "Found kiscode for 1101111661291: 134075\n",
      "Found kiscode for 1101114231132: F00826\n",
      "Found kiscode for 1101113892240: C42578\n",
      "Found kiscode for 1101114566406: H32376\n",
      "Found kiscode for 1101115969485: HN2982\n",
      "Found kiscode for 1101110013328: 870129\n",
      "Found kiscode for 1101114823450: H96371\n",
      "Found kiscode for 1101110141301: 860204\n",
      "Found kiscode for 1101140107373: H79428\n",
      "Found kiscode for 1101140102498: H71605\n",
      "Found kiscode for 1101130015700: H71129\n",
      "Found kiscode for 1101130014538: F12888\n",
      "Found kiscode for 1101130012243: C12100\n",
      "Found kiscode for 1101140089844: F12887\n",
      "No company found for 1448710000721. Continuing...\n",
      "Found kiscode for 2201110095315: I67170\n",
      "Found kiscode for 1345110058104: 280987\n",
      "Found kiscode for 1801111127728: IW7518\n",
      "Found kiscode for 1101110652150: 073540\n",
      "Found kiscode for 1101115600302: CC0943\n",
      "Found kiscode for 1101115379692: L66498\n",
      "Found kiscode for 1101111235674: 860662\n",
      "Found kiscode for 1101116248391: IC9463\n",
      "Found kiscode for 1101113547514: C11750\n",
      "Found kiscode for 1949110012506: F14576\n",
      "Found kiscode for 1949110008365: T40337\n",
      "Found kiscode for 2101110108061: HH2995\n",
      "Found kiscode for 1801110693580: F00299\n",
      "Found kiscode for 1101116195188: HU6465\n",
      "Found kiscode for 2113110000955: 317845\n",
      "Found kiscode for 1101114917170: I67179\n",
      "Found kiscode for 1101116428696: IR0804\n",
      "Found kiscode for 1101114434554: F26206\n",
      "Found kiscode for 1101111888548: 173203\n",
      "Found kiscode for 1101115990547: HN9964\n",
      "Found kiscode for 1101114273960: F08000\n",
      "Found kiscode for 1358110120906: 380593\n",
      "Found kiscode for 1101116364212: IP1826\n",
      "Found kiscode for 1101110037112: 860123\n",
      "Found kiscode for 2301110205996: J10225\n",
      "Found kiscode for 1101114767898: E92914\n",
      "Found kiscode for 1601110337801: I82198\n",
      "Found kiscode for 1101113913187: F13011\n",
      "Found kiscode for 1349110010809: 824151\n",
      "Found kiscode for 1801110630053: C38569\n",
      "Found kiscode for 1613110027506: F07627\n",
      "Found kiscode for 1101114123389: C89687\n",
      "Found kiscode for 1501110209507: HJ1544\n",
      "Found kiscode for 1701110176489: 146677\n",
      "Found kiscode for 1101110200579: 360686\n",
      "Found kiscode for 1201110591421: J16354\n",
      "Found kiscode for 2101110078545: E43142\n",
      "Found kiscode for 1801111065019: HW0086\n",
      "Found kiscode for 1101111675044: 141676\n",
      "Found kiscode for 2049110000392: 133974\n",
      "No company found for 1101116543122. Continuing...\n",
      "Found kiscode for 2044110004005: 369966\n",
      "Found kiscode for 1201110845787: HV2601\n",
      "Found kiscode for 1601110405195: HH8584\n",
      "Found kiscode for 1243110002206: 312940\n",
      "Found kiscode for 2001110016282: 454389\n",
      "Found kiscode for 2049110004592: 369964\n",
      "Found kiscode for 1101114374023: F20559\n",
      "Found kiscode for 2001110201528: 485970\n",
      "Found kiscode for 1101115606384: CC3439\n",
      "Found kiscode for 2043110014840: 370013\n",
      "Found kiscode for 2011110023335: 853373\n",
      "Found kiscode for 1101113608481: 484279\n",
      "Found kiscode for 1101114710441: H77786\n",
      "Found kiscode for 1501110228151: HW0509\n",
      "Found kiscode for 1101115629344: CD0552\n",
      "Found kiscode for 1101113899501: C38572\n",
      "Found kiscode for 1947110000373: 394300\n",
      "Found kiscode for 2201110060326: I43853\n",
      "Found kiscode for 2112110009159: C94045\n",
      "Found kiscode for 1101115734002: HE6407\n",
      "Found kiscode for 1101115689059: FZ6710\n",
      "Found kiscode for 1101110808620: 225231\n",
      "Found kiscode for 2845110019965: HU3772\n",
      "Found kiscode for 1348110301391: L81152\n",
      "Found kiscode for 2845110020003: HU3776\n",
      "Found kiscode for 1348110327222: CR5584\n",
      "Found kiscode for 2845110019973: HU3773\n",
      "Found kiscode for 1348110327248: CR5586\n",
      "Found kiscode for 2845110020011: HU3777\n",
      "Found kiscode for 1152110044342: 383841\n",
      "Found kiscode for 1101114888834: J26486\n",
      "Found kiscode for 2001110042295: 040907\n",
      "Found kiscode for 1348110234831: J32198\n",
      "Found kiscode for 1348110305161: L93390\n",
      "Found kiscode for 1348110234899: J32202\n",
      "Found kiscode for 1101113069930: 384349\n",
      "Found kiscode for 1348110234857: J32199\n",
      "Found kiscode for 1101114888826: J09684\n",
      "Found kiscode for 1348110301721: L82698\n",
      "Found kiscode for 2841110080815: H09070\n",
      "Found kiscode for 1348110421660: IT7692\n",
      "Found kiscode for 1348110234873: J51724\n",
      "Found kiscode for 2845110020029: HU3778\n",
      "Found kiscode for 1348110234881: J32200\n",
      "Found kiscode for 2845110019999: HU3775\n",
      "Found kiscode for 2841110078779: F36455\n",
      "Found kiscode for 2841110070022: C15777\n",
      "Found kiscode for 2845110019981: HU3774\n",
      "Found kiscode for 1348110327256: CR5587\n",
      "Found kiscode for 1348110327230: CR5585\n",
      "Found kiscode for 1101113451731: 385861\n",
      "Found kiscode for 1101114442622: F35870\n",
      "No company found for 1101114639592. Continuing...\n",
      "Found kiscode for 2001110004906: 400033\n",
      "Found kiscode for 1711110026906: J24361\n",
      "Found kiscode for 1201110232364: 184135\n",
      "Found kiscode for 1101115873925: HK1945\n",
      "Found kiscode for 1712110024180: 157088\n",
      "Found kiscode for 1101113809344: B98017\n",
      "Found kiscode for 1101112494451: 294168\n",
      "Found kiscode for 1101115730943: HD7556\n",
      "Found kiscode for 1311110363538: L42040\n",
      "Found kiscode for 1101114492015: G59342\n",
      "Found kiscode for 1101115462794: L95630\n",
      "Found kiscode for 1101112895518: 463142\n",
      "Found kiscode for 1311110333002: I90647\n",
      "Found kiscode for 1311110381134: L95637\n",
      "Found kiscode for 1311110276765: H45173\n",
      "Found kiscode for 1341110010706: 390135\n",
      "Found kiscode for 1314110306334: J97821\n",
      "Found kiscode for 1101114002377: F28567\n",
      "Found kiscode for 1101115388099: L69227\n",
      "Found kiscode for 1101114640367: H68969\n",
      "Found kiscode for 1345110295516: HS1609\n",
      "Found kiscode for 1101116049674: HP8640\n",
      "Found kiscode for 1101115884534: HK4834\n",
      "Found kiscode for 1301110002286: 389366\n",
      "Found kiscode for 2101110080714: E43074\n",
      "Found kiscode for 1101114502210: G74454\n",
      "Found kiscode for 1101113300475: 379449\n",
      "Found kiscode for 1101113245267: 484522\n",
      "Found kiscode for 2301110155406: C91737\n",
      "Found kiscode for 1760110075166: H81156\n",
      "Found kiscode for 1615110097480: C15444\n",
      "Found kiscode for 1101110344591: 820326\n",
      "Found kiscode for 1101113837311: F10952\n",
      "Found kiscode for 1717110076115: C07149\n",
      "Found kiscode for 1717110087592: F14814\n",
      "Found kiscode for 1101115063419: I93976\n",
      "Found kiscode for 1101110159734: 130036\n",
      "Found kiscode for 1101110665947: 110264\n",
      "Found kiscode for 2150110001021: 312827\n",
      "Found kiscode for 1101116605393: IX4756\n"
     ]
    },
    {
     "name": "stdout",
     "output_type": "stream",
     "text": [
      "Found kiscode for 1344110025709: 375607\n",
      "No company found for 1101115776059. Continuing...\n",
      "Found kiscode for 1101116367365: IP7863\n",
      "Found kiscode for 1101130016815: I67185\n",
      "Found kiscode for 1101140177136: HO4630\n",
      "Found kiscode for 1101116279809: IM3697\n",
      "Found kiscode for 1411110002605: 362859\n",
      "Found kiscode for 1101116091336: HR1377\n",
      "Found kiscode for 1101115884146: HK4865\n",
      "Found kiscode for 1450110013113: H82149\n",
      "Found kiscode for 1101110825624: 635049\n",
      "Found kiscode for 1101110270895: 351113\n",
      "Found kiscode for 2043110008603: 133874\n",
      "Found kiscode for 1101115604700: CC2041\n",
      "Found kiscode for 1313110079553: C06931\n",
      "Found kiscode for 1412110051816: F15967\n",
      "Found kiscode for 1101110017867: 340120\n",
      "Found kiscode for 1350110106150: 158650\n",
      "Found kiscode for 1101110004682: 382663\n",
      "Found kiscode for 1342110183642: IM6527\n",
      "Found kiscode for 1601110123185: 196174\n",
      "Found kiscode for 1942110046004: 174719\n",
      "Found kiscode for 1801111066538: IM6418\n",
      "Found kiscode for 1101112915605: 227533\n",
      "Found kiscode for 1244110043349: 190111\n",
      "Found kiscode for 1201110095499: 932230\n",
      "Found kiscode for 1101110150659: 610887\n",
      "Found kiscode for 1412110005540: 769568\n",
      "Found kiscode for 1101110175970: 360791\n",
      "Found kiscode for 1942110182436: H31279\n",
      "Found kiscode for 1201110194861: 164213\n",
      "Found kiscode for 1312110001292: 910546\n",
      "Found kiscode for 1101110110083: 500607\n",
      "Found kiscode for 1101114247676: F03720\n",
      "Found kiscode for 1101113802546: C83608\n",
      "Found kiscode for 1801110602507: 492466\n",
      "Found kiscode for 1201110608383: I04149\n",
      "Found kiscode for 1101111720633: 122918\n",
      "Found kiscode for 1101116098407: HR4617\n",
      "Found kiscode for 1942110096322: C74175\n",
      "Found kiscode for 1101110358766: 611034\n",
      "Found kiscode for 1101114572619: H32458\n",
      "Found kiscode for 1101114377019: F22380\n",
      "Found kiscode for 1101114227743: F22379\n",
      "Found kiscode for 1101116533601: IV0340\n",
      "Found kiscode for 1201110650673: J04232\n",
      "Found kiscode for 1411110028015: 389112\n",
      "Found kiscode for 1101116247624: IM9896\n",
      "Found kiscode for 1345110195378: I67182\n",
      "Found kiscode for 1311110509025: IZ5535\n",
      "Found kiscode for 1101112762668: 211937\n",
      "Found kiscode for 1801110484898: 376147\n",
      "Found kiscode for 1614110009403: 179413\n",
      "Found kiscode for 1101113705807: C77530\n",
      "Found kiscode for 1801110093095: 126106\n",
      "Found kiscode for 1101111367740: 085016\n",
      "Found kiscode for 1101111654981: 102175\n",
      "Found kiscode for 2001110502984: IT0862\n",
      "Found kiscode for 1101116359370: IP1111\n",
      "Found kiscode for 2001110350458: E45845\n",
      "Found kiscode for 2052110036027: J91610\n",
      "Found kiscode for 2001110472161: HT9516\n",
      "Found kiscode for 1101116140654: HS8272\n",
      "Found kiscode for 2001110411903: M31950\n",
      "Found kiscode for 2001110185863: 488903\n",
      "Found kiscode for 1101116456283: IS0205\n",
      "Found kiscode for 2001110332696: E46386\n",
      "Found kiscode for 2001110045265: 716820\n",
      "Found kiscode for 2201110020908: 102645\n",
      "Found kiscode for 2001110367974: J17829\n",
      "Found kiscode for 2001110395008: L69639\n",
      "Found kiscode for 2059110026181: HS3174\n",
      "Found kiscode for 2001110072094: 214572\n",
      "Found kiscode for 2001110408182: M20997\n",
      "Found kiscode for 1312110030945: H48837\n",
      "Found kiscode for 2001110419543: CD1248\n",
      "Found kiscode for 1101116529569: IU8824\n",
      "Found kiscode for 1101116336063: IO2742\n",
      "Found kiscode for 1801110388777: 244593\n",
      "      publicYm  fisclYr unityGrupNm    entrprsNm rprsntvNm      fondDe  \\\n",
      "1864    201805     2017         네이버      (주)락스퀘어       조성환  2017/04/28   \n",
      "1866    201805     2017          넥슨      (주)엔엑스씨       김정주  1989/12/29   \n",
      "1913    201805     2017          부영     (주)오투리조트     김영윤외3  2001/12/08   \n",
      "1954    201805     2017          유진  유진에스비홀딩스(주)       오주성  2017/07/05   \n",
      "2007    201805     2017         지에스    (주)에이플러스비       이창우  2011/07/01   \n",
      "2049    201805     2017       한국타이어    (주)플라잉모터스       유형민  2015/07/08   \n",
      "\n",
      "          grinil indutyCode         indutyNm ordtmEmplyCo  ... assetsTotamt  \\\n",
      "1864  2018/03/01        J58              출판업           18  ...          547   \n",
      "1866  1989/12/29        M71           전문서비스업           49  ...    1,168,451   \n",
      "1913  2016/04/01        R91  스포츠 및 오락관련 서비스업           61  ...      130,872   \n",
      "1954  2017/07/05        K64              금융업            0  ...      214,787   \n",
      "2007  2013/07/01        G47      소매업; 자동차 제외          109  ...        4,244   \n",
      "2049  2017/02/20        S95              수리업           12  ...        1,093   \n",
      "\n",
      "     debtTotamt caplTotamt caplAmount selngAmount thstrmNtpfAmount  \\\n",
      "1864        822       -275         23           0             -795   \n",
      "1866    111,244  1,057,207      1,454      11,598          344,728   \n",
      "1913     54,476     76,396     80,000       7,273           -4,225   \n",
      "1954          7    214,780    215,500           0             -720   \n",
      "2007     13,422     -9,178      2,923       6,084           -3,747   \n",
      "2049        147        946        670         918             -254   \n",
      "\n",
      "     reconstrctur        jurirno year2 rcmgCode  \n",
      "1864         일반회사  1101116389757  2018      NaN  \n",
      "1866         일반회사  1101011066683  2018      NaN  \n",
      "1913         일반회사  1448710000721  2018      NaN  \n",
      "1954        금융보험업  1101116543122  2018      NaN  \n",
      "2007         일반회사  1101114639592  2018      NaN  \n",
      "2049         일반회사  1101115776059  2018      NaN  \n",
      "\n",
      "[6 rows x 23 columns]\n"
     ]
    }
   ],
   "source": [
    "apiKey = \"7946dcde119af7656afc01157071c0ab9488b9ad\"\n",
    "myApi = api.Api(apiKey)\n",
    "username = 'wonbok'\n",
    "password = 'gkrtkrhk5034!'\n",
    "dfCmpnySumry18 = myApi.scrapeKiscode(2018, username, password)"
   ]
  },
  {
   "cell_type": "code",
   "execution_count": 367,
   "id": "373a233b",
   "metadata": {},
   "outputs": [],
   "source": [
    "dfCmpnySumry18.loc[dfCmpnySumry18[dfCmpnySumry18['entrprsNm'] == '(주)락스퀘어'].index, 'rcmgCode'] = 2830000000\n",
    "dfCmpnySumry18.loc[dfCmpnySumry18[dfCmpnySumry18['entrprsNm'] == '(주)엔엑스씨'].index, 'rcmgCode'] = 799173\n",
    "dfCmpnySumry18.loc[dfCmpnySumry18[dfCmpnySumry18['entrprsNm'] == '(주)오투리조트'].index, 'rcmgCode'] = 548906\n",
    "dfCmpnySumry18.loc[dfCmpnySumry18[dfCmpnySumry18['entrprsNm'] == '유진에스비홀딩스(주)'].index, 'rcmgCode'] = 1902909737\n",
    "dfCmpnySumry18.loc[dfCmpnySumry18[dfCmpnySumry18['entrprsNm'] == '(주)에이플러스비'].index, 'rcmgCode'] = 2830000000\n",
    "dfCmpnySumry18.loc[dfCmpnySumry18[dfCmpnySumry18['entrprsNm'] == '(주)플라잉모터스'].index, 'rcmgCode'] = 2301508963"
   ]
  },
  {
   "cell_type": "code",
   "execution_count": 368,
   "id": "2c0c9de7",
   "metadata": {},
   "outputs": [
    {
     "data": {
      "text/html": [
       "<div>\n",
       "<style scoped>\n",
       "    .dataframe tbody tr th:only-of-type {\n",
       "        vertical-align: middle;\n",
       "    }\n",
       "\n",
       "    .dataframe tbody tr th {\n",
       "        vertical-align: top;\n",
       "    }\n",
       "\n",
       "    .dataframe thead th {\n",
       "        text-align: right;\n",
       "    }\n",
       "</style>\n",
       "<table border=\"1\" class=\"dataframe\">\n",
       "  <thead>\n",
       "    <tr style=\"text-align: right;\">\n",
       "      <th></th>\n",
       "      <th>publicYm</th>\n",
       "      <th>fisclYr</th>\n",
       "      <th>unityGrupNm</th>\n",
       "      <th>entrprsNm</th>\n",
       "      <th>rprsntvNm</th>\n",
       "      <th>fondDe</th>\n",
       "      <th>grinil</th>\n",
       "      <th>indutyCode</th>\n",
       "      <th>indutyNm</th>\n",
       "      <th>ordtmEmplyCo</th>\n",
       "      <th>...</th>\n",
       "      <th>assetsTotamt</th>\n",
       "      <th>debtTotamt</th>\n",
       "      <th>caplTotamt</th>\n",
       "      <th>caplAmount</th>\n",
       "      <th>selngAmount</th>\n",
       "      <th>thstrmNtpfAmount</th>\n",
       "      <th>reconstrctur</th>\n",
       "      <th>jurirno</th>\n",
       "      <th>year2</th>\n",
       "      <th>rcmgCode</th>\n",
       "    </tr>\n",
       "  </thead>\n",
       "  <tbody>\n",
       "  </tbody>\n",
       "</table>\n",
       "<p>0 rows × 23 columns</p>\n",
       "</div>"
      ],
      "text/plain": [
       "Empty DataFrame\n",
       "Columns: [publicYm, fisclYr, unityGrupNm, entrprsNm, rprsntvNm, fondDe, grinil, indutyCode, indutyNm, ordtmEmplyCo, stacntDudt, beforeBsnsStacntDe, entrprsOthbcDe, assetsTotamt, debtTotamt, caplTotamt, caplAmount, selngAmount, thstrmNtpfAmount, reconstrctur, jurirno, year2, rcmgCode]\n",
       "Index: []\n",
       "\n",
       "[0 rows x 23 columns]"
      ]
     },
     "execution_count": 368,
     "metadata": {},
     "output_type": "execute_result"
    }
   ],
   "source": [
    "dfCmpnySumry18[dfCmpnySumry18['rcmgCode'].isna()]"
   ]
  },
  {
   "cell_type": "code",
   "execution_count": 369,
   "id": "c988e500",
   "metadata": {},
   "outputs": [],
   "source": [
    "dfCmpnySumry18.to_excel('../data/cmpnySumry/cmpnySumry2018Eng.xlsx', index=False)"
   ]
  },
  {
   "cell_type": "code",
   "execution_count": 370,
   "id": "1b34e9dc",
   "metadata": {},
   "outputs": [
    {
     "data": {
      "text/plain": [
       "52"
      ]
     },
     "execution_count": 370,
     "metadata": {},
     "output_type": "execute_result"
    }
   ],
   "source": [
    "dfCmpnySumry18C = dfCmpnySumry18[dfCmpnySumry18['unityGrupNm'].isin(dfAffilNum18['chaebol'])]\n",
    "dfCmpnySumry18C['unityGrupNm'].nunique()"
   ]
  },
  {
   "cell_type": "code",
   "execution_count": 376,
   "id": "a543f449",
   "metadata": {},
   "outputs": [
    {
     "name": "stderr",
     "output_type": "stream",
     "text": [
      "/var/folders/xw/1rpcyks10ps27v4w_vlbb6s00000gn/T/ipykernel_37869/1120564480.py:1: SettingWithCopyWarning: \n",
      "A value is trying to be set on a copy of a slice from a DataFrame.\n",
      "Try using .loc[row_indexer,col_indexer] = value instead\n",
      "\n",
      "See the caveats in the documentation: https://pandas.pydata.org/pandas-docs/stable/user_guide/indexing.html#returning-a-view-versus-a-copy\n",
      "  dfCmpnySumry18C['firmid'] = dfCmpnySumry18C['rcmgCode']\n"
     ]
    }
   ],
   "source": [
    "dfCmpnySumry18C['firmid'] = dfCmpnySumry18C['rcmgCode']"
   ]
  },
  {
   "cell_type": "code",
   "execution_count": 372,
   "id": "18b83bb6",
   "metadata": {},
   "outputs": [
    {
     "data": {
      "text/html": [
       "<div>\n",
       "<style scoped>\n",
       "    .dataframe tbody tr th:only-of-type {\n",
       "        vertical-align: middle;\n",
       "    }\n",
       "\n",
       "    .dataframe tbody tr th {\n",
       "        vertical-align: top;\n",
       "    }\n",
       "\n",
       "    .dataframe thead th {\n",
       "        text-align: right;\n",
       "    }\n",
       "</style>\n",
       "<table border=\"1\" class=\"dataframe\">\n",
       "  <thead>\n",
       "    <tr style=\"text-align: right;\">\n",
       "      <th></th>\n",
       "      <th>grpname2</th>\n",
       "      <th>grpname</th>\n",
       "      <th>grpcode</th>\n",
       "      <th>firmname</th>\n",
       "      <th>firmid</th>\n",
       "      <th>own</th>\n",
       "      <th>own2</th>\n",
       "      <th>type</th>\n",
       "      <th>ownerid</th>\n",
       "      <th>ownername</th>\n",
       "    </tr>\n",
       "  </thead>\n",
       "  <tbody>\n",
       "    <tr>\n",
       "      <th>0</th>\n",
       "      <td>넥슨</td>\n",
       "      <td>nexon</td>\n",
       "      <td>1902205.0</td>\n",
       "      <td>엔엑스씨</td>\n",
       "      <td>799173</td>\n",
       "      <td>0.982809</td>\n",
       "      <td>0.982809</td>\n",
       "      <td>0</td>\n",
       "      <td>NaN</td>\n",
       "      <td>NaN</td>\n",
       "    </tr>\n",
       "    <tr>\n",
       "      <th>1</th>\n",
       "      <td>넥슨</td>\n",
       "      <td>nexon</td>\n",
       "      <td>1902205.0</td>\n",
       "      <td>엔엑스씨</td>\n",
       "      <td>799173</td>\n",
       "      <td>0.017191</td>\n",
       "      <td>0.017191</td>\n",
       "      <td>1</td>\n",
       "      <td>196338.0</td>\n",
       "      <td>NaN</td>\n",
       "    </tr>\n",
       "    <tr>\n",
       "      <th>2</th>\n",
       "      <td>넥슨</td>\n",
       "      <td>nexon</td>\n",
       "      <td>1902205.0</td>\n",
       "      <td>엔엑스씨</td>\n",
       "      <td>799173</td>\n",
       "      <td>0.000000</td>\n",
       "      <td>0.000000</td>\n",
       "      <td>99</td>\n",
       "      <td>NaN</td>\n",
       "      <td>NaN</td>\n",
       "    </tr>\n",
       "    <tr>\n",
       "      <th>3</th>\n",
       "      <td>넥슨</td>\n",
       "      <td>nexon</td>\n",
       "      <td>1902205.0</td>\n",
       "      <td>(유)와이즈키즈</td>\n",
       "      <td>196338</td>\n",
       "      <td>1.000000</td>\n",
       "      <td>1.000000</td>\n",
       "      <td>0</td>\n",
       "      <td>NaN</td>\n",
       "      <td>NaN</td>\n",
       "    </tr>\n",
       "    <tr>\n",
       "      <th>4</th>\n",
       "      <td>넥슨</td>\n",
       "      <td>nexon</td>\n",
       "      <td>1902205.0</td>\n",
       "      <td>(유)와이즈키즈</td>\n",
       "      <td>196338</td>\n",
       "      <td>0.000000</td>\n",
       "      <td>0.000000</td>\n",
       "      <td>1</td>\n",
       "      <td>NaN</td>\n",
       "      <td>NaN</td>\n",
       "    </tr>\n",
       "  </tbody>\n",
       "</table>\n",
       "</div>"
      ],
      "text/plain": [
       "  grpname2 grpname    grpcode  firmname  firmid       own      own2  type  \\\n",
       "0       넥슨   nexon  1902205.0      엔엑스씨  799173  0.982809  0.982809     0   \n",
       "1       넥슨   nexon  1902205.0      엔엑스씨  799173  0.017191  0.017191     1   \n",
       "2       넥슨   nexon  1902205.0      엔엑스씨  799173  0.000000  0.000000    99   \n",
       "3       넥슨   nexon  1902205.0  (유)와이즈키즈  196338  1.000000  1.000000     0   \n",
       "4       넥슨   nexon  1902205.0  (유)와이즈키즈  196338  0.000000  0.000000     1   \n",
       "\n",
       "    ownerid ownername  \n",
       "0       NaN       NaN  \n",
       "1  196338.0       NaN  \n",
       "2       NaN       NaN  \n",
       "3       NaN       NaN  \n",
       "4       NaN       NaN  "
      ]
     },
     "execution_count": 372,
     "metadata": {},
     "output_type": "execute_result"
    }
   ],
   "source": [
    "dfOwnInput18.head()"
   ]
  },
  {
   "cell_type": "code",
   "execution_count": 377,
   "id": "7f20603a",
   "metadata": {},
   "outputs": [],
   "source": [
    "dfOwnInput18['직접지분율'] = dfOwnInput18['own']"
   ]
  },
  {
   "cell_type": "code",
   "execution_count": 378,
   "id": "619532fd",
   "metadata": {},
   "outputs": [
    {
     "data": {
      "text/html": [
       "<div>\n",
       "<style scoped>\n",
       "    .dataframe tbody tr th:only-of-type {\n",
       "        vertical-align: middle;\n",
       "    }\n",
       "\n",
       "    .dataframe tbody tr th {\n",
       "        vertical-align: top;\n",
       "    }\n",
       "\n",
       "    .dataframe thead th {\n",
       "        text-align: right;\n",
       "    }\n",
       "</style>\n",
       "<table border=\"1\" class=\"dataframe\">\n",
       "  <thead>\n",
       "    <tr style=\"text-align: right;\">\n",
       "      <th></th>\n",
       "      <th>firmid_before</th>\n",
       "      <th>firmid</th>\n",
       "      <th>fid</th>\n",
       "      <th>ultown</th>\n",
       "      <th>avpos</th>\n",
       "      <th>sd</th>\n",
       "      <th>steps</th>\n",
       "      <th>loop</th>\n",
       "      <th>lastcontrol</th>\n",
       "      <th>central</th>\n",
       "      <th>year</th>\n",
       "      <th>grpname</th>\n",
       "      <th>grpcode</th>\n",
       "      <th>grpname2</th>\n",
       "      <th>firmname</th>\n",
       "      <th>실질지분율</th>\n",
       "    </tr>\n",
       "  </thead>\n",
       "  <tbody>\n",
       "    <tr>\n",
       "      <th>62</th>\n",
       "      <td>5086.0</td>\n",
       "      <td>5086.0</td>\n",
       "      <td>1.0</td>\n",
       "      <td>0.003523</td>\n",
       "      <td>4.176080</td>\n",
       "      <td>3.0</td>\n",
       "      <td>NaN</td>\n",
       "      <td>0.0</td>\n",
       "      <td>8.0</td>\n",
       "      <td>0.246155</td>\n",
       "      <td>2017.0</td>\n",
       "      <td>eugenes</td>\n",
       "      <td>653.0</td>\n",
       "      <td>유진</td>\n",
       "      <td>케이비에프</td>\n",
       "      <td>0.003523</td>\n",
       "    </tr>\n",
       "    <tr>\n",
       "      <th>76</th>\n",
       "      <td>6687.0</td>\n",
       "      <td>6687.0</td>\n",
       "      <td>1.0</td>\n",
       "      <td>0.058183</td>\n",
       "      <td>1.991406</td>\n",
       "      <td>1.0</td>\n",
       "      <td>NaN</td>\n",
       "      <td>0.0</td>\n",
       "      <td>15.0</td>\n",
       "      <td>0.000000</td>\n",
       "      <td>2017.0</td>\n",
       "      <td>hyosung</td>\n",
       "      <td>971.0</td>\n",
       "      <td>효성</td>\n",
       "      <td>신화인터텍</td>\n",
       "      <td>0.058183</td>\n",
       "    </tr>\n",
       "    <tr>\n",
       "      <th>78</th>\n",
       "      <td>NaN</td>\n",
       "      <td>7080.0</td>\n",
       "      <td>1.0</td>\n",
       "      <td>1.000000</td>\n",
       "      <td>1.000000</td>\n",
       "      <td>1.0</td>\n",
       "      <td>NaN</td>\n",
       "      <td>0.0</td>\n",
       "      <td>100.0</td>\n",
       "      <td>0.000000</td>\n",
       "      <td>2017.0</td>\n",
       "      <td>kcc</td>\n",
       "      <td>184.0</td>\n",
       "      <td>케이씨씨</td>\n",
       "      <td>대호포장</td>\n",
       "      <td>1.000000</td>\n",
       "    </tr>\n",
       "    <tr>\n",
       "      <th>99</th>\n",
       "      <td>7131.0</td>\n",
       "      <td>7131.0</td>\n",
       "      <td>1.0</td>\n",
       "      <td>0.511612</td>\n",
       "      <td>1.000000</td>\n",
       "      <td>1.0</td>\n",
       "      <td>NaN</td>\n",
       "      <td>0.0</td>\n",
       "      <td>51.0</td>\n",
       "      <td>0.000000</td>\n",
       "      <td>2017.0</td>\n",
       "      <td>booyoung</td>\n",
       "      <td>16032.0</td>\n",
       "      <td>부영</td>\n",
       "      <td>광영토건</td>\n",
       "      <td>0.511612</td>\n",
       "    </tr>\n",
       "    <tr>\n",
       "      <th>116</th>\n",
       "      <td>7158.0</td>\n",
       "      <td>7158.0</td>\n",
       "      <td>1.0</td>\n",
       "      <td>0.475000</td>\n",
       "      <td>1.694737</td>\n",
       "      <td>1.0</td>\n",
       "      <td>NaN</td>\n",
       "      <td>0.0</td>\n",
       "      <td>47.0</td>\n",
       "      <td>6.590908</td>\n",
       "      <td>2017.0</td>\n",
       "      <td>youngpoong</td>\n",
       "      <td>632.0</td>\n",
       "      <td>영풍</td>\n",
       "      <td>영풍문고</td>\n",
       "      <td>0.475000</td>\n",
       "    </tr>\n",
       "  </tbody>\n",
       "</table>\n",
       "</div>"
      ],
      "text/plain": [
       "     firmid_before  firmid  fid    ultown     avpos   sd  steps  loop  \\\n",
       "62          5086.0  5086.0  1.0  0.003523  4.176080  3.0    NaN   0.0   \n",
       "76          6687.0  6687.0  1.0  0.058183  1.991406  1.0    NaN   0.0   \n",
       "78             NaN  7080.0  1.0  1.000000  1.000000  1.0    NaN   0.0   \n",
       "99          7131.0  7131.0  1.0  0.511612  1.000000  1.0    NaN   0.0   \n",
       "116         7158.0  7158.0  1.0  0.475000  1.694737  1.0    NaN   0.0   \n",
       "\n",
       "     lastcontrol   central    year     grpname  grpcode grpname2 firmname  \\\n",
       "62           8.0  0.246155  2017.0     eugenes    653.0       유진    케이비에프   \n",
       "76          15.0  0.000000  2017.0     hyosung    971.0       효성    신화인터텍   \n",
       "78         100.0  0.000000  2017.0         kcc    184.0     케이씨씨     대호포장   \n",
       "99          51.0  0.000000  2017.0    booyoung  16032.0       부영     광영토건   \n",
       "116         47.0  6.590908  2017.0  youngpoong    632.0       영풍     영풍문고   \n",
       "\n",
       "        실질지분율  \n",
       "62   0.003523  \n",
       "76   0.058183  \n",
       "78   1.000000  \n",
       "99   0.511612  \n",
       "116  0.475000  "
      ]
     },
     "execution_count": 378,
     "metadata": {},
     "output_type": "execute_result"
    }
   ],
   "source": [
    "dfOwnOutput18 = pd.read_stata(\"../data/almeida/almeida_own1_2001-2018_0913수정.dta\")\n",
    "dfOwnOutput18 = dfOwnOutput18[dfOwnOutput18['year'] == 2017]\n",
    "dfOwnOutput18['실질지분율'] = dfOwnOutput18['ultown']\n",
    "dfOwnOutput18.head()"
   ]
  },
  {
   "cell_type": "code",
   "execution_count": 379,
   "id": "aec4e3f2",
   "metadata": {},
   "outputs": [
    {
     "data": {
      "text/html": [
       "<div>\n",
       "<style scoped>\n",
       "    .dataframe tbody tr th:only-of-type {\n",
       "        vertical-align: middle;\n",
       "    }\n",
       "\n",
       "    .dataframe tbody tr th {\n",
       "        vertical-align: top;\n",
       "    }\n",
       "\n",
       "    .dataframe thead th {\n",
       "        text-align: right;\n",
       "    }\n",
       "</style>\n",
       "<table border=\"1\" class=\"dataframe\">\n",
       "  <thead>\n",
       "    <tr style=\"text-align: right;\">\n",
       "      <th></th>\n",
       "      <th>publicYm</th>\n",
       "      <th>fisclYr</th>\n",
       "      <th>unityGrupNm</th>\n",
       "      <th>entrprsNm</th>\n",
       "      <th>rprsntvNm</th>\n",
       "      <th>fondDe</th>\n",
       "      <th>grinil</th>\n",
       "      <th>indutyCode</th>\n",
       "      <th>indutyNm</th>\n",
       "      <th>ordtmEmplyCo</th>\n",
       "      <th>...</th>\n",
       "      <th>caplAmount</th>\n",
       "      <th>selngAmount</th>\n",
       "      <th>thstrmNtpfAmount</th>\n",
       "      <th>reconstrctur</th>\n",
       "      <th>jurirno</th>\n",
       "      <th>year2</th>\n",
       "      <th>rcmgCode</th>\n",
       "      <th>firmid</th>\n",
       "      <th>직접지분율</th>\n",
       "      <th>실질지분율</th>\n",
       "    </tr>\n",
       "  </thead>\n",
       "  <tbody>\n",
       "    <tr>\n",
       "      <th>0</th>\n",
       "      <td>201805</td>\n",
       "      <td>2017</td>\n",
       "      <td>DB</td>\n",
       "      <td>(주)동부월드</td>\n",
       "      <td>최경진</td>\n",
       "      <td>1989/05/15</td>\n",
       "      <td>1997/06/02</td>\n",
       "      <td>R91</td>\n",
       "      <td>스포츠 및 오락관련 서비스업</td>\n",
       "      <td>76</td>\n",
       "      <td>...</td>\n",
       "      <td>161,454</td>\n",
       "      <td>10,894</td>\n",
       "      <td>-3,672</td>\n",
       "      <td>회생절차</td>\n",
       "      <td>1101110628086</td>\n",
       "      <td>2018</td>\n",
       "      <td>910813.0</td>\n",
       "      <td>910813.0</td>\n",
       "      <td>0.000000</td>\n",
       "      <td>0.099492</td>\n",
       "    </tr>\n",
       "    <tr>\n",
       "      <th>1</th>\n",
       "      <td>201805</td>\n",
       "      <td>2017</td>\n",
       "      <td>DB</td>\n",
       "      <td>디비씨앤에스자동차손해사정(주)</td>\n",
       "      <td>문수원</td>\n",
       "      <td>2011/03/17</td>\n",
       "      <td>2011/04/05</td>\n",
       "      <td>K66</td>\n",
       "      <td>금융 및 보험 관련 서비스업</td>\n",
       "      <td>742</td>\n",
       "      <td>...</td>\n",
       "      <td>200</td>\n",
       "      <td>45,777</td>\n",
       "      <td>1,388</td>\n",
       "      <td>금융보험업</td>\n",
       "      <td>1101114558669</td>\n",
       "      <td>2018</td>\n",
       "      <td>18004172.0</td>\n",
       "      <td>18004172.0</td>\n",
       "      <td>0.000000</td>\n",
       "      <td>0.181040</td>\n",
       "    </tr>\n",
       "    <tr>\n",
       "      <th>2</th>\n",
       "      <td>201805</td>\n",
       "      <td>2017</td>\n",
       "      <td>DB</td>\n",
       "      <td>디비캐피탈(주)</td>\n",
       "      <td>윤재인</td>\n",
       "      <td>1995/12/08</td>\n",
       "      <td>1995/12/08</td>\n",
       "      <td>K64</td>\n",
       "      <td>금융업</td>\n",
       "      <td>20</td>\n",
       "      <td>...</td>\n",
       "      <td>62,014</td>\n",
       "      <td>11,477</td>\n",
       "      <td>2,344</td>\n",
       "      <td>금융보험업</td>\n",
       "      <td>1101111220641</td>\n",
       "      <td>2018</td>\n",
       "      <td>56018.0</td>\n",
       "      <td>56018.0</td>\n",
       "      <td>0.000000</td>\n",
       "      <td>0.166868</td>\n",
       "    </tr>\n",
       "    <tr>\n",
       "      <th>3</th>\n",
       "      <td>201805</td>\n",
       "      <td>2017</td>\n",
       "      <td>DB</td>\n",
       "      <td>디비금융투자(주)</td>\n",
       "      <td>고원종</td>\n",
       "      <td>1982/12/20</td>\n",
       "      <td>1982/12/20</td>\n",
       "      <td>K66</td>\n",
       "      <td>금융 및 보험 관련 서비스업</td>\n",
       "      <td>968</td>\n",
       "      <td>...</td>\n",
       "      <td>212,232</td>\n",
       "      <td>806,256</td>\n",
       "      <td>2,591</td>\n",
       "      <td>금융보험업</td>\n",
       "      <td>1101110339956</td>\n",
       "      <td>2018</td>\n",
       "      <td>821640.0</td>\n",
       "      <td>821640.0</td>\n",
       "      <td>0.129058</td>\n",
       "      <td>0.174456</td>\n",
       "    </tr>\n",
       "    <tr>\n",
       "      <th>4</th>\n",
       "      <td>201805</td>\n",
       "      <td>2017</td>\n",
       "      <td>DB</td>\n",
       "      <td>디비생명보험(주)</td>\n",
       "      <td>이태운</td>\n",
       "      <td>1989/04/14</td>\n",
       "      <td>1997/01/03</td>\n",
       "      <td>K65</td>\n",
       "      <td>보험 및 연금업</td>\n",
       "      <td>569</td>\n",
       "      <td>...</td>\n",
       "      <td>193,331</td>\n",
       "      <td>2,378,149</td>\n",
       "      <td>29,215</td>\n",
       "      <td>금융보험업</td>\n",
       "      <td>1101110623606</td>\n",
       "      <td>2018</td>\n",
       "      <td>821420.0</td>\n",
       "      <td>821420.0</td>\n",
       "      <td>0.001217</td>\n",
       "      <td>0.141807</td>\n",
       "    </tr>\n",
       "  </tbody>\n",
       "</table>\n",
       "<p>5 rows × 26 columns</p>\n",
       "</div>"
      ],
      "text/plain": [
       "   publicYm  fisclYr unityGrupNm         entrprsNm rprsntvNm      fondDe  \\\n",
       "0    201805     2017          DB           (주)동부월드       최경진  1989/05/15   \n",
       "1    201805     2017          DB  디비씨앤에스자동차손해사정(주)       문수원  2011/03/17   \n",
       "2    201805     2017          DB          디비캐피탈(주)       윤재인  1995/12/08   \n",
       "3    201805     2017          DB         디비금융투자(주)       고원종  1982/12/20   \n",
       "4    201805     2017          DB         디비생명보험(주)       이태운  1989/04/14   \n",
       "\n",
       "       grinil indutyCode         indutyNm ordtmEmplyCo  ... caplAmount  \\\n",
       "0  1997/06/02        R91  스포츠 및 오락관련 서비스업           76  ...    161,454   \n",
       "1  2011/04/05        K66  금융 및 보험 관련 서비스업          742  ...        200   \n",
       "2  1995/12/08        K64              금융업           20  ...     62,014   \n",
       "3  1982/12/20        K66  금융 및 보험 관련 서비스업          968  ...    212,232   \n",
       "4  1997/01/03        K65         보험 및 연금업          569  ...    193,331   \n",
       "\n",
       "  selngAmount thstrmNtpfAmount reconstrctur        jurirno year2    rcmgCode  \\\n",
       "0      10,894           -3,672         회생절차  1101110628086  2018    910813.0   \n",
       "1      45,777            1,388        금융보험업  1101114558669  2018  18004172.0   \n",
       "2      11,477            2,344        금융보험업  1101111220641  2018     56018.0   \n",
       "3     806,256            2,591        금융보험업  1101110339956  2018    821640.0   \n",
       "4   2,378,149           29,215        금융보험업  1101110623606  2018    821420.0   \n",
       "\n",
       "       firmid     직접지분율     실질지분율  \n",
       "0    910813.0  0.000000  0.099492  \n",
       "1  18004172.0  0.000000  0.181040  \n",
       "2     56018.0  0.000000  0.166868  \n",
       "3    821640.0  0.129058  0.174456  \n",
       "4    821420.0  0.001217  0.141807  \n",
       "\n",
       "[5 rows x 26 columns]"
      ]
     },
     "execution_count": 379,
     "metadata": {},
     "output_type": "execute_result"
    }
   ],
   "source": [
    "dfCmpnySumry18C = dfCmpnySumry18C.merge(dfOwnInput18[dfOwnInput18['type'] == 0][['firmid', '직접지분율']], on='firmid', how='left')\\\n",
    "                                 .merge(dfOwnOutput18[['firmid', '실질지분율']], on='firmid', how='left')\n",
    "dfCmpnySumry18C.head()"
   ]
  },
  {
   "cell_type": "code",
   "execution_count": 385,
   "id": "272aab8b",
   "metadata": {},
   "outputs": [],
   "source": [
    "dfOwnInput18['매출회사id'] = dfOwnInput18['firmid']\n",
    "dfOwnOutput18['매출회사id'] = dfOwnOutput18['firmid']\n",
    "dfOwnOutput18['매입회사id'] = dfOwnOutput18['firmid']"
   ]
  },
  {
   "cell_type": "code",
   "execution_count": 382,
   "id": "c73775f9",
   "metadata": {},
   "outputs": [],
   "source": [
    "dfOwnOutput18['매출회사 실질지분율'] = dfOwnOutput18['실질지분율']\n",
    "dfOwnOutput18['매입회사 실질지분율'] = dfOwnOutput18['실질지분율']"
   ]
  },
  {
   "cell_type": "code",
   "execution_count": 381,
   "id": "67ea3e30",
   "metadata": {},
   "outputs": [
    {
     "data": {
      "text/html": [
       "<div>\n",
       "<style scoped>\n",
       "    .dataframe tbody tr th:only-of-type {\n",
       "        vertical-align: middle;\n",
       "    }\n",
       "\n",
       "    .dataframe tbody tr th {\n",
       "        vertical-align: top;\n",
       "    }\n",
       "\n",
       "    .dataframe thead th {\n",
       "        text-align: right;\n",
       "    }\n",
       "</style>\n",
       "<table border=\"1\" class=\"dataframe\">\n",
       "  <thead>\n",
       "    <tr style=\"text-align: right;\">\n",
       "      <th></th>\n",
       "      <th>year</th>\n",
       "      <th>year2</th>\n",
       "      <th>grpname</th>\n",
       "      <th>grpname2</th>\n",
       "      <th>grpcode</th>\n",
       "      <th>매출회사</th>\n",
       "      <th>매출회사id</th>\n",
       "      <th>매출사\\n상/비</th>\n",
       "      <th>매입회사</th>\n",
       "      <th>매입회사id</th>\n",
       "      <th>매입사\\n상/비</th>\n",
       "      <th>매출액</th>\n",
       "      <th>매출회사\\n국내계열사계</th>\n",
       "      <th>매출회사\\n해외계열사계</th>\n",
       "      <th>매출회사\\n매출액총계</th>\n",
       "      <th>매출회사\\n국내매출액</th>\n",
       "      <th>매출회사\\n해외매출액</th>\n",
       "      <th>재벌순위</th>\n",
       "      <th>매출사 CFR\\n(우선주포함)</th>\n",
       "      <th>매출사 FAM\\n(우선주포함)</th>\n",
       "    </tr>\n",
       "  </thead>\n",
       "  <tbody>\n",
       "    <tr>\n",
       "      <th>2</th>\n",
       "      <td>2017</td>\n",
       "      <td>2018</td>\n",
       "      <td>DB</td>\n",
       "      <td>DB</td>\n",
       "      <td>365</td>\n",
       "      <td>DBInc.</td>\n",
       "      <td>352098</td>\n",
       "      <td>상장</td>\n",
       "      <td>DB금융투자</td>\n",
       "      <td>821640</td>\n",
       "      <td>상장</td>\n",
       "      <td>1424.0</td>\n",
       "      <td>43037.0</td>\n",
       "      <td>0</td>\n",
       "      <td>199530.0</td>\n",
       "      <td>123317.0</td>\n",
       "      <td>76213.0</td>\n",
       "      <td>36</td>\n",
       "      <td>0.401239</td>\n",
       "      <td>0.401239</td>\n",
       "    </tr>\n",
       "    <tr>\n",
       "      <th>3</th>\n",
       "      <td>2017</td>\n",
       "      <td>2018</td>\n",
       "      <td>DB</td>\n",
       "      <td>DB</td>\n",
       "      <td>365</td>\n",
       "      <td>DBInc.</td>\n",
       "      <td>352098</td>\n",
       "      <td>상장</td>\n",
       "      <td>DB라이텍</td>\n",
       "      <td>137656</td>\n",
       "      <td>상장</td>\n",
       "      <td>307.0</td>\n",
       "      <td>43037.0</td>\n",
       "      <td>0</td>\n",
       "      <td>199530.0</td>\n",
       "      <td>123317.0</td>\n",
       "      <td>76213.0</td>\n",
       "      <td>36</td>\n",
       "      <td>0.401239</td>\n",
       "      <td>0.401239</td>\n",
       "    </tr>\n",
       "    <tr>\n",
       "      <th>4</th>\n",
       "      <td>2017</td>\n",
       "      <td>2018</td>\n",
       "      <td>DB</td>\n",
       "      <td>DB</td>\n",
       "      <td>365</td>\n",
       "      <td>DBInc.</td>\n",
       "      <td>352098</td>\n",
       "      <td>상장</td>\n",
       "      <td>DB메탈</td>\n",
       "      <td>12097776</td>\n",
       "      <td>비상장</td>\n",
       "      <td>1566.0</td>\n",
       "      <td>43037.0</td>\n",
       "      <td>0</td>\n",
       "      <td>199530.0</td>\n",
       "      <td>123317.0</td>\n",
       "      <td>76213.0</td>\n",
       "      <td>36</td>\n",
       "      <td>0.401239</td>\n",
       "      <td>0.401239</td>\n",
       "    </tr>\n",
       "    <tr>\n",
       "      <th>5</th>\n",
       "      <td>2017</td>\n",
       "      <td>2018</td>\n",
       "      <td>DB</td>\n",
       "      <td>DB</td>\n",
       "      <td>365</td>\n",
       "      <td>DBInc.</td>\n",
       "      <td>352098</td>\n",
       "      <td>상장</td>\n",
       "      <td>DB생명보험</td>\n",
       "      <td>821420</td>\n",
       "      <td>비상장</td>\n",
       "      <td>5291.0</td>\n",
       "      <td>43037.0</td>\n",
       "      <td>0</td>\n",
       "      <td>199530.0</td>\n",
       "      <td>123317.0</td>\n",
       "      <td>76213.0</td>\n",
       "      <td>36</td>\n",
       "      <td>0.401239</td>\n",
       "      <td>0.401239</td>\n",
       "    </tr>\n",
       "    <tr>\n",
       "      <th>6</th>\n",
       "      <td>2017</td>\n",
       "      <td>2018</td>\n",
       "      <td>DB</td>\n",
       "      <td>DB</td>\n",
       "      <td>365</td>\n",
       "      <td>DBInc.</td>\n",
       "      <td>352098</td>\n",
       "      <td>상장</td>\n",
       "      <td>DB손해보험</td>\n",
       "      <td>870099</td>\n",
       "      <td>상장</td>\n",
       "      <td>13298.0</td>\n",
       "      <td>43037.0</td>\n",
       "      <td>0</td>\n",
       "      <td>199530.0</td>\n",
       "      <td>123317.0</td>\n",
       "      <td>76213.0</td>\n",
       "      <td>36</td>\n",
       "      <td>0.401239</td>\n",
       "      <td>0.401239</td>\n",
       "    </tr>\n",
       "  </tbody>\n",
       "</table>\n",
       "</div>"
      ],
      "text/plain": [
       "   year  year2 grpname grpname2  grpcode    매출회사  매출회사id 매출사\\n상/비    매입회사  \\\n",
       "2  2017   2018      DB       DB      365  DBInc.  352098       상장  DB금융투자   \n",
       "3  2017   2018      DB       DB      365  DBInc.  352098       상장   DB라이텍   \n",
       "4  2017   2018      DB       DB      365  DBInc.  352098       상장    DB메탈   \n",
       "5  2017   2018      DB       DB      365  DBInc.  352098       상장  DB생명보험   \n",
       "6  2017   2018      DB       DB      365  DBInc.  352098       상장  DB손해보험   \n",
       "\n",
       "     매입회사id 매입사\\n상/비      매출액  매출회사\\n국내계열사계  매출회사\\n해외계열사계  매출회사\\n매출액총계  \\\n",
       "2    821640       상장   1424.0       43037.0             0     199530.0   \n",
       "3    137656       상장    307.0       43037.0             0     199530.0   \n",
       "4  12097776      비상장   1566.0       43037.0             0     199530.0   \n",
       "5    821420      비상장   5291.0       43037.0             0     199530.0   \n",
       "6    870099       상장  13298.0       43037.0             0     199530.0   \n",
       "\n",
       "   매출회사\\n국내매출액  매출회사\\n해외매출액  재벌순위  매출사 CFR\\n(우선주포함)  매출사 FAM\\n(우선주포함)  \n",
       "2     123317.0      76213.0    36          0.401239          0.401239  \n",
       "3     123317.0      76213.0    36          0.401239          0.401239  \n",
       "4     123317.0      76213.0    36          0.401239          0.401239  \n",
       "5     123317.0      76213.0    36          0.401239          0.401239  \n",
       "6     123317.0      76213.0    36          0.401239          0.401239  "
      ]
     },
     "execution_count": 381,
     "metadata": {},
     "output_type": "execute_result"
    }
   ],
   "source": [
    "dfTrans18Dmstc.head()"
   ]
  },
  {
   "cell_type": "code",
   "execution_count": 386,
   "id": "4253182d",
   "metadata": {},
   "outputs": [],
   "source": [
    "dfTrans18Dmstc = dfTrans18Dmstc.merge(dfOwnInput18[dfOwnInput18['type'] == 0][['매출회사id', '직접지분율']], on='매출회사id', how='left')\\\n",
    "                               .merge(dfOwnOutput18[['매출회사id', '매출회사 실질지분율']], on='매출회사id', how='left')\\\n",
    "                               .merge(dfOwnOutput18[['매입회사id', '매입회사 실질지분율']], on='매입회사id', how='left')"
   ]
  },
  {
   "cell_type": "code",
   "execution_count": 387,
   "id": "5f20a043",
   "metadata": {},
   "outputs": [
    {
     "data": {
      "text/html": [
       "<div>\n",
       "<style scoped>\n",
       "    .dataframe tbody tr th:only-of-type {\n",
       "        vertical-align: middle;\n",
       "    }\n",
       "\n",
       "    .dataframe tbody tr th {\n",
       "        vertical-align: top;\n",
       "    }\n",
       "\n",
       "    .dataframe thead th {\n",
       "        text-align: right;\n",
       "    }\n",
       "</style>\n",
       "<table border=\"1\" class=\"dataframe\">\n",
       "  <thead>\n",
       "    <tr style=\"text-align: right;\">\n",
       "      <th></th>\n",
       "      <th>year</th>\n",
       "      <th>year2</th>\n",
       "      <th>grpname</th>\n",
       "      <th>grpname2</th>\n",
       "      <th>grpcode</th>\n",
       "      <th>매출회사</th>\n",
       "      <th>매출회사id</th>\n",
       "      <th>매출사\\n상/비</th>\n",
       "      <th>매입회사</th>\n",
       "      <th>매입회사id</th>\n",
       "      <th>...</th>\n",
       "      <th>매출회사\\n해외계열사계</th>\n",
       "      <th>매출회사\\n매출액총계</th>\n",
       "      <th>매출회사\\n국내매출액</th>\n",
       "      <th>매출회사\\n해외매출액</th>\n",
       "      <th>재벌순위</th>\n",
       "      <th>매출사 CFR\\n(우선주포함)</th>\n",
       "      <th>매출사 FAM\\n(우선주포함)</th>\n",
       "      <th>직접지분율</th>\n",
       "      <th>매출회사 실질지분율</th>\n",
       "      <th>매입회사 실질지분율</th>\n",
       "    </tr>\n",
       "  </thead>\n",
       "  <tbody>\n",
       "    <tr>\n",
       "      <th>0</th>\n",
       "      <td>2017</td>\n",
       "      <td>2018</td>\n",
       "      <td>DB</td>\n",
       "      <td>DB</td>\n",
       "      <td>365</td>\n",
       "      <td>DBInc.</td>\n",
       "      <td>352098</td>\n",
       "      <td>상장</td>\n",
       "      <td>DB금융투자</td>\n",
       "      <td>821640</td>\n",
       "      <td>...</td>\n",
       "      <td>0</td>\n",
       "      <td>199530.0</td>\n",
       "      <td>123317.0</td>\n",
       "      <td>76213.0</td>\n",
       "      <td>36</td>\n",
       "      <td>0.401239</td>\n",
       "      <td>0.401239</td>\n",
       "      <td>0.401239</td>\n",
       "      <td>0.401239</td>\n",
       "      <td>0.174456</td>\n",
       "    </tr>\n",
       "    <tr>\n",
       "      <th>1</th>\n",
       "      <td>2017</td>\n",
       "      <td>2018</td>\n",
       "      <td>DB</td>\n",
       "      <td>DB</td>\n",
       "      <td>365</td>\n",
       "      <td>DBInc.</td>\n",
       "      <td>352098</td>\n",
       "      <td>상장</td>\n",
       "      <td>DB라이텍</td>\n",
       "      <td>137656</td>\n",
       "      <td>...</td>\n",
       "      <td>0</td>\n",
       "      <td>199530.0</td>\n",
       "      <td>123317.0</td>\n",
       "      <td>76213.0</td>\n",
       "      <td>36</td>\n",
       "      <td>0.401239</td>\n",
       "      <td>0.401239</td>\n",
       "      <td>0.401239</td>\n",
       "      <td>0.401239</td>\n",
       "      <td>0.060650</td>\n",
       "    </tr>\n",
       "    <tr>\n",
       "      <th>2</th>\n",
       "      <td>2017</td>\n",
       "      <td>2018</td>\n",
       "      <td>DB</td>\n",
       "      <td>DB</td>\n",
       "      <td>365</td>\n",
       "      <td>DBInc.</td>\n",
       "      <td>352098</td>\n",
       "      <td>상장</td>\n",
       "      <td>DB메탈</td>\n",
       "      <td>12097776</td>\n",
       "      <td>...</td>\n",
       "      <td>0</td>\n",
       "      <td>199530.0</td>\n",
       "      <td>123317.0</td>\n",
       "      <td>76213.0</td>\n",
       "      <td>36</td>\n",
       "      <td>0.401239</td>\n",
       "      <td>0.401239</td>\n",
       "      <td>0.401239</td>\n",
       "      <td>0.401239</td>\n",
       "      <td>0.589516</td>\n",
       "    </tr>\n",
       "    <tr>\n",
       "      <th>3</th>\n",
       "      <td>2017</td>\n",
       "      <td>2018</td>\n",
       "      <td>DB</td>\n",
       "      <td>DB</td>\n",
       "      <td>365</td>\n",
       "      <td>DBInc.</td>\n",
       "      <td>352098</td>\n",
       "      <td>상장</td>\n",
       "      <td>DB생명보험</td>\n",
       "      <td>821420</td>\n",
       "      <td>...</td>\n",
       "      <td>0</td>\n",
       "      <td>199530.0</td>\n",
       "      <td>123317.0</td>\n",
       "      <td>76213.0</td>\n",
       "      <td>36</td>\n",
       "      <td>0.401239</td>\n",
       "      <td>0.401239</td>\n",
       "      <td>0.401239</td>\n",
       "      <td>0.401239</td>\n",
       "      <td>0.141807</td>\n",
       "    </tr>\n",
       "    <tr>\n",
       "      <th>4</th>\n",
       "      <td>2017</td>\n",
       "      <td>2018</td>\n",
       "      <td>DB</td>\n",
       "      <td>DB</td>\n",
       "      <td>365</td>\n",
       "      <td>DBInc.</td>\n",
       "      <td>352098</td>\n",
       "      <td>상장</td>\n",
       "      <td>DB손해보험</td>\n",
       "      <td>870099</td>\n",
       "      <td>...</td>\n",
       "      <td>0</td>\n",
       "      <td>199530.0</td>\n",
       "      <td>123317.0</td>\n",
       "      <td>76213.0</td>\n",
       "      <td>36</td>\n",
       "      <td>0.401239</td>\n",
       "      <td>0.401239</td>\n",
       "      <td>0.401239</td>\n",
       "      <td>0.401239</td>\n",
       "      <td>0.181040</td>\n",
       "    </tr>\n",
       "  </tbody>\n",
       "</table>\n",
       "<p>5 rows × 23 columns</p>\n",
       "</div>"
      ],
      "text/plain": [
       "   year  year2 grpname grpname2  grpcode    매출회사  매출회사id 매출사\\n상/비    매입회사  \\\n",
       "0  2017   2018      DB       DB      365  DBInc.  352098       상장  DB금융투자   \n",
       "1  2017   2018      DB       DB      365  DBInc.  352098       상장   DB라이텍   \n",
       "2  2017   2018      DB       DB      365  DBInc.  352098       상장    DB메탈   \n",
       "3  2017   2018      DB       DB      365  DBInc.  352098       상장  DB생명보험   \n",
       "4  2017   2018      DB       DB      365  DBInc.  352098       상장  DB손해보험   \n",
       "\n",
       "     매입회사id  ... 매출회사\\n해외계열사계  매출회사\\n매출액총계  매출회사\\n국내매출액  매출회사\\n해외매출액  재벌순위  \\\n",
       "0    821640  ...            0     199530.0     123317.0      76213.0    36   \n",
       "1    137656  ...            0     199530.0     123317.0      76213.0    36   \n",
       "2  12097776  ...            0     199530.0     123317.0      76213.0    36   \n",
       "3    821420  ...            0     199530.0     123317.0      76213.0    36   \n",
       "4    870099  ...            0     199530.0     123317.0      76213.0    36   \n",
       "\n",
       "   매출사 CFR\\n(우선주포함)  매출사 FAM\\n(우선주포함)     직접지분율  매출회사 실질지분율  매입회사 실질지분율  \n",
       "0          0.401239          0.401239  0.401239    0.401239    0.174456  \n",
       "1          0.401239          0.401239  0.401239    0.401239    0.060650  \n",
       "2          0.401239          0.401239  0.401239    0.401239    0.589516  \n",
       "3          0.401239          0.401239  0.401239    0.401239    0.141807  \n",
       "4          0.401239          0.401239  0.401239    0.401239    0.181040  \n",
       "\n",
       "[5 rows x 23 columns]"
      ]
     },
     "execution_count": 387,
     "metadata": {},
     "output_type": "execute_result"
    }
   ],
   "source": [
    "dfTrans18Dmstc.head()"
   ]
  },
  {
   "cell_type": "code",
   "execution_count": 403,
   "id": "68140966",
   "metadata": {},
   "outputs": [
    {
     "data": {
      "text/html": [
       "<div>\n",
       "<style scoped>\n",
       "    .dataframe tbody tr th:only-of-type {\n",
       "        vertical-align: middle;\n",
       "    }\n",
       "\n",
       "    .dataframe tbody tr th {\n",
       "        vertical-align: top;\n",
       "    }\n",
       "\n",
       "    .dataframe thead th {\n",
       "        text-align: right;\n",
       "    }\n",
       "</style>\n",
       "<table border=\"1\" class=\"dataframe\">\n",
       "  <thead>\n",
       "    <tr style=\"text-align: right;\">\n",
       "      <th></th>\n",
       "      <th>grpname2</th>\n",
       "      <th>grpname</th>\n",
       "      <th>grpcode</th>\n",
       "      <th>금융비금융</th>\n",
       "      <th>firmname</th>\n",
       "      <th>firmid</th>\n",
       "      <th>type</th>\n",
       "      <th>own</th>\n",
       "      <th>own2</th>\n",
       "      <th>ownername</th>\n",
       "      <th>ownerid</th>\n",
       "      <th>year2</th>\n",
       "      <th>소속회사명</th>\n",
       "      <th>shares</th>\n",
       "    </tr>\n",
       "  </thead>\n",
       "  <tbody>\n",
       "    <tr>\n",
       "      <th>0</th>\n",
       "      <td>엘지</td>\n",
       "      <td>lg</td>\n",
       "      <td>282.0</td>\n",
       "      <td>비금융회사</td>\n",
       "      <td>엘지</td>\n",
       "      <td>350079.0</td>\n",
       "      <td>0.0</td>\n",
       "      <td>0.319065</td>\n",
       "      <td>0.343866</td>\n",
       "      <td>NaN</td>\n",
       "      <td>NaN</td>\n",
       "      <td>NaN</td>\n",
       "      <td>NaN</td>\n",
       "      <td>NaN</td>\n",
       "    </tr>\n",
       "    <tr>\n",
       "      <th>1</th>\n",
       "      <td>엘지</td>\n",
       "      <td>lg</td>\n",
       "      <td>282.0</td>\n",
       "      <td>비금융회사</td>\n",
       "      <td>엘지</td>\n",
       "      <td>350079.0</td>\n",
       "      <td>1.0</td>\n",
       "      <td>0.000000</td>\n",
       "      <td>0.000000</td>\n",
       "      <td>NaN</td>\n",
       "      <td>NaN</td>\n",
       "      <td>NaN</td>\n",
       "      <td>NaN</td>\n",
       "      <td>NaN</td>\n",
       "    </tr>\n",
       "    <tr>\n",
       "      <th>2</th>\n",
       "      <td>엘지</td>\n",
       "      <td>lg</td>\n",
       "      <td>282.0</td>\n",
       "      <td>비금융회사</td>\n",
       "      <td>엘지</td>\n",
       "      <td>350079.0</td>\n",
       "      <td>99.0</td>\n",
       "      <td>0.656134</td>\n",
       "      <td>0.656134</td>\n",
       "      <td>NaN</td>\n",
       "      <td>NaN</td>\n",
       "      <td>NaN</td>\n",
       "      <td>NaN</td>\n",
       "      <td>NaN</td>\n",
       "    </tr>\n",
       "    <tr>\n",
       "      <th>3</th>\n",
       "      <td>엘지</td>\n",
       "      <td>lg</td>\n",
       "      <td>282.0</td>\n",
       "      <td>비금융회사</td>\n",
       "      <td>엘지화학</td>\n",
       "      <td>162209.0</td>\n",
       "      <td>0.0</td>\n",
       "      <td>0.000000</td>\n",
       "      <td>0.021810</td>\n",
       "      <td>NaN</td>\n",
       "      <td>NaN</td>\n",
       "      <td>NaN</td>\n",
       "      <td>NaN</td>\n",
       "      <td>NaN</td>\n",
       "    </tr>\n",
       "    <tr>\n",
       "      <th>4</th>\n",
       "      <td>엘지</td>\n",
       "      <td>lg</td>\n",
       "      <td>282.0</td>\n",
       "      <td>비금융회사</td>\n",
       "      <td>엘지화학</td>\n",
       "      <td>162209.0</td>\n",
       "      <td>1.0</td>\n",
       "      <td>0.300637</td>\n",
       "      <td>0.300637</td>\n",
       "      <td>엘지</td>\n",
       "      <td>350079.0</td>\n",
       "      <td>NaN</td>\n",
       "      <td>NaN</td>\n",
       "      <td>NaN</td>\n",
       "    </tr>\n",
       "  </tbody>\n",
       "</table>\n",
       "</div>"
      ],
      "text/plain": [
       "  grpname2 grpname  grpcode  금융비금융 firmname    firmid  type       own  \\\n",
       "0       엘지      lg    282.0  비금융회사       엘지  350079.0   0.0  0.319065   \n",
       "1       엘지      lg    282.0  비금융회사       엘지  350079.0   1.0  0.000000   \n",
       "2       엘지      lg    282.0  비금융회사       엘지  350079.0  99.0  0.656134   \n",
       "3       엘지      lg    282.0  비금융회사     엘지화학  162209.0   0.0  0.000000   \n",
       "4       엘지      lg    282.0  비금융회사     엘지화학  162209.0   1.0  0.300637   \n",
       "\n",
       "       own2 ownername   ownerid  year2 소속회사명  shares  \n",
       "0  0.343866       NaN       NaN    NaN   NaN     NaN  \n",
       "1  0.000000       NaN       NaN    NaN   NaN     NaN  \n",
       "2  0.656134       NaN       NaN    NaN   NaN     NaN  \n",
       "3  0.021810       NaN       NaN    NaN   NaN     NaN  \n",
       "4  0.300637        엘지  350079.0    NaN   NaN     NaN  "
      ]
     },
     "execution_count": 403,
     "metadata": {},
     "output_type": "execute_result"
    }
   ],
   "source": [
    "lInput19 = [pd.read_excel(fName, sheet_name=-1) for fName in glob.glob('../data/almeida/2019/in/*.xlsx')]\n",
    "dfOwnInput19 = pd.concat(lInput19)\n",
    "dfOwnInput19.head()"
   ]
  },
  {
   "cell_type": "code",
   "execution_count": 402,
   "id": "9d24b898",
   "metadata": {},
   "outputs": [
    {
     "data": {
      "text/plain": [
       "Index(['grpname2', 'grpname', 'grpcode', '금융비금융', 'firmname', 'firmid', 'type',\n",
       "       'own', 'own2', 'ownername', 'ownerid', 'year2', '소속회사명', 'shares'],\n",
       "      dtype='object')"
      ]
     },
     "execution_count": 402,
     "metadata": {},
     "output_type": "execute_result"
    }
   ],
   "source": [
    "dfOwnInput19.columns"
   ]
  },
  {
   "cell_type": "code",
   "execution_count": 404,
   "id": "542b045a",
   "metadata": {},
   "outputs": [
    {
     "data": {
      "text/html": [
       "<div>\n",
       "<style scoped>\n",
       "    .dataframe tbody tr th:only-of-type {\n",
       "        vertical-align: middle;\n",
       "    }\n",
       "\n",
       "    .dataframe tbody tr th {\n",
       "        vertical-align: top;\n",
       "    }\n",
       "\n",
       "    .dataframe thead th {\n",
       "        text-align: right;\n",
       "    }\n",
       "</style>\n",
       "<table border=\"1\" class=\"dataframe\">\n",
       "  <thead>\n",
       "    <tr style=\"text-align: right;\">\n",
       "      <th></th>\n",
       "      <th>grpname2</th>\n",
       "      <th>grpname</th>\n",
       "      <th>grpcode</th>\n",
       "      <th>금융비금융</th>\n",
       "      <th>firmname</th>\n",
       "      <th>firmid</th>\n",
       "      <th>type</th>\n",
       "      <th>own</th>\n",
       "      <th>own2</th>\n",
       "      <th>ownername</th>\n",
       "      <th>ownerid</th>\n",
       "      <th>year2</th>\n",
       "      <th>소속회사명</th>\n",
       "      <th>shares</th>\n",
       "    </tr>\n",
       "  </thead>\n",
       "  <tbody>\n",
       "    <tr>\n",
       "      <th>1</th>\n",
       "      <td>한진</td>\n",
       "      <td>hanjin</td>\n",
       "      <td>926.0</td>\n",
       "      <td>비금융회사</td>\n",
       "      <td>대한항공</td>\n",
       "      <td>990027.0</td>\n",
       "      <td>1.0</td>\n",
       "      <td>0.296249</td>\n",
       "      <td>0.296249</td>\n",
       "      <td>한진칼</td>\n",
       "      <td>21083149.0</td>\n",
       "      <td>2019.0</td>\n",
       "      <td>NaN</td>\n",
       "      <td>0.296249</td>\n",
       "    </tr>\n",
       "    <tr>\n",
       "      <th>2</th>\n",
       "      <td>한진</td>\n",
       "      <td>hanjin</td>\n",
       "      <td>926.0</td>\n",
       "      <td>비금융회사</td>\n",
       "      <td>대한항공</td>\n",
       "      <td>990027.0</td>\n",
       "      <td>99.0</td>\n",
       "      <td>0.669899</td>\n",
       "      <td>0.669899</td>\n",
       "      <td>NaN</td>\n",
       "      <td>NaN</td>\n",
       "      <td>2019.0</td>\n",
       "      <td>NaN</td>\n",
       "      <td>0.669899</td>\n",
       "    </tr>\n",
       "    <tr>\n",
       "      <th>3</th>\n",
       "      <td>한진</td>\n",
       "      <td>hanjin</td>\n",
       "      <td>926.0</td>\n",
       "      <td>비금융회사</td>\n",
       "      <td>한진칼</td>\n",
       "      <td>21083149.0</td>\n",
       "      <td>0.0</td>\n",
       "      <td>0.253441</td>\n",
       "      <td>0.287158</td>\n",
       "      <td>NaN</td>\n",
       "      <td>NaN</td>\n",
       "      <td>2019.0</td>\n",
       "      <td>NaN</td>\n",
       "      <td>0.023201</td>\n",
       "    </tr>\n",
       "    <tr>\n",
       "      <th>5</th>\n",
       "      <td>한진</td>\n",
       "      <td>hanjin</td>\n",
       "      <td>926.0</td>\n",
       "      <td>비금융회사</td>\n",
       "      <td>한진칼</td>\n",
       "      <td>21083149.0</td>\n",
       "      <td>99.0</td>\n",
       "      <td>0.712842</td>\n",
       "      <td>0.712842</td>\n",
       "      <td>NaN</td>\n",
       "      <td>NaN</td>\n",
       "      <td>2019.0</td>\n",
       "      <td>NaN</td>\n",
       "      <td>0.712842</td>\n",
       "    </tr>\n",
       "    <tr>\n",
       "      <th>6</th>\n",
       "      <td>한진</td>\n",
       "      <td>hanjin</td>\n",
       "      <td>926.0</td>\n",
       "      <td>비금융회사</td>\n",
       "      <td>한진</td>\n",
       "      <td>710105.0</td>\n",
       "      <td>0.0</td>\n",
       "      <td>0.069708</td>\n",
       "      <td>0.123683</td>\n",
       "      <td>NaN</td>\n",
       "      <td>NaN</td>\n",
       "      <td>2019.0</td>\n",
       "      <td>NaN</td>\n",
       "      <td>0.000334</td>\n",
       "    </tr>\n",
       "    <tr>\n",
       "      <th>...</th>\n",
       "      <td>...</td>\n",
       "      <td>...</td>\n",
       "      <td>...</td>\n",
       "      <td>...</td>\n",
       "      <td>...</td>\n",
       "      <td>...</td>\n",
       "      <td>...</td>\n",
       "      <td>...</td>\n",
       "      <td>...</td>\n",
       "      <td>...</td>\n",
       "      <td>...</td>\n",
       "      <td>...</td>\n",
       "      <td>...</td>\n",
       "      <td>...</td>\n",
       "    </tr>\n",
       "    <tr>\n",
       "      <th>92</th>\n",
       "      <td>한진</td>\n",
       "      <td>hanjin</td>\n",
       "      <td>926.0</td>\n",
       "      <td>비금융회사</td>\n",
       "      <td>더블유에이씨항공서비스</td>\n",
       "      <td>32033876.0</td>\n",
       "      <td>1.0</td>\n",
       "      <td>1.000000</td>\n",
       "      <td>1.000000</td>\n",
       "      <td>세계혼재항공화물</td>\n",
       "      <td>730025.0</td>\n",
       "      <td>2019.0</td>\n",
       "      <td>NaN</td>\n",
       "      <td>1.000000</td>\n",
       "    </tr>\n",
       "    <tr>\n",
       "      <th>93</th>\n",
       "      <td>한진</td>\n",
       "      <td>hanjin</td>\n",
       "      <td>926.0</td>\n",
       "      <td>비금융회사</td>\n",
       "      <td>더블유에이씨항공서비스</td>\n",
       "      <td>32033876.0</td>\n",
       "      <td>99.0</td>\n",
       "      <td>0.000000</td>\n",
       "      <td>0.000000</td>\n",
       "      <td>NaN</td>\n",
       "      <td>NaN</td>\n",
       "      <td>2019.0</td>\n",
       "      <td>NaN</td>\n",
       "      <td>1.000000</td>\n",
       "    </tr>\n",
       "    <tr>\n",
       "      <th>94</th>\n",
       "      <td>한진</td>\n",
       "      <td>hanjin</td>\n",
       "      <td>926.0</td>\n",
       "      <td>비금융회사</td>\n",
       "      <td>서화무역</td>\n",
       "      <td>691992.0</td>\n",
       "      <td>0.0</td>\n",
       "      <td>0.735294</td>\n",
       "      <td>0.735294</td>\n",
       "      <td>NaN</td>\n",
       "      <td>NaN</td>\n",
       "      <td>2019.0</td>\n",
       "      <td>NaN</td>\n",
       "      <td>0.000000</td>\n",
       "    </tr>\n",
       "    <tr>\n",
       "      <th>95</th>\n",
       "      <td>한진</td>\n",
       "      <td>hanjin</td>\n",
       "      <td>926.0</td>\n",
       "      <td>비금융회사</td>\n",
       "      <td>서화무역</td>\n",
       "      <td>691992.0</td>\n",
       "      <td>1.0</td>\n",
       "      <td>0.000000</td>\n",
       "      <td>0.000000</td>\n",
       "      <td>NaN</td>\n",
       "      <td>NaN</td>\n",
       "      <td>2019.0</td>\n",
       "      <td>NaN</td>\n",
       "      <td>0.000000</td>\n",
       "    </tr>\n",
       "    <tr>\n",
       "      <th>96</th>\n",
       "      <td>한진</td>\n",
       "      <td>hanjin</td>\n",
       "      <td>926.0</td>\n",
       "      <td>비금융회사</td>\n",
       "      <td>서화무역</td>\n",
       "      <td>691992.0</td>\n",
       "      <td>99.0</td>\n",
       "      <td>0.264706</td>\n",
       "      <td>0.264706</td>\n",
       "      <td>NaN</td>\n",
       "      <td>NaN</td>\n",
       "      <td>2019.0</td>\n",
       "      <td>NaN</td>\n",
       "      <td>0.264706</td>\n",
       "    </tr>\n",
       "  </tbody>\n",
       "</table>\n",
       "<p>86 rows × 14 columns</p>\n",
       "</div>"
      ],
      "text/plain": [
       "   grpname2 grpname  grpcode  금융비금융     firmname      firmid  type       own  \\\n",
       "1        한진  hanjin    926.0  비금융회사         대한항공    990027.0   1.0  0.296249   \n",
       "2        한진  hanjin    926.0  비금융회사         대한항공    990027.0  99.0  0.669899   \n",
       "3        한진  hanjin    926.0  비금융회사          한진칼  21083149.0   0.0  0.253441   \n",
       "5        한진  hanjin    926.0  비금융회사          한진칼  21083149.0  99.0  0.712842   \n",
       "6        한진  hanjin    926.0  비금융회사           한진    710105.0   0.0  0.069708   \n",
       "..      ...     ...      ...    ...          ...         ...   ...       ...   \n",
       "92       한진  hanjin    926.0  비금융회사  더블유에이씨항공서비스  32033876.0   1.0  1.000000   \n",
       "93       한진  hanjin    926.0  비금융회사  더블유에이씨항공서비스  32033876.0  99.0  0.000000   \n",
       "94       한진  hanjin    926.0  비금융회사         서화무역    691992.0   0.0  0.735294   \n",
       "95       한진  hanjin    926.0  비금융회사         서화무역    691992.0   1.0  0.000000   \n",
       "96       한진  hanjin    926.0  비금융회사         서화무역    691992.0  99.0  0.264706   \n",
       "\n",
       "        own2 ownername     ownerid   year2 소속회사명    shares  \n",
       "1   0.296249       한진칼  21083149.0  2019.0   NaN  0.296249  \n",
       "2   0.669899       NaN         NaN  2019.0   NaN  0.669899  \n",
       "3   0.287158       NaN         NaN  2019.0   NaN  0.023201  \n",
       "5   0.712842       NaN         NaN  2019.0   NaN  0.712842  \n",
       "6   0.123683       NaN         NaN  2019.0   NaN  0.000334  \n",
       "..       ...       ...         ...     ...   ...       ...  \n",
       "92  1.000000  세계혼재항공화물    730025.0  2019.0   NaN  1.000000  \n",
       "93  0.000000       NaN         NaN  2019.0   NaN  1.000000  \n",
       "94  0.735294       NaN         NaN  2019.0   NaN  0.000000  \n",
       "95  0.000000       NaN         NaN  2019.0   NaN  0.000000  \n",
       "96  0.264706       NaN         NaN  2019.0   NaN  0.264706  \n",
       "\n",
       "[86 rows x 14 columns]"
      ]
     },
     "execution_count": 404,
     "metadata": {},
     "output_type": "execute_result"
    }
   ],
   "source": [
    "dfOwnInput19[~dfOwnInput19['shares'].isna()]"
   ]
  },
  {
   "cell_type": "code",
   "execution_count": 424,
   "id": "36e241b8",
   "metadata": {},
   "outputs": [
    {
     "data": {
      "text/plain": [
       "51"
      ]
     },
     "execution_count": 424,
     "metadata": {},
     "output_type": "execute_result"
    }
   ],
   "source": [
    "dfCmpnySumry19 = pd.read_excel('../data/cmpnySumry/cmpnySumry2019Eng.xlsx')\n",
    "dfCmpnySumry19 = dfCmpnySumry19[dfCmpnySumry19['unityGrupNm'].isin(dfAffilNum19['chaebol'])]\n",
    "dfCmpnySumry19.loc[dfCmpnySumry19[dfCmpnySumry19['rcmgCode'].isna()].index, 'rcmgCode'] = 2830000000\n",
    "dfCmpnySumry19['unityGrupNm'].nunique()"
   ]
  },
  {
   "cell_type": "code",
   "execution_count": 425,
   "id": "e88ce67e",
   "metadata": {},
   "outputs": [
    {
     "data": {
      "text/html": [
       "<div>\n",
       "<style scoped>\n",
       "    .dataframe tbody tr th:only-of-type {\n",
       "        vertical-align: middle;\n",
       "    }\n",
       "\n",
       "    .dataframe tbody tr th {\n",
       "        vertical-align: top;\n",
       "    }\n",
       "\n",
       "    .dataframe thead th {\n",
       "        text-align: right;\n",
       "    }\n",
       "</style>\n",
       "<table border=\"1\" class=\"dataframe\">\n",
       "  <thead>\n",
       "    <tr style=\"text-align: right;\">\n",
       "      <th></th>\n",
       "      <th>year</th>\n",
       "      <th>year2</th>\n",
       "      <th>grpname2</th>\n",
       "      <th>grpname</th>\n",
       "      <th>grpcode</th>\n",
       "      <th>firmname</th>\n",
       "      <th>firmid</th>\n",
       "      <th>fid</th>\n",
       "      <th>ultown</th>\n",
       "      <th>avpos</th>\n",
       "      <th>sd</th>\n",
       "      <th>steps</th>\n",
       "      <th>loop</th>\n",
       "      <th>lastcontrol</th>\n",
       "      <th>central</th>\n",
       "    </tr>\n",
       "  </thead>\n",
       "  <tbody>\n",
       "    <tr>\n",
       "      <th>0</th>\n",
       "      <td>2018.0</td>\n",
       "      <td>2019.0</td>\n",
       "      <td>애경</td>\n",
       "      <td>aekyung</td>\n",
       "      <td>615</td>\n",
       "      <td>우영운수</td>\n",
       "      <td>47919</td>\n",
       "      <td>1.0</td>\n",
       "      <td>1.000000</td>\n",
       "      <td>1.000000</td>\n",
       "      <td>1.0</td>\n",
       "      <td>NaN</td>\n",
       "      <td>0.0</td>\n",
       "      <td>100.0</td>\n",
       "      <td>0.000000</td>\n",
       "    </tr>\n",
       "    <tr>\n",
       "      <th>1</th>\n",
       "      <td>2018.0</td>\n",
       "      <td>2019.0</td>\n",
       "      <td>애경</td>\n",
       "      <td>aekyung</td>\n",
       "      <td>615</td>\n",
       "      <td>수원애경역사</td>\n",
       "      <td>73220</td>\n",
       "      <td>2.0</td>\n",
       "      <td>0.605655</td>\n",
       "      <td>3.206202</td>\n",
       "      <td>2.0</td>\n",
       "      <td>NaN</td>\n",
       "      <td>0.0</td>\n",
       "      <td>64.0</td>\n",
       "      <td>0.000000</td>\n",
       "    </tr>\n",
       "    <tr>\n",
       "      <th>2</th>\n",
       "      <td>2018.0</td>\n",
       "      <td>2019.0</td>\n",
       "      <td>애경</td>\n",
       "      <td>aekyung</td>\n",
       "      <td>615</td>\n",
       "      <td>애드미션</td>\n",
       "      <td>95760</td>\n",
       "      <td>3.0</td>\n",
       "      <td>0.852500</td>\n",
       "      <td>1.000000</td>\n",
       "      <td>1.0</td>\n",
       "      <td>NaN</td>\n",
       "      <td>0.0</td>\n",
       "      <td>85.0</td>\n",
       "      <td>0.000000</td>\n",
       "    </tr>\n",
       "    <tr>\n",
       "      <th>3</th>\n",
       "      <td>2018.0</td>\n",
       "      <td>2019.0</td>\n",
       "      <td>애경</td>\n",
       "      <td>aekyung</td>\n",
       "      <td>615</td>\n",
       "      <td>에이케이레저</td>\n",
       "      <td>99486</td>\n",
       "      <td>4.0</td>\n",
       "      <td>1.000000</td>\n",
       "      <td>2.569844</td>\n",
       "      <td>2.0</td>\n",
       "      <td>NaN</td>\n",
       "      <td>0.0</td>\n",
       "      <td>100.0</td>\n",
       "      <td>0.000000</td>\n",
       "    </tr>\n",
       "    <tr>\n",
       "      <th>4</th>\n",
       "      <td>2018.0</td>\n",
       "      <td>2019.0</td>\n",
       "      <td>애경</td>\n",
       "      <td>aekyung</td>\n",
       "      <td>615</td>\n",
       "      <td>에이케이에스앤디</td>\n",
       "      <td>125359</td>\n",
       "      <td>5.0</td>\n",
       "      <td>0.719310</td>\n",
       "      <td>2.206202</td>\n",
       "      <td>1.0</td>\n",
       "      <td>NaN</td>\n",
       "      <td>0.0</td>\n",
       "      <td>64.0</td>\n",
       "      <td>6.736839</td>\n",
       "    </tr>\n",
       "  </tbody>\n",
       "</table>\n",
       "</div>"
      ],
      "text/plain": [
       "     year   year2 grpname2  grpname  grpcode  firmname  firmid  fid    ultown  \\\n",
       "0  2018.0  2019.0       애경  aekyung      615      우영운수   47919  1.0  1.000000   \n",
       "1  2018.0  2019.0       애경  aekyung      615    수원애경역사   73220  2.0  0.605655   \n",
       "2  2018.0  2019.0       애경  aekyung      615      애드미션   95760  3.0  0.852500   \n",
       "3  2018.0  2019.0       애경  aekyung      615    에이케이레저   99486  4.0  1.000000   \n",
       "4  2018.0  2019.0       애경  aekyung      615  에이케이에스앤디  125359  5.0  0.719310   \n",
       "\n",
       "      avpos   sd  steps  loop  lastcontrol   central  \n",
       "0  1.000000  1.0    NaN   0.0        100.0  0.000000  \n",
       "1  3.206202  2.0    NaN   0.0         64.0  0.000000  \n",
       "2  1.000000  1.0    NaN   0.0         85.0  0.000000  \n",
       "3  2.569844  2.0    NaN   0.0        100.0  0.000000  \n",
       "4  2.206202  1.0    NaN   0.0         64.0  6.736839  "
      ]
     },
     "execution_count": 425,
     "metadata": {},
     "output_type": "execute_result"
    }
   ],
   "source": [
    "dfOwnOutput19 = pd.read_stata('../data/almeida/2019/out/almeida_own1_2019.dta')\n",
    "dfOwnOutput19.head()"
   ]
  },
  {
   "cell_type": "code",
   "execution_count": 426,
   "id": "0be14471",
   "metadata": {},
   "outputs": [],
   "source": [
    "dfCmpnySumry19['firmid'] = dfCmpnySumry19['rcmgCode']\n",
    "dfOwnInput19['직접지분율'] = dfOwnInput19['own']\n",
    "dfOwnInput19['매출회사id'] = dfOwnInput19['firmid']\n",
    "dfOwnOutput19['매출회사id'] = dfOwnOutput19['firmid']\n",
    "dfOwnOutput19['매입회사id'] = dfOwnOutput19['firmid']\n",
    "dfOwnOutput19['매출회사 실질지분율'] = dfOwnOutput19['ultown']\n",
    "dfOwnOutput19['매입회사 실질지분율'] = dfOwnOutput19['ultown']\n",
    "dfOwnOutput19['실질지분율'] = dfOwnOutput19['ultown']"
   ]
  },
  {
   "cell_type": "code",
   "execution_count": 428,
   "id": "a1e1d864",
   "metadata": {},
   "outputs": [],
   "source": [
    "dfCmpnySumry19['firmid'] = dfCmpnySumry19['firmid'].astype('int32')"
   ]
  },
  {
   "cell_type": "code",
   "execution_count": 441,
   "id": "fb3b8650",
   "metadata": {},
   "outputs": [],
   "source": [
    "dfOwnInput19 = dfOwnInput19[~dfOwnInput19['firmid'].isna()]"
   ]
  },
  {
   "cell_type": "code",
   "execution_count": 447,
   "id": "d29d5ccc",
   "metadata": {},
   "outputs": [
    {
     "name": "stderr",
     "output_type": "stream",
     "text": [
      "/var/folders/xw/1rpcyks10ps27v4w_vlbb6s00000gn/T/ipykernel_37869/534835833.py:1: SettingWithCopyWarning: \n",
      "A value is trying to be set on a copy of a slice from a DataFrame.\n",
      "Try using .loc[row_indexer,col_indexer] = value instead\n",
      "\n",
      "See the caveats in the documentation: https://pandas.pydata.org/pandas-docs/stable/user_guide/indexing.html#returning-a-view-versus-a-copy\n",
      "  dfOwnInput19['firmid'] = dfOwnInput19['firmid'].astype('int32')\n"
     ]
    }
   ],
   "source": [
    "dfOwnInput19['firmid'] = dfOwnInput19['firmid'].astype('int32')"
   ]
  },
  {
   "cell_type": "code",
   "execution_count": 443,
   "id": "d09b07b7",
   "metadata": {},
   "outputs": [
    {
     "data": {
      "text/html": [
       "<div>\n",
       "<style scoped>\n",
       "    .dataframe tbody tr th:only-of-type {\n",
       "        vertical-align: middle;\n",
       "    }\n",
       "\n",
       "    .dataframe tbody tr th {\n",
       "        vertical-align: top;\n",
       "    }\n",
       "\n",
       "    .dataframe thead th {\n",
       "        text-align: right;\n",
       "    }\n",
       "</style>\n",
       "<table border=\"1\" class=\"dataframe\">\n",
       "  <thead>\n",
       "    <tr style=\"text-align: right;\">\n",
       "      <th></th>\n",
       "      <th>publicYm</th>\n",
       "      <th>fisclYr</th>\n",
       "      <th>unityGrupNm</th>\n",
       "      <th>entrprsNm</th>\n",
       "      <th>rprsntvNm</th>\n",
       "      <th>fondDe</th>\n",
       "      <th>grinil</th>\n",
       "      <th>indutyCode</th>\n",
       "      <th>indutyNm</th>\n",
       "      <th>ordtmEmplyCo</th>\n",
       "      <th>...</th>\n",
       "      <th>caplAmount</th>\n",
       "      <th>selngAmount</th>\n",
       "      <th>thstrmNtpfAmount</th>\n",
       "      <th>reconstrctur</th>\n",
       "      <th>jurirno</th>\n",
       "      <th>year2</th>\n",
       "      <th>rcmgCode</th>\n",
       "      <th>firmid</th>\n",
       "      <th>직접지분율</th>\n",
       "      <th>실질지분율</th>\n",
       "    </tr>\n",
       "  </thead>\n",
       "  <tbody>\n",
       "    <tr>\n",
       "      <th>0</th>\n",
       "      <td>201905</td>\n",
       "      <td>2018</td>\n",
       "      <td>DB</td>\n",
       "      <td>디비생명보험(주)</td>\n",
       "      <td>이태운</td>\n",
       "      <td>1989/04/14</td>\n",
       "      <td>1997/01/03</td>\n",
       "      <td>K65</td>\n",
       "      <td>보험 및 연금업</td>\n",
       "      <td>563</td>\n",
       "      <td>...</td>\n",
       "      <td>193,331</td>\n",
       "      <td>2,180,825</td>\n",
       "      <td>24,637</td>\n",
       "      <td>금융보험업</td>\n",
       "      <td>1101110623606</td>\n",
       "      <td>2019</td>\n",
       "      <td>821420.0</td>\n",
       "      <td>821420</td>\n",
       "      <td>0.001217</td>\n",
       "      <td>0.141807</td>\n",
       "    </tr>\n",
       "    <tr>\n",
       "      <th>1</th>\n",
       "      <td>201905</td>\n",
       "      <td>2018</td>\n",
       "      <td>DB</td>\n",
       "      <td>디비금융서비스(주)</td>\n",
       "      <td>황원기</td>\n",
       "      <td>2014/01/13</td>\n",
       "      <td>2014/03/01</td>\n",
       "      <td>K66</td>\n",
       "      <td>금융 및 보험관련 서비스업</td>\n",
       "      <td>30</td>\n",
       "      <td>...</td>\n",
       "      <td>14,001</td>\n",
       "      <td>13,311</td>\n",
       "      <td>-2,499</td>\n",
       "      <td>금융보험업</td>\n",
       "      <td>1101115314474</td>\n",
       "      <td>2019</td>\n",
       "      <td>23044292.0</td>\n",
       "      <td>23044292</td>\n",
       "      <td>0.000000</td>\n",
       "      <td>0.181040</td>\n",
       "    </tr>\n",
       "    <tr>\n",
       "      <th>2</th>\n",
       "      <td>201905</td>\n",
       "      <td>2018</td>\n",
       "      <td>DB</td>\n",
       "      <td>디비에프아이에스(주)</td>\n",
       "      <td>강운식</td>\n",
       "      <td>2014/12/01</td>\n",
       "      <td>2018/06/01</td>\n",
       "      <td>J62</td>\n",
       "      <td>컴퓨터 프로그래밍, 시스템 통합 및 관리업</td>\n",
       "      <td>217</td>\n",
       "      <td>...</td>\n",
       "      <td>1,000</td>\n",
       "      <td>47,269</td>\n",
       "      <td>12,063</td>\n",
       "      <td>일반회사</td>\n",
       "      <td>1101115576727</td>\n",
       "      <td>2019</td>\n",
       "      <td>24038019.0</td>\n",
       "      <td>24038019</td>\n",
       "      <td>0.000000</td>\n",
       "      <td>0.394799</td>\n",
       "    </tr>\n",
       "    <tr>\n",
       "      <th>3</th>\n",
       "      <td>201905</td>\n",
       "      <td>2018</td>\n",
       "      <td>DB</td>\n",
       "      <td>디비금융투자(주)</td>\n",
       "      <td>고원종</td>\n",
       "      <td>1982/12/20</td>\n",
       "      <td>1982/12/20</td>\n",
       "      <td>K66</td>\n",
       "      <td>금융 및 보험관련 서비스업</td>\n",
       "      <td>892</td>\n",
       "      <td>...</td>\n",
       "      <td>212,232</td>\n",
       "      <td>725,156</td>\n",
       "      <td>46,854</td>\n",
       "      <td>금융보험업</td>\n",
       "      <td>1101110339956</td>\n",
       "      <td>2019</td>\n",
       "      <td>821640.0</td>\n",
       "      <td>821640</td>\n",
       "      <td>0.125264</td>\n",
       "      <td>0.170662</td>\n",
       "    </tr>\n",
       "    <tr>\n",
       "      <th>4</th>\n",
       "      <td>201905</td>\n",
       "      <td>2018</td>\n",
       "      <td>DB</td>\n",
       "      <td>디비인베스트(주)</td>\n",
       "      <td>최경진</td>\n",
       "      <td>2009/11/16</td>\n",
       "      <td>2010/01/04</td>\n",
       "      <td>M71</td>\n",
       "      <td>전문 서비스업</td>\n",
       "      <td>1</td>\n",
       "      <td>...</td>\n",
       "      <td>306,500</td>\n",
       "      <td>933</td>\n",
       "      <td>-267</td>\n",
       "      <td>일반회사</td>\n",
       "      <td>1101114220359</td>\n",
       "      <td>2019</td>\n",
       "      <td>16003715.0</td>\n",
       "      <td>16003715</td>\n",
       "      <td>1.000000</td>\n",
       "      <td>1.000000</td>\n",
       "    </tr>\n",
       "  </tbody>\n",
       "</table>\n",
       "<p>5 rows × 26 columns</p>\n",
       "</div>"
      ],
      "text/plain": [
       "   publicYm  fisclYr unityGrupNm    entrprsNm rprsntvNm      fondDe  \\\n",
       "0    201905     2018          DB    디비생명보험(주)       이태운  1989/04/14   \n",
       "1    201905     2018          DB   디비금융서비스(주)       황원기  2014/01/13   \n",
       "2    201905     2018          DB  디비에프아이에스(주)       강운식  2014/12/01   \n",
       "3    201905     2018          DB    디비금융투자(주)       고원종  1982/12/20   \n",
       "4    201905     2018          DB    디비인베스트(주)       최경진  2009/11/16   \n",
       "\n",
       "       grinil indutyCode                 indutyNm ordtmEmplyCo  ...  \\\n",
       "0  1997/01/03        K65                 보험 및 연금업          563  ...   \n",
       "1  2014/03/01        K66           금융 및 보험관련 서비스업           30  ...   \n",
       "2  2018/06/01        J62  컴퓨터 프로그래밍, 시스템 통합 및 관리업          217  ...   \n",
       "3  1982/12/20        K66           금융 및 보험관련 서비스업          892  ...   \n",
       "4  2010/01/04        M71                  전문 서비스업            1  ...   \n",
       "\n",
       "  caplAmount selngAmount thstrmNtpfAmount reconstrctur        jurirno year2  \\\n",
       "0    193,331   2,180,825           24,637        금융보험업  1101110623606  2019   \n",
       "1     14,001      13,311           -2,499        금융보험업  1101115314474  2019   \n",
       "2      1,000      47,269           12,063         일반회사  1101115576727  2019   \n",
       "3    212,232     725,156           46,854        금융보험업  1101110339956  2019   \n",
       "4    306,500         933             -267         일반회사  1101114220359  2019   \n",
       "\n",
       "     rcmgCode    firmid     직접지분율     실질지분율  \n",
       "0    821420.0    821420  0.001217  0.141807  \n",
       "1  23044292.0  23044292  0.000000  0.181040  \n",
       "2  24038019.0  24038019  0.000000  0.394799  \n",
       "3    821640.0    821640  0.125264  0.170662  \n",
       "4  16003715.0  16003715  1.000000  1.000000  \n",
       "\n",
       "[5 rows x 26 columns]"
      ]
     },
     "execution_count": 443,
     "metadata": {},
     "output_type": "execute_result"
    }
   ],
   "source": [
    "dfCmpnySumry19 = dfCmpnySumry19.merge(dfOwnInput19[dfOwnInput19['type'] == 0][['firmid', '직접지분율']], on='firmid', how='left')\\\n",
    "                               .merge(dfOwnOutput19[['firmid', '실질지분율']], on='firmid', how='left')\n",
    "dfCmpnySumry19.head()"
   ]
  },
  {
   "cell_type": "code",
   "execution_count": 451,
   "id": "b98cb4d4",
   "metadata": {},
   "outputs": [],
   "source": [
    "dfTrans19Dmstc = dfTrans19Dmstc.merge(dfOwnInput19[dfOwnInput19['type'] == 0][['매출회사id', '직접지분율']], on='매출회사id', how='left')\\\n",
    "                               .merge(dfOwnOutput19[['매출회사id', '매출회사 실질지분율']], on='매출회사id', how='left')\\\n",
    "                               .merge(dfOwnOutput19[['매입회사id', '매입회사 실질지분율']], on='매입회사id', how='left')"
   ]
  },
  {
   "cell_type": "code",
   "execution_count": 452,
   "id": "0aaf609a",
   "metadata": {},
   "outputs": [
    {
     "data": {
      "text/html": [
       "<div>\n",
       "<style scoped>\n",
       "    .dataframe tbody tr th:only-of-type {\n",
       "        vertical-align: middle;\n",
       "    }\n",
       "\n",
       "    .dataframe tbody tr th {\n",
       "        vertical-align: top;\n",
       "    }\n",
       "\n",
       "    .dataframe thead th {\n",
       "        text-align: right;\n",
       "    }\n",
       "</style>\n",
       "<table border=\"1\" class=\"dataframe\">\n",
       "  <thead>\n",
       "    <tr style=\"text-align: right;\">\n",
       "      <th></th>\n",
       "      <th>매출회사</th>\n",
       "      <th>매입회사</th>\n",
       "      <th>매출액</th>\n",
       "      <th>국내계열사계(매출액)</th>\n",
       "      <th>해외계열사계(매출액)</th>\n",
       "      <th>국내매출액</th>\n",
       "      <th>해외매출액</th>\n",
       "      <th>매출액총계</th>\n",
       "      <th>year2</th>\n",
       "      <th>year</th>\n",
       "      <th>...</th>\n",
       "      <th>매출액Val</th>\n",
       "      <th>매입사상/비</th>\n",
       "      <th>매입사금융/비금융</th>\n",
       "      <th>grpname</th>\n",
       "      <th>grpcode</th>\n",
       "      <th>매출회사id</th>\n",
       "      <th>매입회사id</th>\n",
       "      <th>직접지분율</th>\n",
       "      <th>매출회사 실질지분율</th>\n",
       "      <th>매입회사 실질지분율</th>\n",
       "    </tr>\n",
       "  </thead>\n",
       "  <tbody>\n",
       "    <tr>\n",
       "      <th>0</th>\n",
       "      <td>삼성전자</td>\n",
       "      <td>삼성물산</td>\n",
       "      <td>78676.0</td>\n",
       "      <td>2269950.0</td>\n",
       "      <td>149436938.0</td>\n",
       "      <td>16821275.0</td>\n",
       "      <td>153560595.0</td>\n",
       "      <td>170381870.0</td>\n",
       "      <td>2019</td>\n",
       "      <td>2018</td>\n",
       "      <td>...</td>\n",
       "      <td>170381870.0</td>\n",
       "      <td>상장</td>\n",
       "      <td>비금융</td>\n",
       "      <td>samsung</td>\n",
       "      <td>511</td>\n",
       "      <td>380725</td>\n",
       "      <td>810053</td>\n",
       "      <td>0.051111</td>\n",
       "      <td>0.08541</td>\n",
       "      <td>0.311626</td>\n",
       "    </tr>\n",
       "    <tr>\n",
       "      <th>1</th>\n",
       "      <td>삼성전자</td>\n",
       "      <td>삼성바이오에피스</td>\n",
       "      <td>1.0</td>\n",
       "      <td>2269950.0</td>\n",
       "      <td>149436938.0</td>\n",
       "      <td>16821275.0</td>\n",
       "      <td>153560595.0</td>\n",
       "      <td>170381870.0</td>\n",
       "      <td>2019</td>\n",
       "      <td>2018</td>\n",
       "      <td>...</td>\n",
       "      <td>170381870.0</td>\n",
       "      <td>비상장</td>\n",
       "      <td>비금융</td>\n",
       "      <td>samsung</td>\n",
       "      <td>511</td>\n",
       "      <td>380725</td>\n",
       "      <td>18082125</td>\n",
       "      <td>0.051111</td>\n",
       "      <td>0.08541</td>\n",
       "      <td>0.081307</td>\n",
       "    </tr>\n",
       "    <tr>\n",
       "      <th>2</th>\n",
       "      <td>삼성전자</td>\n",
       "      <td>삼성디스플레이</td>\n",
       "      <td>164404.0</td>\n",
       "      <td>2269950.0</td>\n",
       "      <td>149436938.0</td>\n",
       "      <td>16821275.0</td>\n",
       "      <td>153560595.0</td>\n",
       "      <td>170381870.0</td>\n",
       "      <td>2019</td>\n",
       "      <td>2018</td>\n",
       "      <td>...</td>\n",
       "      <td>170381870.0</td>\n",
       "      <td>비상장</td>\n",
       "      <td>비금융</td>\n",
       "      <td>samsung</td>\n",
       "      <td>511</td>\n",
       "      <td>380725</td>\n",
       "      <td>18082126</td>\n",
       "      <td>0.051111</td>\n",
       "      <td>0.08541</td>\n",
       "      <td>0.074901</td>\n",
       "    </tr>\n",
       "    <tr>\n",
       "      <th>3</th>\n",
       "      <td>삼성전자</td>\n",
       "      <td>세메스</td>\n",
       "      <td>5.0</td>\n",
       "      <td>2269950.0</td>\n",
       "      <td>149436938.0</td>\n",
       "      <td>16821275.0</td>\n",
       "      <td>153560595.0</td>\n",
       "      <td>170381870.0</td>\n",
       "      <td>2019</td>\n",
       "      <td>2018</td>\n",
       "      <td>...</td>\n",
       "      <td>170381870.0</td>\n",
       "      <td>비상장</td>\n",
       "      <td>비금융</td>\n",
       "      <td>samsung</td>\n",
       "      <td>511</td>\n",
       "      <td>380725</td>\n",
       "      <td>314528</td>\n",
       "      <td>0.051111</td>\n",
       "      <td>0.08541</td>\n",
       "      <td>0.078187</td>\n",
       "    </tr>\n",
       "    <tr>\n",
       "      <th>4</th>\n",
       "      <td>삼성전자</td>\n",
       "      <td>삼성전자서비스</td>\n",
       "      <td>456109.0</td>\n",
       "      <td>2269950.0</td>\n",
       "      <td>149436938.0</td>\n",
       "      <td>16821275.0</td>\n",
       "      <td>153560595.0</td>\n",
       "      <td>170381870.0</td>\n",
       "      <td>2019</td>\n",
       "      <td>2018</td>\n",
       "      <td>...</td>\n",
       "      <td>170381870.0</td>\n",
       "      <td>비상장</td>\n",
       "      <td>비금융</td>\n",
       "      <td>samsung</td>\n",
       "      <td>511</td>\n",
       "      <td>380725</td>\n",
       "      <td>952133</td>\n",
       "      <td>0.051111</td>\n",
       "      <td>0.08541</td>\n",
       "      <td>0.084836</td>\n",
       "    </tr>\n",
       "  </tbody>\n",
       "</table>\n",
       "<p>5 rows × 23 columns</p>\n",
       "</div>"
      ],
      "text/plain": [
       "   매출회사      매입회사       매출액  국내계열사계(매출액)  해외계열사계(매출액)       국내매출액  \\\n",
       "0  삼성전자      삼성물산   78676.0    2269950.0  149436938.0  16821275.0   \n",
       "1  삼성전자  삼성바이오에피스       1.0    2269950.0  149436938.0  16821275.0   \n",
       "2  삼성전자   삼성디스플레이  164404.0    2269950.0  149436938.0  16821275.0   \n",
       "3  삼성전자       세메스       5.0    2269950.0  149436938.0  16821275.0   \n",
       "4  삼성전자   삼성전자서비스  456109.0    2269950.0  149436938.0  16821275.0   \n",
       "\n",
       "         해외매출액        매출액총계  year2  year  ...       매출액Val 매입사상/비 매입사금융/비금융  \\\n",
       "0  153560595.0  170381870.0   2019  2018  ...  170381870.0     상장       비금융   \n",
       "1  153560595.0  170381870.0   2019  2018  ...  170381870.0    비상장       비금융   \n",
       "2  153560595.0  170381870.0   2019  2018  ...  170381870.0    비상장       비금융   \n",
       "3  153560595.0  170381870.0   2019  2018  ...  170381870.0    비상장       비금융   \n",
       "4  153560595.0  170381870.0   2019  2018  ...  170381870.0    비상장       비금융   \n",
       "\n",
       "   grpname grpcode  매출회사id    매입회사id     직접지분율  매출회사 실질지분율  매입회사 실질지분율  \n",
       "0  samsung     511  380725    810053  0.051111     0.08541    0.311626  \n",
       "1  samsung     511  380725  18082125  0.051111     0.08541    0.081307  \n",
       "2  samsung     511  380725  18082126  0.051111     0.08541    0.074901  \n",
       "3  samsung     511  380725    314528  0.051111     0.08541    0.078187  \n",
       "4  samsung     511  380725    952133  0.051111     0.08541    0.084836  \n",
       "\n",
       "[5 rows x 23 columns]"
      ]
     },
     "execution_count": 452,
     "metadata": {},
     "output_type": "execute_result"
    }
   ],
   "source": [
    "dfTrans19Dmstc.head()"
   ]
  },
  {
   "cell_type": "code",
   "execution_count": 320,
   "id": "99192478",
   "metadata": {},
   "outputs": [
    {
     "data": {
      "text/html": [
       "<div>\n",
       "<style scoped>\n",
       "    .dataframe tbody tr th:only-of-type {\n",
       "        vertical-align: middle;\n",
       "    }\n",
       "\n",
       "    .dataframe tbody tr th {\n",
       "        vertical-align: top;\n",
       "    }\n",
       "\n",
       "    .dataframe thead th {\n",
       "        text-align: right;\n",
       "    }\n",
       "</style>\n",
       "<table border=\"1\" class=\"dataframe\">\n",
       "  <thead>\n",
       "    <tr style=\"text-align: right;\">\n",
       "      <th></th>\n",
       "      <th>매출회사</th>\n",
       "      <th>매입회사</th>\n",
       "      <th>매출액</th>\n",
       "      <th>국내계열사계(매출액)</th>\n",
       "      <th>해외계열사계(매출액)</th>\n",
       "      <th>국내매출액</th>\n",
       "      <th>해외매출액</th>\n",
       "      <th>매출액총계</th>\n",
       "      <th>year2</th>\n",
       "      <th>year</th>\n",
       "      <th>grpname2</th>\n",
       "      <th>매출사상/비</th>\n",
       "      <th>매출사금융/비금융</th>\n",
       "      <th>매출액Val</th>\n",
       "      <th>매입사상/비</th>\n",
       "      <th>매입사금융/비금융</th>\n",
       "      <th>grpname</th>\n",
       "      <th>grpcode</th>\n",
       "      <th>매출회사id</th>\n",
       "      <th>매입회사id</th>\n",
       "    </tr>\n",
       "  </thead>\n",
       "  <tbody>\n",
       "    <tr>\n",
       "      <th>0</th>\n",
       "      <td>삼성전자</td>\n",
       "      <td>삼성물산</td>\n",
       "      <td>78676.0</td>\n",
       "      <td>2269950.0</td>\n",
       "      <td>149436938.0</td>\n",
       "      <td>16821275.0</td>\n",
       "      <td>153560595.0</td>\n",
       "      <td>170381870.0</td>\n",
       "      <td>2019</td>\n",
       "      <td>2018</td>\n",
       "      <td>삼성</td>\n",
       "      <td>상장</td>\n",
       "      <td>비금융</td>\n",
       "      <td>170381870.0</td>\n",
       "      <td>상장</td>\n",
       "      <td>비금융</td>\n",
       "      <td>samsung</td>\n",
       "      <td>511</td>\n",
       "      <td>380725</td>\n",
       "      <td>810053</td>\n",
       "    </tr>\n",
       "    <tr>\n",
       "      <th>1</th>\n",
       "      <td>삼성전자</td>\n",
       "      <td>삼성바이오에피스</td>\n",
       "      <td>1.0</td>\n",
       "      <td>2269950.0</td>\n",
       "      <td>149436938.0</td>\n",
       "      <td>16821275.0</td>\n",
       "      <td>153560595.0</td>\n",
       "      <td>170381870.0</td>\n",
       "      <td>2019</td>\n",
       "      <td>2018</td>\n",
       "      <td>삼성</td>\n",
       "      <td>상장</td>\n",
       "      <td>비금융</td>\n",
       "      <td>170381870.0</td>\n",
       "      <td>비상장</td>\n",
       "      <td>비금융</td>\n",
       "      <td>samsung</td>\n",
       "      <td>511</td>\n",
       "      <td>380725</td>\n",
       "      <td>18082125</td>\n",
       "    </tr>\n",
       "    <tr>\n",
       "      <th>2</th>\n",
       "      <td>삼성전자</td>\n",
       "      <td>삼성디스플레이</td>\n",
       "      <td>164404.0</td>\n",
       "      <td>2269950.0</td>\n",
       "      <td>149436938.0</td>\n",
       "      <td>16821275.0</td>\n",
       "      <td>153560595.0</td>\n",
       "      <td>170381870.0</td>\n",
       "      <td>2019</td>\n",
       "      <td>2018</td>\n",
       "      <td>삼성</td>\n",
       "      <td>상장</td>\n",
       "      <td>비금융</td>\n",
       "      <td>170381870.0</td>\n",
       "      <td>비상장</td>\n",
       "      <td>비금융</td>\n",
       "      <td>samsung</td>\n",
       "      <td>511</td>\n",
       "      <td>380725</td>\n",
       "      <td>18082126</td>\n",
       "    </tr>\n",
       "    <tr>\n",
       "      <th>3</th>\n",
       "      <td>삼성전자</td>\n",
       "      <td>세메스</td>\n",
       "      <td>5.0</td>\n",
       "      <td>2269950.0</td>\n",
       "      <td>149436938.0</td>\n",
       "      <td>16821275.0</td>\n",
       "      <td>153560595.0</td>\n",
       "      <td>170381870.0</td>\n",
       "      <td>2019</td>\n",
       "      <td>2018</td>\n",
       "      <td>삼성</td>\n",
       "      <td>상장</td>\n",
       "      <td>비금융</td>\n",
       "      <td>170381870.0</td>\n",
       "      <td>비상장</td>\n",
       "      <td>비금융</td>\n",
       "      <td>samsung</td>\n",
       "      <td>511</td>\n",
       "      <td>380725</td>\n",
       "      <td>314528</td>\n",
       "    </tr>\n",
       "    <tr>\n",
       "      <th>4</th>\n",
       "      <td>삼성전자</td>\n",
       "      <td>삼성전자서비스</td>\n",
       "      <td>456109.0</td>\n",
       "      <td>2269950.0</td>\n",
       "      <td>149436938.0</td>\n",
       "      <td>16821275.0</td>\n",
       "      <td>153560595.0</td>\n",
       "      <td>170381870.0</td>\n",
       "      <td>2019</td>\n",
       "      <td>2018</td>\n",
       "      <td>삼성</td>\n",
       "      <td>상장</td>\n",
       "      <td>비금융</td>\n",
       "      <td>170381870.0</td>\n",
       "      <td>비상장</td>\n",
       "      <td>비금융</td>\n",
       "      <td>samsung</td>\n",
       "      <td>511</td>\n",
       "      <td>380725</td>\n",
       "      <td>952133</td>\n",
       "    </tr>\n",
       "  </tbody>\n",
       "</table>\n",
       "</div>"
      ],
      "text/plain": [
       "   매출회사      매입회사       매출액  국내계열사계(매출액)  해외계열사계(매출액)       국내매출액  \\\n",
       "0  삼성전자      삼성물산   78676.0    2269950.0  149436938.0  16821275.0   \n",
       "1  삼성전자  삼성바이오에피스       1.0    2269950.0  149436938.0  16821275.0   \n",
       "2  삼성전자   삼성디스플레이  164404.0    2269950.0  149436938.0  16821275.0   \n",
       "3  삼성전자       세메스       5.0    2269950.0  149436938.0  16821275.0   \n",
       "4  삼성전자   삼성전자서비스  456109.0    2269950.0  149436938.0  16821275.0   \n",
       "\n",
       "         해외매출액        매출액총계  year2  year grpname2 매출사상/비 매출사금융/비금융  \\\n",
       "0  153560595.0  170381870.0   2019  2018       삼성     상장       비금융   \n",
       "1  153560595.0  170381870.0   2019  2018       삼성     상장       비금융   \n",
       "2  153560595.0  170381870.0   2019  2018       삼성     상장       비금융   \n",
       "3  153560595.0  170381870.0   2019  2018       삼성     상장       비금융   \n",
       "4  153560595.0  170381870.0   2019  2018       삼성     상장       비금융   \n",
       "\n",
       "        매출액Val 매입사상/비 매입사금융/비금융  grpname  grpcode  매출회사id    매입회사id  \n",
       "0  170381870.0     상장       비금융  samsung      511  380725    810053  \n",
       "1  170381870.0    비상장       비금융  samsung      511  380725  18082125  \n",
       "2  170381870.0    비상장       비금융  samsung      511  380725  18082126  \n",
       "3  170381870.0    비상장       비금융  samsung      511  380725    314528  \n",
       "4  170381870.0    비상장       비금융  samsung      511  380725    952133  "
      ]
     },
     "execution_count": 320,
     "metadata": {},
     "output_type": "execute_result"
    }
   ],
   "source": [
    "dfTrans19Dmstc.head()"
   ]
  },
  {
   "cell_type": "code",
   "execution_count": 464,
   "id": "cbd71a87",
   "metadata": {},
   "outputs": [
    {
     "data": {
      "text/html": [
       "<div>\n",
       "<style scoped>\n",
       "    .dataframe tbody tr th:only-of-type {\n",
       "        vertical-align: middle;\n",
       "    }\n",
       "\n",
       "    .dataframe tbody tr th {\n",
       "        vertical-align: top;\n",
       "    }\n",
       "\n",
       "    .dataframe thead th {\n",
       "        text-align: right;\n",
       "    }\n",
       "</style>\n",
       "<table border=\"1\" class=\"dataframe\">\n",
       "  <thead>\n",
       "    <tr style=\"text-align: right;\">\n",
       "      <th></th>\n",
       "      <th>금융비금융</th>\n",
       "      <th>grpname2</th>\n",
       "      <th>grpname</th>\n",
       "      <th>grpcode</th>\n",
       "      <th>firmname</th>\n",
       "      <th>firmid</th>\n",
       "      <th>type</th>\n",
       "      <th>own</th>\n",
       "      <th>own2</th>\n",
       "      <th>ownername</th>\n",
       "      <th>ownerid</th>\n",
       "      <th>소속회사명</th>\n",
       "    </tr>\n",
       "  </thead>\n",
       "  <tbody>\n",
       "    <tr>\n",
       "      <th>0</th>\n",
       "      <td>비금융회사</td>\n",
       "      <td>금호석유화학</td>\n",
       "      <td>kpc</td>\n",
       "      <td>11140.0</td>\n",
       "      <td>금호석유화학</td>\n",
       "      <td>351350.0</td>\n",
       "      <td>0.0</td>\n",
       "      <td>0.225941</td>\n",
       "      <td>0.393303</td>\n",
       "      <td>NaN</td>\n",
       "      <td>NaN</td>\n",
       "      <td>NaN</td>\n",
       "    </tr>\n",
       "    <tr>\n",
       "      <th>1</th>\n",
       "      <td>비금융회사</td>\n",
       "      <td>금호석유화학</td>\n",
       "      <td>kpc</td>\n",
       "      <td>11140.0</td>\n",
       "      <td>금호석유화학</td>\n",
       "      <td>351350.0</td>\n",
       "      <td>99.0</td>\n",
       "      <td>0.606697</td>\n",
       "      <td>0.606697</td>\n",
       "      <td>NaN</td>\n",
       "      <td>NaN</td>\n",
       "      <td>NaN</td>\n",
       "    </tr>\n",
       "    <tr>\n",
       "      <th>2</th>\n",
       "      <td>비금융회사</td>\n",
       "      <td>금호석유화학</td>\n",
       "      <td>kpc</td>\n",
       "      <td>11140.0</td>\n",
       "      <td>금호피앤비화학</td>\n",
       "      <td>145509.0</td>\n",
       "      <td>1.0</td>\n",
       "      <td>1.000000</td>\n",
       "      <td>1.000000</td>\n",
       "      <td>금호석유화학</td>\n",
       "      <td>351350.0</td>\n",
       "      <td>NaN</td>\n",
       "    </tr>\n",
       "    <tr>\n",
       "      <th>3</th>\n",
       "      <td>비금융회사</td>\n",
       "      <td>금호석유화학</td>\n",
       "      <td>kpc</td>\n",
       "      <td>11140.0</td>\n",
       "      <td>금호미쓰이화학</td>\n",
       "      <td>356468.0</td>\n",
       "      <td>1.0</td>\n",
       "      <td>0.500000</td>\n",
       "      <td>0.500000</td>\n",
       "      <td>금호석유화학</td>\n",
       "      <td>351350.0</td>\n",
       "      <td>NaN</td>\n",
       "    </tr>\n",
       "    <tr>\n",
       "      <th>4</th>\n",
       "      <td>비금융회사</td>\n",
       "      <td>금호석유화학</td>\n",
       "      <td>kpc</td>\n",
       "      <td>11140.0</td>\n",
       "      <td>금호미쓰이화학</td>\n",
       "      <td>356468.0</td>\n",
       "      <td>99.0</td>\n",
       "      <td>0.500000</td>\n",
       "      <td>0.500000</td>\n",
       "      <td>NaN</td>\n",
       "      <td>NaN</td>\n",
       "      <td>NaN</td>\n",
       "    </tr>\n",
       "  </tbody>\n",
       "</table>\n",
       "</div>"
      ],
      "text/plain": [
       "    금융비금융 grpname2 grpname  grpcode firmname    firmid  type       own  \\\n",
       "0  비금융회사    금호석유화학     kpc  11140.0   금호석유화학  351350.0   0.0  0.225941   \n",
       "1  비금융회사    금호석유화학     kpc  11140.0   금호석유화학  351350.0  99.0  0.606697   \n",
       "2  비금융회사    금호석유화학     kpc  11140.0  금호피앤비화학  145509.0   1.0  1.000000   \n",
       "3  비금융회사    금호석유화학     kpc  11140.0  금호미쓰이화학  356468.0   1.0  0.500000   \n",
       "4  비금융회사    금호석유화학     kpc  11140.0  금호미쓰이화학  356468.0  99.0  0.500000   \n",
       "\n",
       "       own2 ownername   ownerid 소속회사명  \n",
       "0  0.393303       NaN       NaN   NaN  \n",
       "1  0.606697       NaN       NaN   NaN  \n",
       "2  1.000000    금호석유화학  351350.0   NaN  \n",
       "3  0.500000    금호석유화학  351350.0   NaN  \n",
       "4  0.500000       NaN       NaN   NaN  "
      ]
     },
     "execution_count": 464,
     "metadata": {},
     "output_type": "execute_result"
    }
   ],
   "source": [
    "lInput20 = [pd.read_excel(fName, sheet_name=-1).rename(columns={'금융비금융 ':'금융비금융', 'firmid ':'firmid', 'firmname ': 'firmname', 'type ': 'type'})\\\n",
    "            for fName in glob.glob('../data/almeida/2020/in/*.xlsx')]\n",
    "dfOwnInput20 = pd.concat(lInput20)\n",
    "dfOwnInput20.head()"
   ]
  },
  {
   "cell_type": "code",
   "execution_count": 481,
   "id": "a1a91b27",
   "metadata": {},
   "outputs": [
    {
     "data": {
      "text/plain": [
       "55"
      ]
     },
     "execution_count": 481,
     "metadata": {},
     "output_type": "execute_result"
    }
   ],
   "source": [
    "dfCmpnySumry20 = pd.read_excel('../data/cmpnySumry/cmpnySumry2020Eng.xlsx')\n",
    "dfCmpnySumry20 = dfCmpnySumry20[dfCmpnySumry20['unityGrupNm'].isin(dfAffilNum20['chaebol'])]\n",
    "dfCmpnySumry20.loc[dfCmpnySumry20[dfCmpnySumry20['rcmgCode'].isna()].index, 'rcmgCode'] = 2830000000\n",
    "dfCmpnySumry20['unityGrupNm'].nunique()"
   ]
  },
  {
   "cell_type": "code",
   "execution_count": 470,
   "id": "c2d36ea5",
   "metadata": {},
   "outputs": [
    {
     "data": {
      "text/html": [
       "<div>\n",
       "<style scoped>\n",
       "    .dataframe tbody tr th:only-of-type {\n",
       "        vertical-align: middle;\n",
       "    }\n",
       "\n",
       "    .dataframe tbody tr th {\n",
       "        vertical-align: top;\n",
       "    }\n",
       "\n",
       "    .dataframe thead th {\n",
       "        text-align: right;\n",
       "    }\n",
       "</style>\n",
       "<table border=\"1\" class=\"dataframe\">\n",
       "  <thead>\n",
       "    <tr style=\"text-align: right;\">\n",
       "      <th></th>\n",
       "      <th>grpname2</th>\n",
       "      <th>grpname</th>\n",
       "      <th>grpcode</th>\n",
       "      <th>firmname</th>\n",
       "      <th>firmid</th>\n",
       "      <th>fid</th>\n",
       "      <th>ultown</th>\n",
       "      <th>avpos</th>\n",
       "      <th>sd</th>\n",
       "      <th>steps</th>\n",
       "      <th>loop</th>\n",
       "      <th>lastcontrol</th>\n",
       "      <th>central</th>\n",
       "      <th>year2</th>\n",
       "      <th>year</th>\n",
       "    </tr>\n",
       "  </thead>\n",
       "  <tbody>\n",
       "    <tr>\n",
       "      <th>0</th>\n",
       "      <td>삼성</td>\n",
       "      <td>samsung</td>\n",
       "      <td>511</td>\n",
       "      <td>스테코</td>\n",
       "      <td>39224.0</td>\n",
       "      <td>1.0</td>\n",
       "      <td>0.059979</td>\n",
       "      <td>2.463976</td>\n",
       "      <td>2.0</td>\n",
       "      <td>NaN</td>\n",
       "      <td>0.0</td>\n",
       "      <td>16.0</td>\n",
       "      <td>0.0</td>\n",
       "      <td>2020.0</td>\n",
       "      <td>2019.0</td>\n",
       "    </tr>\n",
       "    <tr>\n",
       "      <th>1</th>\n",
       "      <td>삼성</td>\n",
       "      <td>samsung</td>\n",
       "      <td>511</td>\n",
       "      <td>삼성전자판매</td>\n",
       "      <td>102357.0</td>\n",
       "      <td>2.0</td>\n",
       "      <td>0.085685</td>\n",
       "      <td>2.463976</td>\n",
       "      <td>2.0</td>\n",
       "      <td>NaN</td>\n",
       "      <td>0.0</td>\n",
       "      <td>16.0</td>\n",
       "      <td>0.0</td>\n",
       "      <td>2020.0</td>\n",
       "      <td>2019.0</td>\n",
       "    </tr>\n",
       "    <tr>\n",
       "      <th>2</th>\n",
       "      <td>삼성</td>\n",
       "      <td>samsung</td>\n",
       "      <td>511</td>\n",
       "      <td>삼성벤처투자</td>\n",
       "      <td>122088.0</td>\n",
       "      <td>3.0</td>\n",
       "      <td>0.089795</td>\n",
       "      <td>2.410684</td>\n",
       "      <td>2.0</td>\n",
       "      <td>NaN</td>\n",
       "      <td>0.0</td>\n",
       "      <td>29.0</td>\n",
       "      <td>0.0</td>\n",
       "      <td>2020.0</td>\n",
       "      <td>2019.0</td>\n",
       "    </tr>\n",
       "    <tr>\n",
       "      <th>3</th>\n",
       "      <td>삼성</td>\n",
       "      <td>samsung</td>\n",
       "      <td>511</td>\n",
       "      <td>삼성전자로지텍</td>\n",
       "      <td>125346.0</td>\n",
       "      <td>4.0</td>\n",
       "      <td>0.085685</td>\n",
       "      <td>2.463976</td>\n",
       "      <td>2.0</td>\n",
       "      <td>NaN</td>\n",
       "      <td>0.0</td>\n",
       "      <td>16.0</td>\n",
       "      <td>0.0</td>\n",
       "      <td>2020.0</td>\n",
       "      <td>2019.0</td>\n",
       "    </tr>\n",
       "    <tr>\n",
       "      <th>4</th>\n",
       "      <td>삼성</td>\n",
       "      <td>samsung</td>\n",
       "      <td>511</td>\n",
       "      <td>시큐아이</td>\n",
       "      <td>131940.0</td>\n",
       "      <td>5.0</td>\n",
       "      <td>0.165134</td>\n",
       "      <td>2.281845</td>\n",
       "      <td>2.0</td>\n",
       "      <td>NaN</td>\n",
       "      <td>0.0</td>\n",
       "      <td>31.0</td>\n",
       "      <td>0.0</td>\n",
       "      <td>2020.0</td>\n",
       "      <td>2019.0</td>\n",
       "    </tr>\n",
       "  </tbody>\n",
       "</table>\n",
       "</div>"
      ],
      "text/plain": [
       "  grpname2  grpname  grpcode firmname    firmid  fid    ultown     avpos   sd  \\\n",
       "0       삼성  samsung      511      스테코   39224.0  1.0  0.059979  2.463976  2.0   \n",
       "1       삼성  samsung      511   삼성전자판매  102357.0  2.0  0.085685  2.463976  2.0   \n",
       "2       삼성  samsung      511   삼성벤처투자  122088.0  3.0  0.089795  2.410684  2.0   \n",
       "3       삼성  samsung      511  삼성전자로지텍  125346.0  4.0  0.085685  2.463976  2.0   \n",
       "4       삼성  samsung      511     시큐아이  131940.0  5.0  0.165134  2.281845  2.0   \n",
       "\n",
       "   steps  loop  lastcontrol  central   year2    year  \n",
       "0    NaN   0.0         16.0      0.0  2020.0  2019.0  \n",
       "1    NaN   0.0         16.0      0.0  2020.0  2019.0  \n",
       "2    NaN   0.0         29.0      0.0  2020.0  2019.0  \n",
       "3    NaN   0.0         16.0      0.0  2020.0  2019.0  \n",
       "4    NaN   0.0         31.0      0.0  2020.0  2019.0  "
      ]
     },
     "execution_count": 470,
     "metadata": {},
     "output_type": "execute_result"
    }
   ],
   "source": [
    "dfOwnOutput20 = pd.read_stata('../data/almeida/2020/out/almeida_own1_2020.dta')\n",
    "dfOwnOutput20.head()"
   ]
  },
  {
   "cell_type": "code",
   "execution_count": 483,
   "id": "a8171f7b",
   "metadata": {},
   "outputs": [],
   "source": [
    "dfCmpnySumry20['firmid'] = dfCmpnySumry20['rcmgCode']\n",
    "dfOwnInput20['직접지분율'] = dfOwnInput20['own']\n",
    "dfOwnInput20['매출회사id'] = dfOwnInput20['firmid']\n",
    "dfOwnOutput20['매출회사id'] = dfOwnOutput20['firmid']\n",
    "dfOwnOutput20['매입회사id'] = dfOwnOutput20['firmid']\n",
    "dfOwnOutput20['매출회사 실질지분율'] = dfOwnOutput20['ultown']\n",
    "dfOwnOutput20['매입회사 실질지분율'] = dfOwnOutput20['ultown']\n",
    "dfOwnOutput20['실질지분율'] = dfOwnOutput20['ultown']"
   ]
  },
  {
   "cell_type": "code",
   "execution_count": 477,
   "id": "1e4624fd",
   "metadata": {},
   "outputs": [
    {
     "data": {
      "text/plain": [
       "Index(['publicYm', 'fisclYr', 'unityGrupNm', 'entrprsNm', 'rprsntvNm',\n",
       "       'fondDe', 'grinil', 'indutyCode', 'indutyNm', 'ordtmEmplyCo',\n",
       "       'stacntDudt', 'beforeBsnsStacntDe', 'entrprsOthbcDe', 'assetsTotamt',\n",
       "       'debtTotamt', 'caplTotamt', 'caplAmount', 'selngAmount',\n",
       "       'thstrmNtpfAmount', 'reconstrctur', 'jurirno', 'year2', 'rcmgCode',\n",
       "       'firmid', '직접지분율_x', '실질지분율_x'],\n",
       "      dtype='object')"
      ]
     },
     "execution_count": 477,
     "metadata": {},
     "output_type": "execute_result"
    }
   ],
   "source": [
    "dfCmpnySumry19.columns"
   ]
  },
  {
   "cell_type": "code",
   "execution_count": 484,
   "id": "f298ecbb",
   "metadata": {},
   "outputs": [
    {
     "data": {
      "text/html": [
       "<div>\n",
       "<style scoped>\n",
       "    .dataframe tbody tr th:only-of-type {\n",
       "        vertical-align: middle;\n",
       "    }\n",
       "\n",
       "    .dataframe tbody tr th {\n",
       "        vertical-align: top;\n",
       "    }\n",
       "\n",
       "    .dataframe thead th {\n",
       "        text-align: right;\n",
       "    }\n",
       "</style>\n",
       "<table border=\"1\" class=\"dataframe\">\n",
       "  <thead>\n",
       "    <tr style=\"text-align: right;\">\n",
       "      <th></th>\n",
       "      <th>publicYm</th>\n",
       "      <th>fisclYr</th>\n",
       "      <th>unityGrupNm</th>\n",
       "      <th>entrprsNm</th>\n",
       "      <th>rprsntvNm</th>\n",
       "      <th>fondDe</th>\n",
       "      <th>grinil</th>\n",
       "      <th>indutyCode</th>\n",
       "      <th>indutyNm</th>\n",
       "      <th>ordtmEmplyCo</th>\n",
       "      <th>...</th>\n",
       "      <th>debtTotamt</th>\n",
       "      <th>caplTotamt</th>\n",
       "      <th>caplAmount</th>\n",
       "      <th>selngAmount</th>\n",
       "      <th>thstrmNtpfAmount</th>\n",
       "      <th>reconstrctur</th>\n",
       "      <th>jurirno</th>\n",
       "      <th>year2</th>\n",
       "      <th>rcmgCode</th>\n",
       "      <th>firmid</th>\n",
       "    </tr>\n",
       "  </thead>\n",
       "  <tbody>\n",
       "  </tbody>\n",
       "</table>\n",
       "<p>0 rows × 24 columns</p>\n",
       "</div>"
      ],
      "text/plain": [
       "Empty DataFrame\n",
       "Columns: [publicYm, fisclYr, unityGrupNm, entrprsNm, rprsntvNm, fondDe, grinil, indutyCode, indutyNm, ordtmEmplyCo, stacntDudt, beforeBsnsStacntDe, entrprsOthbcDe, assetsTotamt, debtTotamt, caplTotamt, caplAmount, selngAmount, thstrmNtpfAmount, reconstrctur, jurirno, year2, rcmgCode, firmid]\n",
       "Index: []\n",
       "\n",
       "[0 rows x 24 columns]"
      ]
     },
     "execution_count": 484,
     "metadata": {},
     "output_type": "execute_result"
    }
   ],
   "source": [
    "dfCmpnySumry20[dfCmpnySumry20['firmid'].isna()]"
   ]
  },
  {
   "cell_type": "code",
   "execution_count": 485,
   "id": "cc1b1ce5",
   "metadata": {},
   "outputs": [],
   "source": [
    "dfCmpnySumry20['firmid'] = dfCmpnySumry20['firmid'].astype('int')"
   ]
  },
  {
   "cell_type": "code",
   "execution_count": 486,
   "id": "dab35a19",
   "metadata": {},
   "outputs": [],
   "source": [
    "dfOwnInput20['firmid'] = dfOwnInput20['firmid'].astype('int')"
   ]
  },
  {
   "cell_type": "code",
   "execution_count": 487,
   "id": "f29bdedd",
   "metadata": {},
   "outputs": [],
   "source": [
    "dfOwnOutput20['firmid'] = dfOwnOutput20['firmid'].astype('int')"
   ]
  },
  {
   "cell_type": "code",
   "execution_count": 488,
   "id": "c4c14815",
   "metadata": {},
   "outputs": [
    {
     "data": {
      "text/html": [
       "<div>\n",
       "<style scoped>\n",
       "    .dataframe tbody tr th:only-of-type {\n",
       "        vertical-align: middle;\n",
       "    }\n",
       "\n",
       "    .dataframe tbody tr th {\n",
       "        vertical-align: top;\n",
       "    }\n",
       "\n",
       "    .dataframe thead th {\n",
       "        text-align: right;\n",
       "    }\n",
       "</style>\n",
       "<table border=\"1\" class=\"dataframe\">\n",
       "  <thead>\n",
       "    <tr style=\"text-align: right;\">\n",
       "      <th></th>\n",
       "      <th>publicYm</th>\n",
       "      <th>fisclYr</th>\n",
       "      <th>unityGrupNm</th>\n",
       "      <th>entrprsNm</th>\n",
       "      <th>rprsntvNm</th>\n",
       "      <th>fondDe</th>\n",
       "      <th>grinil</th>\n",
       "      <th>indutyCode</th>\n",
       "      <th>indutyNm</th>\n",
       "      <th>ordtmEmplyCo</th>\n",
       "      <th>...</th>\n",
       "      <th>caplAmount</th>\n",
       "      <th>selngAmount</th>\n",
       "      <th>thstrmNtpfAmount</th>\n",
       "      <th>reconstrctur</th>\n",
       "      <th>jurirno</th>\n",
       "      <th>year2</th>\n",
       "      <th>rcmgCode</th>\n",
       "      <th>firmid</th>\n",
       "      <th>직접지분율</th>\n",
       "      <th>실질지분율</th>\n",
       "    </tr>\n",
       "  </thead>\n",
       "  <tbody>\n",
       "    <tr>\n",
       "      <th>0</th>\n",
       "      <td>202005</td>\n",
       "      <td>2019</td>\n",
       "      <td>넥슨</td>\n",
       "      <td>(유)가승개발</td>\n",
       "      <td>서춘식</td>\n",
       "      <td>2016/01/21</td>\n",
       "      <td>2016/01/21</td>\n",
       "      <td>R91</td>\n",
       "      <td>스포츠 및 오락관련 서비스업</td>\n",
       "      <td>3</td>\n",
       "      <td>...</td>\n",
       "      <td>100</td>\n",
       "      <td>0</td>\n",
       "      <td>-465</td>\n",
       "      <td>일반회사</td>\n",
       "      <td>1345140003989</td>\n",
       "      <td>2020</td>\n",
       "      <td>1.802408e+09</td>\n",
       "      <td>1802408099</td>\n",
       "      <td>NaN</td>\n",
       "      <td>0.500000</td>\n",
       "    </tr>\n",
       "    <tr>\n",
       "      <th>1</th>\n",
       "      <td>202005</td>\n",
       "      <td>2019</td>\n",
       "      <td>넥슨</td>\n",
       "      <td>(유)가승개발</td>\n",
       "      <td>서춘식</td>\n",
       "      <td>2016/01/21</td>\n",
       "      <td>2016/01/21</td>\n",
       "      <td>R91</td>\n",
       "      <td>스포츠 및 오락관련 서비스업</td>\n",
       "      <td>3</td>\n",
       "      <td>...</td>\n",
       "      <td>100</td>\n",
       "      <td>0</td>\n",
       "      <td>-465</td>\n",
       "      <td>일반회사</td>\n",
       "      <td>1345140003989</td>\n",
       "      <td>2020</td>\n",
       "      <td>1.802408e+09</td>\n",
       "      <td>1802408099</td>\n",
       "      <td>NaN</td>\n",
       "      <td>0.500000</td>\n",
       "    </tr>\n",
       "    <tr>\n",
       "      <th>2</th>\n",
       "      <td>202005</td>\n",
       "      <td>2019</td>\n",
       "      <td>지에스</td>\n",
       "      <td>(유)가승개발</td>\n",
       "      <td>서춘식</td>\n",
       "      <td>2016/01/21</td>\n",
       "      <td>2016/04/01</td>\n",
       "      <td>R91</td>\n",
       "      <td>스포츠 및 오락관련 서비스업</td>\n",
       "      <td>3</td>\n",
       "      <td>...</td>\n",
       "      <td>100</td>\n",
       "      <td>NaN</td>\n",
       "      <td>-465</td>\n",
       "      <td>일반회사</td>\n",
       "      <td>1345140003989</td>\n",
       "      <td>2020</td>\n",
       "      <td>1.802408e+09</td>\n",
       "      <td>1802408099</td>\n",
       "      <td>NaN</td>\n",
       "      <td>0.500000</td>\n",
       "    </tr>\n",
       "    <tr>\n",
       "      <th>3</th>\n",
       "      <td>202005</td>\n",
       "      <td>2019</td>\n",
       "      <td>지에스</td>\n",
       "      <td>(유)가승개발</td>\n",
       "      <td>서춘식</td>\n",
       "      <td>2016/01/21</td>\n",
       "      <td>2016/04/01</td>\n",
       "      <td>R91</td>\n",
       "      <td>스포츠 및 오락관련 서비스업</td>\n",
       "      <td>3</td>\n",
       "      <td>...</td>\n",
       "      <td>100</td>\n",
       "      <td>NaN</td>\n",
       "      <td>-465</td>\n",
       "      <td>일반회사</td>\n",
       "      <td>1345140003989</td>\n",
       "      <td>2020</td>\n",
       "      <td>1.802408e+09</td>\n",
       "      <td>1802408099</td>\n",
       "      <td>NaN</td>\n",
       "      <td>0.500000</td>\n",
       "    </tr>\n",
       "    <tr>\n",
       "      <th>4</th>\n",
       "      <td>202005</td>\n",
       "      <td>2019</td>\n",
       "      <td>카카오</td>\n",
       "      <td>(유)매디슨카운티의다리</td>\n",
       "      <td>이명한</td>\n",
       "      <td>2016/11/16</td>\n",
       "      <td>2020/02/03</td>\n",
       "      <td>R90</td>\n",
       "      <td>창작, 예술 및 여가관련 서비스업</td>\n",
       "      <td>0</td>\n",
       "      <td>...</td>\n",
       "      <td>10</td>\n",
       "      <td>3</td>\n",
       "      <td>2</td>\n",
       "      <td>일반회사</td>\n",
       "      <td>1101140192605</td>\n",
       "      <td>2020</td>\n",
       "      <td>1.803409e+09</td>\n",
       "      <td>1803408949</td>\n",
       "      <td>0.0</td>\n",
       "      <td>0.061863</td>\n",
       "    </tr>\n",
       "  </tbody>\n",
       "</table>\n",
       "<p>5 rows × 26 columns</p>\n",
       "</div>"
      ],
      "text/plain": [
       "   publicYm  fisclYr unityGrupNm     entrprsNm rprsntvNm      fondDe  \\\n",
       "0    202005     2019          넥슨       (유)가승개발       서춘식  2016/01/21   \n",
       "1    202005     2019          넥슨       (유)가승개발       서춘식  2016/01/21   \n",
       "2    202005     2019         지에스       (유)가승개발       서춘식  2016/01/21   \n",
       "3    202005     2019         지에스       (유)가승개발       서춘식  2016/01/21   \n",
       "4    202005     2019         카카오  (유)매디슨카운티의다리       이명한  2016/11/16   \n",
       "\n",
       "       grinil indutyCode            indutyNm ordtmEmplyCo  ... caplAmount  \\\n",
       "0  2016/01/21        R91     스포츠 및 오락관련 서비스업            3  ...        100   \n",
       "1  2016/01/21        R91     스포츠 및 오락관련 서비스업            3  ...        100   \n",
       "2  2016/04/01        R91     스포츠 및 오락관련 서비스업            3  ...        100   \n",
       "3  2016/04/01        R91     스포츠 및 오락관련 서비스업            3  ...        100   \n",
       "4  2020/02/03        R90  창작, 예술 및 여가관련 서비스업            0  ...         10   \n",
       "\n",
       "  selngAmount thstrmNtpfAmount reconstrctur        jurirno year2  \\\n",
       "0           0             -465         일반회사  1345140003989  2020   \n",
       "1           0             -465         일반회사  1345140003989  2020   \n",
       "2         NaN             -465         일반회사  1345140003989  2020   \n",
       "3         NaN             -465         일반회사  1345140003989  2020   \n",
       "4           3                2         일반회사  1101140192605  2020   \n",
       "\n",
       "       rcmgCode      firmid 직접지분율     실질지분율  \n",
       "0  1.802408e+09  1802408099   NaN  0.500000  \n",
       "1  1.802408e+09  1802408099   NaN  0.500000  \n",
       "2  1.802408e+09  1802408099   NaN  0.500000  \n",
       "3  1.802408e+09  1802408099   NaN  0.500000  \n",
       "4  1.803409e+09  1803408949   0.0  0.061863  \n",
       "\n",
       "[5 rows x 26 columns]"
      ]
     },
     "execution_count": 488,
     "metadata": {},
     "output_type": "execute_result"
    }
   ],
   "source": [
    "dfCmpnySumry20 = dfCmpnySumry20.merge(dfOwnInput20[dfOwnInput20['type'] == 0][['firmid', '직접지분율']], on='firmid', how='left')\\\n",
    "                               .merge(dfOwnOutput20[['firmid', '실질지분율']], on='firmid', how='left')\n",
    "dfCmpnySumry20.head()"
   ]
  },
  {
   "cell_type": "code",
   "execution_count": 489,
   "id": "15387b00",
   "metadata": {},
   "outputs": [],
   "source": [
    "dfTrans20Dmstc = dfTrans20Dmstc.merge(dfOwnInput20[dfOwnInput20['type'] == 0][['매출회사id', '직접지분율']], on='매출회사id', how='left')\\\n",
    "                               .merge(dfOwnOutput20[['매출회사id', '매출회사 실질지분율']], on='매출회사id', how='left')\\\n",
    "                               .merge(dfOwnOutput20[['매입회사id', '매입회사 실질지분율']], on='매입회사id', how='left')"
   ]
  },
  {
   "cell_type": "code",
   "execution_count": 490,
   "id": "c7c6fdf1",
   "metadata": {},
   "outputs": [
    {
     "data": {
      "text/html": [
       "<div>\n",
       "<style scoped>\n",
       "    .dataframe tbody tr th:only-of-type {\n",
       "        vertical-align: middle;\n",
       "    }\n",
       "\n",
       "    .dataframe tbody tr th {\n",
       "        vertical-align: top;\n",
       "    }\n",
       "\n",
       "    .dataframe thead th {\n",
       "        text-align: right;\n",
       "    }\n",
       "</style>\n",
       "<table border=\"1\" class=\"dataframe\">\n",
       "  <thead>\n",
       "    <tr style=\"text-align: right;\">\n",
       "      <th></th>\n",
       "      <th>매출회사</th>\n",
       "      <th>매입회사</th>\n",
       "      <th>매출액</th>\n",
       "      <th>국내계열사계(매출액)</th>\n",
       "      <th>해외계열사계(매출액)</th>\n",
       "      <th>국내매출액</th>\n",
       "      <th>해외매출액</th>\n",
       "      <th>매출액총계</th>\n",
       "      <th>year2</th>\n",
       "      <th>year</th>\n",
       "      <th>...</th>\n",
       "      <th>매출액Val</th>\n",
       "      <th>매입사상/비</th>\n",
       "      <th>매입사금융/비금융</th>\n",
       "      <th>grpname</th>\n",
       "      <th>grpcode</th>\n",
       "      <th>매출회사id</th>\n",
       "      <th>매입회사id</th>\n",
       "      <th>직접지분율</th>\n",
       "      <th>매출회사 실질지분율</th>\n",
       "      <th>매입회사 실질지분율</th>\n",
       "    </tr>\n",
       "  </thead>\n",
       "  <tbody>\n",
       "    <tr>\n",
       "      <th>0</th>\n",
       "      <td>삼성전자</td>\n",
       "      <td>삼성물산</td>\n",
       "      <td>110238.0</td>\n",
       "      <td>2422149.0</td>\n",
       "      <td>130563681.0</td>\n",
       "      <td>20300939.0</td>\n",
       "      <td>134471920.0</td>\n",
       "      <td>154772859.0</td>\n",
       "      <td>2020</td>\n",
       "      <td>2019</td>\n",
       "      <td>...</td>\n",
       "      <td>154772859.0</td>\n",
       "      <td>상장</td>\n",
       "      <td>비금융</td>\n",
       "      <td>samsung</td>\n",
       "      <td>511</td>\n",
       "      <td>380725</td>\n",
       "      <td>810053</td>\n",
       "      <td>0.051113</td>\n",
       "      <td>0.085685</td>\n",
       "      <td>0.316260</td>\n",
       "    </tr>\n",
       "    <tr>\n",
       "      <th>1</th>\n",
       "      <td>삼성전자</td>\n",
       "      <td>삼성바이오에피스</td>\n",
       "      <td>4.0</td>\n",
       "      <td>2422149.0</td>\n",
       "      <td>130563681.0</td>\n",
       "      <td>20300939.0</td>\n",
       "      <td>134471920.0</td>\n",
       "      <td>154772859.0</td>\n",
       "      <td>2020</td>\n",
       "      <td>2019</td>\n",
       "      <td>...</td>\n",
       "      <td>154772859.0</td>\n",
       "      <td>비상장</td>\n",
       "      <td>비금융</td>\n",
       "      <td>samsung</td>\n",
       "      <td>511</td>\n",
       "      <td>380725</td>\n",
       "      <td>18082125</td>\n",
       "      <td>0.051113</td>\n",
       "      <td>0.085685</td>\n",
       "      <td>0.082311</td>\n",
       "    </tr>\n",
       "    <tr>\n",
       "      <th>2</th>\n",
       "      <td>삼성전자</td>\n",
       "      <td>삼성디스플레이</td>\n",
       "      <td>279363.0</td>\n",
       "      <td>2422149.0</td>\n",
       "      <td>130563681.0</td>\n",
       "      <td>20300939.0</td>\n",
       "      <td>134471920.0</td>\n",
       "      <td>154772859.0</td>\n",
       "      <td>2020</td>\n",
       "      <td>2019</td>\n",
       "      <td>...</td>\n",
       "      <td>154772859.0</td>\n",
       "      <td>비상장</td>\n",
       "      <td>비금융</td>\n",
       "      <td>samsung</td>\n",
       "      <td>511</td>\n",
       "      <td>380725</td>\n",
       "      <td>18082126</td>\n",
       "      <td>0.051113</td>\n",
       "      <td>0.085685</td>\n",
       "      <td>0.075149</td>\n",
       "    </tr>\n",
       "    <tr>\n",
       "      <th>3</th>\n",
       "      <td>삼성전자</td>\n",
       "      <td>세메스</td>\n",
       "      <td>7.0</td>\n",
       "      <td>2422149.0</td>\n",
       "      <td>130563681.0</td>\n",
       "      <td>20300939.0</td>\n",
       "      <td>134471920.0</td>\n",
       "      <td>154772859.0</td>\n",
       "      <td>2020</td>\n",
       "      <td>2019</td>\n",
       "      <td>...</td>\n",
       "      <td>154772859.0</td>\n",
       "      <td>비상장</td>\n",
       "      <td>비금융</td>\n",
       "      <td>samsung</td>\n",
       "      <td>511</td>\n",
       "      <td>380725</td>\n",
       "      <td>314528</td>\n",
       "      <td>0.051113</td>\n",
       "      <td>0.085685</td>\n",
       "      <td>0.078438</td>\n",
       "    </tr>\n",
       "    <tr>\n",
       "      <th>4</th>\n",
       "      <td>삼성전자</td>\n",
       "      <td>삼성전자서비스</td>\n",
       "      <td>453084.0</td>\n",
       "      <td>2422149.0</td>\n",
       "      <td>130563681.0</td>\n",
       "      <td>20300939.0</td>\n",
       "      <td>134471920.0</td>\n",
       "      <td>154772859.0</td>\n",
       "      <td>2020</td>\n",
       "      <td>2019</td>\n",
       "      <td>...</td>\n",
       "      <td>154772859.0</td>\n",
       "      <td>비상장</td>\n",
       "      <td>비금융</td>\n",
       "      <td>samsung</td>\n",
       "      <td>511</td>\n",
       "      <td>380725</td>\n",
       "      <td>952133</td>\n",
       "      <td>0.051113</td>\n",
       "      <td>0.085685</td>\n",
       "      <td>0.085109</td>\n",
       "    </tr>\n",
       "  </tbody>\n",
       "</table>\n",
       "<p>5 rows × 23 columns</p>\n",
       "</div>"
      ],
      "text/plain": [
       "   매출회사      매입회사       매출액  국내계열사계(매출액)  해외계열사계(매출액)       국내매출액  \\\n",
       "0  삼성전자      삼성물산  110238.0    2422149.0  130563681.0  20300939.0   \n",
       "1  삼성전자  삼성바이오에피스       4.0    2422149.0  130563681.0  20300939.0   \n",
       "2  삼성전자   삼성디스플레이  279363.0    2422149.0  130563681.0  20300939.0   \n",
       "3  삼성전자       세메스       7.0    2422149.0  130563681.0  20300939.0   \n",
       "4  삼성전자   삼성전자서비스  453084.0    2422149.0  130563681.0  20300939.0   \n",
       "\n",
       "         해외매출액        매출액총계  year2  year  ...       매출액Val 매입사상/비 매입사금융/비금융  \\\n",
       "0  134471920.0  154772859.0   2020  2019  ...  154772859.0     상장       비금융   \n",
       "1  134471920.0  154772859.0   2020  2019  ...  154772859.0    비상장       비금융   \n",
       "2  134471920.0  154772859.0   2020  2019  ...  154772859.0    비상장       비금융   \n",
       "3  134471920.0  154772859.0   2020  2019  ...  154772859.0    비상장       비금융   \n",
       "4  134471920.0  154772859.0   2020  2019  ...  154772859.0    비상장       비금융   \n",
       "\n",
       "   grpname grpcode  매출회사id    매입회사id     직접지분율  매출회사 실질지분율  매입회사 실질지분율  \n",
       "0  samsung     511  380725    810053  0.051113    0.085685    0.316260  \n",
       "1  samsung     511  380725  18082125  0.051113    0.085685    0.082311  \n",
       "2  samsung     511  380725  18082126  0.051113    0.085685    0.075149  \n",
       "3  samsung     511  380725    314528  0.051113    0.085685    0.078438  \n",
       "4  samsung     511  380725    952133  0.051113    0.085685    0.085109  \n",
       "\n",
       "[5 rows x 23 columns]"
      ]
     },
     "execution_count": 490,
     "metadata": {},
     "output_type": "execute_result"
    }
   ],
   "source": [
    "dfTrans20Dmstc.head()"
   ]
  },
  {
   "cell_type": "code",
   "execution_count": 491,
   "id": "e0a3931a",
   "metadata": {},
   "outputs": [
    {
     "data": {
      "text/html": [
       "<div>\n",
       "<style scoped>\n",
       "    .dataframe tbody tr th:only-of-type {\n",
       "        vertical-align: middle;\n",
       "    }\n",
       "\n",
       "    .dataframe tbody tr th {\n",
       "        vertical-align: top;\n",
       "    }\n",
       "\n",
       "    .dataframe thead th {\n",
       "        text-align: right;\n",
       "    }\n",
       "</style>\n",
       "<table border=\"1\" class=\"dataframe\">\n",
       "  <thead>\n",
       "    <tr style=\"text-align: right;\">\n",
       "      <th></th>\n",
       "      <th>금융비금융</th>\n",
       "      <th>grpname2</th>\n",
       "      <th>grpname</th>\n",
       "      <th>grpcode</th>\n",
       "      <th>firmname</th>\n",
       "      <th>firmid</th>\n",
       "      <th>type</th>\n",
       "      <th>own</th>\n",
       "      <th>own2</th>\n",
       "      <th>ownername</th>\n",
       "      <th>ownerid</th>\n",
       "    </tr>\n",
       "  </thead>\n",
       "  <tbody>\n",
       "    <tr>\n",
       "      <th>0</th>\n",
       "      <td>비금융회사</td>\n",
       "      <td>영풍</td>\n",
       "      <td>youngpoong</td>\n",
       "      <td>632</td>\n",
       "      <td>고려아연</td>\n",
       "      <td>370380</td>\n",
       "      <td>0</td>\n",
       "      <td>0.053914</td>\n",
       "      <td>0.184120</td>\n",
       "      <td>NaN</td>\n",
       "      <td>NaN</td>\n",
       "    </tr>\n",
       "    <tr>\n",
       "      <th>1</th>\n",
       "      <td>비금융회사</td>\n",
       "      <td>영풍</td>\n",
       "      <td>youngpoong</td>\n",
       "      <td>632</td>\n",
       "      <td>고려아연</td>\n",
       "      <td>370380</td>\n",
       "      <td>1</td>\n",
       "      <td>0.274870</td>\n",
       "      <td>0.274870</td>\n",
       "      <td>영풍</td>\n",
       "      <td>370274.0</td>\n",
       "    </tr>\n",
       "    <tr>\n",
       "      <th>2</th>\n",
       "      <td>비금융회사</td>\n",
       "      <td>영풍</td>\n",
       "      <td>youngpoong</td>\n",
       "      <td>632</td>\n",
       "      <td>고려아연</td>\n",
       "      <td>370380</td>\n",
       "      <td>1</td>\n",
       "      <td>0.015639</td>\n",
       "      <td>0.015639</td>\n",
       "      <td>영풍정밀</td>\n",
       "      <td>388947.0</td>\n",
       "    </tr>\n",
       "    <tr>\n",
       "      <th>3</th>\n",
       "      <td>비금융회사</td>\n",
       "      <td>영풍</td>\n",
       "      <td>youngpoong</td>\n",
       "      <td>632</td>\n",
       "      <td>고려아연</td>\n",
       "      <td>370380</td>\n",
       "      <td>1</td>\n",
       "      <td>0.009889</td>\n",
       "      <td>0.009889</td>\n",
       "      <td>유미개발</td>\n",
       "      <td>28088.0</td>\n",
       "    </tr>\n",
       "    <tr>\n",
       "      <th>4</th>\n",
       "      <td>비금융회사</td>\n",
       "      <td>영풍</td>\n",
       "      <td>youngpoong</td>\n",
       "      <td>632</td>\n",
       "      <td>고려아연</td>\n",
       "      <td>370380</td>\n",
       "      <td>1</td>\n",
       "      <td>0.001125</td>\n",
       "      <td>0.001125</td>\n",
       "      <td>테라닉스</td>\n",
       "      <td>625507.0</td>\n",
       "    </tr>\n",
       "  </tbody>\n",
       "</table>\n",
       "</div>"
      ],
      "text/plain": [
       "   금융비금융 grpname2     grpname  grpcode firmname  firmid  type       own  \\\n",
       "0  비금융회사       영풍  youngpoong      632     고려아연  370380     0  0.053914   \n",
       "1  비금융회사       영풍  youngpoong      632     고려아연  370380     1  0.274870   \n",
       "2  비금융회사       영풍  youngpoong      632     고려아연  370380     1  0.015639   \n",
       "3  비금융회사       영풍  youngpoong      632     고려아연  370380     1  0.009889   \n",
       "4  비금융회사       영풍  youngpoong      632     고려아연  370380     1  0.001125   \n",
       "\n",
       "       own2 ownername   ownerid  \n",
       "0  0.184120       NaN       NaN  \n",
       "1  0.274870        영풍  370274.0  \n",
       "2  0.015639      영풍정밀  388947.0  \n",
       "3  0.009889      유미개발   28088.0  \n",
       "4  0.001125      테라닉스  625507.0  "
      ]
     },
     "execution_count": 491,
     "metadata": {},
     "output_type": "execute_result"
    }
   ],
   "source": [
    "lInput21 = [pd.read_excel(fName) for fName in glob.glob('../data/almeida/2021/in/*.xlsx')]\n",
    "dfOwnInput21 = pd.concat(lInput21)\n",
    "dfOwnInput21.head()"
   ]
  },
  {
   "cell_type": "code",
   "execution_count": 575,
   "id": "30e0124c",
   "metadata": {},
   "outputs": [
    {
     "data": {
      "text/plain": [
       "60"
      ]
     },
     "execution_count": 575,
     "metadata": {},
     "output_type": "execute_result"
    }
   ],
   "source": [
    "dfCmpnySumry21 = pd.read_excel('../data/cmpnySumry/cmpnySumry2021Eng.xlsx')\n",
    "dfCmpnySumry21 = dfCmpnySumry21[dfCmpnySumry21['unityGrupNm'].isin(dfAffilNum21['chaebol'])]\n",
    "dfCmpnySumry21['unityGrupNm'].nunique()"
   ]
  },
  {
   "cell_type": "code",
   "execution_count": 552,
   "id": "f0d2d4d1",
   "metadata": {},
   "outputs": [
    {
     "data": {
      "text/html": [
       "<div>\n",
       "<style scoped>\n",
       "    .dataframe tbody tr th:only-of-type {\n",
       "        vertical-align: middle;\n",
       "    }\n",
       "\n",
       "    .dataframe tbody tr th {\n",
       "        vertical-align: top;\n",
       "    }\n",
       "\n",
       "    .dataframe thead th {\n",
       "        text-align: right;\n",
       "    }\n",
       "</style>\n",
       "<table border=\"1\" class=\"dataframe\">\n",
       "  <thead>\n",
       "    <tr style=\"text-align: right;\">\n",
       "      <th></th>\n",
       "      <th>publicYm</th>\n",
       "      <th>fisclYr</th>\n",
       "      <th>unityGrupNm</th>\n",
       "      <th>entrprsNm</th>\n",
       "      <th>rprsntvNm</th>\n",
       "      <th>fondDe</th>\n",
       "      <th>grinil</th>\n",
       "      <th>indutyCode</th>\n",
       "      <th>indutyNm</th>\n",
       "      <th>ordtmEmplyCo</th>\n",
       "      <th>...</th>\n",
       "      <th>assetsTotamt</th>\n",
       "      <th>debtTotamt</th>\n",
       "      <th>caplTotamt</th>\n",
       "      <th>caplAmount</th>\n",
       "      <th>selngAmount</th>\n",
       "      <th>thstrmNtpfAmount</th>\n",
       "      <th>reconstrctur</th>\n",
       "      <th>jurirno</th>\n",
       "      <th>year2</th>\n",
       "      <th>rcmgCode</th>\n",
       "    </tr>\n",
       "  </thead>\n",
       "  <tbody>\n",
       "  </tbody>\n",
       "</table>\n",
       "<p>0 rows × 23 columns</p>\n",
       "</div>"
      ],
      "text/plain": [
       "Empty DataFrame\n",
       "Columns: [publicYm, fisclYr, unityGrupNm, entrprsNm, rprsntvNm, fondDe, grinil, indutyCode, indutyNm, ordtmEmplyCo, stacntDudt, beforeBsnsStacntDe, entrprsOthbcDe, assetsTotamt, debtTotamt, caplTotamt, caplAmount, selngAmount, thstrmNtpfAmount, reconstrctur, jurirno, year2, rcmgCode]\n",
       "Index: []\n",
       "\n",
       "[0 rows x 23 columns]"
      ]
     },
     "execution_count": 552,
     "metadata": {},
     "output_type": "execute_result"
    }
   ],
   "source": [
    "dfCmpnySumry21[dfCmpnySumry21['rcmgCode'].isna()]"
   ]
  },
  {
   "cell_type": "code",
   "execution_count": 495,
   "id": "f178bcce",
   "metadata": {},
   "outputs": [
    {
     "data": {
      "text/html": [
       "<div>\n",
       "<style scoped>\n",
       "    .dataframe tbody tr th:only-of-type {\n",
       "        vertical-align: middle;\n",
       "    }\n",
       "\n",
       "    .dataframe tbody tr th {\n",
       "        vertical-align: top;\n",
       "    }\n",
       "\n",
       "    .dataframe thead th {\n",
       "        text-align: right;\n",
       "    }\n",
       "</style>\n",
       "<table border=\"1\" class=\"dataframe\">\n",
       "  <thead>\n",
       "    <tr style=\"text-align: right;\">\n",
       "      <th></th>\n",
       "      <th>year</th>\n",
       "      <th>year2</th>\n",
       "      <th>grpname2</th>\n",
       "      <th>grpname</th>\n",
       "      <th>grpcode</th>\n",
       "      <th>firmname</th>\n",
       "      <th>firmid</th>\n",
       "      <th>fid</th>\n",
       "      <th>ultown</th>\n",
       "      <th>avpos</th>\n",
       "      <th>sd</th>\n",
       "      <th>steps</th>\n",
       "      <th>loop</th>\n",
       "      <th>lastcontrol</th>\n",
       "      <th>central</th>\n",
       "    </tr>\n",
       "  </thead>\n",
       "  <tbody>\n",
       "    <tr>\n",
       "      <th>0</th>\n",
       "      <td>2020</td>\n",
       "      <td>2021</td>\n",
       "      <td>유진</td>\n",
       "      <td>eugenes</td>\n",
       "      <td>653</td>\n",
       "      <td>케이비에프</td>\n",
       "      <td>5086</td>\n",
       "      <td>1</td>\n",
       "      <td>0.003715</td>\n",
       "      <td>4.142763</td>\n",
       "      <td>3.0</td>\n",
       "      <td>NaN</td>\n",
       "      <td>0.0</td>\n",
       "      <td>8</td>\n",
       "      <td>0.163265</td>\n",
       "    </tr>\n",
       "    <tr>\n",
       "      <th>1</th>\n",
       "      <td>2020</td>\n",
       "      <td>2021</td>\n",
       "      <td>유진</td>\n",
       "      <td>eugenes</td>\n",
       "      <td>653</td>\n",
       "      <td>케이비에프</td>\n",
       "      <td>5086</td>\n",
       "      <td>1</td>\n",
       "      <td>0.003715</td>\n",
       "      <td>4.142763</td>\n",
       "      <td>3.0</td>\n",
       "      <td>NaN</td>\n",
       "      <td>0.0</td>\n",
       "      <td>8</td>\n",
       "      <td>0.163265</td>\n",
       "    </tr>\n",
       "    <tr>\n",
       "      <th>2</th>\n",
       "      <td>2020</td>\n",
       "      <td>2021</td>\n",
       "      <td>유진</td>\n",
       "      <td>eugenes</td>\n",
       "      <td>653</td>\n",
       "      <td>케이비에프</td>\n",
       "      <td>5086</td>\n",
       "      <td>1</td>\n",
       "      <td>0.003715</td>\n",
       "      <td>4.142763</td>\n",
       "      <td>3.0</td>\n",
       "      <td>NaN</td>\n",
       "      <td>0.0</td>\n",
       "      <td>8</td>\n",
       "      <td>0.163265</td>\n",
       "    </tr>\n",
       "    <tr>\n",
       "      <th>3</th>\n",
       "      <td>2020</td>\n",
       "      <td>2021</td>\n",
       "      <td>유진</td>\n",
       "      <td>eugenes</td>\n",
       "      <td>653</td>\n",
       "      <td>한성레미콘</td>\n",
       "      <td>102640</td>\n",
       "      <td>2</td>\n",
       "      <td>0.103584</td>\n",
       "      <td>3.275612</td>\n",
       "      <td>3.0</td>\n",
       "      <td>NaN</td>\n",
       "      <td>0.0</td>\n",
       "      <td>29</td>\n",
       "      <td>0.755102</td>\n",
       "    </tr>\n",
       "    <tr>\n",
       "      <th>4</th>\n",
       "      <td>2020</td>\n",
       "      <td>2021</td>\n",
       "      <td>유진</td>\n",
       "      <td>eugenes</td>\n",
       "      <td>653</td>\n",
       "      <td>한성레미콘</td>\n",
       "      <td>102640</td>\n",
       "      <td>2</td>\n",
       "      <td>0.103584</td>\n",
       "      <td>3.275612</td>\n",
       "      <td>3.0</td>\n",
       "      <td>NaN</td>\n",
       "      <td>0.0</td>\n",
       "      <td>29</td>\n",
       "      <td>0.755102</td>\n",
       "    </tr>\n",
       "  </tbody>\n",
       "</table>\n",
       "</div>"
      ],
      "text/plain": [
       "   year  year2 grpname2  grpname  grpcode firmname  firmid  fid    ultown  \\\n",
       "0  2020   2021       유진  eugenes      653    케이비에프    5086    1  0.003715   \n",
       "1  2020   2021       유진  eugenes      653    케이비에프    5086    1  0.003715   \n",
       "2  2020   2021       유진  eugenes      653    케이비에프    5086    1  0.003715   \n",
       "3  2020   2021       유진  eugenes      653    한성레미콘  102640    2  0.103584   \n",
       "4  2020   2021       유진  eugenes      653    한성레미콘  102640    2  0.103584   \n",
       "\n",
       "      avpos   sd  steps  loop  lastcontrol   central  \n",
       "0  4.142763  3.0    NaN   0.0            8  0.163265  \n",
       "1  4.142763  3.0    NaN   0.0            8  0.163265  \n",
       "2  4.142763  3.0    NaN   0.0            8  0.163265  \n",
       "3  3.275612  3.0    NaN   0.0           29  0.755102  \n",
       "4  3.275612  3.0    NaN   0.0           29  0.755102  "
      ]
     },
     "execution_count": 495,
     "metadata": {},
     "output_type": "execute_result"
    }
   ],
   "source": [
    "dfOwnOutput21 = pd.read_excel('../data/almeida/2021/out/almeida_own1_2021.xlsx')\n",
    "dfOwnOutput21.head()"
   ]
  },
  {
   "cell_type": "code",
   "execution_count": 576,
   "id": "be80c9fb",
   "metadata": {},
   "outputs": [
    {
     "name": "stderr",
     "output_type": "stream",
     "text": [
      "/var/folders/xw/1rpcyks10ps27v4w_vlbb6s00000gn/T/ipykernel_37869/328123281.py:4: SettingWithCopyWarning: \n",
      "A value is trying to be set on a copy of a slice from a DataFrame.\n",
      "Try using .loc[row_indexer,col_indexer] = value instead\n",
      "\n",
      "See the caveats in the documentation: https://pandas.pydata.org/pandas-docs/stable/user_guide/indexing.html#returning-a-view-versus-a-copy\n",
      "  dfOwnOutput21['매출회사id'] = dfOwnOutput21['firmid']\n",
      "/var/folders/xw/1rpcyks10ps27v4w_vlbb6s00000gn/T/ipykernel_37869/328123281.py:5: SettingWithCopyWarning: \n",
      "A value is trying to be set on a copy of a slice from a DataFrame.\n",
      "Try using .loc[row_indexer,col_indexer] = value instead\n",
      "\n",
      "See the caveats in the documentation: https://pandas.pydata.org/pandas-docs/stable/user_guide/indexing.html#returning-a-view-versus-a-copy\n",
      "  dfOwnOutput21['매입회사id'] = dfOwnOutput21['firmid']\n",
      "/var/folders/xw/1rpcyks10ps27v4w_vlbb6s00000gn/T/ipykernel_37869/328123281.py:6: SettingWithCopyWarning: \n",
      "A value is trying to be set on a copy of a slice from a DataFrame.\n",
      "Try using .loc[row_indexer,col_indexer] = value instead\n",
      "\n",
      "See the caveats in the documentation: https://pandas.pydata.org/pandas-docs/stable/user_guide/indexing.html#returning-a-view-versus-a-copy\n",
      "  dfOwnOutput21['매출회사 실질지분율'] = dfOwnOutput21['ultown']\n",
      "/var/folders/xw/1rpcyks10ps27v4w_vlbb6s00000gn/T/ipykernel_37869/328123281.py:7: SettingWithCopyWarning: \n",
      "A value is trying to be set on a copy of a slice from a DataFrame.\n",
      "Try using .loc[row_indexer,col_indexer] = value instead\n",
      "\n",
      "See the caveats in the documentation: https://pandas.pydata.org/pandas-docs/stable/user_guide/indexing.html#returning-a-view-versus-a-copy\n",
      "  dfOwnOutput21['매입회사 실질지분율'] = dfOwnOutput21['ultown']\n",
      "/var/folders/xw/1rpcyks10ps27v4w_vlbb6s00000gn/T/ipykernel_37869/328123281.py:8: SettingWithCopyWarning: \n",
      "A value is trying to be set on a copy of a slice from a DataFrame.\n",
      "Try using .loc[row_indexer,col_indexer] = value instead\n",
      "\n",
      "See the caveats in the documentation: https://pandas.pydata.org/pandas-docs/stable/user_guide/indexing.html#returning-a-view-versus-a-copy\n",
      "  dfOwnOutput21['실질지분율'] = dfOwnOutput21['ultown']\n"
     ]
    }
   ],
   "source": [
    "dfCmpnySumry21['firmid'] = dfCmpnySumry21['rcmgCode']\n",
    "dfOwnInput21['직접지분율'] = dfOwnInput21['own']\n",
    "dfOwnInput21['매출회사id'] = dfOwnInput21['firmid']\n",
    "dfOwnOutput21['매출회사id'] = dfOwnOutput21['firmid']\n",
    "dfOwnOutput21['매입회사id'] = dfOwnOutput21['firmid']\n",
    "dfOwnOutput21['매출회사 실질지분율'] = dfOwnOutput21['ultown']\n",
    "dfOwnOutput21['매입회사 실질지분율'] = dfOwnOutput21['ultown']\n",
    "dfOwnOutput21['실질지분율'] = dfOwnOutput21['ultown']"
   ]
  },
  {
   "cell_type": "code",
   "execution_count": 577,
   "id": "72315cdf",
   "metadata": {},
   "outputs": [],
   "source": [
    "dfCmpnySumry21['firmid'] = dfCmpnySumry21['firmid'].astype('int')"
   ]
  },
  {
   "cell_type": "code",
   "execution_count": 498,
   "id": "7addbf0b",
   "metadata": {},
   "outputs": [],
   "source": [
    "dfOwnInput21['firmid'] = dfOwnInput21['firmid'].astype('int')"
   ]
  },
  {
   "cell_type": "code",
   "execution_count": 560,
   "id": "2cce3380",
   "metadata": {},
   "outputs": [],
   "source": [
    "dfOwnOutput21['firmid'] = dfOwnOutput21['firmid'].astype('int')"
   ]
  },
  {
   "cell_type": "code",
   "execution_count": 569,
   "id": "1d1d0f53",
   "metadata": {},
   "outputs": [],
   "source": [
    "dfOwnOutput21 = dfOwnOutput21.drop_duplicates()"
   ]
  },
  {
   "cell_type": "code",
   "execution_count": 578,
   "id": "04bcdc57",
   "metadata": {},
   "outputs": [
    {
     "data": {
      "text/html": [
       "<div>\n",
       "<style scoped>\n",
       "    .dataframe tbody tr th:only-of-type {\n",
       "        vertical-align: middle;\n",
       "    }\n",
       "\n",
       "    .dataframe tbody tr th {\n",
       "        vertical-align: top;\n",
       "    }\n",
       "\n",
       "    .dataframe thead th {\n",
       "        text-align: right;\n",
       "    }\n",
       "</style>\n",
       "<table border=\"1\" class=\"dataframe\">\n",
       "  <thead>\n",
       "    <tr style=\"text-align: right;\">\n",
       "      <th></th>\n",
       "      <th>publicYm</th>\n",
       "      <th>fisclYr</th>\n",
       "      <th>unityGrupNm</th>\n",
       "      <th>entrprsNm</th>\n",
       "      <th>rprsntvNm</th>\n",
       "      <th>fondDe</th>\n",
       "      <th>grinil</th>\n",
       "      <th>indutyCode</th>\n",
       "      <th>indutyNm</th>\n",
       "      <th>ordtmEmplyCo</th>\n",
       "      <th>...</th>\n",
       "      <th>caplAmount</th>\n",
       "      <th>selngAmount</th>\n",
       "      <th>thstrmNtpfAmount</th>\n",
       "      <th>reconstrctur</th>\n",
       "      <th>jurirno</th>\n",
       "      <th>year2</th>\n",
       "      <th>rcmgCode</th>\n",
       "      <th>firmid</th>\n",
       "      <th>직접지분율</th>\n",
       "      <th>실질지분율</th>\n",
       "    </tr>\n",
       "  </thead>\n",
       "  <tbody>\n",
       "    <tr>\n",
       "      <th>0</th>\n",
       "      <td>202105</td>\n",
       "      <td>2020</td>\n",
       "      <td>롯데</td>\n",
       "      <td>롯데쇼핑</td>\n",
       "      <td>강희태</td>\n",
       "      <td>19700702</td>\n",
       "      <td>19870401.0</td>\n",
       "      <td>G47</td>\n",
       "      <td>소매업; 자동차 제외</td>\n",
       "      <td>24963</td>\n",
       "      <td>...</td>\n",
       "      <td>1.410000e+11</td>\n",
       "      <td>8.710000e+12</td>\n",
       "      <td>-1.030000e+12</td>\n",
       "      <td>일반회사</td>\n",
       "      <td>1100000000000</td>\n",
       "      <td>2021</td>\n",
       "      <td>620068</td>\n",
       "      <td>620068</td>\n",
       "      <td>0.120768</td>\n",
       "      <td>0.190298</td>\n",
       "    </tr>\n",
       "    <tr>\n",
       "      <th>1</th>\n",
       "      <td>202105</td>\n",
       "      <td>2020</td>\n",
       "      <td>지에스</td>\n",
       "      <td>지에스건설</td>\n",
       "      <td>임병용</td>\n",
       "      <td>19691219</td>\n",
       "      <td>20050404.0</td>\n",
       "      <td>F41</td>\n",
       "      <td>종합 건설업</td>\n",
       "      <td>6928</td>\n",
       "      <td>...</td>\n",
       "      <td>4.040000e+11</td>\n",
       "      <td>8.890000e+12</td>\n",
       "      <td>3.270000e+11</td>\n",
       "      <td>일반회사</td>\n",
       "      <td>1100000000000</td>\n",
       "      <td>2021</td>\n",
       "      <td>500143</td>\n",
       "      <td>500143</td>\n",
       "      <td>0.223957</td>\n",
       "      <td>0.223957</td>\n",
       "    </tr>\n",
       "    <tr>\n",
       "      <th>2</th>\n",
       "      <td>202105</td>\n",
       "      <td>2020</td>\n",
       "      <td>SM</td>\n",
       "      <td>삼라</td>\n",
       "      <td>조유선</td>\n",
       "      <td>19690826</td>\n",
       "      <td>20040501.0</td>\n",
       "      <td>F41</td>\n",
       "      <td>종합 건설업</td>\n",
       "      <td>12</td>\n",
       "      <td>...</td>\n",
       "      <td>1.685000e+10</td>\n",
       "      <td>1.490000e+11</td>\n",
       "      <td>7.785100e+10</td>\n",
       "      <td>일반회사</td>\n",
       "      <td>1100000000000</td>\n",
       "      <td>2021</td>\n",
       "      <td>500429</td>\n",
       "      <td>500429</td>\n",
       "      <td>0.688212</td>\n",
       "      <td>0.688212</td>\n",
       "    </tr>\n",
       "    <tr>\n",
       "      <th>3</th>\n",
       "      <td>202105</td>\n",
       "      <td>2020</td>\n",
       "      <td>한화</td>\n",
       "      <td>한화</td>\n",
       "      <td>옥경석 외</td>\n",
       "      <td>19521028</td>\n",
       "      <td>19870401.0</td>\n",
       "      <td>C20</td>\n",
       "      <td>화학 물질 및 화학제품 제조업; 의약품 제외</td>\n",
       "      <td>5026</td>\n",
       "      <td>...</td>\n",
       "      <td>4.900000e+11</td>\n",
       "      <td>4.000000e+12</td>\n",
       "      <td>1.290000e+11</td>\n",
       "      <td>일반회사</td>\n",
       "      <td>1100000000000</td>\n",
       "      <td>2021</td>\n",
       "      <td>350893</td>\n",
       "      <td>350893</td>\n",
       "      <td>0.267595</td>\n",
       "      <td>0.319317</td>\n",
       "    </tr>\n",
       "    <tr>\n",
       "      <th>4</th>\n",
       "      <td>202105</td>\n",
       "      <td>2020</td>\n",
       "      <td>동원</td>\n",
       "      <td>동원산업</td>\n",
       "      <td>이명우</td>\n",
       "      <td>19690416</td>\n",
       "      <td>20030128.0</td>\n",
       "      <td>A03</td>\n",
       "      <td>어업</td>\n",
       "      <td>761</td>\n",
       "      <td>...</td>\n",
       "      <td>1.838800e+10</td>\n",
       "      <td>7.020000e+11</td>\n",
       "      <td>7.895000e+10</td>\n",
       "      <td>일반회사</td>\n",
       "      <td>1100000000000</td>\n",
       "      <td>2021</td>\n",
       "      <td>100030</td>\n",
       "      <td>100030</td>\n",
       "      <td>0.000000</td>\n",
       "      <td>0.593151</td>\n",
       "    </tr>\n",
       "  </tbody>\n",
       "</table>\n",
       "<p>5 rows × 26 columns</p>\n",
       "</div>"
      ],
      "text/plain": [
       "   publicYm  fisclYr unityGrupNm entrprsNm rprsntvNm    fondDe      grinil  \\\n",
       "0    202105     2020          롯데      롯데쇼핑       강희태  19700702  19870401.0   \n",
       "1    202105     2020         지에스     지에스건설       임병용  19691219  20050404.0   \n",
       "2    202105     2020          SM        삼라       조유선  19690826  20040501.0   \n",
       "3    202105     2020          한화        한화     옥경석 외  19521028  19870401.0   \n",
       "4    202105     2020          동원      동원산업       이명우  19690416  20030128.0   \n",
       "\n",
       "  indutyCode                  indutyNm  ordtmEmplyCo  ...    caplAmount  \\\n",
       "0        G47               소매업; 자동차 제외         24963  ...  1.410000e+11   \n",
       "1        F41                    종합 건설업          6928  ...  4.040000e+11   \n",
       "2        F41                    종합 건설업            12  ...  1.685000e+10   \n",
       "3        C20  화학 물질 및 화학제품 제조업; 의약품 제외          5026  ...  4.900000e+11   \n",
       "4        A03                        어업           761  ...  1.838800e+10   \n",
       "\n",
       "    selngAmount  thstrmNtpfAmount  reconstrctur        jurirno  year2  \\\n",
       "0  8.710000e+12     -1.030000e+12          일반회사  1100000000000   2021   \n",
       "1  8.890000e+12      3.270000e+11          일반회사  1100000000000   2021   \n",
       "2  1.490000e+11      7.785100e+10          일반회사  1100000000000   2021   \n",
       "3  4.000000e+12      1.290000e+11          일반회사  1100000000000   2021   \n",
       "4  7.020000e+11      7.895000e+10          일반회사  1100000000000   2021   \n",
       "\n",
       "   rcmgCode  firmid     직접지분율     실질지분율  \n",
       "0    620068  620068  0.120768  0.190298  \n",
       "1    500143  500143  0.223957  0.223957  \n",
       "2    500429  500429  0.688212  0.688212  \n",
       "3    350893  350893  0.267595  0.319317  \n",
       "4    100030  100030  0.000000  0.593151  \n",
       "\n",
       "[5 rows x 26 columns]"
      ]
     },
     "execution_count": 578,
     "metadata": {},
     "output_type": "execute_result"
    }
   ],
   "source": [
    "dfCmpnySumry21 = dfCmpnySumry21.merge(dfOwnInput21[dfOwnInput21['type'] == 0][['firmid', '직접지분율']], on='firmid', how='left')\\\n",
    "                               .merge(dfOwnOutput21[['firmid', '실질지분율']], on='firmid', how='left')\n",
    "dfCmpnySumry21.head()"
   ]
  },
  {
   "cell_type": "code",
   "execution_count": 501,
   "id": "ab2651e4",
   "metadata": {
    "collapsed": true
   },
   "outputs": [
    {
     "data": {
      "text/html": [
       "<div>\n",
       "<style scoped>\n",
       "    .dataframe tbody tr th:only-of-type {\n",
       "        vertical-align: middle;\n",
       "    }\n",
       "\n",
       "    .dataframe tbody tr th {\n",
       "        vertical-align: top;\n",
       "    }\n",
       "\n",
       "    .dataframe thead th {\n",
       "        text-align: right;\n",
       "    }\n",
       "</style>\n",
       "<table border=\"1\" class=\"dataframe\">\n",
       "  <thead>\n",
       "    <tr style=\"text-align: right;\">\n",
       "      <th></th>\n",
       "      <th>매출회사</th>\n",
       "      <th>매입회사</th>\n",
       "      <th>매출액</th>\n",
       "      <th>국내계열사계(매출액)</th>\n",
       "      <th>해외계열사계(매출액)</th>\n",
       "      <th>국내매출액</th>\n",
       "      <th>해외매출액</th>\n",
       "      <th>매출액총계</th>\n",
       "      <th>year2</th>\n",
       "      <th>year</th>\n",
       "      <th>...</th>\n",
       "      <th>매입사금융/비금융</th>\n",
       "      <th>grpname</th>\n",
       "      <th>grpcode</th>\n",
       "      <th>매출회사id</th>\n",
       "      <th>매입회사id</th>\n",
       "      <th>매출회사 실질지분율_x</th>\n",
       "      <th>매입회사 실질지분율_x</th>\n",
       "      <th>직접지분율</th>\n",
       "      <th>매출회사 실질지분율_y</th>\n",
       "      <th>매입회사 실질지분율_y</th>\n",
       "    </tr>\n",
       "  </thead>\n",
       "  <tbody>\n",
       "    <tr>\n",
       "      <th>0</th>\n",
       "      <td>삼성전자</td>\n",
       "      <td>삼성물산</td>\n",
       "      <td>86705.0</td>\n",
       "      <td>3142513.0</td>\n",
       "      <td>141902290.0</td>\n",
       "      <td>19833135.0</td>\n",
       "      <td>146478056.0</td>\n",
       "      <td>166311191.0</td>\n",
       "      <td>2021</td>\n",
       "      <td>2020</td>\n",
       "      <td>...</td>\n",
       "      <td>비금융</td>\n",
       "      <td>samsung</td>\n",
       "      <td>511</td>\n",
       "      <td>380725</td>\n",
       "      <td>810053</td>\n",
       "      <td>0.085685</td>\n",
       "      <td>0.316255</td>\n",
       "      <td>0.051113</td>\n",
       "      <td>0.085685</td>\n",
       "      <td>0.316255</td>\n",
       "    </tr>\n",
       "    <tr>\n",
       "      <th>1</th>\n",
       "      <td>삼성전자</td>\n",
       "      <td>삼성물산</td>\n",
       "      <td>86705.0</td>\n",
       "      <td>3142513.0</td>\n",
       "      <td>141902290.0</td>\n",
       "      <td>19833135.0</td>\n",
       "      <td>146478056.0</td>\n",
       "      <td>166311191.0</td>\n",
       "      <td>2021</td>\n",
       "      <td>2020</td>\n",
       "      <td>...</td>\n",
       "      <td>비금융</td>\n",
       "      <td>samsung</td>\n",
       "      <td>511</td>\n",
       "      <td>380725</td>\n",
       "      <td>810053</td>\n",
       "      <td>0.085685</td>\n",
       "      <td>0.316255</td>\n",
       "      <td>0.051113</td>\n",
       "      <td>0.085685</td>\n",
       "      <td>0.316255</td>\n",
       "    </tr>\n",
       "    <tr>\n",
       "      <th>2</th>\n",
       "      <td>삼성전자</td>\n",
       "      <td>삼성물산</td>\n",
       "      <td>86705.0</td>\n",
       "      <td>3142513.0</td>\n",
       "      <td>141902290.0</td>\n",
       "      <td>19833135.0</td>\n",
       "      <td>146478056.0</td>\n",
       "      <td>166311191.0</td>\n",
       "      <td>2021</td>\n",
       "      <td>2020</td>\n",
       "      <td>...</td>\n",
       "      <td>비금융</td>\n",
       "      <td>samsung</td>\n",
       "      <td>511</td>\n",
       "      <td>380725</td>\n",
       "      <td>810053</td>\n",
       "      <td>0.085685</td>\n",
       "      <td>0.316255</td>\n",
       "      <td>0.051113</td>\n",
       "      <td>0.085685</td>\n",
       "      <td>0.316255</td>\n",
       "    </tr>\n",
       "    <tr>\n",
       "      <th>3</th>\n",
       "      <td>삼성전자</td>\n",
       "      <td>삼성물산</td>\n",
       "      <td>86705.0</td>\n",
       "      <td>3142513.0</td>\n",
       "      <td>141902290.0</td>\n",
       "      <td>19833135.0</td>\n",
       "      <td>146478056.0</td>\n",
       "      <td>166311191.0</td>\n",
       "      <td>2021</td>\n",
       "      <td>2020</td>\n",
       "      <td>...</td>\n",
       "      <td>비금융</td>\n",
       "      <td>samsung</td>\n",
       "      <td>511</td>\n",
       "      <td>380725</td>\n",
       "      <td>810053</td>\n",
       "      <td>0.085685</td>\n",
       "      <td>0.316255</td>\n",
       "      <td>0.051113</td>\n",
       "      <td>0.085685</td>\n",
       "      <td>0.316255</td>\n",
       "    </tr>\n",
       "    <tr>\n",
       "      <th>4</th>\n",
       "      <td>삼성전자</td>\n",
       "      <td>삼성물산</td>\n",
       "      <td>86705.0</td>\n",
       "      <td>3142513.0</td>\n",
       "      <td>141902290.0</td>\n",
       "      <td>19833135.0</td>\n",
       "      <td>146478056.0</td>\n",
       "      <td>166311191.0</td>\n",
       "      <td>2021</td>\n",
       "      <td>2020</td>\n",
       "      <td>...</td>\n",
       "      <td>비금융</td>\n",
       "      <td>samsung</td>\n",
       "      <td>511</td>\n",
       "      <td>380725</td>\n",
       "      <td>810053</td>\n",
       "      <td>0.085685</td>\n",
       "      <td>0.316255</td>\n",
       "      <td>0.051113</td>\n",
       "      <td>0.085685</td>\n",
       "      <td>0.316255</td>\n",
       "    </tr>\n",
       "  </tbody>\n",
       "</table>\n",
       "<p>5 rows × 25 columns</p>\n",
       "</div>"
      ],
      "text/plain": [
       "   매출회사  매입회사      매출액  국내계열사계(매출액)  해외계열사계(매출액)       국내매출액        해외매출액  \\\n",
       "0  삼성전자  삼성물산  86705.0    3142513.0  141902290.0  19833135.0  146478056.0   \n",
       "1  삼성전자  삼성물산  86705.0    3142513.0  141902290.0  19833135.0  146478056.0   \n",
       "2  삼성전자  삼성물산  86705.0    3142513.0  141902290.0  19833135.0  146478056.0   \n",
       "3  삼성전자  삼성물산  86705.0    3142513.0  141902290.0  19833135.0  146478056.0   \n",
       "4  삼성전자  삼성물산  86705.0    3142513.0  141902290.0  19833135.0  146478056.0   \n",
       "\n",
       "         매출액총계  year2  year  ... 매입사금융/비금융  grpname grpcode  매출회사id  매입회사id  \\\n",
       "0  166311191.0   2021  2020  ...       비금융  samsung     511  380725  810053   \n",
       "1  166311191.0   2021  2020  ...       비금융  samsung     511  380725  810053   \n",
       "2  166311191.0   2021  2020  ...       비금융  samsung     511  380725  810053   \n",
       "3  166311191.0   2021  2020  ...       비금융  samsung     511  380725  810053   \n",
       "4  166311191.0   2021  2020  ...       비금융  samsung     511  380725  810053   \n",
       "\n",
       "  매출회사 실질지분율_x 매입회사 실질지분율_x     직접지분율  매출회사 실질지분율_y  매입회사 실질지분율_y  \n",
       "0     0.085685     0.316255  0.051113      0.085685      0.316255  \n",
       "1     0.085685     0.316255  0.051113      0.085685      0.316255  \n",
       "2     0.085685     0.316255  0.051113      0.085685      0.316255  \n",
       "3     0.085685     0.316255  0.051113      0.085685      0.316255  \n",
       "4     0.085685     0.316255  0.051113      0.085685      0.316255  \n",
       "\n",
       "[5 rows x 25 columns]"
      ]
     },
     "execution_count": 501,
     "metadata": {},
     "output_type": "execute_result"
    }
   ],
   "source": [
    "dfTrans21Dmstc = dfTrans21Dmstc.merge(dfOwnInput21[dfOwnInput21['type'] == 0][['매출회사id', '직접지분율']], on='매출회사id', how='left')\\\n",
    "                               .merge(dfOwnOutput21[['매출회사id', '매출회사 실질지분율']], on='매출회사id', how='left')\\\n",
    "                               .merge(dfOwnOutput21[['매입회사id', '매입회사 실질지분율']], on='매입회사id', how='left')"
   ]
  },
  {
   "cell_type": "code",
   "execution_count": 638,
   "id": "56014846",
   "metadata": {},
   "outputs": [],
   "source": [
    "dfTrans21Dmstc = dfTrans21Dmstc.drop_duplicates()"
   ]
  },
  {
   "cell_type": "code",
   "execution_count": 505,
   "id": "50083812",
   "metadata": {},
   "outputs": [
    {
     "data": {
      "text/html": [
       "<div>\n",
       "<style scoped>\n",
       "    .dataframe tbody tr th:only-of-type {\n",
       "        vertical-align: middle;\n",
       "    }\n",
       "\n",
       "    .dataframe tbody tr th {\n",
       "        vertical-align: top;\n",
       "    }\n",
       "\n",
       "    .dataframe thead th {\n",
       "        text-align: right;\n",
       "    }\n",
       "</style>\n",
       "<table border=\"1\" class=\"dataframe\">\n",
       "  <thead>\n",
       "    <tr style=\"text-align: right;\">\n",
       "      <th></th>\n",
       "      <th>매출회사</th>\n",
       "      <th>매입회사</th>\n",
       "      <th>매출액</th>\n",
       "      <th>국내계열사계(매출액)</th>\n",
       "      <th>해외계열사계(매출액)</th>\n",
       "      <th>국내매출액</th>\n",
       "      <th>해외매출액</th>\n",
       "      <th>매출액총계</th>\n",
       "      <th>year2</th>\n",
       "      <th>year</th>\n",
       "      <th>...</th>\n",
       "      <th>매출액Val</th>\n",
       "      <th>매입사상/비</th>\n",
       "      <th>매입사금융/비금융</th>\n",
       "      <th>grpname</th>\n",
       "      <th>grpcode</th>\n",
       "      <th>매출회사id</th>\n",
       "      <th>매입회사id</th>\n",
       "      <th>매출회사 실질지분율</th>\n",
       "      <th>매입회사 실질지분율</th>\n",
       "      <th>직접지분율</th>\n",
       "    </tr>\n",
       "  </thead>\n",
       "  <tbody>\n",
       "    <tr>\n",
       "      <th>0</th>\n",
       "      <td>삼성전자</td>\n",
       "      <td>삼성물산</td>\n",
       "      <td>86705.0</td>\n",
       "      <td>3142513.0</td>\n",
       "      <td>141902290.0</td>\n",
       "      <td>19833135.0</td>\n",
       "      <td>146478056.0</td>\n",
       "      <td>166311191.0</td>\n",
       "      <td>2021</td>\n",
       "      <td>2020</td>\n",
       "      <td>...</td>\n",
       "      <td>1.660000e+14</td>\n",
       "      <td>상장</td>\n",
       "      <td>비금융</td>\n",
       "      <td>samsung</td>\n",
       "      <td>511</td>\n",
       "      <td>380725</td>\n",
       "      <td>810053</td>\n",
       "      <td>0.085685</td>\n",
       "      <td>0.316255</td>\n",
       "      <td>0.051113</td>\n",
       "    </tr>\n",
       "    <tr>\n",
       "      <th>1</th>\n",
       "      <td>삼성전자</td>\n",
       "      <td>삼성물산</td>\n",
       "      <td>86705.0</td>\n",
       "      <td>3142513.0</td>\n",
       "      <td>141902290.0</td>\n",
       "      <td>19833135.0</td>\n",
       "      <td>146478056.0</td>\n",
       "      <td>166311191.0</td>\n",
       "      <td>2021</td>\n",
       "      <td>2020</td>\n",
       "      <td>...</td>\n",
       "      <td>1.660000e+14</td>\n",
       "      <td>상장</td>\n",
       "      <td>비금융</td>\n",
       "      <td>samsung</td>\n",
       "      <td>511</td>\n",
       "      <td>380725</td>\n",
       "      <td>810053</td>\n",
       "      <td>0.085685</td>\n",
       "      <td>0.316255</td>\n",
       "      <td>0.051113</td>\n",
       "    </tr>\n",
       "    <tr>\n",
       "      <th>2</th>\n",
       "      <td>삼성전자</td>\n",
       "      <td>삼성물산</td>\n",
       "      <td>86705.0</td>\n",
       "      <td>3142513.0</td>\n",
       "      <td>141902290.0</td>\n",
       "      <td>19833135.0</td>\n",
       "      <td>146478056.0</td>\n",
       "      <td>166311191.0</td>\n",
       "      <td>2021</td>\n",
       "      <td>2020</td>\n",
       "      <td>...</td>\n",
       "      <td>1.660000e+14</td>\n",
       "      <td>상장</td>\n",
       "      <td>비금융</td>\n",
       "      <td>samsung</td>\n",
       "      <td>511</td>\n",
       "      <td>380725</td>\n",
       "      <td>810053</td>\n",
       "      <td>0.085685</td>\n",
       "      <td>0.316255</td>\n",
       "      <td>0.051113</td>\n",
       "    </tr>\n",
       "    <tr>\n",
       "      <th>3</th>\n",
       "      <td>삼성전자</td>\n",
       "      <td>삼성물산</td>\n",
       "      <td>86705.0</td>\n",
       "      <td>3142513.0</td>\n",
       "      <td>141902290.0</td>\n",
       "      <td>19833135.0</td>\n",
       "      <td>146478056.0</td>\n",
       "      <td>166311191.0</td>\n",
       "      <td>2021</td>\n",
       "      <td>2020</td>\n",
       "      <td>...</td>\n",
       "      <td>1.660000e+14</td>\n",
       "      <td>상장</td>\n",
       "      <td>비금융</td>\n",
       "      <td>samsung</td>\n",
       "      <td>511</td>\n",
       "      <td>380725</td>\n",
       "      <td>810053</td>\n",
       "      <td>0.085685</td>\n",
       "      <td>0.316255</td>\n",
       "      <td>0.051113</td>\n",
       "    </tr>\n",
       "    <tr>\n",
       "      <th>4</th>\n",
       "      <td>삼성전자</td>\n",
       "      <td>삼성물산</td>\n",
       "      <td>86705.0</td>\n",
       "      <td>3142513.0</td>\n",
       "      <td>141902290.0</td>\n",
       "      <td>19833135.0</td>\n",
       "      <td>146478056.0</td>\n",
       "      <td>166311191.0</td>\n",
       "      <td>2021</td>\n",
       "      <td>2020</td>\n",
       "      <td>...</td>\n",
       "      <td>1.660000e+14</td>\n",
       "      <td>상장</td>\n",
       "      <td>비금융</td>\n",
       "      <td>samsung</td>\n",
       "      <td>511</td>\n",
       "      <td>380725</td>\n",
       "      <td>810053</td>\n",
       "      <td>0.085685</td>\n",
       "      <td>0.316255</td>\n",
       "      <td>0.051113</td>\n",
       "    </tr>\n",
       "  </tbody>\n",
       "</table>\n",
       "<p>5 rows × 23 columns</p>\n",
       "</div>"
      ],
      "text/plain": [
       "   매출회사  매입회사      매출액  국내계열사계(매출액)  해외계열사계(매출액)       국내매출액        해외매출액  \\\n",
       "0  삼성전자  삼성물산  86705.0    3142513.0  141902290.0  19833135.0  146478056.0   \n",
       "1  삼성전자  삼성물산  86705.0    3142513.0  141902290.0  19833135.0  146478056.0   \n",
       "2  삼성전자  삼성물산  86705.0    3142513.0  141902290.0  19833135.0  146478056.0   \n",
       "3  삼성전자  삼성물산  86705.0    3142513.0  141902290.0  19833135.0  146478056.0   \n",
       "4  삼성전자  삼성물산  86705.0    3142513.0  141902290.0  19833135.0  146478056.0   \n",
       "\n",
       "         매출액총계  year2  year  ...        매출액Val 매입사상/비 매입사금융/비금융  grpname  \\\n",
       "0  166311191.0   2021  2020  ...  1.660000e+14     상장       비금융  samsung   \n",
       "1  166311191.0   2021  2020  ...  1.660000e+14     상장       비금융  samsung   \n",
       "2  166311191.0   2021  2020  ...  1.660000e+14     상장       비금융  samsung   \n",
       "3  166311191.0   2021  2020  ...  1.660000e+14     상장       비금융  samsung   \n",
       "4  166311191.0   2021  2020  ...  1.660000e+14     상장       비금융  samsung   \n",
       "\n",
       "  grpcode  매출회사id  매입회사id  매출회사 실질지분율  매입회사 실질지분율     직접지분율  \n",
       "0     511  380725  810053    0.085685    0.316255  0.051113  \n",
       "1     511  380725  810053    0.085685    0.316255  0.051113  \n",
       "2     511  380725  810053    0.085685    0.316255  0.051113  \n",
       "3     511  380725  810053    0.085685    0.316255  0.051113  \n",
       "4     511  380725  810053    0.085685    0.316255  0.051113  \n",
       "\n",
       "[5 rows x 23 columns]"
      ]
     },
     "execution_count": 505,
     "metadata": {},
     "output_type": "execute_result"
    }
   ],
   "source": [
    "dfTrans21Dmstc.head()"
   ]
  },
  {
   "cell_type": "code",
   "execution_count": 502,
   "id": "3bd9e276",
   "metadata": {},
   "outputs": [
    {
     "data": {
      "text/plain": [
       "Index(['매출회사', '매입회사', '매출액', '국내계열사계(매출액)', '해외계열사계(매출액)', '국내매출액', '해외매출액',\n",
       "       '매출액총계', 'year2', 'year', 'grpname2', '매출사상/비', '매출사금융/비금융', '매출액Val',\n",
       "       '매입사상/비', '매입사금융/비금융', 'grpname', 'grpcode', '매출회사id', '매입회사id',\n",
       "       '매출회사 실질지분율_x', '매입회사 실질지분율_x', '직접지분율', '매출회사 실질지분율_y',\n",
       "       '매입회사 실질지분율_y'],\n",
       "      dtype='object')"
      ]
     },
     "execution_count": 502,
     "metadata": {},
     "output_type": "execute_result"
    }
   ],
   "source": [
    "dfTrans21Dmstc.columns"
   ]
  },
  {
   "cell_type": "code",
   "execution_count": 504,
   "id": "2196cc49",
   "metadata": {},
   "outputs": [],
   "source": [
    "dfTrans21Dmstc = dfTrans21Dmstc.drop(columns=['매출회사 실질지분율_y', '매입회사 실질지분율_y'])\n",
    "dfTrans21Dmstc.columns = ['매출회사', '매입회사', '매출액', '국내계열사계(매출액)', '해외계열사계(매출액)', '국내매출액', '해외매출액',\n",
    "       '매출액총계', 'year2', 'year', 'grpname2', '매출사상/비', '매출사금융/비금융', '매출액Val',\n",
    "       '매입사상/비', '매입사금융/비금융', 'grpname', 'grpcode', '매출회사id', '매입회사id',\n",
    "       '매출회사 실질지분율', '매입회사 실질지분율', '직접지분율',]"
   ]
  },
  {
   "cell_type": "code",
   "execution_count": 522,
   "id": "7497dca1",
   "metadata": {},
   "outputs": [],
   "source": [
    "def shareRatioType(row):\n",
    "    if row['직접지분율'] < 0.2:\n",
    "        return '20% 미만'\n",
    "    elif row['직접지분율'] < 0.3:\n",
    "        return '20~30%'\n",
    "    elif row['직접지분율'] >= 0.3:\n",
    "        return '30% 이상'\n",
    "    else:\n",
    "        return '기타'\n",
    "    \n",
    "def realShareRatioType(row):\n",
    "    if row['매출회사 실질지분율'] < 0.2:\n",
    "        return '20% 미만'\n",
    "    elif row['매출회사 실질지분율'] < 0.3:\n",
    "        return '20~30%'\n",
    "    elif row['매출회사 실질지분율'] >= 0.3:\n",
    "        return '30% 이상'\n",
    "    else:\n",
    "        return '기타'\n",
    "    \n",
    "def realShareRatioType2(row):\n",
    "    if row['실질지분율'] < 0.2:\n",
    "        return '20% 미만'\n",
    "    elif row['실질지분율'] < 0.3:\n",
    "        return '20~30%'\n",
    "    elif row['실질지분율'] >= 0.3:\n",
    "        return '30% 이상'\n",
    "    else:\n",
    "        return '기타'    \n",
    "\n",
    "def realShareRatioDiffType(row):\n",
    "    if row['매출회사 실질지분율'] - row['매입회사 실질지분율']  < 0:\n",
    "        return '0%p 미만'\n",
    "    elif row['매출회사 실질지분율'] - row['매입회사 실질지분율'] < 0.03:\n",
    "        return '0~3%p'\n",
    "    elif row['매출회사 실질지분율'] - row['매입회사 실질지분율'] >= 0.03:\n",
    "        return '3%p 이상'\n",
    "    else:\n",
    "        return '기타'"
   ]
  },
  {
   "cell_type": "code",
   "execution_count": 520,
   "id": "f288b9fa",
   "metadata": {},
   "outputs": [
    {
     "data": {
      "text/html": [
       "<div>\n",
       "<style scoped>\n",
       "    .dataframe tbody tr th:only-of-type {\n",
       "        vertical-align: middle;\n",
       "    }\n",
       "\n",
       "    .dataframe tbody tr th {\n",
       "        vertical-align: top;\n",
       "    }\n",
       "\n",
       "    .dataframe thead th {\n",
       "        text-align: right;\n",
       "    }\n",
       "</style>\n",
       "<table border=\"1\" class=\"dataframe\">\n",
       "  <thead>\n",
       "    <tr style=\"text-align: right;\">\n",
       "      <th></th>\n",
       "      <th>year</th>\n",
       "      <th>year2</th>\n",
       "      <th>grpname</th>\n",
       "      <th>grpname2</th>\n",
       "      <th>grpcode</th>\n",
       "      <th>매출회사</th>\n",
       "      <th>매출회사id</th>\n",
       "      <th>매출사\\n상/비</th>\n",
       "      <th>매입회사</th>\n",
       "      <th>매입회사id</th>\n",
       "      <th>...</th>\n",
       "      <th>매출회사\\n해외매출액</th>\n",
       "      <th>재벌순위</th>\n",
       "      <th>매출사 CFR\\n(우선주포함)</th>\n",
       "      <th>매출사 FAM\\n(우선주포함)</th>\n",
       "      <th>직접지분율</th>\n",
       "      <th>매출회사 실질지분율</th>\n",
       "      <th>매입회사 실질지분율</th>\n",
       "      <th>직접지분율 유형</th>\n",
       "      <th>실질지분율 유형</th>\n",
       "      <th>실질지분율 차이 유형</th>\n",
       "    </tr>\n",
       "  </thead>\n",
       "  <tbody>\n",
       "    <tr>\n",
       "      <th>0</th>\n",
       "      <td>2017</td>\n",
       "      <td>2018</td>\n",
       "      <td>DB</td>\n",
       "      <td>DB</td>\n",
       "      <td>365</td>\n",
       "      <td>DBInc.</td>\n",
       "      <td>352098</td>\n",
       "      <td>상장</td>\n",
       "      <td>DB금융투자</td>\n",
       "      <td>821640</td>\n",
       "      <td>...</td>\n",
       "      <td>76213.0</td>\n",
       "      <td>36</td>\n",
       "      <td>0.401239</td>\n",
       "      <td>0.401239</td>\n",
       "      <td>0.401239</td>\n",
       "      <td>0.401239</td>\n",
       "      <td>0.174456</td>\n",
       "      <td>30% 이상</td>\n",
       "      <td>30% 이상</td>\n",
       "      <td>3%p 이상</td>\n",
       "    </tr>\n",
       "    <tr>\n",
       "      <th>1</th>\n",
       "      <td>2017</td>\n",
       "      <td>2018</td>\n",
       "      <td>DB</td>\n",
       "      <td>DB</td>\n",
       "      <td>365</td>\n",
       "      <td>DBInc.</td>\n",
       "      <td>352098</td>\n",
       "      <td>상장</td>\n",
       "      <td>DB라이텍</td>\n",
       "      <td>137656</td>\n",
       "      <td>...</td>\n",
       "      <td>76213.0</td>\n",
       "      <td>36</td>\n",
       "      <td>0.401239</td>\n",
       "      <td>0.401239</td>\n",
       "      <td>0.401239</td>\n",
       "      <td>0.401239</td>\n",
       "      <td>0.060650</td>\n",
       "      <td>30% 이상</td>\n",
       "      <td>30% 이상</td>\n",
       "      <td>3%p 이상</td>\n",
       "    </tr>\n",
       "    <tr>\n",
       "      <th>2</th>\n",
       "      <td>2017</td>\n",
       "      <td>2018</td>\n",
       "      <td>DB</td>\n",
       "      <td>DB</td>\n",
       "      <td>365</td>\n",
       "      <td>DBInc.</td>\n",
       "      <td>352098</td>\n",
       "      <td>상장</td>\n",
       "      <td>DB메탈</td>\n",
       "      <td>12097776</td>\n",
       "      <td>...</td>\n",
       "      <td>76213.0</td>\n",
       "      <td>36</td>\n",
       "      <td>0.401239</td>\n",
       "      <td>0.401239</td>\n",
       "      <td>0.401239</td>\n",
       "      <td>0.401239</td>\n",
       "      <td>0.589516</td>\n",
       "      <td>30% 이상</td>\n",
       "      <td>30% 이상</td>\n",
       "      <td>0%p 미만</td>\n",
       "    </tr>\n",
       "    <tr>\n",
       "      <th>3</th>\n",
       "      <td>2017</td>\n",
       "      <td>2018</td>\n",
       "      <td>DB</td>\n",
       "      <td>DB</td>\n",
       "      <td>365</td>\n",
       "      <td>DBInc.</td>\n",
       "      <td>352098</td>\n",
       "      <td>상장</td>\n",
       "      <td>DB생명보험</td>\n",
       "      <td>821420</td>\n",
       "      <td>...</td>\n",
       "      <td>76213.0</td>\n",
       "      <td>36</td>\n",
       "      <td>0.401239</td>\n",
       "      <td>0.401239</td>\n",
       "      <td>0.401239</td>\n",
       "      <td>0.401239</td>\n",
       "      <td>0.141807</td>\n",
       "      <td>30% 이상</td>\n",
       "      <td>30% 이상</td>\n",
       "      <td>3%p 이상</td>\n",
       "    </tr>\n",
       "    <tr>\n",
       "      <th>4</th>\n",
       "      <td>2017</td>\n",
       "      <td>2018</td>\n",
       "      <td>DB</td>\n",
       "      <td>DB</td>\n",
       "      <td>365</td>\n",
       "      <td>DBInc.</td>\n",
       "      <td>352098</td>\n",
       "      <td>상장</td>\n",
       "      <td>DB손해보험</td>\n",
       "      <td>870099</td>\n",
       "      <td>...</td>\n",
       "      <td>76213.0</td>\n",
       "      <td>36</td>\n",
       "      <td>0.401239</td>\n",
       "      <td>0.401239</td>\n",
       "      <td>0.401239</td>\n",
       "      <td>0.401239</td>\n",
       "      <td>0.181040</td>\n",
       "      <td>30% 이상</td>\n",
       "      <td>30% 이상</td>\n",
       "      <td>3%p 이상</td>\n",
       "    </tr>\n",
       "  </tbody>\n",
       "</table>\n",
       "<p>5 rows × 26 columns</p>\n",
       "</div>"
      ],
      "text/plain": [
       "   year  year2 grpname grpname2  grpcode    매출회사  매출회사id 매출사\\n상/비    매입회사  \\\n",
       "0  2017   2018      DB       DB      365  DBInc.  352098       상장  DB금융투자   \n",
       "1  2017   2018      DB       DB      365  DBInc.  352098       상장   DB라이텍   \n",
       "2  2017   2018      DB       DB      365  DBInc.  352098       상장    DB메탈   \n",
       "3  2017   2018      DB       DB      365  DBInc.  352098       상장  DB생명보험   \n",
       "4  2017   2018      DB       DB      365  DBInc.  352098       상장  DB손해보험   \n",
       "\n",
       "     매입회사id  ... 매출회사\\n해외매출액  재벌순위  매출사 CFR\\n(우선주포함)  매출사 FAM\\n(우선주포함)  \\\n",
       "0    821640  ...     76213.0    36          0.401239          0.401239   \n",
       "1    137656  ...     76213.0    36          0.401239          0.401239   \n",
       "2  12097776  ...     76213.0    36          0.401239          0.401239   \n",
       "3    821420  ...     76213.0    36          0.401239          0.401239   \n",
       "4    870099  ...     76213.0    36          0.401239          0.401239   \n",
       "\n",
       "      직접지분율  매출회사 실질지분율  매입회사 실질지분율  직접지분율 유형  실질지분율 유형  실질지분율 차이 유형  \n",
       "0  0.401239    0.401239    0.174456    30% 이상    30% 이상       3%p 이상  \n",
       "1  0.401239    0.401239    0.060650    30% 이상    30% 이상       3%p 이상  \n",
       "2  0.401239    0.401239    0.589516    30% 이상    30% 이상       0%p 미만  \n",
       "3  0.401239    0.401239    0.141807    30% 이상    30% 이상       3%p 이상  \n",
       "4  0.401239    0.401239    0.181040    30% 이상    30% 이상       3%p 이상  \n",
       "\n",
       "[5 rows x 26 columns]"
      ]
     },
     "execution_count": 520,
     "metadata": {},
     "output_type": "execute_result"
    }
   ],
   "source": [
    "dfTrans18Dmstc['직접지분율 유형'] = dfTrans18Dmstc.apply(shareRatioType, axis=1)\n",
    "dfTrans18Dmstc['실질지분율 유형'] = dfTrans18Dmstc.apply(realShareRatioType, axis=1)\n",
    "dfTrans18Dmstc['실질지분율 차이 유형'] = dfTrans18Dmstc.apply(realShareRatioDiffType, axis=1)\n",
    "dfTrans18Dmstc.head()"
   ]
  },
  {
   "cell_type": "code",
   "execution_count": 523,
   "id": "e5fe3375",
   "metadata": {},
   "outputs": [],
   "source": [
    "dfCmpnySumry18C['직접지분율 유형'] = dfCmpnySumry18C.apply(shareRatioType, axis=1)\n",
    "dfCmpnySumry18C['실질지분율 유형'] = dfCmpnySumry18C.apply(realShareRatioType2, axis=1)"
   ]
  },
  {
   "cell_type": "code",
   "execution_count": 526,
   "id": "22d3bc7e",
   "metadata": {},
   "outputs": [
    {
     "data": {
      "text/html": [
       "<div>\n",
       "<style scoped>\n",
       "    .dataframe tbody tr th:only-of-type {\n",
       "        vertical-align: middle;\n",
       "    }\n",
       "\n",
       "    .dataframe tbody tr th {\n",
       "        vertical-align: top;\n",
       "    }\n",
       "\n",
       "    .dataframe thead th {\n",
       "        text-align: right;\n",
       "    }\n",
       "</style>\n",
       "<table border=\"1\" class=\"dataframe\">\n",
       "  <thead>\n",
       "    <tr style=\"text-align: right;\">\n",
       "      <th></th>\n",
       "      <th>publicYm</th>\n",
       "      <th>fisclYr</th>\n",
       "      <th>unityGrupNm</th>\n",
       "      <th>entrprsNm</th>\n",
       "      <th>rprsntvNm</th>\n",
       "      <th>fondDe</th>\n",
       "      <th>grinil</th>\n",
       "      <th>indutyCode</th>\n",
       "      <th>indutyNm</th>\n",
       "      <th>ordtmEmplyCo</th>\n",
       "      <th>...</th>\n",
       "      <th>thstrmNtpfAmount</th>\n",
       "      <th>reconstrctur</th>\n",
       "      <th>jurirno</th>\n",
       "      <th>year2</th>\n",
       "      <th>rcmgCode</th>\n",
       "      <th>firmid</th>\n",
       "      <th>직접지분율</th>\n",
       "      <th>실질지분율</th>\n",
       "      <th>직접지분율 유형</th>\n",
       "      <th>실질지분율 유형</th>\n",
       "    </tr>\n",
       "  </thead>\n",
       "  <tbody>\n",
       "    <tr>\n",
       "      <th>0</th>\n",
       "      <td>201805</td>\n",
       "      <td>2017</td>\n",
       "      <td>DB</td>\n",
       "      <td>(주)동부월드</td>\n",
       "      <td>최경진</td>\n",
       "      <td>1989/05/15</td>\n",
       "      <td>1997/06/02</td>\n",
       "      <td>R91</td>\n",
       "      <td>스포츠 및 오락관련 서비스업</td>\n",
       "      <td>76</td>\n",
       "      <td>...</td>\n",
       "      <td>-3,672</td>\n",
       "      <td>회생절차</td>\n",
       "      <td>1101110628086</td>\n",
       "      <td>2018</td>\n",
       "      <td>910813.0</td>\n",
       "      <td>910813.0</td>\n",
       "      <td>0.000000</td>\n",
       "      <td>0.099492</td>\n",
       "      <td>20% 미만</td>\n",
       "      <td>20% 미만</td>\n",
       "    </tr>\n",
       "    <tr>\n",
       "      <th>1</th>\n",
       "      <td>201805</td>\n",
       "      <td>2017</td>\n",
       "      <td>DB</td>\n",
       "      <td>디비씨앤에스자동차손해사정(주)</td>\n",
       "      <td>문수원</td>\n",
       "      <td>2011/03/17</td>\n",
       "      <td>2011/04/05</td>\n",
       "      <td>K66</td>\n",
       "      <td>금융 및 보험 관련 서비스업</td>\n",
       "      <td>742</td>\n",
       "      <td>...</td>\n",
       "      <td>1,388</td>\n",
       "      <td>금융보험업</td>\n",
       "      <td>1101114558669</td>\n",
       "      <td>2018</td>\n",
       "      <td>18004172.0</td>\n",
       "      <td>18004172.0</td>\n",
       "      <td>0.000000</td>\n",
       "      <td>0.181040</td>\n",
       "      <td>20% 미만</td>\n",
       "      <td>20% 미만</td>\n",
       "    </tr>\n",
       "    <tr>\n",
       "      <th>2</th>\n",
       "      <td>201805</td>\n",
       "      <td>2017</td>\n",
       "      <td>DB</td>\n",
       "      <td>디비캐피탈(주)</td>\n",
       "      <td>윤재인</td>\n",
       "      <td>1995/12/08</td>\n",
       "      <td>1995/12/08</td>\n",
       "      <td>K64</td>\n",
       "      <td>금융업</td>\n",
       "      <td>20</td>\n",
       "      <td>...</td>\n",
       "      <td>2,344</td>\n",
       "      <td>금융보험업</td>\n",
       "      <td>1101111220641</td>\n",
       "      <td>2018</td>\n",
       "      <td>56018.0</td>\n",
       "      <td>56018.0</td>\n",
       "      <td>0.000000</td>\n",
       "      <td>0.166868</td>\n",
       "      <td>20% 미만</td>\n",
       "      <td>20% 미만</td>\n",
       "    </tr>\n",
       "    <tr>\n",
       "      <th>3</th>\n",
       "      <td>201805</td>\n",
       "      <td>2017</td>\n",
       "      <td>DB</td>\n",
       "      <td>디비금융투자(주)</td>\n",
       "      <td>고원종</td>\n",
       "      <td>1982/12/20</td>\n",
       "      <td>1982/12/20</td>\n",
       "      <td>K66</td>\n",
       "      <td>금융 및 보험 관련 서비스업</td>\n",
       "      <td>968</td>\n",
       "      <td>...</td>\n",
       "      <td>2,591</td>\n",
       "      <td>금융보험업</td>\n",
       "      <td>1101110339956</td>\n",
       "      <td>2018</td>\n",
       "      <td>821640.0</td>\n",
       "      <td>821640.0</td>\n",
       "      <td>0.129058</td>\n",
       "      <td>0.174456</td>\n",
       "      <td>20% 미만</td>\n",
       "      <td>20% 미만</td>\n",
       "    </tr>\n",
       "    <tr>\n",
       "      <th>4</th>\n",
       "      <td>201805</td>\n",
       "      <td>2017</td>\n",
       "      <td>DB</td>\n",
       "      <td>디비생명보험(주)</td>\n",
       "      <td>이태운</td>\n",
       "      <td>1989/04/14</td>\n",
       "      <td>1997/01/03</td>\n",
       "      <td>K65</td>\n",
       "      <td>보험 및 연금업</td>\n",
       "      <td>569</td>\n",
       "      <td>...</td>\n",
       "      <td>29,215</td>\n",
       "      <td>금융보험업</td>\n",
       "      <td>1101110623606</td>\n",
       "      <td>2018</td>\n",
       "      <td>821420.0</td>\n",
       "      <td>821420.0</td>\n",
       "      <td>0.001217</td>\n",
       "      <td>0.141807</td>\n",
       "      <td>20% 미만</td>\n",
       "      <td>20% 미만</td>\n",
       "    </tr>\n",
       "  </tbody>\n",
       "</table>\n",
       "<p>5 rows × 28 columns</p>\n",
       "</div>"
      ],
      "text/plain": [
       "   publicYm  fisclYr unityGrupNm         entrprsNm rprsntvNm      fondDe  \\\n",
       "0    201805     2017          DB           (주)동부월드       최경진  1989/05/15   \n",
       "1    201805     2017          DB  디비씨앤에스자동차손해사정(주)       문수원  2011/03/17   \n",
       "2    201805     2017          DB          디비캐피탈(주)       윤재인  1995/12/08   \n",
       "3    201805     2017          DB         디비금융투자(주)       고원종  1982/12/20   \n",
       "4    201805     2017          DB         디비생명보험(주)       이태운  1989/04/14   \n",
       "\n",
       "       grinil indutyCode         indutyNm ordtmEmplyCo  ... thstrmNtpfAmount  \\\n",
       "0  1997/06/02        R91  스포츠 및 오락관련 서비스업           76  ...           -3,672   \n",
       "1  2011/04/05        K66  금융 및 보험 관련 서비스업          742  ...            1,388   \n",
       "2  1995/12/08        K64              금융업           20  ...            2,344   \n",
       "3  1982/12/20        K66  금융 및 보험 관련 서비스업          968  ...            2,591   \n",
       "4  1997/01/03        K65         보험 및 연금업          569  ...           29,215   \n",
       "\n",
       "  reconstrctur        jurirno year2    rcmgCode      firmid     직접지분율  \\\n",
       "0         회생절차  1101110628086  2018    910813.0    910813.0  0.000000   \n",
       "1        금융보험업  1101114558669  2018  18004172.0  18004172.0  0.000000   \n",
       "2        금융보험업  1101111220641  2018     56018.0     56018.0  0.000000   \n",
       "3        금융보험업  1101110339956  2018    821640.0    821640.0  0.129058   \n",
       "4        금융보험업  1101110623606  2018    821420.0    821420.0  0.001217   \n",
       "\n",
       "      실질지분율 직접지분율 유형 실질지분율 유형  \n",
       "0  0.099492   20% 미만   20% 미만  \n",
       "1  0.181040   20% 미만   20% 미만  \n",
       "2  0.166868   20% 미만   20% 미만  \n",
       "3  0.174456   20% 미만   20% 미만  \n",
       "4  0.141807   20% 미만   20% 미만  \n",
       "\n",
       "[5 rows x 28 columns]"
      ]
     },
     "execution_count": 526,
     "metadata": {},
     "output_type": "execute_result"
    }
   ],
   "source": [
    "dfCmpnySumry18C.head()"
   ]
  },
  {
   "cell_type": "code",
   "execution_count": 543,
   "id": "cec28a3d",
   "metadata": {},
   "outputs": [],
   "source": [
    "dfTrans19Dmstc['직접지분율 유형'] = dfTrans19Dmstc.apply(shareRatioType, axis=1)\n",
    "dfTrans19Dmstc['실질지분율 유형'] = dfTrans19Dmstc.apply(realShareRatioType, axis=1)\n",
    "dfTrans19Dmstc['실질지분율 차이 유형'] = dfTrans19Dmstc.apply(realShareRatioDiffType, axis=1)\n",
    "dfCmpnySumry19['직접지분율 유형'] = dfCmpnySumry19.apply(shareRatioType, axis=1)\n",
    "dfCmpnySumry19['실질지분율 유형'] = dfCmpnySumry19.apply(realShareRatioType2, axis=1)"
   ]
  },
  {
   "cell_type": "code",
   "execution_count": 545,
   "id": "72cec7ae",
   "metadata": {},
   "outputs": [],
   "source": [
    "dfTrans20Dmstc['직접지분율 유형'] = dfTrans20Dmstc.apply(shareRatioType, axis=1)\n",
    "dfTrans20Dmstc['실질지분율 유형'] = dfTrans20Dmstc.apply(realShareRatioType, axis=1)\n",
    "dfTrans20Dmstc['실질지분율 차이 유형'] = dfTrans20Dmstc.apply(realShareRatioDiffType, axis=1)\n",
    "dfCmpnySumry20['직접지분율 유형'] = dfCmpnySumry20.apply(shareRatioType, axis=1)\n",
    "dfCmpnySumry20['실질지분율 유형'] = dfCmpnySumry20.apply(realShareRatioType2, axis=1)"
   ]
  },
  {
   "cell_type": "code",
   "execution_count": 580,
   "id": "ed457ac3",
   "metadata": {},
   "outputs": [],
   "source": [
    "dfTrans21Dmstc['직접지분율 유형'] = dfTrans21Dmstc.apply(shareRatioType, axis=1)\n",
    "dfTrans21Dmstc['실질지분율 유형'] = dfTrans21Dmstc.apply(realShareRatioType, axis=1)\n",
    "dfTrans21Dmstc['실질지분율 차이 유형'] = dfTrans21Dmstc.apply(realShareRatioDiffType, axis=1)\n",
    "dfCmpnySumry21['직접지분율 유형'] = dfCmpnySumry21.apply(shareRatioType, axis=1)\n",
    "dfCmpnySumry21['실질지분율 유형'] = dfCmpnySumry21.apply(realShareRatioType2, axis=1)"
   ]
  },
  {
   "cell_type": "code",
   "execution_count": null,
   "id": "4dbd61d9",
   "metadata": {},
   "outputs": [],
   "source": [
    "dfCmpnySumry18C.groupby('직접지분율 유형')['entrprsNm'].count()"
   ]
  },
  {
   "cell_type": "code",
   "execution_count": 547,
   "id": "30812965",
   "metadata": {},
   "outputs": [
    {
     "data": {
      "text/plain": [
       "직접지분율 유형\n",
       "20% 미만    1549\n",
       "20~30%      39\n",
       "30% 이상     187\n",
       "기타         436\n",
       "Name: entrprsNm, dtype: int64"
      ]
     },
     "execution_count": 547,
     "metadata": {},
     "output_type": "execute_result"
    }
   ],
   "source": [
    "dfCmpnySumry19.groupby('직접지분율 유형')['entrprsNm'].count()"
   ]
  },
  {
   "cell_type": "code",
   "execution_count": 548,
   "id": "739e1871",
   "metadata": {},
   "outputs": [
    {
     "data": {
      "text/plain": [
       "직접지분율 유형\n",
       "20% 미만    1377\n",
       "20~30%      40\n",
       "30% 이상     194\n",
       "기타         525\n",
       "Name: entrprsNm, dtype: int64"
      ]
     },
     "execution_count": 548,
     "metadata": {},
     "output_type": "execute_result"
    }
   ],
   "source": [
    "dfCmpnySumry20.groupby('직접지분율 유형')['entrprsNm'].count()"
   ]
  },
  {
   "cell_type": "code",
   "execution_count": 582,
   "id": "64233247",
   "metadata": {},
   "outputs": [
    {
     "data": {
      "text/plain": [
       "직접지분율 유형\n",
       "20% 미만    1752\n",
       "20~30%      43\n",
       "30% 이상     247\n",
       "기타         417\n",
       "Name: entrprsNm, dtype: int64"
      ]
     },
     "execution_count": 582,
     "metadata": {},
     "output_type": "execute_result"
    }
   ],
   "source": [
    "dfCmpnySumry21.groupby('직접지분율 유형')['entrprsNm'].count()"
   ]
  },
  {
   "cell_type": "code",
   "execution_count": 584,
   "id": "024c40aa",
   "metadata": {},
   "outputs": [
    {
     "data": {
      "text/plain": [
       "직접지분율 유형\n",
       "20% 미만    0.886156\n",
       "20~30%    0.021739\n",
       "30% 이상    0.092105\n",
       "기타        0.204233\n",
       "Name: entrprsNm, dtype: float64"
      ]
     },
     "execution_count": 584,
     "metadata": {},
     "output_type": "execute_result"
    }
   ],
   "source": [
    "dfCmpnySumry18C.groupby('직접지분율 유형')['entrprsNm'].count() / dfCmpnySumry18C[dfCmpnySumry18C['직접지분율 유형'] != '기타']['entrprsNm'].count()"
   ]
  },
  {
   "cell_type": "code",
   "execution_count": 585,
   "id": "d1dd8bdb",
   "metadata": {},
   "outputs": [
    {
     "data": {
      "text/plain": [
       "직접지분율 유형\n",
       "20% 미만    0.872676\n",
       "20~30%    0.021972\n",
       "30% 이상    0.105352\n",
       "기타        0.245634\n",
       "Name: entrprsNm, dtype: float64"
      ]
     },
     "execution_count": 585,
     "metadata": {},
     "output_type": "execute_result"
    }
   ],
   "source": [
    "dfCmpnySumry19.groupby('직접지분율 유형')['entrprsNm'].count() / dfCmpnySumry19[dfCmpnySumry19['직접지분율 유형'] != '기타']['entrprsNm'].count()"
   ]
  },
  {
   "cell_type": "code",
   "execution_count": 586,
   "id": "81cda4df",
   "metadata": {},
   "outputs": [
    {
     "data": {
      "text/plain": [
       "직접지분율 유형\n",
       "20% 미만    0.854749\n",
       "20~30%    0.024829\n",
       "30% 이상    0.120422\n",
       "기타        0.325885\n",
       "Name: entrprsNm, dtype: float64"
      ]
     },
     "execution_count": 586,
     "metadata": {},
     "output_type": "execute_result"
    }
   ],
   "source": [
    "dfCmpnySumry20.groupby('직접지분율 유형')['entrprsNm'].count() / dfCmpnySumry20[dfCmpnySumry20['직접지분율 유형'] != '기타']['entrprsNm'].count()"
   ]
  },
  {
   "cell_type": "code",
   "execution_count": 639,
   "id": "7fc1e7b1",
   "metadata": {},
   "outputs": [
    {
     "data": {
      "text/plain": [
       "직접지분율 유형\n",
       "20% 미만    0.857982\n",
       "20~30%    0.021058\n",
       "30% 이상    0.120960\n",
       "기타        0.204212\n",
       "Name: entrprsNm, dtype: float64"
      ]
     },
     "execution_count": 639,
     "metadata": {},
     "output_type": "execute_result"
    }
   ],
   "source": [
    "dfCmpnySumry21.groupby('직접지분율 유형')['entrprsNm'].count() / dfCmpnySumry21[dfCmpnySumry21['직접지분율 유형'] != '기타']['entrprsNm'].count()"
   ]
  },
  {
   "cell_type": "code",
   "execution_count": 533,
   "id": "9b95a928",
   "metadata": {},
   "outputs": [
    {
     "data": {
      "text/plain": [
       "직접지분율 유형\n",
       "20% 미만     5.509361\n",
       "20~30%    10.500000\n",
       "30% 이상     7.428571\n",
       "기타         0.759104\n",
       "dtype: float64"
      ]
     },
     "execution_count": 533,
     "metadata": {},
     "output_type": "execute_result"
    }
   ],
   "source": [
    "dfTrans18Dmstc.groupby('직접지분율 유형').size() / dfCmpnySumry18C.groupby('직접지분율 유형')['entrprsNm'].count()"
   ]
  },
  {
   "cell_type": "code",
   "execution_count": 588,
   "id": "4ba4028f",
   "metadata": {},
   "outputs": [
    {
     "data": {
      "text/plain": [
       "직접지분율 유형\n",
       "20% 미만     6.540349\n",
       "20~30%    14.794872\n",
       "30% 이상     5.155080\n",
       "기타         3.676606\n",
       "dtype: float64"
      ]
     },
     "execution_count": 588,
     "metadata": {},
     "output_type": "execute_result"
    }
   ],
   "source": [
    "dfTrans19Dmstc.groupby('직접지분율 유형').size() / dfCmpnySumry19.groupby('직접지분율 유형')['entrprsNm'].count()"
   ]
  },
  {
   "cell_type": "code",
   "execution_count": 589,
   "id": "536fcb04",
   "metadata": {},
   "outputs": [
    {
     "data": {
      "text/plain": [
       "직접지분율 유형\n",
       "20% 미만     5.881627\n",
       "20~30%    12.575000\n",
       "30% 이상     4.654639\n",
       "기타         3.552381\n",
       "dtype: float64"
      ]
     },
     "execution_count": 589,
     "metadata": {},
     "output_type": "execute_result"
    }
   ],
   "source": [
    "dfTrans20Dmstc.groupby('직접지분율 유형').size() / dfCmpnySumry20.groupby('직접지분율 유형')['entrprsNm'].count()"
   ]
  },
  {
   "cell_type": "code",
   "execution_count": 640,
   "id": "469685c2",
   "metadata": {},
   "outputs": [
    {
     "data": {
      "text/plain": [
       "직접지분율 유형\n",
       "20% 미만     5.206621\n",
       "20~30%    12.162791\n",
       "30% 이상     4.194332\n",
       "기타         2.340528\n",
       "dtype: float64"
      ]
     },
     "execution_count": 640,
     "metadata": {},
     "output_type": "execute_result"
    }
   ],
   "source": [
    "dfTrans21Dmstc.groupby('직접지분율 유형').size() / dfCmpnySumry21.groupby('직접지분율 유형')['entrprsNm'].count()"
   ]
  },
  {
   "cell_type": "code",
   "execution_count": 534,
   "id": "8acab846",
   "metadata": {},
   "outputs": [
    {
     "data": {
      "text/plain": [
       "직접지분율 유형\n",
       "20% 미만     97059.001762\n",
       "20~30%    202293.657895\n",
       "30% 이상     79715.236025\n",
       "기타          5099.221289\n",
       "dtype: float64"
      ]
     },
     "execution_count": 534,
     "metadata": {},
     "output_type": "execute_result"
    }
   ],
   "source": [
    "dfTrans18Dmstc.groupby('직접지분율 유형')['매출액'].sum() / dfCmpnySumry18C.groupby('직접지분율 유형')['entrprsNm'].count()"
   ]
  },
  {
   "cell_type": "code",
   "execution_count": 591,
   "id": "4adc143b",
   "metadata": {},
   "outputs": [
    {
     "data": {
      "text/plain": [
       "직접지분율 유형\n",
       "20% 미만    115856.075965\n",
       "20~30%    274939.846154\n",
       "30% 이상     47509.354545\n",
       "기타         17754.692661\n",
       "dtype: float64"
      ]
     },
     "execution_count": 591,
     "metadata": {},
     "output_type": "execute_result"
    }
   ],
   "source": [
    "dfTrans19Dmstc.groupby('직접지분율 유형')['매출액'].sum() / dfCmpnySumry19.groupby('직접지분율 유형')['entrprsNm'].count()"
   ]
  },
  {
   "cell_type": "code",
   "execution_count": 592,
   "id": "b37c7301",
   "metadata": {},
   "outputs": [
    {
     "data": {
      "text/plain": [
       "직접지분율 유형\n",
       "20% 미만     97726.136616\n",
       "20~30%    255704.000000\n",
       "30% 이상     45008.938144\n",
       "기타         46918.690857\n",
       "dtype: float64"
      ]
     },
     "execution_count": 592,
     "metadata": {},
     "output_type": "execute_result"
    }
   ],
   "source": [
    "dfTrans20Dmstc.groupby('직접지분율 유형')['매출액'].sum() / dfCmpnySumry20.groupby('직접지분율 유형')['entrprsNm'].count()"
   ]
  },
  {
   "cell_type": "code",
   "execution_count": 641,
   "id": "50da7f6f",
   "metadata": {},
   "outputs": [
    {
     "data": {
      "text/plain": [
       "직접지분율 유형\n",
       "20% 미만     79330.197775\n",
       "20~30%    226041.674419\n",
       "30% 이상     37545.522267\n",
       "기타         10149.717506\n",
       "dtype: float64"
      ]
     },
     "execution_count": 641,
     "metadata": {},
     "output_type": "execute_result"
    }
   ],
   "source": [
    "dfTrans21Dmstc.groupby('직접지분율 유형')['매출액'].sum() / dfCmpnySumry21.groupby('직접지분율 유형')['entrprsNm'].count()"
   ]
  },
  {
   "cell_type": "code",
   "execution_count": 598,
   "id": "1841f8a1",
   "metadata": {},
   "outputs": [],
   "source": [
    "dfCmpnySumry18C['selngAmount'] = dfCmpnySumry18C['selngAmount'].replace(',', '', regex=True).astype(float)\n",
    "dfCmpnySumry19['selngAmount'] = dfCmpnySumry19['selngAmount'].replace(',', '', regex=True).astype(float)\n",
    "dfCmpnySumry20['selngAmount'] = dfCmpnySumry20['selngAmount'].replace(',', '', regex=True).astype(float)\n",
    "dfCmpnySumry21['selngAmount'] = dfCmpnySumry21['selngAmount'].replace(',', '', regex=True).astype(float)"
   ]
  },
  {
   "cell_type": "code",
   "execution_count": 541,
   "id": "cd767616",
   "metadata": {},
   "outputs": [
    {
     "data": {
      "text/plain": [
       "직접지분율 유형\n",
       "20% 미만    0.127683\n",
       "20~30%    0.080127\n",
       "30% 이상    0.148581\n",
       "기타        0.023277\n",
       "dtype: float64"
      ]
     },
     "execution_count": 541,
     "metadata": {},
     "output_type": "execute_result"
    }
   ],
   "source": [
    "dfTrans18Dmstc.groupby('직접지분율 유형')['매출액'].sum() / dfCmpnySumry18C.groupby('직접지분율 유형')['selngAmount'].sum()"
   ]
  },
  {
   "cell_type": "code",
   "execution_count": 600,
   "id": "a1522be5",
   "metadata": {},
   "outputs": [
    {
     "data": {
      "text/plain": [
       "직접지분율 유형\n",
       "20% 미만    0.150244\n",
       "20~30%    0.104888\n",
       "30% 이상    0.117371\n",
       "기타        0.084351\n",
       "dtype: float64"
      ]
     },
     "execution_count": 600,
     "metadata": {},
     "output_type": "execute_result"
    }
   ],
   "source": [
    "dfTrans19Dmstc.groupby('직접지분율 유형')['매출액'].sum() / dfCmpnySumry19.groupby('직접지분율 유형')['selngAmount'].sum()"
   ]
  },
  {
   "cell_type": "code",
   "execution_count": 601,
   "id": "119cdbef",
   "metadata": {},
   "outputs": [
    {
     "data": {
      "text/plain": [
       "직접지분율 유형\n",
       "20% 미만    0.131109\n",
       "20~30%    0.099993\n",
       "30% 이상    0.118681\n",
       "기타        0.118596\n",
       "dtype: float64"
      ]
     },
     "execution_count": 601,
     "metadata": {},
     "output_type": "execute_result"
    }
   ],
   "source": [
    "dfTrans20Dmstc.groupby('직접지분율 유형')['매출액'].sum() / dfCmpnySumry20.groupby('직접지분율 유형')['selngAmount'].sum()"
   ]
  },
  {
   "cell_type": "code",
   "execution_count": 642,
   "id": "8ccf7f01",
   "metadata": {},
   "outputs": [
    {
     "data": {
      "text/plain": [
       "직접지분율 유형\n",
       "20% 미만    0.012097\n",
       "20~30%    0.008201\n",
       "30% 이상    0.012520\n",
       "기타        0.008381\n",
       "dtype: float64"
      ]
     },
     "execution_count": 642,
     "metadata": {},
     "output_type": "execute_result"
    }
   ],
   "source": [
    "dfTrans21Dmstc.groupby('직접지분율 유형')['매출액'].sum() / dfCmpnySumry21.groupby('직접지분율 유형')['selngAmount'].sum() * 100000"
   ]
  },
  {
   "cell_type": "markdown",
   "id": "72964d46",
   "metadata": {},
   "source": [
    "# 실질지분율"
   ]
  },
  {
   "cell_type": "code",
   "execution_count": 606,
   "id": "ed1868c4",
   "metadata": {},
   "outputs": [
    {
     "data": {
      "text/plain": [
       "실질지분율 유형\n",
       "20% 미만    996\n",
       "20~30%    231\n",
       "30% 이상    587\n",
       "기타        291\n",
       "Name: entrprsNm, dtype: int64"
      ]
     },
     "execution_count": 606,
     "metadata": {},
     "output_type": "execute_result"
    }
   ],
   "source": [
    "dfCmpnySumry18C.groupby('실질지분율 유형')['entrprsNm'].count()"
   ]
  },
  {
   "cell_type": "code",
   "execution_count": 607,
   "id": "eb5227af",
   "metadata": {},
   "outputs": [
    {
     "data": {
      "text/plain": [
       "실질지분율 유형\n",
       "20% 미만    1170\n",
       "20~30%     287\n",
       "30% 이상     643\n",
       "기타         111\n",
       "Name: entrprsNm, dtype: int64"
      ]
     },
     "execution_count": 607,
     "metadata": {},
     "output_type": "execute_result"
    }
   ],
   "source": [
    "dfCmpnySumry19.groupby('실질지분율 유형')['entrprsNm'].count()"
   ]
  },
  {
   "cell_type": "code",
   "execution_count": 608,
   "id": "0a511b1b",
   "metadata": {},
   "outputs": [
    {
     "data": {
      "text/plain": [
       "실질지분율 유형\n",
       "20% 미만    1144\n",
       "20~30%     294\n",
       "30% 이상     676\n",
       "기타          22\n",
       "Name: entrprsNm, dtype: int64"
      ]
     },
     "execution_count": 608,
     "metadata": {},
     "output_type": "execute_result"
    }
   ],
   "source": [
    "dfCmpnySumry20.groupby('실질지분율 유형')['entrprsNm'].count()"
   ]
  },
  {
   "cell_type": "code",
   "execution_count": 643,
   "id": "6231cf94",
   "metadata": {},
   "outputs": [
    {
     "data": {
      "text/plain": [
       "실질지분율 유형\n",
       "20% 미만    1262\n",
       "20~30%     331\n",
       "30% 이상     834\n",
       "기타          32\n",
       "Name: entrprsNm, dtype: int64"
      ]
     },
     "execution_count": 643,
     "metadata": {},
     "output_type": "execute_result"
    }
   ],
   "source": [
    "dfCmpnySumry21.groupby('실질지분율 유형')['entrprsNm'].count()"
   ]
  },
  {
   "cell_type": "code",
   "execution_count": 644,
   "id": "bde288e1",
   "metadata": {},
   "outputs": [
    {
     "data": {
      "text/plain": [
       "실질지분율 유형\n",
       "20% 미만    0.549063\n",
       "20~30%    0.127343\n",
       "30% 이상    0.323594\n",
       "기타        0.160419\n",
       "Name: entrprsNm, dtype: float64"
      ]
     },
     "execution_count": 644,
     "metadata": {},
     "output_type": "execute_result"
    }
   ],
   "source": [
    "dfCmpnySumry18C.groupby('실질지분율 유형')['entrprsNm'].count() / dfCmpnySumry18C[dfCmpnySumry18C['실질지분율 유형'] != '기타']['entrprsNm'].count()"
   ]
  },
  {
   "cell_type": "code",
   "execution_count": 611,
   "id": "1b87ba77",
   "metadata": {},
   "outputs": [
    {
     "data": {
      "text/plain": [
       "실질지분율 유형\n",
       "20% 미만    0.557143\n",
       "20~30%    0.136667\n",
       "30% 이상    0.306190\n",
       "기타        0.052857\n",
       "Name: entrprsNm, dtype: float64"
      ]
     },
     "execution_count": 611,
     "metadata": {},
     "output_type": "execute_result"
    }
   ],
   "source": [
    "dfCmpnySumry19.groupby('실질지분율 유형')['entrprsNm'].count() / dfCmpnySumry19[dfCmpnySumry19['실질지분율 유형'] != '기타']['entrprsNm'].count()"
   ]
  },
  {
   "cell_type": "code",
   "execution_count": 612,
   "id": "6733c941",
   "metadata": {},
   "outputs": [
    {
     "data": {
      "text/plain": [
       "실질지분율 유형\n",
       "20% 미만    0.541154\n",
       "20~30%    0.139073\n",
       "30% 이상    0.319773\n",
       "기타        0.010407\n",
       "Name: entrprsNm, dtype: float64"
      ]
     },
     "execution_count": 612,
     "metadata": {},
     "output_type": "execute_result"
    }
   ],
   "source": [
    "dfCmpnySumry20.groupby('실질지분율 유형')['entrprsNm'].count() / dfCmpnySumry20[dfCmpnySumry20['실질지분율 유형'] != '기타']['entrprsNm'].count()"
   ]
  },
  {
   "cell_type": "code",
   "execution_count": 645,
   "id": "ea211df1",
   "metadata": {},
   "outputs": [
    {
     "data": {
      "text/plain": [
       "실질지분율 유형\n",
       "20% 미만    0.519984\n",
       "20~30%    0.136382\n",
       "30% 이상    0.343634\n",
       "기타        0.013185\n",
       "Name: entrprsNm, dtype: float64"
      ]
     },
     "execution_count": 645,
     "metadata": {},
     "output_type": "execute_result"
    }
   ],
   "source": [
    "dfCmpnySumry21.groupby('실질지분율 유형')['entrprsNm'].count() / dfCmpnySumry21[dfCmpnySumry21['실질지분율 유형'] != '기타']['entrprsNm'].count()"
   ]
  },
  {
   "cell_type": "code",
   "execution_count": 614,
   "id": "e31edc8d",
   "metadata": {},
   "outputs": [
    {
     "data": {
      "text/plain": [
       "실질지분율 유형\n",
       "20% 미만    5.953815\n",
       "20~30%    6.142857\n",
       "30% 이상    5.178876\n",
       "기타        0.037801\n",
       "dtype: float64"
      ]
     },
     "execution_count": 614,
     "metadata": {},
     "output_type": "execute_result"
    }
   ],
   "source": [
    "dfTrans18Dmstc.groupby('실질지분율 유형').size() / dfCmpnySumry18C.groupby('실질지분율 유형')['entrprsNm'].count()"
   ]
  },
  {
   "cell_type": "code",
   "execution_count": 615,
   "id": "603bf28d",
   "metadata": {},
   "outputs": [
    {
     "data": {
      "text/plain": [
       "실질지분율 유형\n",
       "20% 미만    6.624786\n",
       "20~30%    7.480836\n",
       "30% 이상    4.726283\n",
       "기타        3.045045\n",
       "dtype: float64"
      ]
     },
     "execution_count": 615,
     "metadata": {},
     "output_type": "execute_result"
    }
   ],
   "source": [
    "dfTrans19Dmstc.groupby('실질지분율 유형').size() / dfCmpnySumry19.groupby('실질지분율 유형')['entrprsNm'].count()"
   ]
  },
  {
   "cell_type": "code",
   "execution_count": 616,
   "id": "af8276c1",
   "metadata": {},
   "outputs": [
    {
     "data": {
      "text/plain": [
       "실질지분율 유형\n",
       "20% 미만    5.785839\n",
       "20~30%    6.136054\n",
       "30% 이상    4.352071\n",
       "기타        0.227273\n",
       "dtype: float64"
      ]
     },
     "execution_count": 616,
     "metadata": {},
     "output_type": "execute_result"
    }
   ],
   "source": [
    "dfTrans20Dmstc.groupby('실질지분율 유형').size() / dfCmpnySumry20.groupby('실질지분율 유형')['entrprsNm'].count()"
   ]
  },
  {
   "cell_type": "code",
   "execution_count": 646,
   "id": "77e428f8",
   "metadata": {},
   "outputs": [
    {
     "data": {
      "text/plain": [
       "실질지분율 유형\n",
       "20% 미만    5.012678\n",
       "20~30%    6.072508\n",
       "30% 이상    3.928058\n",
       "기타        1.406250\n",
       "dtype: float64"
      ]
     },
     "execution_count": 646,
     "metadata": {},
     "output_type": "execute_result"
    }
   ],
   "source": [
    "dfTrans21Dmstc.groupby('실질지분율 유형').size() / dfCmpnySumry21.groupby('실질지분율 유형')['entrprsNm'].count()"
   ]
  },
  {
   "cell_type": "code",
   "execution_count": 618,
   "id": "febf7ee8",
   "metadata": {},
   "outputs": [
    {
     "data": {
      "text/plain": [
       "실질지분율 유형\n",
       "20% 미만    120440.845843\n",
       "20~30%    112063.311818\n",
       "30% 이상     45693.501261\n",
       "기타            63.006873\n",
       "dtype: float64"
      ]
     },
     "execution_count": 618,
     "metadata": {},
     "output_type": "execute_result"
    }
   ],
   "source": [
    "dfTrans18Dmstc.groupby('실질지분율 유형')['매출액'].sum() / dfCmpnySumry18C.groupby('실질지분율 유형')['entrprsNm'].count()"
   ]
  },
  {
   "cell_type": "code",
   "execution_count": 619,
   "id": "744ef72b",
   "metadata": {},
   "outputs": [
    {
     "data": {
      "text/plain": [
       "실질지분율 유형\n",
       "20% 미만    125318.573803\n",
       "20~30%    118635.187526\n",
       "30% 이상     36348.519129\n",
       "기타         24917.864865\n",
       "dtype: float64"
      ]
     },
     "execution_count": 619,
     "metadata": {},
     "output_type": "execute_result"
    }
   ],
   "source": [
    "dfTrans19Dmstc.groupby('실질지분율 유형')['매출액'].sum() / dfCmpnySumry19.groupby('실질지분율 유형')['entrprsNm'].count()"
   ]
  },
  {
   "cell_type": "code",
   "execution_count": 620,
   "id": "f777135c",
   "metadata": {},
   "outputs": [
    {
     "data": {
      "text/plain": [
       "실질지분율 유형\n",
       "20% 미만    114155.368418\n",
       "20~30%     88785.611735\n",
       "30% 이상     31575.111686\n",
       "기타          5436.818182\n",
       "dtype: float64"
      ]
     },
     "execution_count": 620,
     "metadata": {},
     "output_type": "execute_result"
    }
   ],
   "source": [
    "dfTrans20Dmstc.groupby('실질지분율 유형')['매출액'].sum() / dfCmpnySumry20.groupby('실질지분율 유형')['entrprsNm'].count()"
   ]
  },
  {
   "cell_type": "code",
   "execution_count": 647,
   "id": "864fbce7",
   "metadata": {},
   "outputs": [
    {
     "data": {
      "text/plain": [
       "실질지분율 유형\n",
       "20% 미만    93129.256958\n",
       "20~30%    72289.758066\n",
       "30% 이상    24813.979017\n",
       "기타         1893.250000\n",
       "dtype: float64"
      ]
     },
     "execution_count": 647,
     "metadata": {},
     "output_type": "execute_result"
    }
   ],
   "source": [
    "dfTrans21Dmstc.groupby('실질지분율 유형')['매출액'].sum() / dfCmpnySumry21.groupby('실질지분율 유형')['entrprsNm'].count()"
   ]
  },
  {
   "cell_type": "code",
   "execution_count": 622,
   "id": "b322ba6a",
   "metadata": {},
   "outputs": [
    {
     "data": {
      "text/plain": [
       "실질지분율 유형\n",
       "20% 미만    0.118393\n",
       "20~30%    0.123566\n",
       "30% 이상    0.157187\n",
       "기타        0.000411\n",
       "dtype: float64"
      ]
     },
     "execution_count": 622,
     "metadata": {},
     "output_type": "execute_result"
    }
   ],
   "source": [
    "dfTrans18Dmstc.groupby('실질지분율 유형')['매출액'].sum() / dfCmpnySumry18C.groupby('실질지분율 유형')['selngAmount'].sum()"
   ]
  },
  {
   "cell_type": "code",
   "execution_count": 623,
   "id": "84b0fbf8",
   "metadata": {},
   "outputs": [
    {
     "data": {
      "text/plain": [
       "실질지분율 유형\n",
       "20% 미만    0.141935\n",
       "20~30%    0.142190\n",
       "30% 이상    0.138307\n",
       "기타        0.121914\n",
       "dtype: float64"
      ]
     },
     "execution_count": 623,
     "metadata": {},
     "output_type": "execute_result"
    }
   ],
   "source": [
    "dfTrans19Dmstc.groupby('실질지분율 유형')['매출액'].sum() / dfCmpnySumry19.groupby('실질지분율 유형')['selngAmount'].sum()"
   ]
  },
  {
   "cell_type": "code",
   "execution_count": 624,
   "id": "2536ff1f",
   "metadata": {},
   "outputs": [
    {
     "data": {
      "text/plain": [
       "실질지분율 유형\n",
       "20% 미만    0.128252\n",
       "20~30%    0.118872\n",
       "30% 이상    0.124575\n",
       "기타        0.156819\n",
       "dtype: float64"
      ]
     },
     "execution_count": 624,
     "metadata": {},
     "output_type": "execute_result"
    }
   ],
   "source": [
    "dfTrans20Dmstc.groupby('실질지분율 유형')['매출액'].sum() / dfCmpnySumry20.groupby('실질지분율 유형')['selngAmount'].sum()"
   ]
  },
  {
   "cell_type": "code",
   "execution_count": 648,
   "id": "2d37369d",
   "metadata": {},
   "outputs": [
    {
     "data": {
      "text/plain": [
       "실질지분율 유형\n",
       "20% 미만    0.011577\n",
       "20~30%    0.012077\n",
       "30% 이상    0.011585\n",
       "기타        0.107644\n",
       "dtype: float64"
      ]
     },
     "execution_count": 648,
     "metadata": {},
     "output_type": "execute_result"
    }
   ],
   "source": [
    "dfTrans21Dmstc.groupby('실질지분율 유형')['매출액'].sum() / dfCmpnySumry21.groupby('실질지분율 유형')['selngAmount'].sum() * 100000"
   ]
  },
  {
   "cell_type": "markdown",
   "id": "f2ea3672",
   "metadata": {},
   "source": [
    "# 실질지분율 차이"
   ]
  },
  {
   "cell_type": "code",
   "execution_count": 637,
   "id": "c8520f4b",
   "metadata": {},
   "outputs": [],
   "source": [
    "dfTrans18Dmstc.to_excel('../data/transactions-report/transactions-report2018.xlsx', index=False)\n",
    "dfTrans19Dmstc.to_excel('../data/transactions-report/transactions-report2019.xlsx', index=False)\n",
    "dfTrans20Dmstc.to_excel('../data/transactions-report/transactions-report2020.xlsx', index=False)\n",
    "dfTrans21Dmstc.to_excel('../data/transactions-report/transactions-report2021.xlsx', index=False)"
   ]
  },
  {
   "cell_type": "code",
   "execution_count": 649,
   "id": "1e7bbac2",
   "metadata": {},
   "outputs": [],
   "source": [
    "dfCmpnySumry18C.to_excel(\"../data/transactions-report/cmpnySurmry2018.xlsx\")\n",
    "dfCmpnySumry19.to_excel(\"../data/transactions-report/cmpnySurmry2019.xlsx\")\n",
    "dfCmpnySumry20.to_excel(\"../data/transactions-report/cmpnySurmry2020.xlsx\")\n",
    "dfCmpnySumry21.to_excel(\"../data/transactions-report/cmpnySurmry2021.xlsx\")"
   ]
  },
  {
   "cell_type": "code",
   "execution_count": null,
   "id": "bb26264e",
   "metadata": {},
   "outputs": [],
   "source": [
    "dfOwnInput18.to_excel(\"../data/almeida/2018/in/almeida_input_2018.xlsx\")\n",
    "dfOwnInput19.to_excel(\"../data/almeida/2019/in/almeida_input_2019.xlsx\")\n",
    "dfOwnInput20.to_excel(\"../data/almeida/2020/in/almeida_input_2020.xlsx\")\n",
    "dfOwnInput21.to_excel(\"../data/almeida/2021/in/almeida_input_2021.xlsx\")"
   ]
  },
  {
   "cell_type": "code",
   "execution_count": null,
   "id": "716396ea",
   "metadata": {},
   "outputs": [],
   "source": []
  }
 ],
 "metadata": {
  "kernelspec": {
   "display_name": "Python 3 (ipykernel)",
   "language": "python",
   "name": "python3"
  },
  "language_info": {
   "codemirror_mode": {
    "name": "ipython",
    "version": 3
   },
   "file_extension": ".py",
   "mimetype": "text/x-python",
   "name": "python",
   "nbconvert_exporter": "python",
   "pygments_lexer": "ipython3",
   "version": "3.8.11"
  }
 },
 "nbformat": 4,
 "nbformat_minor": 5
}
