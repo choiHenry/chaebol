{
 "cells": [
  {
   "cell_type": "code",
   "execution_count": 1,
   "id": "c33f96f8",
   "metadata": {},
   "outputs": [],
   "source": [
    "import sys\n",
    "sys.path.append('../scripts')\n",
    "\n",
    "from os import path\n",
    "from utils import cleanCmpnyNm, getGrpCmpnyDict\n",
    "import numpy as np\n",
    "import pandas as pd"
   ]
  },
  {
   "cell_type": "code",
   "execution_count": 17,
   "id": "39cc320c",
   "metadata": {},
   "outputs": [
    {
     "name": "stdout",
     "output_type": "stream",
     "text": [
      "23\n",
      "23\n"
     ]
    },
    {
     "data": {
      "text/html": [
       "<div>\n",
       "<style scoped>\n",
       "    .dataframe tbody tr th:only-of-type {\n",
       "        vertical-align: middle;\n",
       "    }\n",
       "\n",
       "    .dataframe tbody tr th {\n",
       "        vertical-align: top;\n",
       "    }\n",
       "\n",
       "    .dataframe thead th {\n",
       "        text-align: right;\n",
       "    }\n",
       "</style>\n",
       "<table border=\"1\" class=\"dataframe\">\n",
       "  <thead>\n",
       "    <tr style=\"text-align: right;\">\n",
       "      <th></th>\n",
       "      <th>공개년월</th>\n",
       "      <th>회계년</th>\n",
       "      <th>기업집단명</th>\n",
       "      <th>소속회사명</th>\n",
       "      <th>대표자</th>\n",
       "      <th>설립일</th>\n",
       "      <th>계열편입일</th>\n",
       "      <th>업종코드</th>\n",
       "      <th>영위업종</th>\n",
       "      <th>종업원수</th>\n",
       "      <th>...</th>\n",
       "      <th>자산총액</th>\n",
       "      <th>부채총액</th>\n",
       "      <th>자본총액</th>\n",
       "      <th>자본금</th>\n",
       "      <th>매출액</th>\n",
       "      <th>당기순이익</th>\n",
       "      <th>구분</th>\n",
       "      <th>법인등록번호</th>\n",
       "      <th>year2</th>\n",
       "      <th>rcmgCode</th>\n",
       "    </tr>\n",
       "  </thead>\n",
       "  <tbody>\n",
       "    <tr>\n",
       "      <th>0</th>\n",
       "      <td>202005</td>\n",
       "      <td>2019</td>\n",
       "      <td>넥슨</td>\n",
       "      <td>(유)가승개발</td>\n",
       "      <td>서춘식</td>\n",
       "      <td>2016/01/21</td>\n",
       "      <td>2016/01/21</td>\n",
       "      <td>R91</td>\n",
       "      <td>스포츠 및 오락관련 서비스업</td>\n",
       "      <td>3</td>\n",
       "      <td>...</td>\n",
       "      <td>15,208</td>\n",
       "      <td>6,064</td>\n",
       "      <td>9,144</td>\n",
       "      <td>100</td>\n",
       "      <td>0</td>\n",
       "      <td>-465</td>\n",
       "      <td>일반회사</td>\n",
       "      <td>1345140003989</td>\n",
       "      <td>2020</td>\n",
       "      <td>1.802408e+09</td>\n",
       "    </tr>\n",
       "    <tr>\n",
       "      <th>1</th>\n",
       "      <td>202005</td>\n",
       "      <td>2019</td>\n",
       "      <td>지에스</td>\n",
       "      <td>(유)가승개발</td>\n",
       "      <td>서춘식</td>\n",
       "      <td>2016/01/21</td>\n",
       "      <td>2016/04/01</td>\n",
       "      <td>R91</td>\n",
       "      <td>스포츠 및 오락관련 서비스업</td>\n",
       "      <td>3</td>\n",
       "      <td>...</td>\n",
       "      <td>15,208</td>\n",
       "      <td>6,064</td>\n",
       "      <td>9,144</td>\n",
       "      <td>100</td>\n",
       "      <td>NaN</td>\n",
       "      <td>-465</td>\n",
       "      <td>일반회사</td>\n",
       "      <td>1345140003989</td>\n",
       "      <td>2020</td>\n",
       "      <td>1.802408e+09</td>\n",
       "    </tr>\n",
       "    <tr>\n",
       "      <th>2</th>\n",
       "      <td>202005</td>\n",
       "      <td>2019</td>\n",
       "      <td>카카오</td>\n",
       "      <td>(유)매디슨카운티의다리</td>\n",
       "      <td>이명한</td>\n",
       "      <td>2016/11/16</td>\n",
       "      <td>2020/02/03</td>\n",
       "      <td>R90</td>\n",
       "      <td>창작, 예술 및 여가관련 서비스업</td>\n",
       "      <td>0</td>\n",
       "      <td>...</td>\n",
       "      <td>11</td>\n",
       "      <td>28</td>\n",
       "      <td>-17</td>\n",
       "      <td>10</td>\n",
       "      <td>3</td>\n",
       "      <td>2</td>\n",
       "      <td>일반회사</td>\n",
       "      <td>1101140192605</td>\n",
       "      <td>2020</td>\n",
       "      <td>1.803409e+09</td>\n",
       "    </tr>\n",
       "    <tr>\n",
       "      <th>3</th>\n",
       "      <td>202005</td>\n",
       "      <td>2019</td>\n",
       "      <td>엘에스</td>\n",
       "      <td>(유)빌드윈문경태양광발전</td>\n",
       "      <td>김선철</td>\n",
       "      <td>2018/12/11</td>\n",
       "      <td>2019/02/01</td>\n",
       "      <td>D35</td>\n",
       "      <td>전기, 가스, 증기 및 공기 조절 공급업</td>\n",
       "      <td>1</td>\n",
       "      <td>...</td>\n",
       "      <td>331</td>\n",
       "      <td>0</td>\n",
       "      <td>331</td>\n",
       "      <td>331</td>\n",
       "      <td>0</td>\n",
       "      <td>0</td>\n",
       "      <td>일반회사</td>\n",
       "      <td>1754140000582</td>\n",
       "      <td>2020</td>\n",
       "      <td>2.102105e+09</td>\n",
       "    </tr>\n",
       "    <tr>\n",
       "      <th>4</th>\n",
       "      <td>202005</td>\n",
       "      <td>2019</td>\n",
       "      <td>엘에스</td>\n",
       "      <td>(유)빌드윈인동태양광발전</td>\n",
       "      <td>김선철</td>\n",
       "      <td>2018/12/11</td>\n",
       "      <td>2019/02/01</td>\n",
       "      <td>D35</td>\n",
       "      <td>전기, 가스, 증기 및 공기 조절 공급업</td>\n",
       "      <td>1</td>\n",
       "      <td>...</td>\n",
       "      <td>4,883</td>\n",
       "      <td>4,140</td>\n",
       "      <td>743</td>\n",
       "      <td>756</td>\n",
       "      <td>0</td>\n",
       "      <td>-13</td>\n",
       "      <td>일반회사</td>\n",
       "      <td>1760140002014</td>\n",
       "      <td>2020</td>\n",
       "      <td>2.102105e+09</td>\n",
       "    </tr>\n",
       "  </tbody>\n",
       "</table>\n",
       "<p>5 rows × 23 columns</p>\n",
       "</div>"
      ],
      "text/plain": [
       "     공개년월   회계년 기업집단명          소속회사명  대표자         설립일       계열편입일 업종코드  \\\n",
       "0  202005  2019    넥슨        (유)가승개발  서춘식  2016/01/21  2016/01/21  R91   \n",
       "1  202005  2019   지에스        (유)가승개발  서춘식  2016/01/21  2016/04/01  R91   \n",
       "2  202005  2019   카카오   (유)매디슨카운티의다리  이명한  2016/11/16  2020/02/03  R90   \n",
       "3  202005  2019   엘에스  (유)빌드윈문경태양광발전  김선철  2018/12/11  2019/02/01  D35   \n",
       "4  202005  2019   엘에스  (유)빌드윈인동태양광발전  김선철  2018/12/11  2019/02/01  D35   \n",
       "\n",
       "                     영위업종 종업원수  ...    자산총액   부채총액   자본총액  자본금  매출액 당기순이익  \\\n",
       "0         스포츠 및 오락관련 서비스업    3  ...  15,208  6,064  9,144  100    0  -465   \n",
       "1         스포츠 및 오락관련 서비스업    3  ...  15,208  6,064  9,144  100  NaN  -465   \n",
       "2      창작, 예술 및 여가관련 서비스업    0  ...      11     28    -17   10    3     2   \n",
       "3  전기, 가스, 증기 및 공기 조절 공급업    1  ...     331      0    331  331    0     0   \n",
       "4  전기, 가스, 증기 및 공기 조절 공급업    1  ...   4,883  4,140    743  756    0   -13   \n",
       "\n",
       "     구분         법인등록번호 year2      rcmgCode  \n",
       "0  일반회사  1345140003989  2020  1.802408e+09  \n",
       "1  일반회사  1345140003989  2020  1.802408e+09  \n",
       "2  일반회사  1101140192605  2020  1.803409e+09  \n",
       "3  일반회사  1754140000582  2020  2.102105e+09  \n",
       "4  일반회사  1760140002014  2020  2.102105e+09  \n",
       "\n",
       "[5 rows x 23 columns]"
      ]
     },
     "execution_count": 17,
     "metadata": {},
     "output_type": "execute_result"
    }
   ],
   "source": [
    "# merge cmpnySumry\n",
    "lCmpnySumry = []\n",
    "for year in range(2020, 2022):\n",
    "    df = pd.read_excel(f'../data/cmpnySumry/cmpnySumry{year}Kor.xlsx')\n",
    "    lCmpnySumry.append(df)\n",
    "    print(len(list(df.columns)))\n",
    "dfCmpnySumry = pd.concat(lCmpnySumry, axis=0)\n",
    "dfCmpnySumry.head()"
   ]
  },
  {
   "cell_type": "code",
   "execution_count": 18,
   "id": "6557d7e9",
   "metadata": {},
   "outputs": [
    {
     "data": {
      "text/plain": [
       "(4896, 23)"
      ]
     },
     "execution_count": 18,
     "metadata": {},
     "output_type": "execute_result"
    }
   ],
   "source": [
    "dfCmpnySumry.shape"
   ]
  },
  {
   "cell_type": "code",
   "execution_count": 19,
   "id": "3ed5b036",
   "metadata": {},
   "outputs": [
    {
     "data": {
      "text/plain": [
       "Index(['공개년월', '회계년', '기업집단명', '소속회사명', '대표자', '설립일', '계열편입일', '업종코드', '영위업종',\n",
       "       '종업원수', '결산기일', '결산주총일', '기업공개일', '자산총액', '부채총액', '자본총액', '자본금', '매출액',\n",
       "       '당기순이익', '구분', '법인등록번호', 'year2', 'rcmgCode'],\n",
       "      dtype='object')"
      ]
     },
     "execution_count": 19,
     "metadata": {},
     "output_type": "execute_result"
    }
   ],
   "source": [
    "dfCmpnySumry.columns"
   ]
  },
  {
   "cell_type": "code",
   "execution_count": 20,
   "id": "b5727a03",
   "metadata": {},
   "outputs": [
    {
     "data": {
      "text/plain": [
       "23"
      ]
     },
     "execution_count": 20,
     "metadata": {},
     "output_type": "execute_result"
    }
   ],
   "source": [
    "len(dfCmpnySumry.columns)"
   ]
  },
  {
   "cell_type": "code",
   "execution_count": 22,
   "id": "056f3586",
   "metadata": {},
   "outputs": [],
   "source": [
    "dfCmpnySumry.columns = ['publicYm', 'fisclYr', 'unityGrupNm', 'entrprsNm', 'rprsntvNm', 'fondDe',\\\n",
    "                          'grinil', 'indutyCode', 'indutyNm', 'ordtmEmplyCo', 'stacntDudt', 'beforeBsnsStacntDe',\\\n",
    "                          'entrprsOthbcDe', 'assetsTotamt', 'debtTotamt', 'caplTotamt', 'caplAmount', 'selngAmount', 'thstrmNtpfAmount',\\\n",
    "                          'reconstrctur', 'jurirno', 'year2', 'rcmgCode']"
   ]
  },
  {
   "cell_type": "code",
   "execution_count": 23,
   "id": "823187e3",
   "metadata": {},
   "outputs": [
    {
     "data": {
      "text/plain": [
       "2833"
      ]
     },
     "execution_count": 23,
     "metadata": {},
     "output_type": "execute_result"
    }
   ],
   "source": [
    "dfCmpnySumry['entrprsNm'] = cleanCmpnyNm(dfCmpnySumry['entrprsNm'])\n",
    "dfCmpnySumry['entrprsNm'].nunique()"
   ]
  },
  {
   "cell_type": "code",
   "execution_count": 8,
   "id": "23cd3d6d",
   "metadata": {},
   "outputs": [],
   "source": [
    "dfCmpnySumry.to_excel(f'../cmpnySumry2001-2021Eng.xlsx')"
   ]
  },
  {
   "cell_type": "code",
   "execution_count": 10,
   "id": "cea4b426",
   "metadata": {},
   "outputs": [
    {
     "data": {
      "text/plain": [
       "Index(['publicYm', 'fisclYr', 'unityGrupNm', 'entrprsNm', 'rprsntvNm',\n",
       "       'fondDe', 'grinil', 'indutyCode', 'indutyNm', 'ordtmEmplyCo',\n",
       "       'stacntDudt', 'beforeBsnsStacntDe', 'entrprsOthbcDe', 'assetsTotamt',\n",
       "       'debtTotamt', 'caplTotamt', 'caplAmount', 'selngAmount',\n",
       "       'thstrmNtpfAmount', 'reconstrctur', 'jurirno', 'year2', 'rcmgCode'],\n",
       "      dtype='object')"
      ]
     },
     "execution_count": 10,
     "metadata": {},
     "output_type": "execute_result"
    }
   ],
   "source": [
    "dfCmpnySumry.columns"
   ]
  },
  {
   "cell_type": "code",
   "execution_count": null,
   "id": "93519c28",
   "metadata": {},
   "outputs": [],
   "source": [
    "dfCmpnySumry.columns = ['publicYm', 'fisclYr', 'unityGrupNm', 'entrprsNm', 'rprsntvNm', 'fondDe',\\\n",
    "                        'grinil', 'indutyCode', 'indutyNm', 'ordtmEmplyCo', 'stacntDudt', 'beforeBsnsStacntDe',\\\n",
    "                        'entrprsOthbcDe', 'assetsTotamt', 'debtTotamt', 'caplTotamt', 'caplAmount', 'selngAmount', 'thstrmNtpfAmount',\\\n",
    "                        'reconstrctur', 'jurirno', 'year2']"
   ]
  },
  {
   "cell_type": "code",
   "execution_count": null,
   "id": "b139432b",
   "metadata": {},
   "outputs": [],
   "source": []
  },
  {
   "cell_type": "markdown",
   "id": "44486c3c",
   "metadata": {},
   "source": [
    "# 2019"
   ]
  },
  {
   "cell_type": "code",
   "execution_count": null,
   "id": "aacd9f84",
   "metadata": {},
   "outputs": [],
   "source": []
  },
  {
   "cell_type": "code",
   "execution_count": null,
   "id": "8c0db446",
   "metadata": {},
   "outputs": [],
   "source": []
  },
  {
   "cell_type": "code",
   "execution_count": null,
   "id": "b8ebf649",
   "metadata": {},
   "outputs": [],
   "source": []
  }
 ],
 "metadata": {
  "kernelspec": {
   "display_name": "Python 3 (ipykernel)",
   "language": "python",
   "name": "python3"
  },
  "language_info": {
   "codemirror_mode": {
    "name": "ipython",
    "version": 3
   },
   "file_extension": ".py",
   "mimetype": "text/x-python",
   "name": "python",
   "nbconvert_exporter": "python",
   "pygments_lexer": "ipython3",
   "version": "3.8.11"
  }
 },
 "nbformat": 4,
 "nbformat_minor": 5
}
