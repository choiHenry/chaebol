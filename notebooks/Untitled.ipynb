{
 "cells": [
  {
   "cell_type": "code",
   "execution_count": 1,
   "id": "d045dc88",
   "metadata": {},
   "outputs": [
    {
     "name": "stdout",
     "output_type": "stream",
     "text": [
      "Requirement already satisfied: reliability in /Users/choidamian/opt/anaconda3/envs/dart-manager/lib/python3.8/site-packages (0.8.4)\n",
      "Requirement already satisfied: docutils<0.18 in /Users/choidamian/opt/anaconda3/envs/dart-manager/lib/python3.8/site-packages (from reliability) (0.17.1)\n",
      "Requirement already satisfied: matplotlib>=3.5.0 in /Users/choidamian/opt/anaconda3/envs/dart-manager/lib/python3.8/site-packages (from reliability) (3.5.2)\n",
      "Requirement already satisfied: autograd-gamma>=0.5.0 in /Users/choidamian/opt/anaconda3/envs/dart-manager/lib/python3.8/site-packages (from reliability) (0.5.0)\n",
      "Requirement already satisfied: pandas>=1.1.2 in /Users/choidamian/opt/anaconda3/envs/dart-manager/lib/python3.8/site-packages (from reliability) (1.4.2)\n",
      "Requirement already satisfied: mplcursors>=0.3 in /Users/choidamian/opt/anaconda3/envs/dart-manager/lib/python3.8/site-packages (from reliability) (0.5.1)\n",
      "Requirement already satisfied: numpy>=1.19.2 in /Users/choidamian/opt/anaconda3/envs/dart-manager/lib/python3.8/site-packages (from reliability) (1.21.2)\n",
      "Requirement already satisfied: autograd>=1.3 in /Users/choidamian/opt/anaconda3/envs/dart-manager/lib/python3.8/site-packages (from reliability) (1.4)\n",
      "Requirement already satisfied: scipy>=1.7.0 in /Users/choidamian/opt/anaconda3/envs/dart-manager/lib/python3.8/site-packages (from reliability) (1.8.1)\n",
      "Requirement already satisfied: future>=0.15.2 in /Users/choidamian/opt/anaconda3/envs/dart-manager/lib/python3.8/site-packages (from autograd>=1.3->reliability) (0.18.2)\n",
      "Requirement already satisfied: cycler>=0.10 in /Users/choidamian/opt/anaconda3/envs/dart-manager/lib/python3.8/site-packages (from matplotlib>=3.5.0->reliability) (0.11.0)\n",
      "Requirement already satisfied: packaging>=20.0 in /Users/choidamian/opt/anaconda3/envs/dart-manager/lib/python3.8/site-packages (from matplotlib>=3.5.0->reliability) (21.3)\n",
      "Requirement already satisfied: python-dateutil>=2.7 in /Users/choidamian/opt/anaconda3/envs/dart-manager/lib/python3.8/site-packages (from matplotlib>=3.5.0->reliability) (2.8.2)\n",
      "Requirement already satisfied: fonttools>=4.22.0 in /Users/choidamian/opt/anaconda3/envs/dart-manager/lib/python3.8/site-packages (from matplotlib>=3.5.0->reliability) (4.33.3)\n",
      "Requirement already satisfied: kiwisolver>=1.0.1 in /Users/choidamian/opt/anaconda3/envs/dart-manager/lib/python3.8/site-packages (from matplotlib>=3.5.0->reliability) (1.4.2)\n",
      "Requirement already satisfied: pyparsing>=2.2.1 in /Users/choidamian/opt/anaconda3/envs/dart-manager/lib/python3.8/site-packages (from matplotlib>=3.5.0->reliability) (3.0.7)\n",
      "Requirement already satisfied: pillow>=6.2.0 in /Users/choidamian/opt/anaconda3/envs/dart-manager/lib/python3.8/site-packages (from matplotlib>=3.5.0->reliability) (9.1.1)\n",
      "Requirement already satisfied: pytz>=2020.1 in /Users/choidamian/opt/anaconda3/envs/dart-manager/lib/python3.8/site-packages (from pandas>=1.1.2->reliability) (2021.1)\n",
      "Requirement already satisfied: six>=1.5 in /Users/choidamian/opt/anaconda3/envs/dart-manager/lib/python3.8/site-packages (from python-dateutil>=2.7->matplotlib>=3.5.0->reliability) (1.16.0)\n",
      "Note: you may need to restart the kernel to use updated packages.\n"
     ]
    }
   ],
   "source": [
    "pip install reliability"
   ]
  },
  {
   "cell_type": "code",
   "execution_count": null,
   "id": "f2d8c1a0",
   "metadata": {},
   "outputs": [],
   "source": []
  }
 ],
 "metadata": {
  "kernelspec": {
   "display_name": "Python 3 (ipykernel)",
   "language": "python",
   "name": "python3"
  },
  "language_info": {
   "codemirror_mode": {
    "name": "ipython",
    "version": 3
   },
   "file_extension": ".py",
   "mimetype": "text/x-python",
   "name": "python",
   "nbconvert_exporter": "python",
   "pygments_lexer": "ipython3",
   "version": "3.8.11"
  }
 },
 "nbformat": 4,
 "nbformat_minor": 5
}
